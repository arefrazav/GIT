{
 "cells": [
  {
   "cell_type": "code",
   "execution_count": 1,
   "metadata": {},
   "outputs": [],
   "source": [
    "import numpy as np\n",
    "import matplotlib.pyplot as plt\n",
    "import sys\n",
    "sys.path.append('../utils/')\n",
    "import imp\n",
    "import plot_tools\n",
    "imp.reload(plot_tools)\n",
    "import pandas as pd\n",
    "import networkx as nx\n",
    "from measures import measures_calculator,matchY\n",
    "from torchvision import datasets\n",
    "from collections import  Counter\n",
    "\n",
    "import api\n",
    "imp.reload(api)\n",
    "import time\n",
    "import pickle\n",
    "\n",
    "def set_seed(seed=1):\n",
    "    import random\n",
    "    random.seed(seed)\n",
    "    np.random.seed(seed)"
   ]
  },
  {
   "cell_type": "code",
   "execution_count": 2,
   "metadata": {},
   "outputs": [],
   "source": [
    "class DataLoader:\n",
    "    def __init__(self):\n",
    "        pass\n",
    "    \n",
    "    @classmethod\n",
    "    def load(self,name):\n",
    "        if name=='PCA_MNIST_5':\n",
    "            X = pickle.load(open('./embedding/PCA_MNIST_X_5.pkl','rb'))\n",
    "            Hidden = pickle.load(open('./embedding/PCA_MNIST_Hidden_5.pkl','rb'))\n",
    "            Y = pickle.load(open('./embedding/PCA_MNIST_Y_5.pkl','rb'))\n",
    "            return X,np.ascontiguousarray(Hidden),Y\n",
    "        \n",
    "        if name=='PCA_MNIST_10':\n",
    "            X = pickle.load(open('./embedding/PCA_MNIST_X_10.pkl','rb'))\n",
    "            Hidden = pickle.load(open('./embedding/PCA_MNIST_Hidden_10.pkl','rb'))\n",
    "            Y = pickle.load(open('./embedding/PCA_MNIST_Y_10.pkl','rb'))\n",
    "            return X,np.ascontiguousarray(Hidden),Y\n",
    "        \n",
    "        if name=='PCA_MNIST_20':\n",
    "            X = pickle.load(open('./embedding/PCA_MNIST_X_20.pkl','rb'))\n",
    "            Hidden = pickle.load(open('./embedding/PCA_MNIST_Hidden_20.pkl','rb'))\n",
    "            Y = pickle.load(open('./embedding/PCA_MNIST_Y_20.pkl','rb'))\n",
    "            return X,np.ascontiguousarray(Hidden),Y\n",
    "        \n",
    "        if name=='PCA_MNIST_30':\n",
    "            X = pickle.load(open('./embedding/PCA_MNIST_X_30.pkl','rb'))\n",
    "            Hidden = pickle.load(open('./embedding/PCA_MNIST_Hidden_30.pkl','rb'))\n",
    "            Y = pickle.load(open('./embedding/PCA_MNIST_Y_30.pkl','rb'))\n",
    "            return X,np.ascontiguousarray(Hidden),Y\n",
    "        \n",
    "        if name=='PCA_FMNIST_5':\n",
    "            X = pickle.load(open('./embedding/PCA_FMNIST_X_5.pkl','rb'))\n",
    "            Hidden = pickle.load(open('./embedding/PCA_FMNIST_Hidden_5.pkl','rb'))\n",
    "            Y = pickle.load(open('./embedding/PCA_FMNIST_Y_5.pkl','rb'))\n",
    "            return X,np.ascontiguousarray(Hidden),Y\n",
    "        \n",
    "        if name=='PCA_FMNIST_10':\n",
    "            X = pickle.load(open('./embedding/PCA_FMNIST_X_10.pkl','rb'))\n",
    "            Hidden = pickle.load(open('./embedding/PCA_FMNIST_Hidden_10.pkl','rb'))\n",
    "            Y = pickle.load(open('./embedding/PCA_FMNIST_Y_10.pkl','rb'))\n",
    "            return X,np.ascontiguousarray(Hidden),Y\n",
    "        \n",
    "        if name=='PCA_FMNIST_20':\n",
    "            X = pickle.load(open('./embedding/PCA_FMNIST_X_20.pkl','rb'))\n",
    "            Hidden = pickle.load(open('./embedding/PCA_FMNIST_Hidden_20.pkl','rb'))\n",
    "            Y = pickle.load(open('./embedding/PCA_FMNIST_Y_20.pkl','rb'))\n",
    "            return X,np.ascontiguousarray(Hidden),Y\n",
    "        \n",
    "        if name=='PCA_FMNIST_30':\n",
    "            X = pickle.load(open('./embedding/PCA_FMNIST_X_30.pkl','rb'))\n",
    "            Hidden = pickle.load(open('./embedding/PCA_FMNIST_Hidden_30.pkl','rb'))\n",
    "            Y = pickle.load(open('./embedding/PCA_FMNIST_Y_30.pkl','rb'))\n",
    "            return X,np.ascontiguousarray(Hidden),Y\n",
    "        \n",
    "        \n",
    "        \n",
    "        if name=='AE_MNIST_5':\n",
    "            X = pickle.load(open('./embedding/AE_MNIST_X_5.pkl','rb'))\n",
    "            Hidden = pickle.load(open('./embedding/AE_MNIST_Hidden_5.pkl','rb'))\n",
    "            Y = pickle.load(open('./embedding/AE_MNIST_Y_5.pkl','rb'))\n",
    "            return X,np.ascontiguousarray(Hidden),Y\n",
    "        \n",
    "        if name=='AE_MNIST_10':\n",
    "            X = pickle.load(open('./embedding/AE_MNIST_X_10.pkl','rb'))\n",
    "            Hidden = pickle.load(open('./embedding/AE_MNIST_Hidden_10.pkl','rb'))\n",
    "            Y = pickle.load(open('./embedding/AE_MNIST_Y_10.pkl','rb'))\n",
    "            return X,np.ascontiguousarray(Hidden),Y\n",
    "        \n",
    "        if name=='AE_MNIST_20':\n",
    "            X = pickle.load(open('./embedding/AE_MNIST_X_20.pkl','rb'))\n",
    "            Hidden = pickle.load(open('./embedding/AE_MNIST_Hidden_20.pkl','rb'))\n",
    "            Y = pickle.load(open('./embedding/AE_MNIST_Y_20.pkl','rb'))\n",
    "            return X,np.ascontiguousarray(Hidden),Y\n",
    "        \n",
    "        if name=='AE_MNIST_30':\n",
    "            X = pickle.load(open('./embedding/AE_MNIST_X_30.pkl','rb'))\n",
    "            Hidden = pickle.load(open('./embedding/AE_MNIST_Hidden_30.pkl','rb'))\n",
    "            Y = pickle.load(open('./embedding/AE_MNIST_Y_30.pkl','rb'))\n",
    "            return X,np.ascontiguousarray(Hidden),Y\n",
    "        \n",
    "        if name=='AE_FMNIST_5':\n",
    "            X = pickle.load(open('./embedding/AE_FMNIST_X_5.pkl','rb'))\n",
    "            Hidden = pickle.load(open('./embedding/AE_FMNIST_Hidden_5.pkl','rb'))\n",
    "            Y = pickle.load(open('./embedding/AE_FMNIST_Y_5.pkl','rb'))\n",
    "            return X,np.ascontiguousarray(Hidden),Y\n",
    "        \n",
    "        if name=='AE_FMNIST_10':\n",
    "            X = pickle.load(open('./embedding/AE_FMNIST_X_10.pkl','rb'))\n",
    "            Hidden = pickle.load(open('./embedding/AE_FMNIST_Hidden_10.pkl','rb'))\n",
    "            Y = pickle.load(open('./embedding/AE_FMNIST_Y_10.pkl','rb'))\n",
    "            return X,np.ascontiguousarray(Hidden),Y\n",
    "        \n",
    "        if name=='AE_FMNIST_20':\n",
    "            X = pickle.load(open('./embedding/AE_FMNIST_X_20.pkl','rb'))\n",
    "            Hidden = pickle.load(open('./embedding/AE_FMNIST_Hidden_20.pkl','rb'))\n",
    "            Y = pickle.load(open('./embedding/AE_FMNIST_Y_20.pkl','rb'))\n",
    "            return X,np.ascontiguousarray(Hidden),Y\n",
    "        \n",
    "        if name=='AE_FMNIST_30':\n",
    "            X = pickle.load(open('./embedding/AE_FMNIST_X_30.pkl','rb'))\n",
    "            Hidden = pickle.load(open('./embedding/AE_FMNIST_Hidden_30.pkl','rb'))\n",
    "            Y = pickle.load(open('./embedding/AE_FMNIST_Y_30.pkl','rb'))\n",
    "            return X,np.ascontiguousarray(Hidden),Y"
   ]
  },
  {
   "cell_type": "markdown",
   "metadata": {},
   "source": [
    "# GIT"
   ]
  },
  {
   "cell_type": "markdown",
   "metadata": {},
   "source": [
    "## PCA_MNIST"
   ]
  },
  {
   "cell_type": "code",
   "execution_count": 3,
   "metadata": {},
   "outputs": [
    {
     "name": "stdout",
     "output_type": "stream",
     "text": [
      "15.524659156799316\n"
     ]
    },
    {
     "data": {
      "text/html": [
       "<div>\n",
       "<style scoped>\n",
       "    .dataframe tbody tr th:only-of-type {\n",
       "        vertical-align: middle;\n",
       "    }\n",
       "\n",
       "    .dataframe tbody tr th {\n",
       "        vertical-align: top;\n",
       "    }\n",
       "\n",
       "    .dataframe thead th {\n",
       "        text-align: right;\n",
       "    }\n",
       "</style>\n",
       "<table border=\"1\" class=\"dataframe\">\n",
       "  <thead>\n",
       "    <tr style=\"text-align: right;\">\n",
       "      <th></th>\n",
       "      <th>f1</th>\n",
       "      <th>ARI</th>\n",
       "      <th>ACC</th>\n",
       "      <th>NMI</th>\n",
       "      <th>cover_rate</th>\n",
       "      <th>classes</th>\n",
       "    </tr>\n",
       "  </thead>\n",
       "  <tbody>\n",
       "    <tr>\n",
       "      <th>0</th>\n",
       "      <td>0.478355</td>\n",
       "      <td>0.323289</td>\n",
       "      <td>0.498183</td>\n",
       "      <td>0.426956</td>\n",
       "      <td>1.0</td>\n",
       "      <td>10.0</td>\n",
       "    </tr>\n",
       "  </tbody>\n",
       "</table>\n",
       "</div>"
      ],
      "text/plain": [
       "         f1       ARI       ACC       NMI  cover_rate  classes\n",
       "0  0.478355  0.323289  0.498183  0.426956         1.0     10.0"
      ]
     },
     "execution_count": 3,
     "metadata": {},
     "output_type": "execute_result"
    }
   ],
   "source": [
    "X_raw,X,Y_true=DataLoader.load('PCA_MNIST_5')\n",
    "\n",
    "t1=time.time()\n",
    "Y_pred,V,E_raw,X_extend,draw_tasks,final_cluster=api.GIT.fit(  X,\n",
    "                  k=70,\n",
    "                  target_ratio=[ 1 for i in range(10)],\n",
    "                  plot=False,\n",
    "                 ) # best k:70\n",
    "t2=time.time()\n",
    "print(t2-t1)\n",
    "\n",
    "Y_pred,Y_true=matchY(Y_pred,Y_true)\n",
    "result=measures_calculator(Y_true,Y_pred)\n",
    "result"
   ]
  },
  {
   "cell_type": "code",
   "execution_count": 4,
   "metadata": {},
   "outputs": [
    {
     "name": "stdout",
     "output_type": "stream",
     "text": [
      "31.11311960220337\n"
     ]
    },
    {
     "data": {
      "text/html": [
       "<div>\n",
       "<style scoped>\n",
       "    .dataframe tbody tr th:only-of-type {\n",
       "        vertical-align: middle;\n",
       "    }\n",
       "\n",
       "    .dataframe tbody tr th {\n",
       "        vertical-align: top;\n",
       "    }\n",
       "\n",
       "    .dataframe thead th {\n",
       "        text-align: right;\n",
       "    }\n",
       "</style>\n",
       "<table border=\"1\" class=\"dataframe\">\n",
       "  <thead>\n",
       "    <tr style=\"text-align: right;\">\n",
       "      <th></th>\n",
       "      <th>f1</th>\n",
       "      <th>ARI</th>\n",
       "      <th>ACC</th>\n",
       "      <th>NMI</th>\n",
       "      <th>cover_rate</th>\n",
       "      <th>classes</th>\n",
       "    </tr>\n",
       "  </thead>\n",
       "  <tbody>\n",
       "    <tr>\n",
       "      <th>0</th>\n",
       "      <td>0.691515</td>\n",
       "      <td>0.517411</td>\n",
       "      <td>0.689933</td>\n",
       "      <td>0.594157</td>\n",
       "      <td>1.0</td>\n",
       "      <td>10.0</td>\n",
       "    </tr>\n",
       "  </tbody>\n",
       "</table>\n",
       "</div>"
      ],
      "text/plain": [
       "         f1       ARI       ACC       NMI  cover_rate  classes\n",
       "0  0.691515  0.517411  0.689933  0.594157         1.0     10.0"
      ]
     },
     "execution_count": 4,
     "metadata": {},
     "output_type": "execute_result"
    }
   ],
   "source": [
    "X_raw,X,Y_true=DataLoader.load('PCA_MNIST_10')\n",
    "\n",
    "t1=time.time()\n",
    "Y_pred,V,E_raw,X_extend,draw_tasks,final_cluster=api.GIT.fit(  X,\n",
    "                  k=70,\n",
    "                  target_ratio=[ 1 for i in range(10)],\n",
    "                  plot=False,\n",
    "                 ) # best k:70\n",
    "t2=time.time()\n",
    "print(t2-t1)\n",
    "\n",
    "Y_pred,Y_true=matchY(Y_pred,Y_true)\n",
    "result=measures_calculator(Y_true,Y_pred)\n",
    "result"
   ]
  },
  {
   "cell_type": "code",
   "execution_count": 5,
   "metadata": {},
   "outputs": [
    {
     "name": "stdout",
     "output_type": "stream",
     "text": [
      "79.43698692321777\n"
     ]
    },
    {
     "data": {
      "text/html": [
       "<div>\n",
       "<style scoped>\n",
       "    .dataframe tbody tr th:only-of-type {\n",
       "        vertical-align: middle;\n",
       "    }\n",
       "\n",
       "    .dataframe tbody tr th {\n",
       "        vertical-align: top;\n",
       "    }\n",
       "\n",
       "    .dataframe thead th {\n",
       "        text-align: right;\n",
       "    }\n",
       "</style>\n",
       "<table border=\"1\" class=\"dataframe\">\n",
       "  <thead>\n",
       "    <tr style=\"text-align: right;\">\n",
       "      <th></th>\n",
       "      <th>f1</th>\n",
       "      <th>ARI</th>\n",
       "      <th>ACC</th>\n",
       "      <th>NMI</th>\n",
       "      <th>cover_rate</th>\n",
       "      <th>classes</th>\n",
       "    </tr>\n",
       "  </thead>\n",
       "  <tbody>\n",
       "    <tr>\n",
       "      <th>0</th>\n",
       "      <td>0.77153</td>\n",
       "      <td>0.58755</td>\n",
       "      <td>0.772317</td>\n",
       "      <td>0.645962</td>\n",
       "      <td>1.0</td>\n",
       "      <td>10.0</td>\n",
       "    </tr>\n",
       "  </tbody>\n",
       "</table>\n",
       "</div>"
      ],
      "text/plain": [
       "        f1      ARI       ACC       NMI  cover_rate  classes\n",
       "0  0.77153  0.58755  0.772317  0.645962         1.0     10.0"
      ]
     },
     "execution_count": 5,
     "metadata": {},
     "output_type": "execute_result"
    }
   ],
   "source": [
    "X_raw,X,Y_true=DataLoader.load('PCA_MNIST_20')\n",
    "\n",
    "t1=time.time()\n",
    "Y_pred,V,E_raw,X_extend,draw_tasks,final_cluster=api.GIT.fit(  X,\n",
    "                  k=80,\n",
    "                  target_ratio=[ 1 for i in range(10)],\n",
    "                  plot=False,\n",
    "                 ) # best k:80\n",
    "t2=time.time()\n",
    "print(t2-t1)\n",
    "\n",
    "Y_pred,Y_true=matchY(Y_pred,Y_true)\n",
    "result=measures_calculator(Y_true,Y_pred)\n",
    "result"
   ]
  },
  {
   "cell_type": "code",
   "execution_count": 6,
   "metadata": {},
   "outputs": [
    {
     "name": "stdout",
     "output_type": "stream",
     "text": [
      "112.30759406089783\n"
     ]
    },
    {
     "data": {
      "text/html": [
       "<div>\n",
       "<style scoped>\n",
       "    .dataframe tbody tr th:only-of-type {\n",
       "        vertical-align: middle;\n",
       "    }\n",
       "\n",
       "    .dataframe tbody tr th {\n",
       "        vertical-align: top;\n",
       "    }\n",
       "\n",
       "    .dataframe thead th {\n",
       "        text-align: right;\n",
       "    }\n",
       "</style>\n",
       "<table border=\"1\" class=\"dataframe\">\n",
       "  <thead>\n",
       "    <tr style=\"text-align: right;\">\n",
       "      <th></th>\n",
       "      <th>f1</th>\n",
       "      <th>ARI</th>\n",
       "      <th>ACC</th>\n",
       "      <th>NMI</th>\n",
       "      <th>cover_rate</th>\n",
       "      <th>classes</th>\n",
       "    </tr>\n",
       "  </thead>\n",
       "  <tbody>\n",
       "    <tr>\n",
       "      <th>0</th>\n",
       "      <td>0.599865</td>\n",
       "      <td>0.39328</td>\n",
       "      <td>0.598267</td>\n",
       "      <td>0.489121</td>\n",
       "      <td>1.0</td>\n",
       "      <td>10.0</td>\n",
       "    </tr>\n",
       "  </tbody>\n",
       "</table>\n",
       "</div>"
      ],
      "text/plain": [
       "         f1      ARI       ACC       NMI  cover_rate  classes\n",
       "0  0.599865  0.39328  0.598267  0.489121         1.0     10.0"
      ]
     },
     "execution_count": 6,
     "metadata": {},
     "output_type": "execute_result"
    }
   ],
   "source": [
    "X_raw,X,Y_true=DataLoader.load('PCA_MNIST_30')\n",
    "\n",
    "t1=time.time()\n",
    "Y_pred,V,E_raw,X_extend,draw_tasks,final_cluster=api.GIT.fit(  X,\n",
    "                  k=90,\n",
    "                  target_ratio=[ 1 for i in range(10)],\n",
    "                  plot=False,\n",
    "                 ) # best k:90\n",
    "t2=time.time()\n",
    "print(t2-t1)\n",
    "\n",
    "Y_pred,Y_true=matchY(Y_pred,Y_true)\n",
    "result=measures_calculator(Y_true,Y_pred)\n",
    "result"
   ]
  },
  {
   "cell_type": "markdown",
   "metadata": {
    "heading_collapsed": true
   },
   "source": [
    "## PCA_FMNIST"
   ]
  },
  {
   "cell_type": "code",
   "execution_count": 7,
   "metadata": {
    "hidden": true
   },
   "outputs": [
    {
     "name": "stdout",
     "output_type": "stream",
     "text": [
      "14.622996091842651\n"
     ]
    },
    {
     "data": {
      "text/html": [
       "<div>\n",
       "<style scoped>\n",
       "    .dataframe tbody tr th:only-of-type {\n",
       "        vertical-align: middle;\n",
       "    }\n",
       "\n",
       "    .dataframe tbody tr th {\n",
       "        vertical-align: top;\n",
       "    }\n",
       "\n",
       "    .dataframe thead th {\n",
       "        text-align: right;\n",
       "    }\n",
       "</style>\n",
       "<table border=\"1\" class=\"dataframe\">\n",
       "  <thead>\n",
       "    <tr style=\"text-align: right;\">\n",
       "      <th></th>\n",
       "      <th>f1</th>\n",
       "      <th>ARI</th>\n",
       "      <th>ACC</th>\n",
       "      <th>NMI</th>\n",
       "      <th>cover_rate</th>\n",
       "      <th>classes</th>\n",
       "    </tr>\n",
       "  </thead>\n",
       "  <tbody>\n",
       "    <tr>\n",
       "      <th>0</th>\n",
       "      <td>0.592528</td>\n",
       "      <td>0.405018</td>\n",
       "      <td>0.594483</td>\n",
       "      <td>0.540378</td>\n",
       "      <td>1.0</td>\n",
       "      <td>10.0</td>\n",
       "    </tr>\n",
       "  </tbody>\n",
       "</table>\n",
       "</div>"
      ],
      "text/plain": [
       "         f1       ARI       ACC       NMI  cover_rate  classes\n",
       "0  0.592528  0.405018  0.594483  0.540378         1.0     10.0"
      ]
     },
     "execution_count": 7,
     "metadata": {},
     "output_type": "execute_result"
    }
   ],
   "source": [
    "X_raw,X,Y_true=DataLoader.load('PCA_FMNIST_5')\n",
    "\n",
    "t1=time.time()\n",
    "Y_pred,V,E_raw,X_extend,draw_tasks,final_cluster=api.GIT.fit(  X,\n",
    "                  k=100,\n",
    "                  target_ratio=[ 1 for i in range(10)],\n",
    "                  plot=False,\n",
    "                 ) # best k:100\n",
    "t2=time.time()\n",
    "print(t2-t1)\n",
    "\n",
    "Y_pred,Y_true=matchY(Y_pred,Y_true)\n",
    "result=measures_calculator(Y_true,Y_pred)\n",
    "result"
   ]
  },
  {
   "cell_type": "code",
   "execution_count": 52,
   "metadata": {
    "hidden": true
   },
   "outputs": [
    {
     "name": "stdout",
     "output_type": "stream",
     "text": [
      "15.780603408813477\n"
     ]
    },
    {
     "data": {
      "text/html": [
       "<div>\n",
       "<style scoped>\n",
       "    .dataframe tbody tr th:only-of-type {\n",
       "        vertical-align: middle;\n",
       "    }\n",
       "\n",
       "    .dataframe tbody tr th {\n",
       "        vertical-align: top;\n",
       "    }\n",
       "\n",
       "    .dataframe thead th {\n",
       "        text-align: right;\n",
       "    }\n",
       "</style>\n",
       "<table border=\"1\" class=\"dataframe\">\n",
       "  <thead>\n",
       "    <tr style=\"text-align: right;\">\n",
       "      <th></th>\n",
       "      <th>f1</th>\n",
       "      <th>ARI</th>\n",
       "      <th>ACC</th>\n",
       "      <th>NMI</th>\n",
       "      <th>cover_rate</th>\n",
       "      <th>classes</th>\n",
       "    </tr>\n",
       "  </thead>\n",
       "  <tbody>\n",
       "    <tr>\n",
       "      <th>0</th>\n",
       "      <td>0.686799</td>\n",
       "      <td>0.525638</td>\n",
       "      <td>0.68895</td>\n",
       "      <td>0.625705</td>\n",
       "      <td>1.0</td>\n",
       "      <td>10.0</td>\n",
       "    </tr>\n",
       "  </tbody>\n",
       "</table>\n",
       "</div>"
      ],
      "text/plain": [
       "         f1       ARI      ACC       NMI  cover_rate  classes\n",
       "0  0.686799  0.525638  0.68895  0.625705         1.0     10.0"
      ]
     },
     "execution_count": 52,
     "metadata": {},
     "output_type": "execute_result"
    }
   ],
   "source": [
    "X_raw,X,Y_true=DataLoader.load('PCA_FMNIST_10')\n",
    "\n",
    "t1=time.time()\n",
    "Y_pred,V,E_raw,X_extend,draw_tasks,final_cluster=api.GIT.fit(  X,\n",
    "                  k=40,\n",
    "                  target_ratio=[ 1 for i in range(10)],\n",
    "                  plot=False,\n",
    "                 ) # best k:40\n",
    "t2=time.time()\n",
    "print(t2-t1)\n",
    "\n",
    "Y_pred,Y_true=matchY(Y_pred,Y_true)\n",
    "result=measures_calculator(Y_true,Y_pred)\n",
    "result"
   ]
  },
  {
   "cell_type": "code",
   "execution_count": 8,
   "metadata": {
    "hidden": true
   },
   "outputs": [
    {
     "name": "stdout",
     "output_type": "stream",
     "text": [
      "51.649868965148926\n"
     ]
    },
    {
     "data": {
      "text/html": [
       "<div>\n",
       "<style scoped>\n",
       "    .dataframe tbody tr th:only-of-type {\n",
       "        vertical-align: middle;\n",
       "    }\n",
       "\n",
       "    .dataframe tbody tr th {\n",
       "        vertical-align: top;\n",
       "    }\n",
       "\n",
       "    .dataframe thead th {\n",
       "        text-align: right;\n",
       "    }\n",
       "</style>\n",
       "<table border=\"1\" class=\"dataframe\">\n",
       "  <thead>\n",
       "    <tr style=\"text-align: right;\">\n",
       "      <th></th>\n",
       "      <th>f1</th>\n",
       "      <th>ARI</th>\n",
       "      <th>ACC</th>\n",
       "      <th>NMI</th>\n",
       "      <th>cover_rate</th>\n",
       "      <th>classes</th>\n",
       "    </tr>\n",
       "  </thead>\n",
       "  <tbody>\n",
       "    <tr>\n",
       "      <th>0</th>\n",
       "      <td>0.643216</td>\n",
       "      <td>0.468767</td>\n",
       "      <td>0.6493</td>\n",
       "      <td>0.570878</td>\n",
       "      <td>1.0</td>\n",
       "      <td>10.0</td>\n",
       "    </tr>\n",
       "  </tbody>\n",
       "</table>\n",
       "</div>"
      ],
      "text/plain": [
       "         f1       ARI     ACC       NMI  cover_rate  classes\n",
       "0  0.643216  0.468767  0.6493  0.570878         1.0     10.0"
      ]
     },
     "execution_count": 8,
     "metadata": {},
     "output_type": "execute_result"
    }
   ],
   "source": [
    "X_raw,X,Y_true=DataLoader.load('PCA_FMNIST_20')\n",
    "\n",
    "t1=time.time()\n",
    "Y_pred,V,E_raw,X_extend,draw_tasks,final_cluster=api.GIT.fit(  X,\n",
    "                  k=30,\n",
    "                  target_ratio=[ 1 for i in range(10)],\n",
    "                  plot=False,\n",
    "                 ) # best k:30\n",
    "t2=time.time()\n",
    "print(t2-t1)\n",
    "\n",
    "Y_pred,Y_true=matchY(Y_pred,Y_true)\n",
    "result=measures_calculator(Y_true,Y_pred)\n",
    "result"
   ]
  },
  {
   "cell_type": "code",
   "execution_count": 9,
   "metadata": {
    "hidden": true
   },
   "outputs": [
    {
     "name": "stdout",
     "output_type": "stream",
     "text": [
      "85.56007814407349\n"
     ]
    },
    {
     "data": {
      "text/html": [
       "<div>\n",
       "<style scoped>\n",
       "    .dataframe tbody tr th:only-of-type {\n",
       "        vertical-align: middle;\n",
       "    }\n",
       "\n",
       "    .dataframe tbody tr th {\n",
       "        vertical-align: top;\n",
       "    }\n",
       "\n",
       "    .dataframe thead th {\n",
       "        text-align: right;\n",
       "    }\n",
       "</style>\n",
       "<table border=\"1\" class=\"dataframe\">\n",
       "  <thead>\n",
       "    <tr style=\"text-align: right;\">\n",
       "      <th></th>\n",
       "      <th>f1</th>\n",
       "      <th>ARI</th>\n",
       "      <th>ACC</th>\n",
       "      <th>NMI</th>\n",
       "      <th>cover_rate</th>\n",
       "      <th>classes</th>\n",
       "    </tr>\n",
       "  </thead>\n",
       "  <tbody>\n",
       "    <tr>\n",
       "      <th>0</th>\n",
       "      <td>0.537525</td>\n",
       "      <td>0.391458</td>\n",
       "      <td>0.538883</td>\n",
       "      <td>0.521743</td>\n",
       "      <td>1.0</td>\n",
       "      <td>10.0</td>\n",
       "    </tr>\n",
       "  </tbody>\n",
       "</table>\n",
       "</div>"
      ],
      "text/plain": [
       "         f1       ARI       ACC       NMI  cover_rate  classes\n",
       "0  0.537525  0.391458  0.538883  0.521743         1.0     10.0"
      ]
     },
     "execution_count": 9,
     "metadata": {},
     "output_type": "execute_result"
    }
   ],
   "source": [
    "X_raw,X,Y_true=DataLoader.load('PCA_FMNIST_30')\n",
    "\n",
    "t1=time.time()\n",
    "Y_pred,V,E_raw,X_extend,draw_tasks,final_cluster=api.GIT.fit(  X,\n",
    "                  k=50,\n",
    "                  target_ratio=[ 1 for i in range(10)],\n",
    "                  plot=False,\n",
    "                 ) # best k:50\n",
    "t2=time.time()\n",
    "print(t2-t1)\n",
    "\n",
    "Y_pred,Y_true=matchY(Y_pred,Y_true)\n",
    "result=measures_calculator(Y_true,Y_pred)\n",
    "result"
   ]
  },
  {
   "cell_type": "markdown",
   "metadata": {
    "heading_collapsed": true
   },
   "source": [
    "## AE_MNIST"
   ]
  },
  {
   "cell_type": "code",
   "execution_count": 78,
   "metadata": {
    "hidden": true
   },
   "outputs": [
    {
     "name": "stdout",
     "output_type": "stream",
     "text": [
      "11.225326538085938\n"
     ]
    },
    {
     "data": {
      "text/html": [
       "<div>\n",
       "<style scoped>\n",
       "    .dataframe tbody tr th:only-of-type {\n",
       "        vertical-align: middle;\n",
       "    }\n",
       "\n",
       "    .dataframe tbody tr th {\n",
       "        vertical-align: top;\n",
       "    }\n",
       "\n",
       "    .dataframe thead th {\n",
       "        text-align: right;\n",
       "    }\n",
       "</style>\n",
       "<table border=\"1\" class=\"dataframe\">\n",
       "  <thead>\n",
       "    <tr style=\"text-align: right;\">\n",
       "      <th></th>\n",
       "      <th>f1</th>\n",
       "      <th>ARI</th>\n",
       "      <th>ACC</th>\n",
       "      <th>NMI</th>\n",
       "      <th>cover_rate</th>\n",
       "      <th>classes</th>\n",
       "    </tr>\n",
       "  </thead>\n",
       "  <tbody>\n",
       "    <tr>\n",
       "      <th>0</th>\n",
       "      <td>0.878381</td>\n",
       "      <td>0.773054</td>\n",
       "      <td>0.8779</td>\n",
       "      <td>0.811949</td>\n",
       "      <td>1.0</td>\n",
       "      <td>10.0</td>\n",
       "    </tr>\n",
       "  </tbody>\n",
       "</table>\n",
       "</div>"
      ],
      "text/plain": [
       "         f1       ARI     ACC       NMI  cover_rate  classes\n",
       "0  0.878381  0.773054  0.8779  0.811949         1.0     10.0"
      ]
     },
     "execution_count": 78,
     "metadata": {},
     "output_type": "execute_result"
    }
   ],
   "source": [
    "X_raw,X,Y_true=DataLoader.load('AE_MNIST_5')\n",
    "\n",
    "t1=time.time()\n",
    "Y_pred,V,E_raw,X_extend,draw_tasks,final_cluster=api.GIT.fit(  X,\n",
    "                  k=40,\n",
    "                  target_ratio=[ 1 for i in range(10)],\n",
    "                  plot=False,\n",
    "                 )\n",
    "t2=time.time()\n",
    "print(t2-t1)\n",
    "\n",
    "Y_pred,Y_true=matchY(Y_pred,Y_true)\n",
    "result=measures_calculator(Y_true,Y_pred)\n",
    "result"
   ]
  },
  {
   "cell_type": "code",
   "execution_count": 81,
   "metadata": {
    "hidden": true
   },
   "outputs": [
    {
     "name": "stdout",
     "output_type": "stream",
     "text": [
      "18.48056650161743\n"
     ]
    },
    {
     "data": {
      "text/html": [
       "<div>\n",
       "<style scoped>\n",
       "    .dataframe tbody tr th:only-of-type {\n",
       "        vertical-align: middle;\n",
       "    }\n",
       "\n",
       "    .dataframe tbody tr th {\n",
       "        vertical-align: top;\n",
       "    }\n",
       "\n",
       "    .dataframe thead th {\n",
       "        text-align: right;\n",
       "    }\n",
       "</style>\n",
       "<table border=\"1\" class=\"dataframe\">\n",
       "  <thead>\n",
       "    <tr style=\"text-align: right;\">\n",
       "      <th></th>\n",
       "      <th>f1</th>\n",
       "      <th>ARI</th>\n",
       "      <th>ACC</th>\n",
       "      <th>NMI</th>\n",
       "      <th>cover_rate</th>\n",
       "      <th>classes</th>\n",
       "    </tr>\n",
       "  </thead>\n",
       "  <tbody>\n",
       "    <tr>\n",
       "      <th>0</th>\n",
       "      <td>0.861547</td>\n",
       "      <td>0.773402</td>\n",
       "      <td>0.86045</td>\n",
       "      <td>0.811684</td>\n",
       "      <td>1.0</td>\n",
       "      <td>10.0</td>\n",
       "    </tr>\n",
       "  </tbody>\n",
       "</table>\n",
       "</div>"
      ],
      "text/plain": [
       "         f1       ARI      ACC       NMI  cover_rate  classes\n",
       "0  0.861547  0.773402  0.86045  0.811684         1.0     10.0"
      ]
     },
     "execution_count": 81,
     "metadata": {},
     "output_type": "execute_result"
    }
   ],
   "source": [
    "X_raw,X,Y_true=DataLoader.load('AE_MNIST_10')\n",
    "\n",
    "t1=time.time()\n",
    "Y_pred,V,E_raw,X_extend,draw_tasks,final_cluster=api.GIT.fit(  X,\n",
    "                  k=40,\n",
    "                  target_ratio=[ 1 for i in range(10)],\n",
    "                  plot=False,\n",
    "                 )\n",
    "t2=time.time()\n",
    "print(t2-t1)\n",
    "\n",
    "Y_pred,Y_true=matchY(Y_pred,Y_true)\n",
    "result=measures_calculator(Y_true,Y_pred)\n",
    "result"
   ]
  },
  {
   "cell_type": "code",
   "execution_count": 84,
   "metadata": {
    "hidden": true
   },
   "outputs": [
    {
     "name": "stdout",
     "output_type": "stream",
     "text": [
      "53.87210488319397\n"
     ]
    },
    {
     "data": {
      "text/html": [
       "<div>\n",
       "<style scoped>\n",
       "    .dataframe tbody tr th:only-of-type {\n",
       "        vertical-align: middle;\n",
       "    }\n",
       "\n",
       "    .dataframe tbody tr th {\n",
       "        vertical-align: top;\n",
       "    }\n",
       "\n",
       "    .dataframe thead th {\n",
       "        text-align: right;\n",
       "    }\n",
       "</style>\n",
       "<table border=\"1\" class=\"dataframe\">\n",
       "  <thead>\n",
       "    <tr style=\"text-align: right;\">\n",
       "      <th></th>\n",
       "      <th>f1</th>\n",
       "      <th>ARI</th>\n",
       "      <th>ACC</th>\n",
       "      <th>NMI</th>\n",
       "      <th>cover_rate</th>\n",
       "      <th>classes</th>\n",
       "    </tr>\n",
       "  </thead>\n",
       "  <tbody>\n",
       "    <tr>\n",
       "      <th>0</th>\n",
       "      <td>0.880494</td>\n",
       "      <td>0.761737</td>\n",
       "      <td>0.880833</td>\n",
       "      <td>0.788283</td>\n",
       "      <td>1.0</td>\n",
       "      <td>10.0</td>\n",
       "    </tr>\n",
       "  </tbody>\n",
       "</table>\n",
       "</div>"
      ],
      "text/plain": [
       "         f1       ARI       ACC       NMI  cover_rate  classes\n",
       "0  0.880494  0.761737  0.880833  0.788283         1.0     10.0"
      ]
     },
     "execution_count": 84,
     "metadata": {},
     "output_type": "execute_result"
    }
   ],
   "source": [
    "X_raw,X,Y_true=DataLoader.load('AE_MNIST_20')\n",
    "\n",
    "t1=time.time()\n",
    "Y_pred,V,E_raw,X_extend,draw_tasks,final_cluster=api.GIT.fit(  X,\n",
    "                  k=40,\n",
    "                  target_ratio=[ 1 for i in range(10)],\n",
    "                  plot=False,\n",
    "                 )\n",
    "t2=time.time()\n",
    "print(t2-t1)\n",
    "\n",
    "Y_pred,Y_true=matchY(Y_pred,Y_true)\n",
    "result=measures_calculator(Y_true,Y_pred)\n",
    "result"
   ]
  },
  {
   "cell_type": "code",
   "execution_count": 88,
   "metadata": {
    "hidden": true
   },
   "outputs": [
    {
     "name": "stdout",
     "output_type": "stream",
     "text": [
      "80.98424100875854\n"
     ]
    },
    {
     "data": {
      "text/html": [
       "<div>\n",
       "<style scoped>\n",
       "    .dataframe tbody tr th:only-of-type {\n",
       "        vertical-align: middle;\n",
       "    }\n",
       "\n",
       "    .dataframe tbody tr th {\n",
       "        vertical-align: top;\n",
       "    }\n",
       "\n",
       "    .dataframe thead th {\n",
       "        text-align: right;\n",
       "    }\n",
       "</style>\n",
       "<table border=\"1\" class=\"dataframe\">\n",
       "  <thead>\n",
       "    <tr style=\"text-align: right;\">\n",
       "      <th></th>\n",
       "      <th>f1</th>\n",
       "      <th>ARI</th>\n",
       "      <th>ACC</th>\n",
       "      <th>NMI</th>\n",
       "      <th>cover_rate</th>\n",
       "      <th>classes</th>\n",
       "    </tr>\n",
       "  </thead>\n",
       "  <tbody>\n",
       "    <tr>\n",
       "      <th>0</th>\n",
       "      <td>0.842948</td>\n",
       "      <td>0.717883</td>\n",
       "      <td>0.8466</td>\n",
       "      <td>0.76189</td>\n",
       "      <td>1.0</td>\n",
       "      <td>10.0</td>\n",
       "    </tr>\n",
       "  </tbody>\n",
       "</table>\n",
       "</div>"
      ],
      "text/plain": [
       "         f1       ARI     ACC      NMI  cover_rate  classes\n",
       "0  0.842948  0.717883  0.8466  0.76189         1.0     10.0"
      ]
     },
     "execution_count": 88,
     "metadata": {},
     "output_type": "execute_result"
    }
   ],
   "source": [
    "X_raw,X,Y_true=DataLoader.load('AE_MNIST_30')\n",
    "\n",
    "t1=time.time()\n",
    "Y_pred,V,E_raw,X_extend,draw_tasks,final_cluster=api.GIT.fit(  X,\n",
    "                  k=40,\n",
    "                  target_ratio=[ 1 for i in range(10)],\n",
    "                  plot=False,\n",
    "                 )\n",
    "t2=time.time()\n",
    "print(t2-t1)\n",
    "\n",
    "Y_pred,Y_true=matchY(Y_pred,Y_true)\n",
    "result=measures_calculator(Y_true,Y_pred)\n",
    "result"
   ]
  },
  {
   "cell_type": "markdown",
   "metadata": {
    "heading_collapsed": true
   },
   "source": [
    "## AE_FMNIST"
   ]
  },
  {
   "cell_type": "code",
   "execution_count": 104,
   "metadata": {
    "hidden": true
   },
   "outputs": [
    {
     "name": "stdout",
     "output_type": "stream",
     "text": [
      "14.690261840820312\n"
     ]
    },
    {
     "data": {
      "text/html": [
       "<div>\n",
       "<style scoped>\n",
       "    .dataframe tbody tr th:only-of-type {\n",
       "        vertical-align: middle;\n",
       "    }\n",
       "\n",
       "    .dataframe tbody tr th {\n",
       "        vertical-align: top;\n",
       "    }\n",
       "\n",
       "    .dataframe thead th {\n",
       "        text-align: right;\n",
       "    }\n",
       "</style>\n",
       "<table border=\"1\" class=\"dataframe\">\n",
       "  <thead>\n",
       "    <tr style=\"text-align: right;\">\n",
       "      <th></th>\n",
       "      <th>f1</th>\n",
       "      <th>ARI</th>\n",
       "      <th>ACC</th>\n",
       "      <th>NMI</th>\n",
       "      <th>cover_rate</th>\n",
       "      <th>classes</th>\n",
       "    </tr>\n",
       "  </thead>\n",
       "  <tbody>\n",
       "    <tr>\n",
       "      <th>0</th>\n",
       "      <td>0.647393</td>\n",
       "      <td>0.488301</td>\n",
       "      <td>0.649067</td>\n",
       "      <td>0.613516</td>\n",
       "      <td>1.0</td>\n",
       "      <td>10.0</td>\n",
       "    </tr>\n",
       "  </tbody>\n",
       "</table>\n",
       "</div>"
      ],
      "text/plain": [
       "         f1       ARI       ACC       NMI  cover_rate  classes\n",
       "0  0.647393  0.488301  0.649067  0.613516         1.0     10.0"
      ]
     },
     "execution_count": 104,
     "metadata": {},
     "output_type": "execute_result"
    }
   ],
   "source": [
    "X_raw,X,Y_true=DataLoader.load('AE_FMNIST_5')\n",
    "\n",
    "t1=time.time()\n",
    "Y_pred,V,E_raw,X_extend,draw_tasks,final_cluster=api.GIT.fit(  X,\n",
    "                  k=60,\n",
    "                  target_ratio=[ 1 for i in range(10)],\n",
    "                  plot=False,\n",
    "                 )\n",
    "t2=time.time()\n",
    "print(t2-t1)\n",
    "\n",
    "Y_pred,Y_true=matchY(Y_pred,Y_true)\n",
    "result=measures_calculator(Y_true,Y_pred)\n",
    "result"
   ]
  },
  {
   "cell_type": "code",
   "execution_count": 48,
   "metadata": {
    "hidden": true
   },
   "outputs": [
    {
     "name": "stdout",
     "output_type": "stream",
     "text": [
      "16.589250326156616\n"
     ]
    },
    {
     "data": {
      "text/html": [
       "<div>\n",
       "<style scoped>\n",
       "    .dataframe tbody tr th:only-of-type {\n",
       "        vertical-align: middle;\n",
       "    }\n",
       "\n",
       "    .dataframe tbody tr th {\n",
       "        vertical-align: top;\n",
       "    }\n",
       "\n",
       "    .dataframe thead th {\n",
       "        text-align: right;\n",
       "    }\n",
       "</style>\n",
       "<table border=\"1\" class=\"dataframe\">\n",
       "  <thead>\n",
       "    <tr style=\"text-align: right;\">\n",
       "      <th></th>\n",
       "      <th>f1</th>\n",
       "      <th>ARI</th>\n",
       "      <th>ACC</th>\n",
       "      <th>NMI</th>\n",
       "      <th>cover_rate</th>\n",
       "      <th>classes</th>\n",
       "    </tr>\n",
       "  </thead>\n",
       "  <tbody>\n",
       "    <tr>\n",
       "      <th>0</th>\n",
       "      <td>0.554748</td>\n",
       "      <td>0.45508</td>\n",
       "      <td>0.564167</td>\n",
       "      <td>0.601755</td>\n",
       "      <td>1.0</td>\n",
       "      <td>10.0</td>\n",
       "    </tr>\n",
       "  </tbody>\n",
       "</table>\n",
       "</div>"
      ],
      "text/plain": [
       "         f1      ARI       ACC       NMI  cover_rate  classes\n",
       "0  0.554748  0.45508  0.564167  0.601755         1.0     10.0"
      ]
     },
     "execution_count": 48,
     "metadata": {},
     "output_type": "execute_result"
    }
   ],
   "source": [
    "X_raw,X,Y_true=DataLoader.load('AE_FMNIST_10')\n",
    "\n",
    "t1=time.time()\n",
    "Y_pred,V,E_raw,X_extend,draw_tasks,final_cluster=api.GIT.fit(  X,\n",
    "                  k=30,\n",
    "                  target_ratio=[ 1 for i in range(10)],\n",
    "                  plot=False,\n",
    "                 )\n",
    "t2=time.time()\n",
    "print(t2-t1)\n",
    "\n",
    "Y_pred,Y_true=matchY(Y_pred,Y_true)\n",
    "result=measures_calculator(Y_true,Y_pred)\n",
    "result"
   ]
  },
  {
   "cell_type": "code",
   "execution_count": 49,
   "metadata": {
    "hidden": true
   },
   "outputs": [
    {
     "name": "stdout",
     "output_type": "stream",
     "text": [
      "15.799428224563599\n"
     ]
    },
    {
     "data": {
      "text/html": [
       "<div>\n",
       "<style scoped>\n",
       "    .dataframe tbody tr th:only-of-type {\n",
       "        vertical-align: middle;\n",
       "    }\n",
       "\n",
       "    .dataframe tbody tr th {\n",
       "        vertical-align: top;\n",
       "    }\n",
       "\n",
       "    .dataframe thead th {\n",
       "        text-align: right;\n",
       "    }\n",
       "</style>\n",
       "<table border=\"1\" class=\"dataframe\">\n",
       "  <thead>\n",
       "    <tr style=\"text-align: right;\">\n",
       "      <th></th>\n",
       "      <th>f1</th>\n",
       "      <th>ARI</th>\n",
       "      <th>ACC</th>\n",
       "      <th>NMI</th>\n",
       "      <th>cover_rate</th>\n",
       "      <th>classes</th>\n",
       "    </tr>\n",
       "  </thead>\n",
       "  <tbody>\n",
       "    <tr>\n",
       "      <th>0</th>\n",
       "      <td>0.607032</td>\n",
       "      <td>0.460438</td>\n",
       "      <td>0.615567</td>\n",
       "      <td>0.58677</td>\n",
       "      <td>1.0</td>\n",
       "      <td>10.0</td>\n",
       "    </tr>\n",
       "  </tbody>\n",
       "</table>\n",
       "</div>"
      ],
      "text/plain": [
       "         f1       ARI       ACC      NMI  cover_rate  classes\n",
       "0  0.607032  0.460438  0.615567  0.58677         1.0     10.0"
      ]
     },
     "execution_count": 49,
     "metadata": {},
     "output_type": "execute_result"
    }
   ],
   "source": [
    "X_raw,X,Y_true=DataLoader.load('AE_FMNIST_10')\n",
    "\n",
    "t1=time.time()\n",
    "Y_pred,V,E_raw,X_extend,draw_tasks,final_cluster=api.GIT.fit(  X,\n",
    "                  k=50,\n",
    "                  target_ratio=[ 1 for i in range(10)],\n",
    "                  plot=False,\n",
    "                 )\n",
    "t2=time.time()\n",
    "print(t2-t1)\n",
    "\n",
    "Y_pred,Y_true=matchY(Y_pred,Y_true)\n",
    "result=measures_calculator(Y_true,Y_pred)\n",
    "result"
   ]
  },
  {
   "cell_type": "code",
   "execution_count": 44,
   "metadata": {
    "hidden": true
   },
   "outputs": [
    {
     "name": "stdout",
     "output_type": "stream",
     "text": [
      "190.90498733520508\n"
     ]
    },
    {
     "data": {
      "text/html": [
       "<div>\n",
       "<style scoped>\n",
       "    .dataframe tbody tr th:only-of-type {\n",
       "        vertical-align: middle;\n",
       "    }\n",
       "\n",
       "    .dataframe tbody tr th {\n",
       "        vertical-align: top;\n",
       "    }\n",
       "\n",
       "    .dataframe thead th {\n",
       "        text-align: right;\n",
       "    }\n",
       "</style>\n",
       "<table border=\"1\" class=\"dataframe\">\n",
       "  <thead>\n",
       "    <tr style=\"text-align: right;\">\n",
       "      <th></th>\n",
       "      <th>f1</th>\n",
       "      <th>ARI</th>\n",
       "      <th>ACC</th>\n",
       "      <th>NMI</th>\n",
       "      <th>cover_rate</th>\n",
       "      <th>classes</th>\n",
       "    </tr>\n",
       "  </thead>\n",
       "  <tbody>\n",
       "    <tr>\n",
       "      <th>0</th>\n",
       "      <td>0.568869</td>\n",
       "      <td>0.473076</td>\n",
       "      <td>0.571183</td>\n",
       "      <td>0.611091</td>\n",
       "      <td>1.0</td>\n",
       "      <td>10.0</td>\n",
       "    </tr>\n",
       "  </tbody>\n",
       "</table>\n",
       "</div>"
      ],
      "text/plain": [
       "         f1       ARI       ACC       NMI  cover_rate  classes\n",
       "0  0.568869  0.473076  0.571183  0.611091         1.0     10.0"
      ]
     },
     "execution_count": 44,
     "metadata": {},
     "output_type": "execute_result"
    }
   ],
   "source": [
    "X_raw,X,Y_true=DataLoader.load('AE_FMNIST_20')\n",
    "\n",
    "t1=time.time()\n",
    "Y_pred,V,E_raw,X_extend,draw_tasks,final_cluster=api.GIT.fit(  X,\n",
    "                  k=30,\n",
    "                  target_ratio=[ 1 for i in range(10)],\n",
    "                  plot=False,\n",
    "                 )\n",
    "t2=time.time()\n",
    "print(t2-t1)\n",
    "\n",
    "Y_pred,Y_true=matchY(Y_pred,Y_true)\n",
    "result=measures_calculator(Y_true,Y_pred)\n",
    "result"
   ]
  },
  {
   "cell_type": "code",
   "execution_count": 114,
   "metadata": {
    "hidden": true
   },
   "outputs": [
    {
     "name": "stdout",
     "output_type": "stream",
     "text": [
      "50.769479751586914\n"
     ]
    },
    {
     "data": {
      "text/html": [
       "<div>\n",
       "<style scoped>\n",
       "    .dataframe tbody tr th:only-of-type {\n",
       "        vertical-align: middle;\n",
       "    }\n",
       "\n",
       "    .dataframe tbody tr th {\n",
       "        vertical-align: top;\n",
       "    }\n",
       "\n",
       "    .dataframe thead th {\n",
       "        text-align: right;\n",
       "    }\n",
       "</style>\n",
       "<table border=\"1\" class=\"dataframe\">\n",
       "  <thead>\n",
       "    <tr style=\"text-align: right;\">\n",
       "      <th></th>\n",
       "      <th>f1</th>\n",
       "      <th>ARI</th>\n",
       "      <th>ACC</th>\n",
       "      <th>NMI</th>\n",
       "      <th>cover_rate</th>\n",
       "      <th>classes</th>\n",
       "    </tr>\n",
       "  </thead>\n",
       "  <tbody>\n",
       "    <tr>\n",
       "      <th>0</th>\n",
       "      <td>0.577126</td>\n",
       "      <td>0.405767</td>\n",
       "      <td>0.594933</td>\n",
       "      <td>0.576417</td>\n",
       "      <td>1.0</td>\n",
       "      <td>10.0</td>\n",
       "    </tr>\n",
       "  </tbody>\n",
       "</table>\n",
       "</div>"
      ],
      "text/plain": [
       "         f1       ARI       ACC       NMI  cover_rate  classes\n",
       "0  0.577126  0.405767  0.594933  0.576417         1.0     10.0"
      ]
     },
     "execution_count": 114,
     "metadata": {},
     "output_type": "execute_result"
    }
   ],
   "source": [
    "X_raw,X,Y_true=DataLoader.load('AE_FMNIST_20')\n",
    "\n",
    "t1=time.time()\n",
    "Y_pred,V,E_raw,X_extend,draw_tasks,final_cluster=api.GIT.fit(  X,\n",
    "                  k=90,\n",
    "                  target_ratio=[ 1 for i in range(10)],\n",
    "                  plot=False,\n",
    "                 )\n",
    "t2=time.time()\n",
    "print(t2-t1)\n",
    "\n",
    "Y_pred,Y_true=matchY(Y_pred,Y_true)\n",
    "result=measures_calculator(Y_true,Y_pred)\n",
    "result"
   ]
  },
  {
   "cell_type": "code",
   "execution_count": 119,
   "metadata": {
    "hidden": true
   },
   "outputs": [
    {
     "name": "stdout",
     "output_type": "stream",
     "text": [
      "50.6118266582489\n"
     ]
    },
    {
     "data": {
      "text/html": [
       "<div>\n",
       "<style scoped>\n",
       "    .dataframe tbody tr th:only-of-type {\n",
       "        vertical-align: middle;\n",
       "    }\n",
       "\n",
       "    .dataframe tbody tr th {\n",
       "        vertical-align: top;\n",
       "    }\n",
       "\n",
       "    .dataframe thead th {\n",
       "        text-align: right;\n",
       "    }\n",
       "</style>\n",
       "<table border=\"1\" class=\"dataframe\">\n",
       "  <thead>\n",
       "    <tr style=\"text-align: right;\">\n",
       "      <th></th>\n",
       "      <th>f1</th>\n",
       "      <th>ARI</th>\n",
       "      <th>ACC</th>\n",
       "      <th>NMI</th>\n",
       "      <th>cover_rate</th>\n",
       "      <th>classes</th>\n",
       "    </tr>\n",
       "  </thead>\n",
       "  <tbody>\n",
       "    <tr>\n",
       "      <th>0</th>\n",
       "      <td>0.650498</td>\n",
       "      <td>0.480637</td>\n",
       "      <td>0.650067</td>\n",
       "      <td>0.613325</td>\n",
       "      <td>1.0</td>\n",
       "      <td>10.0</td>\n",
       "    </tr>\n",
       "  </tbody>\n",
       "</table>\n",
       "</div>"
      ],
      "text/plain": [
       "         f1       ARI       ACC       NMI  cover_rate  classes\n",
       "0  0.650498  0.480637  0.650067  0.613325         1.0     10.0"
      ]
     },
     "execution_count": 119,
     "metadata": {},
     "output_type": "execute_result"
    }
   ],
   "source": [
    "X_raw,X,Y_true=DataLoader.load('AE_FMNIST_30')\n",
    "\n",
    "t1=time.time()\n",
    "Y_pred,V,E_raw,X_extend,draw_tasks,final_cluster=api.GIT.fit(  X,\n",
    "                  k=60,\n",
    "                  target_ratio=[ 1 for i in range(10)],\n",
    "                  plot=False,\n",
    "                 )\n",
    "t2=time.time()\n",
    "print(t2-t1)\n",
    "\n",
    "Y_pred,Y_true=matchY(Y_pred,Y_true)\n",
    "result=measures_calculator(Y_true,Y_pred)\n",
    "result"
   ]
  },
  {
   "cell_type": "markdown",
   "metadata": {
    "heading_collapsed": true
   },
   "source": [
    "## Plot"
   ]
  },
  {
   "cell_type": "code",
   "execution_count": 52,
   "metadata": {
    "hidden": true
   },
   "outputs": [],
   "source": [
    "import matplotlib.pyplot as plt\n",
    "import numpy as np\n",
    "\n",
    "PCA_MNIST_Fscore = [0.478355, 0.691515, 0.77153, 0.599865, 0.520227]\n",
    "PCA_MNIST_ARI = [0.323289, 0.517411, 0.58755, 0.39328, 0.400188]\n",
    "PCA_MNIST_NMI = [0.426956,0.594157,0.645962,0.489121,0.528955]\n",
    "\n",
    "\n",
    "PCA_FMNIST_Fscore = [0.592528,0.686799,0.643216,0.537525,0.551863]\n",
    "PCA_FMNIST_ARI = [0.405018,0.525638,0.468767,0.391458,0.298914]\n",
    "PCA_FMNIST_NMI = [0.540378,0.625705,0.570878,0.521743,0.497531]\n",
    "\n",
    "\n",
    "AE_MNIST_Fscore = [0.878381,0.861547,0.880494,0.842948,0.520227]\n",
    "AE_MNIST_ARI = [0.773054,0.773402,0.761737,0.717883,0.400188]\n",
    "AE_MNIST_NMI = [0.811949,0.811684,0.788283,0.76189,0.528955]\n",
    "\n",
    "\n",
    "AE_FMNIST_Fscore = [0.647393,0.607032,0.568869,0.650498,0.551863]\n",
    "AE_FMNIST_ARI = [0.488301,0.460438,0.473076,0.480637,0.298914]\n",
    "AE_FMNIST_NMI = [0.613516,0.58677,0.611091,0.613325,0.497531]\n",
    "\n",
    "def plot(Fscore,ARI,NMI,sv_name):\n",
    "    labels = ['5', '10', '20', '30', '784']\n",
    "    x = np.arange(len(labels))  # the label locations\n",
    "    width = 0.2  # the width of the bars\n",
    "\n",
    "    fig, ax = plt.subplots()\n",
    "    rects1 = ax.bar(x - width, Fscore, width, label='Fscore')\n",
    "    rects2 = ax.bar(x , ARI, width, label='ARI')\n",
    "    rects3 = ax.bar(x + width, NMI, width, label='NMI')\n",
    "\n",
    "    # Add some text for labels, title and custom x-axis tick labels, etc.\n",
    "    # ax.set_ylabel('Scores')\n",
    "    # ax.set_title('Scores by group and gender')\n",
    "    ax.set_xticks(x)\n",
    "    ax.set_xticklabels(labels)\n",
    "    ax.legend()\n",
    "\n",
    "    def autolabel(rects):\n",
    "        \"\"\"Attach a text label above each bar in *rects*, displaying its height.\"\"\"\n",
    "        for rect in rects:\n",
    "            height = rect.get_height()\n",
    "            ax.annotate('{:.2f}'.format(height),\n",
    "                        xy=(rect.get_x() + rect.get_width() / 2, height),\n",
    "                        xytext=(0, 3),  # 3 points vertical offset\n",
    "                        textcoords=\"offset points\",\n",
    "                        ha='center', va='bottom')\n",
    "\n",
    "\n",
    "    autolabel(rects1)\n",
    "    autolabel(rects2)\n",
    "    autolabel(rects3)\n",
    "\n",
    "    fig.tight_layout()\n",
    "    plt.savefig('{}.png'.format(sv_name),bbox_inches = 'tight')\n",
    "    plt.show()"
   ]
  },
  {
   "cell_type": "code",
   "execution_count": 53,
   "metadata": {
    "hidden": true
   },
   "outputs": [
    {
     "data": {
      "image/png": "[encoded data removed]",
      "text/plain": [
       "<Figure size 432x288 with 1 Axes>"
      ]
     },
     "metadata": {
      "needs_background": "light"
     },
     "output_type": "display_data"
    }
   ],
   "source": [
    "plot(PCA_MNIST_Fscore,PCA_MNIST_ARI,PCA_MNIST_NMI,'PCA_MNIST')"
   ]
  },
  {
   "cell_type": "code",
   "execution_count": 54,
   "metadata": {
    "hidden": true
   },
   "outputs": [
    {
     "data": {
      "image/png": "[encoded data removed]",
      "text/plain": [
       "<Figure size 432x288 with 1 Axes>"
      ]
     },
     "metadata": {
      "needs_background": "light"
     },
     "output_type": "display_data"
    }
   ],
   "source": [
    "plot(PCA_FMNIST_Fscore,PCA_FMNIST_ARI,PCA_FMNIST_NMI,'PCA_FMNIST')"
   ]
  },
  {
   "cell_type": "code",
   "execution_count": 55,
   "metadata": {
    "hidden": true
   },
   "outputs": [
    {
     "data": {
      "image/png": "[encoded data removed]",
      "text/plain": [
       "<Figure size 432x288 with 1 Axes>"
      ]
     },
     "metadata": {
      "needs_background": "light"
     },
     "output_type": "display_data"
    }
   ],
   "source": [
    "plot(AE_MNIST_Fscore,AE_MNIST_ARI,AE_MNIST_NMI,'AE_MNIST')"
   ]
  },
  {
   "cell_type": "code",
   "execution_count": 56,
   "metadata": {
    "hidden": true,
    "scrolled": true
   },
   "outputs": [
    {
     "data": {
      "image/png": "[encoded data removed]",
      "text/plain": [
       "<Figure size 432x288 with 1 Axes>"
      ]
     },
     "metadata": {
      "needs_background": "light"
     },
     "output_type": "display_data"
    }
   ],
   "source": [
    "plot(AE_FMNIST_Fscore,AE_FMNIST_ARI,AE_FMNIST_NMI,'AE_FMNIST')"
   ]
  },
  {
   "cell_type": "markdown",
   "metadata": {
    "heading_collapsed": true
   },
   "source": [
    "# K-means"
   ]
  },
  {
   "cell_type": "code",
   "execution_count": 57,
   "metadata": {
    "hidden": true
   },
   "outputs": [],
   "source": [
    "from sklearn.cluster import KMeans"
   ]
  },
  {
   "cell_type": "markdown",
   "metadata": {
    "hidden": true
   },
   "source": [
    "## PCA_MNIST"
   ]
  },
  {
   "cell_type": "code",
   "execution_count": 58,
   "metadata": {
    "hidden": true
   },
   "outputs": [
    {
     "name": "stdout",
     "output_type": "stream",
     "text": [
      "2.8482372760772705\n"
     ]
    },
    {
     "data": {
      "text/html": [
       "<div>\n",
       "<style scoped>\n",
       "    .dataframe tbody tr th:only-of-type {\n",
       "        vertical-align: middle;\n",
       "    }\n",
       "\n",
       "    .dataframe tbody tr th {\n",
       "        vertical-align: top;\n",
       "    }\n",
       "\n",
       "    .dataframe thead th {\n",
       "        text-align: right;\n",
       "    }\n",
       "</style>\n",
       "<table border=\"1\" class=\"dataframe\">\n",
       "  <thead>\n",
       "    <tr style=\"text-align: right;\">\n",
       "      <th></th>\n",
       "      <th>f1</th>\n",
       "      <th>ARI</th>\n",
       "      <th>ACC</th>\n",
       "      <th>NMI</th>\n",
       "      <th>cover_rate</th>\n",
       "      <th>classes</th>\n",
       "    </tr>\n",
       "  </thead>\n",
       "  <tbody>\n",
       "    <tr>\n",
       "      <th>0</th>\n",
       "      <td>0.419655</td>\n",
       "      <td>0.299388</td>\n",
       "      <td>0.4413</td>\n",
       "      <td>0.421465</td>\n",
       "      <td>1.0</td>\n",
       "      <td>10.0</td>\n",
       "    </tr>\n",
       "  </tbody>\n",
       "</table>\n",
       "</div>"
      ],
      "text/plain": [
       "         f1       ARI     ACC       NMI  cover_rate  classes\n",
       "0  0.419655  0.299388  0.4413  0.421465         1.0     10.0"
      ]
     },
     "execution_count": 58,
     "metadata": {},
     "output_type": "execute_result"
    }
   ],
   "source": [
    "X_raw,X,Y_true=DataLoader.load('PCA_MNIST_5')\n",
    "\n",
    "t1=time.time()\n",
    "kmeans = KMeans(n_clusters=10, random_state=2021).fit(X)\n",
    "Y_pred = kmeans.labels_\n",
    "t2=time.time()\n",
    "print(t2-t1)\n",
    "\n",
    "Y_pred,Y_true=matchY(Y_pred,Y_true)\n",
    "result=measures_calculator(Y_true,Y_pred)\n",
    "result"
   ]
  },
  {
   "cell_type": "code",
   "execution_count": 59,
   "metadata": {
    "hidden": true
   },
   "outputs": [
    {
     "name": "stdout",
     "output_type": "stream",
     "text": [
      "2.647979497909546\n"
     ]
    },
    {
     "data": {
      "text/html": [
       "<div>\n",
       "<style scoped>\n",
       "    .dataframe tbody tr th:only-of-type {\n",
       "        vertical-align: middle;\n",
       "    }\n",
       "\n",
       "    .dataframe tbody tr th {\n",
       "        vertical-align: top;\n",
       "    }\n",
       "\n",
       "    .dataframe thead th {\n",
       "        text-align: right;\n",
       "    }\n",
       "</style>\n",
       "<table border=\"1\" class=\"dataframe\">\n",
       "  <thead>\n",
       "    <tr style=\"text-align: right;\">\n",
       "      <th></th>\n",
       "      <th>f1</th>\n",
       "      <th>ARI</th>\n",
       "      <th>ACC</th>\n",
       "      <th>NMI</th>\n",
       "      <th>cover_rate</th>\n",
       "      <th>classes</th>\n",
       "    </tr>\n",
       "  </thead>\n",
       "  <tbody>\n",
       "    <tr>\n",
       "      <th>0</th>\n",
       "      <td>0.498879</td>\n",
       "      <td>0.336072</td>\n",
       "      <td>0.500033</td>\n",
       "      <td>0.465334</td>\n",
       "      <td>1.0</td>\n",
       "      <td>10.0</td>\n",
       "    </tr>\n",
       "  </tbody>\n",
       "</table>\n",
       "</div>"
      ],
      "text/plain": [
       "         f1       ARI       ACC       NMI  cover_rate  classes\n",
       "0  0.498879  0.336072  0.500033  0.465334         1.0     10.0"
      ]
     },
     "execution_count": 59,
     "metadata": {},
     "output_type": "execute_result"
    }
   ],
   "source": [
    "X_raw,X,Y_true=DataLoader.load('PCA_MNIST_10')\n",
    "\n",
    "t1=time.time()\n",
    "kmeans = KMeans(n_clusters=10, random_state=2021).fit(X)\n",
    "Y_pred = kmeans.labels_\n",
    "t2=time.time()\n",
    "print(t2-t1)\n",
    "\n",
    "Y_pred,Y_true=matchY(Y_pred,Y_true)\n",
    "result=measures_calculator(Y_true,Y_pred)\n",
    "result"
   ]
  },
  {
   "cell_type": "code",
   "execution_count": 60,
   "metadata": {
    "hidden": true
   },
   "outputs": [
    {
     "name": "stdout",
     "output_type": "stream",
     "text": [
      "3.0825865268707275\n"
     ]
    },
    {
     "data": {
      "text/html": [
       "<div>\n",
       "<style scoped>\n",
       "    .dataframe tbody tr th:only-of-type {\n",
       "        vertical-align: middle;\n",
       "    }\n",
       "\n",
       "    .dataframe tbody tr th {\n",
       "        vertical-align: top;\n",
       "    }\n",
       "\n",
       "    .dataframe thead th {\n",
       "        text-align: right;\n",
       "    }\n",
       "</style>\n",
       "<table border=\"1\" class=\"dataframe\">\n",
       "  <thead>\n",
       "    <tr style=\"text-align: right;\">\n",
       "      <th></th>\n",
       "      <th>f1</th>\n",
       "      <th>ARI</th>\n",
       "      <th>ACC</th>\n",
       "      <th>NMI</th>\n",
       "      <th>cover_rate</th>\n",
       "      <th>classes</th>\n",
       "    </tr>\n",
       "  </thead>\n",
       "  <tbody>\n",
       "    <tr>\n",
       "      <th>0</th>\n",
       "      <td>0.467717</td>\n",
       "      <td>0.354218</td>\n",
       "      <td>0.468983</td>\n",
       "      <td>0.48782</td>\n",
       "      <td>1.0</td>\n",
       "      <td>10.0</td>\n",
       "    </tr>\n",
       "  </tbody>\n",
       "</table>\n",
       "</div>"
      ],
      "text/plain": [
       "         f1       ARI       ACC      NMI  cover_rate  classes\n",
       "0  0.467717  0.354218  0.468983  0.48782         1.0     10.0"
      ]
     },
     "execution_count": 60,
     "metadata": {},
     "output_type": "execute_result"
    }
   ],
   "source": [
    "X_raw,X,Y_true=DataLoader.load('PCA_MNIST_20')\n",
    "\n",
    "t1=time.time()\n",
    "kmeans = KMeans(n_clusters=10, random_state=2021).fit(X)\n",
    "Y_pred = kmeans.labels_\n",
    "t2=time.time()\n",
    "print(t2-t1)\n",
    "\n",
    "Y_pred,Y_true=matchY(Y_pred,Y_true)\n",
    "result=measures_calculator(Y_true,Y_pred)\n",
    "result"
   ]
  },
  {
   "cell_type": "code",
   "execution_count": 61,
   "metadata": {
    "hidden": true
   },
   "outputs": [
    {
     "name": "stdout",
     "output_type": "stream",
     "text": [
      "5.204756021499634\n"
     ]
    },
    {
     "data": {
      "text/html": [
       "<div>\n",
       "<style scoped>\n",
       "    .dataframe tbody tr th:only-of-type {\n",
       "        vertical-align: middle;\n",
       "    }\n",
       "\n",
       "    .dataframe tbody tr th {\n",
       "        vertical-align: top;\n",
       "    }\n",
       "\n",
       "    .dataframe thead th {\n",
       "        text-align: right;\n",
       "    }\n",
       "</style>\n",
       "<table border=\"1\" class=\"dataframe\">\n",
       "  <thead>\n",
       "    <tr style=\"text-align: right;\">\n",
       "      <th></th>\n",
       "      <th>f1</th>\n",
       "      <th>ARI</th>\n",
       "      <th>ACC</th>\n",
       "      <th>NMI</th>\n",
       "      <th>cover_rate</th>\n",
       "      <th>classes</th>\n",
       "    </tr>\n",
       "  </thead>\n",
       "  <tbody>\n",
       "    <tr>\n",
       "      <th>0</th>\n",
       "      <td>0.501209</td>\n",
       "      <td>0.358358</td>\n",
       "      <td>0.506267</td>\n",
       "      <td>0.487398</td>\n",
       "      <td>1.0</td>\n",
       "      <td>10.0</td>\n",
       "    </tr>\n",
       "  </tbody>\n",
       "</table>\n",
       "</div>"
      ],
      "text/plain": [
       "         f1       ARI       ACC       NMI  cover_rate  classes\n",
       "0  0.501209  0.358358  0.506267  0.487398         1.0     10.0"
      ]
     },
     "execution_count": 61,
     "metadata": {},
     "output_type": "execute_result"
    }
   ],
   "source": [
    "X_raw,X,Y_true=DataLoader.load('PCA_MNIST_30')\n",
    "\n",
    "t1=time.time()\n",
    "kmeans = KMeans(n_clusters=10, random_state=2021).fit(X)\n",
    "Y_pred = kmeans.labels_\n",
    "t2=time.time()\n",
    "print(t2-t1)\n",
    "\n",
    "Y_pred,Y_true=matchY(Y_pred,Y_true)\n",
    "result=measures_calculator(Y_true,Y_pred)\n",
    "result"
   ]
  },
  {
   "cell_type": "markdown",
   "metadata": {
    "hidden": true
   },
   "source": [
    "## PCA_FMNIST"
   ]
  },
  {
   "cell_type": "code",
   "execution_count": 62,
   "metadata": {
    "hidden": true
   },
   "outputs": [
    {
     "name": "stdout",
     "output_type": "stream",
     "text": [
      "2.8158509731292725\n"
     ]
    },
    {
     "data": {
      "text/html": [
       "<div>\n",
       "<style scoped>\n",
       "    .dataframe tbody tr th:only-of-type {\n",
       "        vertical-align: middle;\n",
       "    }\n",
       "\n",
       "    .dataframe tbody tr th {\n",
       "        vertical-align: top;\n",
       "    }\n",
       "\n",
       "    .dataframe thead th {\n",
       "        text-align: right;\n",
       "    }\n",
       "</style>\n",
       "<table border=\"1\" class=\"dataframe\">\n",
       "  <thead>\n",
       "    <tr style=\"text-align: right;\">\n",
       "      <th></th>\n",
       "      <th>f1</th>\n",
       "      <th>ARI</th>\n",
       "      <th>ACC</th>\n",
       "      <th>NMI</th>\n",
       "      <th>cover_rate</th>\n",
       "      <th>classes</th>\n",
       "    </tr>\n",
       "  </thead>\n",
       "  <tbody>\n",
       "    <tr>\n",
       "      <th>0</th>\n",
       "      <td>0.492665</td>\n",
       "      <td>0.353489</td>\n",
       "      <td>0.5091</td>\n",
       "      <td>0.500618</td>\n",
       "      <td>1.0</td>\n",
       "      <td>10.0</td>\n",
       "    </tr>\n",
       "  </tbody>\n",
       "</table>\n",
       "</div>"
      ],
      "text/plain": [
       "         f1       ARI     ACC       NMI  cover_rate  classes\n",
       "0  0.492665  0.353489  0.5091  0.500618         1.0     10.0"
      ]
     },
     "execution_count": 62,
     "metadata": {},
     "output_type": "execute_result"
    }
   ],
   "source": [
    "X_raw,X,Y_true=DataLoader.load('PCA_FMNIST_5')\n",
    "\n",
    "t1=time.time()\n",
    "kmeans = KMeans(n_clusters=10, random_state=2021).fit(X)\n",
    "Y_pred = kmeans.labels_\n",
    "t2=time.time()\n",
    "print(t2-t1)\n",
    "\n",
    "Y_pred,Y_true=matchY(Y_pred,Y_true)\n",
    "result=measures_calculator(Y_true,Y_pred)\n",
    "result"
   ]
  },
  {
   "cell_type": "code",
   "execution_count": 63,
   "metadata": {
    "hidden": true
   },
   "outputs": [
    {
     "name": "stdout",
     "output_type": "stream",
     "text": [
      "2.8114194869995117\n"
     ]
    },
    {
     "data": {
      "text/html": [
       "<div>\n",
       "<style scoped>\n",
       "    .dataframe tbody tr th:only-of-type {\n",
       "        vertical-align: middle;\n",
       "    }\n",
       "\n",
       "    .dataframe tbody tr th {\n",
       "        vertical-align: top;\n",
       "    }\n",
       "\n",
       "    .dataframe thead th {\n",
       "        text-align: right;\n",
       "    }\n",
       "</style>\n",
       "<table border=\"1\" class=\"dataframe\">\n",
       "  <thead>\n",
       "    <tr style=\"text-align: right;\">\n",
       "      <th></th>\n",
       "      <th>f1</th>\n",
       "      <th>ARI</th>\n",
       "      <th>ACC</th>\n",
       "      <th>NMI</th>\n",
       "      <th>cover_rate</th>\n",
       "      <th>classes</th>\n",
       "    </tr>\n",
       "  </thead>\n",
       "  <tbody>\n",
       "    <tr>\n",
       "      <th>0</th>\n",
       "      <td>0.515958</td>\n",
       "      <td>0.372107</td>\n",
       "      <td>0.538083</td>\n",
       "      <td>0.509713</td>\n",
       "      <td>1.0</td>\n",
       "      <td>10.0</td>\n",
       "    </tr>\n",
       "  </tbody>\n",
       "</table>\n",
       "</div>"
      ],
      "text/plain": [
       "         f1       ARI       ACC       NMI  cover_rate  classes\n",
       "0  0.515958  0.372107  0.538083  0.509713         1.0     10.0"
      ]
     },
     "execution_count": 63,
     "metadata": {},
     "output_type": "execute_result"
    }
   ],
   "source": [
    "X_raw,X,Y_true=DataLoader.load('PCA_FMNIST_10')\n",
    "\n",
    "t1=time.time()\n",
    "kmeans = KMeans(n_clusters=10, random_state=2021).fit(X)\n",
    "Y_pred = kmeans.labels_\n",
    "t2=time.time()\n",
    "print(t2-t1)\n",
    "\n",
    "Y_pred,Y_true=matchY(Y_pred,Y_true)\n",
    "result=measures_calculator(Y_true,Y_pred)\n",
    "result"
   ]
  },
  {
   "cell_type": "code",
   "execution_count": 64,
   "metadata": {
    "hidden": true
   },
   "outputs": [
    {
     "name": "stdout",
     "output_type": "stream",
     "text": [
      "2.681121587753296\n"
     ]
    },
    {
     "data": {
      "text/html": [
       "<div>\n",
       "<style scoped>\n",
       "    .dataframe tbody tr th:only-of-type {\n",
       "        vertical-align: middle;\n",
       "    }\n",
       "\n",
       "    .dataframe tbody tr th {\n",
       "        vertical-align: top;\n",
       "    }\n",
       "\n",
       "    .dataframe thead th {\n",
       "        text-align: right;\n",
       "    }\n",
       "</style>\n",
       "<table border=\"1\" class=\"dataframe\">\n",
       "  <thead>\n",
       "    <tr style=\"text-align: right;\">\n",
       "      <th></th>\n",
       "      <th>f1</th>\n",
       "      <th>ARI</th>\n",
       "      <th>ACC</th>\n",
       "      <th>NMI</th>\n",
       "      <th>cover_rate</th>\n",
       "      <th>classes</th>\n",
       "    </tr>\n",
       "  </thead>\n",
       "  <tbody>\n",
       "    <tr>\n",
       "      <th>0</th>\n",
       "      <td>0.387934</td>\n",
       "      <td>0.347113</td>\n",
       "      <td>0.43295</td>\n",
       "      <td>0.510647</td>\n",
       "      <td>1.0</td>\n",
       "      <td>10.0</td>\n",
       "    </tr>\n",
       "  </tbody>\n",
       "</table>\n",
       "</div>"
      ],
      "text/plain": [
       "         f1       ARI      ACC       NMI  cover_rate  classes\n",
       "0  0.387934  0.347113  0.43295  0.510647         1.0     10.0"
      ]
     },
     "execution_count": 64,
     "metadata": {},
     "output_type": "execute_result"
    }
   ],
   "source": [
    "X_raw,X,Y_true=DataLoader.load('PCA_FMNIST_20')\n",
    "\n",
    "t1=time.time()\n",
    "kmeans = KMeans(n_clusters=10, random_state=2021).fit(X)\n",
    "Y_pred = kmeans.labels_\n",
    "t2=time.time()\n",
    "print(t2-t1)\n",
    "\n",
    "Y_pred,Y_true=matchY(Y_pred,Y_true)\n",
    "result=measures_calculator(Y_true,Y_pred)\n",
    "result"
   ]
  },
  {
   "cell_type": "code",
   "execution_count": 65,
   "metadata": {
    "hidden": true
   },
   "outputs": [
    {
     "name": "stdout",
     "output_type": "stream",
     "text": [
      "4.433551549911499\n"
     ]
    },
    {
     "data": {
      "text/html": [
       "<div>\n",
       "<style scoped>\n",
       "    .dataframe tbody tr th:only-of-type {\n",
       "        vertical-align: middle;\n",
       "    }\n",
       "\n",
       "    .dataframe tbody tr th {\n",
       "        vertical-align: top;\n",
       "    }\n",
       "\n",
       "    .dataframe thead th {\n",
       "        text-align: right;\n",
       "    }\n",
       "</style>\n",
       "<table border=\"1\" class=\"dataframe\">\n",
       "  <thead>\n",
       "    <tr style=\"text-align: right;\">\n",
       "      <th></th>\n",
       "      <th>f1</th>\n",
       "      <th>ARI</th>\n",
       "      <th>ACC</th>\n",
       "      <th>NMI</th>\n",
       "      <th>cover_rate</th>\n",
       "      <th>classes</th>\n",
       "    </tr>\n",
       "  </thead>\n",
       "  <tbody>\n",
       "    <tr>\n",
       "      <th>0</th>\n",
       "      <td>0.3879</td>\n",
       "      <td>0.347575</td>\n",
       "      <td>0.432867</td>\n",
       "      <td>0.511254</td>\n",
       "      <td>1.0</td>\n",
       "      <td>10.0</td>\n",
       "    </tr>\n",
       "  </tbody>\n",
       "</table>\n",
       "</div>"
      ],
      "text/plain": [
       "       f1       ARI       ACC       NMI  cover_rate  classes\n",
       "0  0.3879  0.347575  0.432867  0.511254         1.0     10.0"
      ]
     },
     "execution_count": 65,
     "metadata": {},
     "output_type": "execute_result"
    }
   ],
   "source": [
    "X_raw,X,Y_true=DataLoader.load('PCA_FMNIST_30')\n",
    "\n",
    "t1=time.time()\n",
    "kmeans = KMeans(n_clusters=10, random_state=2021).fit(X)\n",
    "Y_pred = kmeans.labels_\n",
    "t2=time.time()\n",
    "print(t2-t1)\n",
    "\n",
    "Y_pred,Y_true=matchY(Y_pred,Y_true)\n",
    "result=measures_calculator(Y_true,Y_pred)\n",
    "result"
   ]
  },
  {
   "cell_type": "markdown",
   "metadata": {
    "hidden": true
   },
   "source": [
    "## AE_MNIST"
   ]
  },
  {
   "cell_type": "code",
   "execution_count": 66,
   "metadata": {
    "hidden": true
   },
   "outputs": [
    {
     "name": "stdout",
     "output_type": "stream",
     "text": [
      "1.9161090850830078\n"
     ]
    },
    {
     "data": {
      "text/html": [
       "<div>\n",
       "<style scoped>\n",
       "    .dataframe tbody tr th:only-of-type {\n",
       "        vertical-align: middle;\n",
       "    }\n",
       "\n",
       "    .dataframe tbody tr th {\n",
       "        vertical-align: top;\n",
       "    }\n",
       "\n",
       "    .dataframe thead th {\n",
       "        text-align: right;\n",
       "    }\n",
       "</style>\n",
       "<table border=\"1\" class=\"dataframe\">\n",
       "  <thead>\n",
       "    <tr style=\"text-align: right;\">\n",
       "      <th></th>\n",
       "      <th>f1</th>\n",
       "      <th>ARI</th>\n",
       "      <th>ACC</th>\n",
       "      <th>NMI</th>\n",
       "      <th>cover_rate</th>\n",
       "      <th>classes</th>\n",
       "    </tr>\n",
       "  </thead>\n",
       "  <tbody>\n",
       "    <tr>\n",
       "      <th>0</th>\n",
       "      <td>0.721353</td>\n",
       "      <td>0.62182</td>\n",
       "      <td>0.735883</td>\n",
       "      <td>0.71435</td>\n",
       "      <td>1.0</td>\n",
       "      <td>10.0</td>\n",
       "    </tr>\n",
       "  </tbody>\n",
       "</table>\n",
       "</div>"
      ],
      "text/plain": [
       "         f1      ARI       ACC      NMI  cover_rate  classes\n",
       "0  0.721353  0.62182  0.735883  0.71435         1.0     10.0"
      ]
     },
     "execution_count": 66,
     "metadata": {},
     "output_type": "execute_result"
    }
   ],
   "source": [
    "X_raw,X,Y_true=DataLoader.load('AE_MNIST_5')\n",
    "\n",
    "t1=time.time()\n",
    "kmeans = KMeans(n_clusters=10, random_state=2021).fit(X)\n",
    "Y_pred = kmeans.labels_\n",
    "t2=time.time()\n",
    "print(t2-t1)\n",
    "\n",
    "Y_pred,Y_true=matchY(Y_pred,Y_true)\n",
    "result=measures_calculator(Y_true,Y_pred)\n",
    "result"
   ]
  },
  {
   "cell_type": "code",
   "execution_count": 67,
   "metadata": {
    "hidden": true
   },
   "outputs": [
    {
     "name": "stdout",
     "output_type": "stream",
     "text": [
      "1.9647939205169678\n"
     ]
    },
    {
     "data": {
      "text/html": [
       "<div>\n",
       "<style scoped>\n",
       "    .dataframe tbody tr th:only-of-type {\n",
       "        vertical-align: middle;\n",
       "    }\n",
       "\n",
       "    .dataframe tbody tr th {\n",
       "        vertical-align: top;\n",
       "    }\n",
       "\n",
       "    .dataframe thead th {\n",
       "        text-align: right;\n",
       "    }\n",
       "</style>\n",
       "<table border=\"1\" class=\"dataframe\">\n",
       "  <thead>\n",
       "    <tr style=\"text-align: right;\">\n",
       "      <th></th>\n",
       "      <th>f1</th>\n",
       "      <th>ARI</th>\n",
       "      <th>ACC</th>\n",
       "      <th>NMI</th>\n",
       "      <th>cover_rate</th>\n",
       "      <th>classes</th>\n",
       "    </tr>\n",
       "  </thead>\n",
       "  <tbody>\n",
       "    <tr>\n",
       "      <th>0</th>\n",
       "      <td>0.775986</td>\n",
       "      <td>0.65202</td>\n",
       "      <td>0.775783</td>\n",
       "      <td>0.712063</td>\n",
       "      <td>1.0</td>\n",
       "      <td>10.0</td>\n",
       "    </tr>\n",
       "  </tbody>\n",
       "</table>\n",
       "</div>"
      ],
      "text/plain": [
       "         f1      ARI       ACC       NMI  cover_rate  classes\n",
       "0  0.775986  0.65202  0.775783  0.712063         1.0     10.0"
      ]
     },
     "execution_count": 67,
     "metadata": {},
     "output_type": "execute_result"
    }
   ],
   "source": [
    "X_raw,X,Y_true=DataLoader.load('AE_MNIST_10')\n",
    "\n",
    "t1=time.time()\n",
    "kmeans = KMeans(n_clusters=10, random_state=2021).fit(X)\n",
    "Y_pred = kmeans.labels_\n",
    "t2=time.time()\n",
    "print(t2-t1)\n",
    "\n",
    "Y_pred,Y_true=matchY(Y_pred,Y_true)\n",
    "result=measures_calculator(Y_true,Y_pred)\n",
    "result"
   ]
  },
  {
   "cell_type": "code",
   "execution_count": 68,
   "metadata": {
    "hidden": true
   },
   "outputs": [
    {
     "name": "stdout",
     "output_type": "stream",
     "text": [
      "3.120332956314087\n"
     ]
    },
    {
     "data": {
      "text/html": [
       "<div>\n",
       "<style scoped>\n",
       "    .dataframe tbody tr th:only-of-type {\n",
       "        vertical-align: middle;\n",
       "    }\n",
       "\n",
       "    .dataframe tbody tr th {\n",
       "        vertical-align: top;\n",
       "    }\n",
       "\n",
       "    .dataframe thead th {\n",
       "        text-align: right;\n",
       "    }\n",
       "</style>\n",
       "<table border=\"1\" class=\"dataframe\">\n",
       "  <thead>\n",
       "    <tr style=\"text-align: right;\">\n",
       "      <th></th>\n",
       "      <th>f1</th>\n",
       "      <th>ARI</th>\n",
       "      <th>ACC</th>\n",
       "      <th>NMI</th>\n",
       "      <th>cover_rate</th>\n",
       "      <th>classes</th>\n",
       "    </tr>\n",
       "  </thead>\n",
       "  <tbody>\n",
       "    <tr>\n",
       "      <th>0</th>\n",
       "      <td>0.519486</td>\n",
       "      <td>0.410576</td>\n",
       "      <td>0.532267</td>\n",
       "      <td>0.549191</td>\n",
       "      <td>1.0</td>\n",
       "      <td>10.0</td>\n",
       "    </tr>\n",
       "  </tbody>\n",
       "</table>\n",
       "</div>"
      ],
      "text/plain": [
       "         f1       ARI       ACC       NMI  cover_rate  classes\n",
       "0  0.519486  0.410576  0.532267  0.549191         1.0     10.0"
      ]
     },
     "execution_count": 68,
     "metadata": {},
     "output_type": "execute_result"
    }
   ],
   "source": [
    "X_raw,X,Y_true=DataLoader.load('AE_MNIST_20')\n",
    "\n",
    "t1=time.time()\n",
    "kmeans = KMeans(n_clusters=10, random_state=2021).fit(X)\n",
    "Y_pred = kmeans.labels_\n",
    "t2=time.time()\n",
    "print(t2-t1)\n",
    "\n",
    "Y_pred,Y_true=matchY(Y_pred,Y_true)\n",
    "result=measures_calculator(Y_true,Y_pred)\n",
    "result"
   ]
  },
  {
   "cell_type": "code",
   "execution_count": 69,
   "metadata": {
    "hidden": true
   },
   "outputs": [
    {
     "name": "stdout",
     "output_type": "stream",
     "text": [
      "3.2482995986938477\n"
     ]
    },
    {
     "data": {
      "text/html": [
       "<div>\n",
       "<style scoped>\n",
       "    .dataframe tbody tr th:only-of-type {\n",
       "        vertical-align: middle;\n",
       "    }\n",
       "\n",
       "    .dataframe tbody tr th {\n",
       "        vertical-align: top;\n",
       "    }\n",
       "\n",
       "    .dataframe thead th {\n",
       "        text-align: right;\n",
       "    }\n",
       "</style>\n",
       "<table border=\"1\" class=\"dataframe\">\n",
       "  <thead>\n",
       "    <tr style=\"text-align: right;\">\n",
       "      <th></th>\n",
       "      <th>f1</th>\n",
       "      <th>ARI</th>\n",
       "      <th>ACC</th>\n",
       "      <th>NMI</th>\n",
       "      <th>cover_rate</th>\n",
       "      <th>classes</th>\n",
       "    </tr>\n",
       "  </thead>\n",
       "  <tbody>\n",
       "    <tr>\n",
       "      <th>0</th>\n",
       "      <td>0.485933</td>\n",
       "      <td>0.359742</td>\n",
       "      <td>0.493017</td>\n",
       "      <td>0.496313</td>\n",
       "      <td>1.0</td>\n",
       "      <td>10.0</td>\n",
       "    </tr>\n",
       "  </tbody>\n",
       "</table>\n",
       "</div>"
      ],
      "text/plain": [
       "         f1       ARI       ACC       NMI  cover_rate  classes\n",
       "0  0.485933  0.359742  0.493017  0.496313         1.0     10.0"
      ]
     },
     "execution_count": 69,
     "metadata": {},
     "output_type": "execute_result"
    }
   ],
   "source": [
    "X_raw,X,Y_true=DataLoader.load('AE_MNIST_30')\n",
    "\n",
    "t1=time.time()\n",
    "kmeans = KMeans(n_clusters=10, random_state=2021).fit(X)\n",
    "Y_pred = kmeans.labels_\n",
    "t2=time.time()\n",
    "print(t2-t1)\n",
    "\n",
    "Y_pred,Y_true=matchY(Y_pred,Y_true)\n",
    "result=measures_calculator(Y_true,Y_pred)\n",
    "result"
   ]
  },
  {
   "cell_type": "markdown",
   "metadata": {
    "hidden": true
   },
   "source": [
    "## AE_FMNIST"
   ]
  },
  {
   "cell_type": "code",
   "execution_count": 70,
   "metadata": {
    "hidden": true
   },
   "outputs": [
    {
     "name": "stdout",
     "output_type": "stream",
     "text": [
      "2.752959966659546\n"
     ]
    },
    {
     "data": {
      "text/html": [
       "<div>\n",
       "<style scoped>\n",
       "    .dataframe tbody tr th:only-of-type {\n",
       "        vertical-align: middle;\n",
       "    }\n",
       "\n",
       "    .dataframe tbody tr th {\n",
       "        vertical-align: top;\n",
       "    }\n",
       "\n",
       "    .dataframe thead th {\n",
       "        text-align: right;\n",
       "    }\n",
       "</style>\n",
       "<table border=\"1\" class=\"dataframe\">\n",
       "  <thead>\n",
       "    <tr style=\"text-align: right;\">\n",
       "      <th></th>\n",
       "      <th>f1</th>\n",
       "      <th>ARI</th>\n",
       "      <th>ACC</th>\n",
       "      <th>NMI</th>\n",
       "      <th>cover_rate</th>\n",
       "      <th>classes</th>\n",
       "    </tr>\n",
       "  </thead>\n",
       "  <tbody>\n",
       "    <tr>\n",
       "      <th>0</th>\n",
       "      <td>0.39582</td>\n",
       "      <td>0.443253</td>\n",
       "      <td>0.4466</td>\n",
       "      <td>0.622007</td>\n",
       "      <td>1.0</td>\n",
       "      <td>10.0</td>\n",
       "    </tr>\n",
       "  </tbody>\n",
       "</table>\n",
       "</div>"
      ],
      "text/plain": [
       "        f1       ARI     ACC       NMI  cover_rate  classes\n",
       "0  0.39582  0.443253  0.4466  0.622007         1.0     10.0"
      ]
     },
     "execution_count": 70,
     "metadata": {},
     "output_type": "execute_result"
    }
   ],
   "source": [
    "X_raw,X,Y_true=DataLoader.load('AE_FMNIST_5')\n",
    "\n",
    "t1=time.time()\n",
    "kmeans = KMeans(n_clusters=10, random_state=2021).fit(X)\n",
    "Y_pred = kmeans.labels_\n",
    "t2=time.time()\n",
    "print(t2-t1)\n",
    "\n",
    "Y_pred,Y_true=matchY(Y_pred,Y_true)\n",
    "result=measures_calculator(Y_true,Y_pred)\n",
    "result"
   ]
  },
  {
   "cell_type": "code",
   "execution_count": 71,
   "metadata": {
    "hidden": true
   },
   "outputs": [
    {
     "name": "stdout",
     "output_type": "stream",
     "text": [
      "2.933946371078491\n"
     ]
    },
    {
     "data": {
      "text/html": [
       "<div>\n",
       "<style scoped>\n",
       "    .dataframe tbody tr th:only-of-type {\n",
       "        vertical-align: middle;\n",
       "    }\n",
       "\n",
       "    .dataframe tbody tr th {\n",
       "        vertical-align: top;\n",
       "    }\n",
       "\n",
       "    .dataframe thead th {\n",
       "        text-align: right;\n",
       "    }\n",
       "</style>\n",
       "<table border=\"1\" class=\"dataframe\">\n",
       "  <thead>\n",
       "    <tr style=\"text-align: right;\">\n",
       "      <th></th>\n",
       "      <th>f1</th>\n",
       "      <th>ARI</th>\n",
       "      <th>ACC</th>\n",
       "      <th>NMI</th>\n",
       "      <th>cover_rate</th>\n",
       "      <th>classes</th>\n",
       "    </tr>\n",
       "  </thead>\n",
       "  <tbody>\n",
       "    <tr>\n",
       "      <th>0</th>\n",
       "      <td>0.546557</td>\n",
       "      <td>0.437583</td>\n",
       "      <td>0.562833</td>\n",
       "      <td>0.604287</td>\n",
       "      <td>1.0</td>\n",
       "      <td>10.0</td>\n",
       "    </tr>\n",
       "  </tbody>\n",
       "</table>\n",
       "</div>"
      ],
      "text/plain": [
       "         f1       ARI       ACC       NMI  cover_rate  classes\n",
       "0  0.546557  0.437583  0.562833  0.604287         1.0     10.0"
      ]
     },
     "execution_count": 71,
     "metadata": {},
     "output_type": "execute_result"
    }
   ],
   "source": [
    "X_raw,X,Y_true=DataLoader.load('AE_FMNIST_10')\n",
    "\n",
    "t1=time.time()\n",
    "kmeans = KMeans(n_clusters=10, random_state=2021).fit(X)\n",
    "Y_pred = kmeans.labels_\n",
    "t2=time.time()\n",
    "print(t2-t1)\n",
    "\n",
    "Y_pred,Y_true=matchY(Y_pred,Y_true)\n",
    "result=measures_calculator(Y_true,Y_pred)\n",
    "result"
   ]
  },
  {
   "cell_type": "code",
   "execution_count": 72,
   "metadata": {
    "hidden": true
   },
   "outputs": [
    {
     "name": "stdout",
     "output_type": "stream",
     "text": [
      "2.3604626655578613\n"
     ]
    },
    {
     "data": {
      "text/html": [
       "<div>\n",
       "<style scoped>\n",
       "    .dataframe tbody tr th:only-of-type {\n",
       "        vertical-align: middle;\n",
       "    }\n",
       "\n",
       "    .dataframe tbody tr th {\n",
       "        vertical-align: top;\n",
       "    }\n",
       "\n",
       "    .dataframe thead th {\n",
       "        text-align: right;\n",
       "    }\n",
       "</style>\n",
       "<table border=\"1\" class=\"dataframe\">\n",
       "  <thead>\n",
       "    <tr style=\"text-align: right;\">\n",
       "      <th></th>\n",
       "      <th>f1</th>\n",
       "      <th>ARI</th>\n",
       "      <th>ACC</th>\n",
       "      <th>NMI</th>\n",
       "      <th>cover_rate</th>\n",
       "      <th>classes</th>\n",
       "    </tr>\n",
       "  </thead>\n",
       "  <tbody>\n",
       "    <tr>\n",
       "      <th>0</th>\n",
       "      <td>0.527729</td>\n",
       "      <td>0.423179</td>\n",
       "      <td>0.546183</td>\n",
       "      <td>0.591215</td>\n",
       "      <td>1.0</td>\n",
       "      <td>10.0</td>\n",
       "    </tr>\n",
       "  </tbody>\n",
       "</table>\n",
       "</div>"
      ],
      "text/plain": [
       "         f1       ARI       ACC       NMI  cover_rate  classes\n",
       "0  0.527729  0.423179  0.546183  0.591215         1.0     10.0"
      ]
     },
     "execution_count": 72,
     "metadata": {},
     "output_type": "execute_result"
    }
   ],
   "source": [
    "X_raw,X,Y_true=DataLoader.load('AE_FMNIST_20')\n",
    "\n",
    "t1=time.time()\n",
    "kmeans = KMeans(n_clusters=10, random_state=2021).fit(X)\n",
    "Y_pred = kmeans.labels_\n",
    "t2=time.time()\n",
    "print(t2-t1)\n",
    "\n",
    "Y_pred,Y_true=matchY(Y_pred,Y_true)\n",
    "result=measures_calculator(Y_true,Y_pred)\n",
    "result"
   ]
  },
  {
   "cell_type": "code",
   "execution_count": 73,
   "metadata": {
    "hidden": true
   },
   "outputs": [
    {
     "name": "stdout",
     "output_type": "stream",
     "text": [
      "3.511320114135742\n"
     ]
    },
    {
     "data": {
      "text/html": [
       "<div>\n",
       "<style scoped>\n",
       "    .dataframe tbody tr th:only-of-type {\n",
       "        vertical-align: middle;\n",
       "    }\n",
       "\n",
       "    .dataframe tbody tr th {\n",
       "        vertical-align: top;\n",
       "    }\n",
       "\n",
       "    .dataframe thead th {\n",
       "        text-align: right;\n",
       "    }\n",
       "</style>\n",
       "<table border=\"1\" class=\"dataframe\">\n",
       "  <thead>\n",
       "    <tr style=\"text-align: right;\">\n",
       "      <th></th>\n",
       "      <th>f1</th>\n",
       "      <th>ARI</th>\n",
       "      <th>ACC</th>\n",
       "      <th>NMI</th>\n",
       "      <th>cover_rate</th>\n",
       "      <th>classes</th>\n",
       "    </tr>\n",
       "  </thead>\n",
       "  <tbody>\n",
       "    <tr>\n",
       "      <th>0</th>\n",
       "      <td>0.503655</td>\n",
       "      <td>0.391045</td>\n",
       "      <td>0.519617</td>\n",
       "      <td>0.569532</td>\n",
       "      <td>1.0</td>\n",
       "      <td>10.0</td>\n",
       "    </tr>\n",
       "  </tbody>\n",
       "</table>\n",
       "</div>"
      ],
      "text/plain": [
       "         f1       ARI       ACC       NMI  cover_rate  classes\n",
       "0  0.503655  0.391045  0.519617  0.569532         1.0     10.0"
      ]
     },
     "execution_count": 73,
     "metadata": {},
     "output_type": "execute_result"
    }
   ],
   "source": [
    "X_raw,X,Y_true=DataLoader.load('AE_FMNIST_30')\n",
    "\n",
    "t1=time.time()\n",
    "kmeans = KMeans(n_clusters=10, random_state=2021).fit(X)\n",
    "Y_pred = kmeans.labels_\n",
    "t2=time.time()\n",
    "print(t2-t1)\n",
    "\n",
    "Y_pred,Y_true=matchY(Y_pred,Y_true)\n",
    "result=measures_calculator(Y_true,Y_pred)\n",
    "result"
   ]
  },
  {
   "cell_type": "markdown",
   "metadata": {},
   "source": [
    "# SpectACI"
   ]
  },
  {
   "cell_type": "code",
   "execution_count": 3,
   "metadata": {},
   "outputs": [],
   "source": [
    "from Spectacl import Spectacl"
   ]
  },
  {
   "cell_type": "markdown",
   "metadata": {
    "heading_collapsed": true
   },
   "source": [
    "## PCA_MNIST"
   ]
  },
  {
   "cell_type": "code",
   "execution_count": 7,
   "metadata": {
    "hidden": true
   },
   "outputs": [
    {
     "name": "stdout",
     "output_type": "stream",
     "text": [
      "98.72368478775024\n"
     ]
    },
    {
     "data": {
      "text/html": [
       "<div>\n",
       "<style scoped>\n",
       "    .dataframe tbody tr th:only-of-type {\n",
       "        vertical-align: middle;\n",
       "    }\n",
       "\n",
       "    .dataframe tbody tr th {\n",
       "        vertical-align: top;\n",
       "    }\n",
       "\n",
       "    .dataframe thead th {\n",
       "        text-align: right;\n",
       "    }\n",
       "</style>\n",
       "<table border=\"1\" class=\"dataframe\">\n",
       "  <thead>\n",
       "    <tr style=\"text-align: right;\">\n",
       "      <th></th>\n",
       "      <th>f1</th>\n",
       "      <th>ARI</th>\n",
       "      <th>ACC</th>\n",
       "      <th>NMI</th>\n",
       "      <th>cover_rate</th>\n",
       "      <th>classes</th>\n",
       "    </tr>\n",
       "  </thead>\n",
       "  <tbody>\n",
       "    <tr>\n",
       "      <th>0</th>\n",
       "      <td>0.305144</td>\n",
       "      <td>0.198917</td>\n",
       "      <td>0.3114</td>\n",
       "      <td>0.308698</td>\n",
       "      <td>1.0</td>\n",
       "      <td>10.0</td>\n",
       "    </tr>\n",
       "  </tbody>\n",
       "</table>\n",
       "</div>"
      ],
      "text/plain": [
       "         f1       ARI     ACC       NMI  cover_rate  classes\n",
       "0  0.305144  0.198917  0.3114  0.308698         1.0     10.0"
      ]
     },
     "execution_count": 7,
     "metadata": {},
     "output_type": "execute_result"
    }
   ],
   "source": [
    "X_raw,X,Y_true=DataLoader.load('PCA_MNIST_5')\n",
    "\n",
    "t1=time.time()\n",
    "s = Spectacl(affinity=\"radius_neighbors\", n_clusters=10, epsilon=0.2,n_jobs=100)\n",
    "Y_pred = s.fit_predict(X)\n",
    "t2=time.time()\n",
    "print(t2-t1)\n",
    "\n",
    "Y_pred,Y_true=matchY(Y_pred,Y_true)\n",
    "result=measures_calculator(Y_true,Y_pred)\n",
    "result"
   ]
  },
  {
   "cell_type": "code",
   "execution_count": 12,
   "metadata": {
    "hidden": true
   },
   "outputs": [
    {
     "name": "stdout",
     "output_type": "stream",
     "text": [
      "121.19405364990234\n"
     ]
    },
    {
     "data": {
      "text/html": [
       "<div>\n",
       "<style scoped>\n",
       "    .dataframe tbody tr th:only-of-type {\n",
       "        vertical-align: middle;\n",
       "    }\n",
       "\n",
       "    .dataframe tbody tr th {\n",
       "        vertical-align: top;\n",
       "    }\n",
       "\n",
       "    .dataframe thead th {\n",
       "        text-align: right;\n",
       "    }\n",
       "</style>\n",
       "<table border=\"1\" class=\"dataframe\">\n",
       "  <thead>\n",
       "    <tr style=\"text-align: right;\">\n",
       "      <th></th>\n",
       "      <th>f1</th>\n",
       "      <th>ARI</th>\n",
       "      <th>ACC</th>\n",
       "      <th>NMI</th>\n",
       "      <th>cover_rate</th>\n",
       "      <th>classes</th>\n",
       "    </tr>\n",
       "  </thead>\n",
       "  <tbody>\n",
       "    <tr>\n",
       "      <th>0</th>\n",
       "      <td>0.390322</td>\n",
       "      <td>0.216699</td>\n",
       "      <td>0.387767</td>\n",
       "      <td>0.343752</td>\n",
       "      <td>1.0</td>\n",
       "      <td>10.0</td>\n",
       "    </tr>\n",
       "  </tbody>\n",
       "</table>\n",
       "</div>"
      ],
      "text/plain": [
       "         f1       ARI       ACC       NMI  cover_rate  classes\n",
       "0  0.390322  0.216699  0.387767  0.343752         1.0     10.0"
      ]
     },
     "execution_count": 12,
     "metadata": {},
     "output_type": "execute_result"
    }
   ],
   "source": [
    "X_raw,X,Y_true=DataLoader.load('PCA_MNIST_10')\n",
    "\n",
    "t1=time.time()\n",
    "s = Spectacl(affinity=\"radius_neighbors\", n_clusters=10, epsilon=0.3)\n",
    "Y_pred = s.fit_predict(X)\n",
    "t2=time.time()\n",
    "print(t2-t1)\n",
    "\n",
    "Y_pred,Y_true=matchY(Y_pred,Y_true)\n",
    "result=measures_calculator(Y_true,Y_pred)\n",
    "result"
   ]
  },
  {
   "cell_type": "code",
   "execution_count": 14,
   "metadata": {
    "hidden": true
   },
   "outputs": [
    {
     "name": "stdout",
     "output_type": "stream",
     "text": [
      "80.93693256378174\n"
     ]
    },
    {
     "data": {
      "text/html": [
       "<div>\n",
       "<style scoped>\n",
       "    .dataframe tbody tr th:only-of-type {\n",
       "        vertical-align: middle;\n",
       "    }\n",
       "\n",
       "    .dataframe tbody tr th {\n",
       "        vertical-align: top;\n",
       "    }\n",
       "\n",
       "    .dataframe thead th {\n",
       "        text-align: right;\n",
       "    }\n",
       "</style>\n",
       "<table border=\"1\" class=\"dataframe\">\n",
       "  <thead>\n",
       "    <tr style=\"text-align: right;\">\n",
       "      <th></th>\n",
       "      <th>f1</th>\n",
       "      <th>ARI</th>\n",
       "      <th>ACC</th>\n",
       "      <th>NMI</th>\n",
       "      <th>cover_rate</th>\n",
       "      <th>classes</th>\n",
       "    </tr>\n",
       "  </thead>\n",
       "  <tbody>\n",
       "    <tr>\n",
       "      <th>0</th>\n",
       "      <td>0.36481</td>\n",
       "      <td>0.153961</td>\n",
       "      <td>0.3506</td>\n",
       "      <td>0.378408</td>\n",
       "      <td>1.0</td>\n",
       "      <td>10.0</td>\n",
       "    </tr>\n",
       "  </tbody>\n",
       "</table>\n",
       "</div>"
      ],
      "text/plain": [
       "        f1       ARI     ACC       NMI  cover_rate  classes\n",
       "0  0.36481  0.153961  0.3506  0.378408         1.0     10.0"
      ]
     },
     "execution_count": 14,
     "metadata": {},
     "output_type": "execute_result"
    }
   ],
   "source": [
    "X_raw,X,Y_true=DataLoader.load('PCA_MNIST_20')\n",
    "\n",
    "t1=time.time()\n",
    "s = Spectacl(affinity=\"radius_neighbors\", n_clusters=10, epsilon=0.3)\n",
    "Y_pred = s.fit_predict(X)\n",
    "t2=time.time()\n",
    "print(t2-t1)\n",
    "\n",
    "Y_pred,Y_true=matchY(Y_pred,Y_true)\n",
    "result=measures_calculator(Y_true,Y_pred)\n",
    "result"
   ]
  },
  {
   "cell_type": "code",
   "execution_count": 20,
   "metadata": {
    "hidden": true
   },
   "outputs": [
    {
     "name": "stdout",
     "output_type": "stream",
     "text": [
      "167.06888008117676\n"
     ]
    },
    {
     "data": {
      "text/html": [
       "<div>\n",
       "<style scoped>\n",
       "    .dataframe tbody tr th:only-of-type {\n",
       "        vertical-align: middle;\n",
       "    }\n",
       "\n",
       "    .dataframe tbody tr th {\n",
       "        vertical-align: top;\n",
       "    }\n",
       "\n",
       "    .dataframe thead th {\n",
       "        text-align: right;\n",
       "    }\n",
       "</style>\n",
       "<table border=\"1\" class=\"dataframe\">\n",
       "  <thead>\n",
       "    <tr style=\"text-align: right;\">\n",
       "      <th></th>\n",
       "      <th>f1</th>\n",
       "      <th>ARI</th>\n",
       "      <th>ACC</th>\n",
       "      <th>NMI</th>\n",
       "      <th>cover_rate</th>\n",
       "      <th>classes</th>\n",
       "    </tr>\n",
       "  </thead>\n",
       "  <tbody>\n",
       "    <tr>\n",
       "      <th>0</th>\n",
       "      <td>0.388679</td>\n",
       "      <td>0.192028</td>\n",
       "      <td>0.371567</td>\n",
       "      <td>0.360662</td>\n",
       "      <td>1.0</td>\n",
       "      <td>10.0</td>\n",
       "    </tr>\n",
       "  </tbody>\n",
       "</table>\n",
       "</div>"
      ],
      "text/plain": [
       "         f1       ARI       ACC       NMI  cover_rate  classes\n",
       "0  0.388679  0.192028  0.371567  0.360662         1.0     10.0"
      ]
     },
     "execution_count": 20,
     "metadata": {},
     "output_type": "execute_result"
    }
   ],
   "source": [
    "X_raw,X,Y_true=DataLoader.load('PCA_MNIST_30')\n",
    "\n",
    "t1=time.time()\n",
    "s = Spectacl(affinity=\"radius_neighbors\", n_clusters=10, epsilon=0.4)\n",
    "Y_pred = s.fit_predict(X)\n",
    "t2=time.time()\n",
    "print(t2-t1)\n",
    "\n",
    "Y_pred,Y_true=matchY(Y_pred,Y_true)\n",
    "result=measures_calculator(Y_true,Y_pred)\n",
    "result"
   ]
  },
  {
   "cell_type": "markdown",
   "metadata": {},
   "source": [
    "## PCA_FMNIST"
   ]
  },
  {
   "cell_type": "code",
   "execution_count": 21,
   "metadata": {},
   "outputs": [
    {
     "name": "stdout",
     "output_type": "stream",
     "text": [
      "80.46734881401062\n"
     ]
    },
    {
     "data": {
      "text/html": [
       "<div>\n",
       "<style scoped>\n",
       "    .dataframe tbody tr th:only-of-type {\n",
       "        vertical-align: middle;\n",
       "    }\n",
       "\n",
       "    .dataframe tbody tr th {\n",
       "        vertical-align: top;\n",
       "    }\n",
       "\n",
       "    .dataframe thead th {\n",
       "        text-align: right;\n",
       "    }\n",
       "</style>\n",
       "<table border=\"1\" class=\"dataframe\">\n",
       "  <thead>\n",
       "    <tr style=\"text-align: right;\">\n",
       "      <th></th>\n",
       "      <th>f1</th>\n",
       "      <th>ARI</th>\n",
       "      <th>ACC</th>\n",
       "      <th>NMI</th>\n",
       "      <th>cover_rate</th>\n",
       "      <th>classes</th>\n",
       "    </tr>\n",
       "  </thead>\n",
       "  <tbody>\n",
       "    <tr>\n",
       "      <th>0</th>\n",
       "      <td>0.435895</td>\n",
       "      <td>0.320548</td>\n",
       "      <td>0.458183</td>\n",
       "      <td>0.472758</td>\n",
       "      <td>1.0</td>\n",
       "      <td>10.0</td>\n",
       "    </tr>\n",
       "  </tbody>\n",
       "</table>\n",
       "</div>"
      ],
      "text/plain": [
       "         f1       ARI       ACC       NMI  cover_rate  classes\n",
       "0  0.435895  0.320548  0.458183  0.472758         1.0     10.0"
      ]
     },
     "execution_count": 21,
     "metadata": {},
     "output_type": "execute_result"
    }
   ],
   "source": [
    "X_raw,X,Y_true=DataLoader.load('PCA_FMNIST_5')\n",
    "\n",
    "t1=time.time()\n",
    "s = Spectacl(affinity=\"radius_neighbors\", n_clusters=10, epsilon=0.2)\n",
    "Y_pred = s.fit_predict(X)\n",
    "t2=time.time()\n",
    "print(t2-t1)\n",
    "\n",
    "Y_pred,Y_true=matchY(Y_pred,Y_true)\n",
    "result=measures_calculator(Y_true,Y_pred)\n",
    "result"
   ]
  },
  {
   "cell_type": "code",
   "execution_count": 70,
   "metadata": {},
   "outputs": [
    {
     "name": "stdout",
     "output_type": "stream",
     "text": [
      "34.643465518951416\n"
     ]
    },
    {
     "data": {
      "text/html": [
       "<div>\n",
       "<style scoped>\n",
       "    .dataframe tbody tr th:only-of-type {\n",
       "        vertical-align: middle;\n",
       "    }\n",
       "\n",
       "    .dataframe tbody tr th {\n",
       "        vertical-align: top;\n",
       "    }\n",
       "\n",
       "    .dataframe thead th {\n",
       "        text-align: right;\n",
       "    }\n",
       "</style>\n",
       "<table border=\"1\" class=\"dataframe\">\n",
       "  <thead>\n",
       "    <tr style=\"text-align: right;\">\n",
       "      <th></th>\n",
       "      <th>f1</th>\n",
       "      <th>ARI</th>\n",
       "      <th>ACC</th>\n",
       "      <th>NMI</th>\n",
       "      <th>cover_rate</th>\n",
       "      <th>classes</th>\n",
       "    </tr>\n",
       "  </thead>\n",
       "  <tbody>\n",
       "    <tr>\n",
       "      <th>0</th>\n",
       "      <td>0.485612</td>\n",
       "      <td>0.257204</td>\n",
       "      <td>0.493167</td>\n",
       "      <td>0.477547</td>\n",
       "      <td>1.0</td>\n",
       "      <td>10.0</td>\n",
       "    </tr>\n",
       "  </tbody>\n",
       "</table>\n",
       "</div>"
      ],
      "text/plain": [
       "         f1       ARI       ACC       NMI  cover_rate  classes\n",
       "0  0.485612  0.257204  0.493167  0.477547         1.0     10.0"
      ]
     },
     "execution_count": 70,
     "metadata": {},
     "output_type": "execute_result"
    }
   ],
   "source": [
    "X_raw,X,Y_true=DataLoader.load('PCA_FMNIST_10')\n",
    "\n",
    "t1=time.time()\n",
    "s = Spectacl(affinity=\"radius_neighbors\", n_clusters=10, epsilon=0.15)\n",
    "Y_pred = s.fit_predict(X)\n",
    "t2=time.time()\n",
    "print(t2-t1)\n",
    "\n",
    "Y_pred,Y_true=matchY(Y_pred,Y_true)\n",
    "result=measures_calculator(Y_true,Y_pred)\n",
    "result"
   ]
  },
  {
   "cell_type": "code",
   "execution_count": 22,
   "metadata": {},
   "outputs": [
    {
     "name": "stdout",
     "output_type": "stream",
     "text": [
      "58.47380447387695\n"
     ]
    },
    {
     "data": {
      "text/html": [
       "<div>\n",
       "<style scoped>\n",
       "    .dataframe tbody tr th:only-of-type {\n",
       "        vertical-align: middle;\n",
       "    }\n",
       "\n",
       "    .dataframe tbody tr th {\n",
       "        vertical-align: top;\n",
       "    }\n",
       "\n",
       "    .dataframe thead th {\n",
       "        text-align: right;\n",
       "    }\n",
       "</style>\n",
       "<table border=\"1\" class=\"dataframe\">\n",
       "  <thead>\n",
       "    <tr style=\"text-align: right;\">\n",
       "      <th></th>\n",
       "      <th>f1</th>\n",
       "      <th>ARI</th>\n",
       "      <th>ACC</th>\n",
       "      <th>NMI</th>\n",
       "      <th>cover_rate</th>\n",
       "      <th>classes</th>\n",
       "    </tr>\n",
       "  </thead>\n",
       "  <tbody>\n",
       "    <tr>\n",
       "      <th>0</th>\n",
       "      <td>0.469618</td>\n",
       "      <td>0.333686</td>\n",
       "      <td>0.489833</td>\n",
       "      <td>0.497712</td>\n",
       "      <td>1.0</td>\n",
       "      <td>10.0</td>\n",
       "    </tr>\n",
       "  </tbody>\n",
       "</table>\n",
       "</div>"
      ],
      "text/plain": [
       "         f1       ARI       ACC       NMI  cover_rate  classes\n",
       "0  0.469618  0.333686  0.489833  0.497712         1.0     10.0"
      ]
     },
     "execution_count": 22,
     "metadata": {},
     "output_type": "execute_result"
    }
   ],
   "source": [
    "X_raw,X,Y_true=DataLoader.load('PCA_FMNIST_10')\n",
    "\n",
    "t1=time.time()\n",
    "s = Spectacl(affinity=\"radius_neighbors\", n_clusters=10, epsilon=0.2)\n",
    "Y_pred = s.fit_predict(X)\n",
    "t2=time.time()\n",
    "print(t2-t1)\n",
    "\n",
    "Y_pred,Y_true=matchY(Y_pred,Y_true)\n",
    "result=measures_calculator(Y_true,Y_pred)\n",
    "result"
   ]
  },
  {
   "cell_type": "code",
   "execution_count": 69,
   "metadata": {},
   "outputs": [
    {
     "name": "stdout",
     "output_type": "stream",
     "text": [
      "97.115797996521\n"
     ]
    },
    {
     "data": {
      "text/html": [
       "<div>\n",
       "<style scoped>\n",
       "    .dataframe tbody tr th:only-of-type {\n",
       "        vertical-align: middle;\n",
       "    }\n",
       "\n",
       "    .dataframe tbody tr th {\n",
       "        vertical-align: top;\n",
       "    }\n",
       "\n",
       "    .dataframe thead th {\n",
       "        text-align: right;\n",
       "    }\n",
       "</style>\n",
       "<table border=\"1\" class=\"dataframe\">\n",
       "  <thead>\n",
       "    <tr style=\"text-align: right;\">\n",
       "      <th></th>\n",
       "      <th>f1</th>\n",
       "      <th>ARI</th>\n",
       "      <th>ACC</th>\n",
       "      <th>NMI</th>\n",
       "      <th>cover_rate</th>\n",
       "      <th>classes</th>\n",
       "    </tr>\n",
       "  </thead>\n",
       "  <tbody>\n",
       "    <tr>\n",
       "      <th>0</th>\n",
       "      <td>0.465631</td>\n",
       "      <td>0.359385</td>\n",
       "      <td>0.487617</td>\n",
       "      <td>0.488648</td>\n",
       "      <td>1.0</td>\n",
       "      <td>10.0</td>\n",
       "    </tr>\n",
       "  </tbody>\n",
       "</table>\n",
       "</div>"
      ],
      "text/plain": [
       "         f1       ARI       ACC       NMI  cover_rate  classes\n",
       "0  0.465631  0.359385  0.487617  0.488648         1.0     10.0"
      ]
     },
     "execution_count": 69,
     "metadata": {},
     "output_type": "execute_result"
    }
   ],
   "source": [
    "X_raw,X,Y_true=DataLoader.load('PCA_FMNIST_10')\n",
    "\n",
    "t1=time.time()\n",
    "s = Spectacl(affinity=\"radius_neighbors\", n_clusters=10, epsilon=0.25)\n",
    "Y_pred = s.fit_predict(X)\n",
    "t2=time.time()\n",
    "print(t2-t1)\n",
    "\n",
    "Y_pred,Y_true=matchY(Y_pred,Y_true)\n",
    "result=measures_calculator(Y_true,Y_pred)\n",
    "result"
   ]
  },
  {
   "cell_type": "code",
   "execution_count": 71,
   "metadata": {},
   "outputs": [
    {
     "name": "stdout",
     "output_type": "stream",
     "text": [
      "158.36425638198853\n"
     ]
    },
    {
     "data": {
      "text/html": [
       "<div>\n",
       "<style scoped>\n",
       "    .dataframe tbody tr th:only-of-type {\n",
       "        vertical-align: middle;\n",
       "    }\n",
       "\n",
       "    .dataframe tbody tr th {\n",
       "        vertical-align: top;\n",
       "    }\n",
       "\n",
       "    .dataframe thead th {\n",
       "        text-align: right;\n",
       "    }\n",
       "</style>\n",
       "<table border=\"1\" class=\"dataframe\">\n",
       "  <thead>\n",
       "    <tr style=\"text-align: right;\">\n",
       "      <th></th>\n",
       "      <th>f1</th>\n",
       "      <th>ARI</th>\n",
       "      <th>ACC</th>\n",
       "      <th>NMI</th>\n",
       "      <th>cover_rate</th>\n",
       "      <th>classes</th>\n",
       "    </tr>\n",
       "  </thead>\n",
       "  <tbody>\n",
       "    <tr>\n",
       "      <th>0</th>\n",
       "      <td>0.411465</td>\n",
       "      <td>0.309837</td>\n",
       "      <td>0.444033</td>\n",
       "      <td>0.471122</td>\n",
       "      <td>1.0</td>\n",
       "      <td>10.0</td>\n",
       "    </tr>\n",
       "  </tbody>\n",
       "</table>\n",
       "</div>"
      ],
      "text/plain": [
       "         f1       ARI       ACC       NMI  cover_rate  classes\n",
       "0  0.411465  0.309837  0.444033  0.471122         1.0     10.0"
      ]
     },
     "execution_count": 71,
     "metadata": {},
     "output_type": "execute_result"
    }
   ],
   "source": [
    "X_raw,X,Y_true=DataLoader.load('PCA_FMNIST_10')\n",
    "\n",
    "t1=time.time()\n",
    "s = Spectacl(affinity=\"radius_neighbors\", n_clusters=10, epsilon=0.3)\n",
    "Y_pred = s.fit_predict(X)\n",
    "t2=time.time()\n",
    "print(t2-t1)\n",
    "\n",
    "Y_pred,Y_true=matchY(Y_pred,Y_true)\n",
    "result=measures_calculator(Y_true,Y_pred)\n",
    "result"
   ]
  },
  {
   "cell_type": "code",
   "execution_count": 23,
   "metadata": {},
   "outputs": [
    {
     "name": "stdout",
     "output_type": "stream",
     "text": [
      "46.535404205322266\n"
     ]
    },
    {
     "data": {
      "text/html": [
       "<div>\n",
       "<style scoped>\n",
       "    .dataframe tbody tr th:only-of-type {\n",
       "        vertical-align: middle;\n",
       "    }\n",
       "\n",
       "    .dataframe tbody tr th {\n",
       "        vertical-align: top;\n",
       "    }\n",
       "\n",
       "    .dataframe thead th {\n",
       "        text-align: right;\n",
       "    }\n",
       "</style>\n",
       "<table border=\"1\" class=\"dataframe\">\n",
       "  <thead>\n",
       "    <tr style=\"text-align: right;\">\n",
       "      <th></th>\n",
       "      <th>f1</th>\n",
       "      <th>ARI</th>\n",
       "      <th>ACC</th>\n",
       "      <th>NMI</th>\n",
       "      <th>cover_rate</th>\n",
       "      <th>classes</th>\n",
       "    </tr>\n",
       "  </thead>\n",
       "  <tbody>\n",
       "    <tr>\n",
       "      <th>0</th>\n",
       "      <td>0.419684</td>\n",
       "      <td>0.239782</td>\n",
       "      <td>0.441983</td>\n",
       "      <td>0.445725</td>\n",
       "      <td>1.0</td>\n",
       "      <td>10.0</td>\n",
       "    </tr>\n",
       "  </tbody>\n",
       "</table>\n",
       "</div>"
      ],
      "text/plain": [
       "         f1       ARI       ACC       NMI  cover_rate  classes\n",
       "0  0.419684  0.239782  0.441983  0.445725         1.0     10.0"
      ]
     },
     "execution_count": 23,
     "metadata": {},
     "output_type": "execute_result"
    }
   ],
   "source": [
    "X_raw,X,Y_true=DataLoader.load('PCA_FMNIST_20')\n",
    "\n",
    "t1=time.time()\n",
    "s = Spectacl(affinity=\"radius_neighbors\", n_clusters=10, epsilon=0.2)\n",
    "Y_pred = s.fit_predict(X)\n",
    "t2=time.time()\n",
    "print(t2-t1)\n",
    "\n",
    "Y_pred,Y_true=matchY(Y_pred,Y_true)\n",
    "result=measures_calculator(Y_true,Y_pred)\n",
    "result"
   ]
  },
  {
   "cell_type": "code",
   "execution_count": 33,
   "metadata": {},
   "outputs": [
    {
     "name": "stdout",
     "output_type": "stream",
     "text": [
      "137.40743374824524\n"
     ]
    },
    {
     "data": {
      "text/html": [
       "<div>\n",
       "<style scoped>\n",
       "    .dataframe tbody tr th:only-of-type {\n",
       "        vertical-align: middle;\n",
       "    }\n",
       "\n",
       "    .dataframe tbody tr th {\n",
       "        vertical-align: top;\n",
       "    }\n",
       "\n",
       "    .dataframe thead th {\n",
       "        text-align: right;\n",
       "    }\n",
       "</style>\n",
       "<table border=\"1\" class=\"dataframe\">\n",
       "  <thead>\n",
       "    <tr style=\"text-align: right;\">\n",
       "      <th></th>\n",
       "      <th>f1</th>\n",
       "      <th>ARI</th>\n",
       "      <th>ACC</th>\n",
       "      <th>NMI</th>\n",
       "      <th>cover_rate</th>\n",
       "      <th>classes</th>\n",
       "    </tr>\n",
       "  </thead>\n",
       "  <tbody>\n",
       "    <tr>\n",
       "      <th>0</th>\n",
       "      <td>0.449971</td>\n",
       "      <td>0.290046</td>\n",
       "      <td>0.462933</td>\n",
       "      <td>0.452409</td>\n",
       "      <td>1.0</td>\n",
       "      <td>10.0</td>\n",
       "    </tr>\n",
       "  </tbody>\n",
       "</table>\n",
       "</div>"
      ],
      "text/plain": [
       "         f1       ARI       ACC       NMI  cover_rate  classes\n",
       "0  0.449971  0.290046  0.462933  0.452409         1.0     10.0"
      ]
     },
     "execution_count": 33,
     "metadata": {},
     "output_type": "execute_result"
    }
   ],
   "source": [
    "X_raw,X,Y_true=DataLoader.load('PCA_FMNIST_20')\n",
    "\n",
    "t1=time.time()\n",
    "s = Spectacl(affinity=\"radius_neighbors\", n_clusters=10, epsilon=0.3)\n",
    "Y_pred = s.fit_predict(X)\n",
    "t2=time.time()\n",
    "print(t2-t1)\n",
    "\n",
    "Y_pred,Y_true=matchY(Y_pred,Y_true)\n",
    "result=measures_calculator(Y_true,Y_pred)\n",
    "result"
   ]
  },
  {
   "cell_type": "code",
   "execution_count": 24,
   "metadata": {},
   "outputs": [
    {
     "name": "stdout",
     "output_type": "stream",
     "text": [
      "38.68805432319641\n"
     ]
    },
    {
     "data": {
      "text/html": [
       "<div>\n",
       "<style scoped>\n",
       "    .dataframe tbody tr th:only-of-type {\n",
       "        vertical-align: middle;\n",
       "    }\n",
       "\n",
       "    .dataframe tbody tr th {\n",
       "        vertical-align: top;\n",
       "    }\n",
       "\n",
       "    .dataframe thead th {\n",
       "        text-align: right;\n",
       "    }\n",
       "</style>\n",
       "<table border=\"1\" class=\"dataframe\">\n",
       "  <thead>\n",
       "    <tr style=\"text-align: right;\">\n",
       "      <th></th>\n",
       "      <th>f1</th>\n",
       "      <th>ARI</th>\n",
       "      <th>ACC</th>\n",
       "      <th>NMI</th>\n",
       "      <th>cover_rate</th>\n",
       "      <th>classes</th>\n",
       "    </tr>\n",
       "  </thead>\n",
       "  <tbody>\n",
       "    <tr>\n",
       "      <th>0</th>\n",
       "      <td>0.467485</td>\n",
       "      <td>0.164282</td>\n",
       "      <td>0.458483</td>\n",
       "      <td>0.413758</td>\n",
       "      <td>1.0</td>\n",
       "      <td>10.0</td>\n",
       "    </tr>\n",
       "  </tbody>\n",
       "</table>\n",
       "</div>"
      ],
      "text/plain": [
       "         f1       ARI       ACC       NMI  cover_rate  classes\n",
       "0  0.467485  0.164282  0.458483  0.413758         1.0     10.0"
      ]
     },
     "execution_count": 24,
     "metadata": {},
     "output_type": "execute_result"
    }
   ],
   "source": [
    "X_raw,X,Y_true=DataLoader.load('PCA_FMNIST_30')\n",
    "\n",
    "t1=time.time()\n",
    "s = Spectacl(affinity=\"radius_neighbors\", n_clusters=10, epsilon=0.2)\n",
    "Y_pred = s.fit_predict(X)\n",
    "t2=time.time()\n",
    "print(t2-t1)\n",
    "\n",
    "Y_pred,Y_true=matchY(Y_pred,Y_true)\n",
    "result=measures_calculator(Y_true,Y_pred)\n",
    "result"
   ]
  },
  {
   "cell_type": "markdown",
   "metadata": {
    "heading_collapsed": true
   },
   "source": [
    "## AE_MNIST"
   ]
  },
  {
   "cell_type": "code",
   "execution_count": 40,
   "metadata": {
    "hidden": true
   },
   "outputs": [
    {
     "name": "stdout",
     "output_type": "stream",
     "text": [
      "58.10858917236328\n"
     ]
    },
    {
     "data": {
      "text/html": [
       "<div>\n",
       "<style scoped>\n",
       "    .dataframe tbody tr th:only-of-type {\n",
       "        vertical-align: middle;\n",
       "    }\n",
       "\n",
       "    .dataframe tbody tr th {\n",
       "        vertical-align: top;\n",
       "    }\n",
       "\n",
       "    .dataframe thead th {\n",
       "        text-align: right;\n",
       "    }\n",
       "</style>\n",
       "<table border=\"1\" class=\"dataframe\">\n",
       "  <thead>\n",
       "    <tr style=\"text-align: right;\">\n",
       "      <th></th>\n",
       "      <th>f1</th>\n",
       "      <th>ARI</th>\n",
       "      <th>ACC</th>\n",
       "      <th>NMI</th>\n",
       "      <th>cover_rate</th>\n",
       "      <th>classes</th>\n",
       "    </tr>\n",
       "  </thead>\n",
       "  <tbody>\n",
       "    <tr>\n",
       "      <th>0</th>\n",
       "      <td>0.654951</td>\n",
       "      <td>0.360105</td>\n",
       "      <td>0.624583</td>\n",
       "      <td>0.588709</td>\n",
       "      <td>1.0</td>\n",
       "      <td>10.0</td>\n",
       "    </tr>\n",
       "  </tbody>\n",
       "</table>\n",
       "</div>"
      ],
      "text/plain": [
       "         f1       ARI       ACC       NMI  cover_rate  classes\n",
       "0  0.654951  0.360105  0.624583  0.588709         1.0     10.0"
      ]
     },
     "execution_count": 40,
     "metadata": {},
     "output_type": "execute_result"
    }
   ],
   "source": [
    "X_raw,X,Y_true=DataLoader.load('AE_MNIST_5')\n",
    "\n",
    "t1=time.time()\n",
    "s = Spectacl(affinity=\"radius_neighbors\", n_clusters=10, epsilon=2)\n",
    "Y_pred = s.fit_predict(X)\n",
    "t2=time.time()\n",
    "print(t2-t1)\n",
    "\n",
    "Y_pred,Y_true=matchY(Y_pred,Y_true)\n",
    "result=measures_calculator(Y_true,Y_pred)\n",
    "result"
   ]
  },
  {
   "cell_type": "code",
   "execution_count": 44,
   "metadata": {
    "hidden": true
   },
   "outputs": [
    {
     "name": "stdout",
     "output_type": "stream",
     "text": [
      "85.70379042625427\n"
     ]
    },
    {
     "data": {
      "text/html": [
       "<div>\n",
       "<style scoped>\n",
       "    .dataframe tbody tr th:only-of-type {\n",
       "        vertical-align: middle;\n",
       "    }\n",
       "\n",
       "    .dataframe tbody tr th {\n",
       "        vertical-align: top;\n",
       "    }\n",
       "\n",
       "    .dataframe thead th {\n",
       "        text-align: right;\n",
       "    }\n",
       "</style>\n",
       "<table border=\"1\" class=\"dataframe\">\n",
       "  <thead>\n",
       "    <tr style=\"text-align: right;\">\n",
       "      <th></th>\n",
       "      <th>f1</th>\n",
       "      <th>ARI</th>\n",
       "      <th>ACC</th>\n",
       "      <th>NMI</th>\n",
       "      <th>cover_rate</th>\n",
       "      <th>classes</th>\n",
       "    </tr>\n",
       "  </thead>\n",
       "  <tbody>\n",
       "    <tr>\n",
       "      <th>0</th>\n",
       "      <td>0.621669</td>\n",
       "      <td>0.404547</td>\n",
       "      <td>0.597117</td>\n",
       "      <td>0.610807</td>\n",
       "      <td>1.0</td>\n",
       "      <td>10.0</td>\n",
       "    </tr>\n",
       "  </tbody>\n",
       "</table>\n",
       "</div>"
      ],
      "text/plain": [
       "         f1       ARI       ACC       NMI  cover_rate  classes\n",
       "0  0.621669  0.404547  0.597117  0.610807         1.0     10.0"
      ]
     },
     "execution_count": 44,
     "metadata": {},
     "output_type": "execute_result"
    }
   ],
   "source": [
    "X_raw,X,Y_true=DataLoader.load('AE_MNIST_10')\n",
    "\n",
    "t1=time.time()\n",
    "s = Spectacl(affinity=\"radius_neighbors\", n_clusters=10, epsilon=3)\n",
    "Y_pred = s.fit_predict(X)\n",
    "t2=time.time()\n",
    "print(t2-t1)\n",
    "\n",
    "Y_pred,Y_true=matchY(Y_pred,Y_true)\n",
    "result=measures_calculator(Y_true,Y_pred)\n",
    "result"
   ]
  },
  {
   "cell_type": "code",
   "execution_count": 48,
   "metadata": {
    "hidden": true
   },
   "outputs": [
    {
     "name": "stdout",
     "output_type": "stream",
     "text": [
      "147.547705411911\n"
     ]
    },
    {
     "data": {
      "text/html": [
       "<div>\n",
       "<style scoped>\n",
       "    .dataframe tbody tr th:only-of-type {\n",
       "        vertical-align: middle;\n",
       "    }\n",
       "\n",
       "    .dataframe tbody tr th {\n",
       "        vertical-align: top;\n",
       "    }\n",
       "\n",
       "    .dataframe thead th {\n",
       "        text-align: right;\n",
       "    }\n",
       "</style>\n",
       "<table border=\"1\" class=\"dataframe\">\n",
       "  <thead>\n",
       "    <tr style=\"text-align: right;\">\n",
       "      <th></th>\n",
       "      <th>f1</th>\n",
       "      <th>ARI</th>\n",
       "      <th>ACC</th>\n",
       "      <th>NMI</th>\n",
       "      <th>cover_rate</th>\n",
       "      <th>classes</th>\n",
       "    </tr>\n",
       "  </thead>\n",
       "  <tbody>\n",
       "    <tr>\n",
       "      <th>0</th>\n",
       "      <td>0.501961</td>\n",
       "      <td>0.298199</td>\n",
       "      <td>0.502317</td>\n",
       "      <td>0.485248</td>\n",
       "      <td>1.0</td>\n",
       "      <td>10.0</td>\n",
       "    </tr>\n",
       "  </tbody>\n",
       "</table>\n",
       "</div>"
      ],
      "text/plain": [
       "         f1       ARI       ACC       NMI  cover_rate  classes\n",
       "0  0.501961  0.298199  0.502317  0.485248         1.0     10.0"
      ]
     },
     "execution_count": 48,
     "metadata": {},
     "output_type": "execute_result"
    }
   ],
   "source": [
    "X_raw,X,Y_true=DataLoader.load('AE_MNIST_20')\n",
    "\n",
    "t1=time.time()\n",
    "s = Spectacl(affinity=\"radius_neighbors\", n_clusters=10, epsilon=5)\n",
    "Y_pred = s.fit_predict(X)\n",
    "t2=time.time()\n",
    "print(t2-t1)\n",
    "\n",
    "Y_pred,Y_true=matchY(Y_pred,Y_true)\n",
    "result=measures_calculator(Y_true,Y_pred)\n",
    "result"
   ]
  },
  {
   "cell_type": "code",
   "execution_count": 51,
   "metadata": {
    "hidden": true
   },
   "outputs": [
    {
     "name": "stdout",
     "output_type": "stream",
     "text": [
      "128.6518199443817\n"
     ]
    },
    {
     "data": {
      "text/html": [
       "<div>\n",
       "<style scoped>\n",
       "    .dataframe tbody tr th:only-of-type {\n",
       "        vertical-align: middle;\n",
       "    }\n",
       "\n",
       "    .dataframe tbody tr th {\n",
       "        vertical-align: top;\n",
       "    }\n",
       "\n",
       "    .dataframe thead th {\n",
       "        text-align: right;\n",
       "    }\n",
       "</style>\n",
       "<table border=\"1\" class=\"dataframe\">\n",
       "  <thead>\n",
       "    <tr style=\"text-align: right;\">\n",
       "      <th></th>\n",
       "      <th>f1</th>\n",
       "      <th>ARI</th>\n",
       "      <th>ACC</th>\n",
       "      <th>NMI</th>\n",
       "      <th>cover_rate</th>\n",
       "      <th>classes</th>\n",
       "    </tr>\n",
       "  </thead>\n",
       "  <tbody>\n",
       "    <tr>\n",
       "      <th>0</th>\n",
       "      <td>0.426737</td>\n",
       "      <td>0.160274</td>\n",
       "      <td>0.41305</td>\n",
       "      <td>0.486093</td>\n",
       "      <td>1.0</td>\n",
       "      <td>10.0</td>\n",
       "    </tr>\n",
       "  </tbody>\n",
       "</table>\n",
       "</div>"
      ],
      "text/plain": [
       "         f1       ARI      ACC       NMI  cover_rate  classes\n",
       "0  0.426737  0.160274  0.41305  0.486093         1.0     10.0"
      ]
     },
     "execution_count": 51,
     "metadata": {},
     "output_type": "execute_result"
    }
   ],
   "source": [
    "X_raw,X,Y_true=DataLoader.load('AE_MNIST_30')\n",
    "\n",
    "t1=time.time()\n",
    "s = Spectacl(affinity=\"radius_neighbors\", n_clusters=10, epsilon=5)\n",
    "Y_pred = s.fit_predict(X)\n",
    "t2=time.time()\n",
    "print(t2-t1)\n",
    "\n",
    "Y_pred,Y_true=matchY(Y_pred,Y_true)\n",
    "result=measures_calculator(Y_true,Y_pred)\n",
    "result"
   ]
  },
  {
   "cell_type": "code",
   "execution_count": 53,
   "metadata": {
    "hidden": true
   },
   "outputs": [
    {
     "name": "stdout",
     "output_type": "stream",
     "text": [
      "163.93201518058777\n"
     ]
    },
    {
     "data": {
      "text/html": [
       "<div>\n",
       "<style scoped>\n",
       "    .dataframe tbody tr th:only-of-type {\n",
       "        vertical-align: middle;\n",
       "    }\n",
       "\n",
       "    .dataframe tbody tr th {\n",
       "        vertical-align: top;\n",
       "    }\n",
       "\n",
       "    .dataframe thead th {\n",
       "        text-align: right;\n",
       "    }\n",
       "</style>\n",
       "<table border=\"1\" class=\"dataframe\">\n",
       "  <thead>\n",
       "    <tr style=\"text-align: right;\">\n",
       "      <th></th>\n",
       "      <th>f1</th>\n",
       "      <th>ARI</th>\n",
       "      <th>ACC</th>\n",
       "      <th>NMI</th>\n",
       "      <th>cover_rate</th>\n",
       "      <th>classes</th>\n",
       "    </tr>\n",
       "  </thead>\n",
       "  <tbody>\n",
       "    <tr>\n",
       "      <th>0</th>\n",
       "      <td>0.424814</td>\n",
       "      <td>0.234217</td>\n",
       "      <td>0.424667</td>\n",
       "      <td>0.424689</td>\n",
       "      <td>1.0</td>\n",
       "      <td>10.0</td>\n",
       "    </tr>\n",
       "  </tbody>\n",
       "</table>\n",
       "</div>"
      ],
      "text/plain": [
       "         f1       ARI       ACC       NMI  cover_rate  classes\n",
       "0  0.424814  0.234217  0.424667  0.424689         1.0     10.0"
      ]
     },
     "execution_count": 53,
     "metadata": {},
     "output_type": "execute_result"
    }
   ],
   "source": [
    "X_raw,X,Y_true=DataLoader.load('AE_MNIST_30')\n",
    "\n",
    "t1=time.time()\n",
    "s = Spectacl(affinity=\"radius_neighbors\", n_clusters=10, epsilon=6)\n",
    "Y_pred = s.fit_predict(X)\n",
    "t2=time.time()\n",
    "print(t2-t1)\n",
    "\n",
    "Y_pred,Y_true=matchY(Y_pred,Y_true)\n",
    "result=measures_calculator(Y_true,Y_pred)\n",
    "result"
   ]
  },
  {
   "cell_type": "markdown",
   "metadata": {
    "heading_collapsed": true
   },
   "source": [
    "## AE_FMNIST"
   ]
  },
  {
   "cell_type": "code",
   "execution_count": 54,
   "metadata": {
    "hidden": true
   },
   "outputs": [
    {
     "name": "stdout",
     "output_type": "stream",
     "text": [
      "235.74428749084473\n"
     ]
    },
    {
     "data": {
      "text/html": [
       "<div>\n",
       "<style scoped>\n",
       "    .dataframe tbody tr th:only-of-type {\n",
       "        vertical-align: middle;\n",
       "    }\n",
       "\n",
       "    .dataframe tbody tr th {\n",
       "        vertical-align: top;\n",
       "    }\n",
       "\n",
       "    .dataframe thead th {\n",
       "        text-align: right;\n",
       "    }\n",
       "</style>\n",
       "<table border=\"1\" class=\"dataframe\">\n",
       "  <thead>\n",
       "    <tr style=\"text-align: right;\">\n",
       "      <th></th>\n",
       "      <th>f1</th>\n",
       "      <th>ARI</th>\n",
       "      <th>ACC</th>\n",
       "      <th>NMI</th>\n",
       "      <th>cover_rate</th>\n",
       "      <th>classes</th>\n",
       "    </tr>\n",
       "  </thead>\n",
       "  <tbody>\n",
       "    <tr>\n",
       "      <th>0</th>\n",
       "      <td>0.470541</td>\n",
       "      <td>0.27052</td>\n",
       "      <td>0.46325</td>\n",
       "      <td>0.436317</td>\n",
       "      <td>1.0</td>\n",
       "      <td>10.0</td>\n",
       "    </tr>\n",
       "  </tbody>\n",
       "</table>\n",
       "</div>"
      ],
      "text/plain": [
       "         f1      ARI      ACC       NMI  cover_rate  classes\n",
       "0  0.470541  0.27052  0.46325  0.436317         1.0     10.0"
      ]
     },
     "execution_count": 54,
     "metadata": {},
     "output_type": "execute_result"
    }
   ],
   "source": [
    "X_raw,X,Y_true=DataLoader.load('AE_FMNIST_5')\n",
    "\n",
    "t1=time.time()\n",
    "s = Spectacl(affinity=\"radius_neighbors\", n_clusters=10, epsilon=3)\n",
    "Y_pred = s.fit_predict(X)\n",
    "t2=time.time()\n",
    "print(t2-t1)\n",
    "\n",
    "Y_pred,Y_true=matchY(Y_pred,Y_true)\n",
    "result=measures_calculator(Y_true,Y_pred)\n",
    "result"
   ]
  },
  {
   "cell_type": "code",
   "execution_count": 56,
   "metadata": {
    "hidden": true
   },
   "outputs": [
    {
     "name": "stdout",
     "output_type": "stream",
     "text": [
      "144.0737762451172\n"
     ]
    },
    {
     "data": {
      "text/html": [
       "<div>\n",
       "<style scoped>\n",
       "    .dataframe tbody tr th:only-of-type {\n",
       "        vertical-align: middle;\n",
       "    }\n",
       "\n",
       "    .dataframe tbody tr th {\n",
       "        vertical-align: top;\n",
       "    }\n",
       "\n",
       "    .dataframe thead th {\n",
       "        text-align: right;\n",
       "    }\n",
       "</style>\n",
       "<table border=\"1\" class=\"dataframe\">\n",
       "  <thead>\n",
       "    <tr style=\"text-align: right;\">\n",
       "      <th></th>\n",
       "      <th>f1</th>\n",
       "      <th>ARI</th>\n",
       "      <th>ACC</th>\n",
       "      <th>NMI</th>\n",
       "      <th>cover_rate</th>\n",
       "      <th>classes</th>\n",
       "    </tr>\n",
       "  </thead>\n",
       "  <tbody>\n",
       "    <tr>\n",
       "      <th>0</th>\n",
       "      <td>0.493084</td>\n",
       "      <td>0.331148</td>\n",
       "      <td>0.502433</td>\n",
       "      <td>0.486945</td>\n",
       "      <td>1.0</td>\n",
       "      <td>10.0</td>\n",
       "    </tr>\n",
       "  </tbody>\n",
       "</table>\n",
       "</div>"
      ],
      "text/plain": [
       "         f1       ARI       ACC       NMI  cover_rate  classes\n",
       "0  0.493084  0.331148  0.502433  0.486945         1.0     10.0"
      ]
     },
     "execution_count": 56,
     "metadata": {},
     "output_type": "execute_result"
    }
   ],
   "source": [
    "X_raw,X,Y_true=DataLoader.load('AE_FMNIST_10')\n",
    "\n",
    "t1=time.time()\n",
    "s = Spectacl(affinity=\"radius_neighbors\", n_clusters=10, epsilon=3)\n",
    "Y_pred = s.fit_predict(X)\n",
    "t2=time.time()\n",
    "print(t2-t1)\n",
    "\n",
    "Y_pred,Y_true=matchY(Y_pred,Y_true)\n",
    "result=measures_calculator(Y_true,Y_pred)\n",
    "result"
   ]
  },
  {
   "cell_type": "code",
   "execution_count": 64,
   "metadata": {
    "hidden": true
   },
   "outputs": [
    {
     "name": "stdout",
     "output_type": "stream",
     "text": [
      "123.31699657440186\n"
     ]
    },
    {
     "data": {
      "text/html": [
       "<div>\n",
       "<style scoped>\n",
       "    .dataframe tbody tr th:only-of-type {\n",
       "        vertical-align: middle;\n",
       "    }\n",
       "\n",
       "    .dataframe tbody tr th {\n",
       "        vertical-align: top;\n",
       "    }\n",
       "\n",
       "    .dataframe thead th {\n",
       "        text-align: right;\n",
       "    }\n",
       "</style>\n",
       "<table border=\"1\" class=\"dataframe\">\n",
       "  <thead>\n",
       "    <tr style=\"text-align: right;\">\n",
       "      <th></th>\n",
       "      <th>f1</th>\n",
       "      <th>ARI</th>\n",
       "      <th>ACC</th>\n",
       "      <th>NMI</th>\n",
       "      <th>cover_rate</th>\n",
       "      <th>classes</th>\n",
       "    </tr>\n",
       "  </thead>\n",
       "  <tbody>\n",
       "    <tr>\n",
       "      <th>0</th>\n",
       "      <td>0.477636</td>\n",
       "      <td>0.271093</td>\n",
       "      <td>0.470383</td>\n",
       "      <td>0.456969</td>\n",
       "      <td>1.0</td>\n",
       "      <td>10.0</td>\n",
       "    </tr>\n",
       "  </tbody>\n",
       "</table>\n",
       "</div>"
      ],
      "text/plain": [
       "         f1       ARI       ACC       NMI  cover_rate  classes\n",
       "0  0.477636  0.271093  0.470383  0.456969         1.0     10.0"
      ]
     },
     "execution_count": 64,
     "metadata": {},
     "output_type": "execute_result"
    }
   ],
   "source": [
    "X_raw,X,Y_true=DataLoader.load('AE_FMNIST_20')\n",
    "\n",
    "t1=time.time()\n",
    "s = Spectacl(affinity=\"radius_neighbors\", n_clusters=10, epsilon=4)\n",
    "Y_pred = s.fit_predict(X)\n",
    "t2=time.time()\n",
    "print(t2-t1)\n",
    "\n",
    "Y_pred,Y_true=matchY(Y_pred,Y_true)\n",
    "result=measures_calculator(Y_true,Y_pred)\n",
    "result"
   ]
  },
  {
   "cell_type": "code",
   "execution_count": 60,
   "metadata": {
    "hidden": true
   },
   "outputs": [
    {
     "name": "stdout",
     "output_type": "stream",
     "text": [
      "202.16275477409363\n"
     ]
    },
    {
     "data": {
      "text/html": [
       "<div>\n",
       "<style scoped>\n",
       "    .dataframe tbody tr th:only-of-type {\n",
       "        vertical-align: middle;\n",
       "    }\n",
       "\n",
       "    .dataframe tbody tr th {\n",
       "        vertical-align: top;\n",
       "    }\n",
       "\n",
       "    .dataframe thead th {\n",
       "        text-align: right;\n",
       "    }\n",
       "</style>\n",
       "<table border=\"1\" class=\"dataframe\">\n",
       "  <thead>\n",
       "    <tr style=\"text-align: right;\">\n",
       "      <th></th>\n",
       "      <th>f1</th>\n",
       "      <th>ARI</th>\n",
       "      <th>ACC</th>\n",
       "      <th>NMI</th>\n",
       "      <th>cover_rate</th>\n",
       "      <th>classes</th>\n",
       "    </tr>\n",
       "  </thead>\n",
       "  <tbody>\n",
       "    <tr>\n",
       "      <th>0</th>\n",
       "      <td>0.365753</td>\n",
       "      <td>0.281091</td>\n",
       "      <td>0.391583</td>\n",
       "      <td>0.431935</td>\n",
       "      <td>1.0</td>\n",
       "      <td>10.0</td>\n",
       "    </tr>\n",
       "  </tbody>\n",
       "</table>\n",
       "</div>"
      ],
      "text/plain": [
       "         f1       ARI       ACC       NMI  cover_rate  classes\n",
       "0  0.365753  0.281091  0.391583  0.431935         1.0     10.0"
      ]
     },
     "execution_count": 60,
     "metadata": {},
     "output_type": "execute_result"
    }
   ],
   "source": [
    "X_raw,X,Y_true=DataLoader.load('AE_FMNIST_30')\n",
    "\n",
    "t1=time.time()\n",
    "s = Spectacl(affinity=\"radius_neighbors\", n_clusters=10, epsilon=5)\n",
    "Y_pred = s.fit_predict(X)\n",
    "t2=time.time()\n",
    "print(t2-t1)\n",
    "\n",
    "Y_pred,Y_true=matchY(Y_pred,Y_true)\n",
    "result=measures_calculator(Y_true,Y_pred)\n",
    "result"
   ]
  },
  {
   "cell_type": "code",
   "execution_count": 66,
   "metadata": {
    "hidden": true
   },
   "outputs": [
    {
     "name": "stdout",
     "output_type": "stream",
     "text": [
      "294.2078459262848\n"
     ]
    },
    {
     "data": {
      "text/html": [
       "<div>\n",
       "<style scoped>\n",
       "    .dataframe tbody tr th:only-of-type {\n",
       "        vertical-align: middle;\n",
       "    }\n",
       "\n",
       "    .dataframe tbody tr th {\n",
       "        vertical-align: top;\n",
       "    }\n",
       "\n",
       "    .dataframe thead th {\n",
       "        text-align: right;\n",
       "    }\n",
       "</style>\n",
       "<table border=\"1\" class=\"dataframe\">\n",
       "  <thead>\n",
       "    <tr style=\"text-align: right;\">\n",
       "      <th></th>\n",
       "      <th>f1</th>\n",
       "      <th>ARI</th>\n",
       "      <th>ACC</th>\n",
       "      <th>NMI</th>\n",
       "      <th>cover_rate</th>\n",
       "      <th>classes</th>\n",
       "    </tr>\n",
       "  </thead>\n",
       "  <tbody>\n",
       "    <tr>\n",
       "      <th>0</th>\n",
       "      <td>0.26892</td>\n",
       "      <td>0.257607</td>\n",
       "      <td>0.302717</td>\n",
       "      <td>0.404935</td>\n",
       "      <td>1.0</td>\n",
       "      <td>10.0</td>\n",
       "    </tr>\n",
       "  </tbody>\n",
       "</table>\n",
       "</div>"
      ],
      "text/plain": [
       "        f1       ARI       ACC       NMI  cover_rate  classes\n",
       "0  0.26892  0.257607  0.302717  0.404935         1.0     10.0"
      ]
     },
     "execution_count": 66,
     "metadata": {},
     "output_type": "execute_result"
    }
   ],
   "source": [
    "X_raw,X,Y_true=DataLoader.load('AE_FMNIST_30')\n",
    "\n",
    "t1=time.time()\n",
    "s = Spectacl(affinity=\"radius_neighbors\", n_clusters=10, epsilon=6)\n",
    "Y_pred = s.fit_predict(X)\n",
    "t2=time.time()\n",
    "print(t2-t1)\n",
    "\n",
    "Y_pred,Y_true=matchY(Y_pred,Y_true)\n",
    "result=measures_calculator(Y_true,Y_pred)\n",
    "result"
   ]
  },
  {
   "cell_type": "code",
   "execution_count": 65,
   "metadata": {
    "hidden": true
   },
   "outputs": [
    {
     "name": "stdout",
     "output_type": "stream",
     "text": [
      "411.01609468460083\n"
     ]
    },
    {
     "data": {
      "text/html": [
       "<div>\n",
       "<style scoped>\n",
       "    .dataframe tbody tr th:only-of-type {\n",
       "        vertical-align: middle;\n",
       "    }\n",
       "\n",
       "    .dataframe tbody tr th {\n",
       "        vertical-align: top;\n",
       "    }\n",
       "\n",
       "    .dataframe thead th {\n",
       "        text-align: right;\n",
       "    }\n",
       "</style>\n",
       "<table border=\"1\" class=\"dataframe\">\n",
       "  <thead>\n",
       "    <tr style=\"text-align: right;\">\n",
       "      <th></th>\n",
       "      <th>f1</th>\n",
       "      <th>ARI</th>\n",
       "      <th>ACC</th>\n",
       "      <th>NMI</th>\n",
       "      <th>cover_rate</th>\n",
       "      <th>classes</th>\n",
       "    </tr>\n",
       "  </thead>\n",
       "  <tbody>\n",
       "    <tr>\n",
       "      <th>0</th>\n",
       "      <td>0.325865</td>\n",
       "      <td>0.244033</td>\n",
       "      <td>0.348017</td>\n",
       "      <td>0.424157</td>\n",
       "      <td>1.0</td>\n",
       "      <td>10.0</td>\n",
       "    </tr>\n",
       "  </tbody>\n",
       "</table>\n",
       "</div>"
      ],
      "text/plain": [
       "         f1       ARI       ACC       NMI  cover_rate  classes\n",
       "0  0.325865  0.244033  0.348017  0.424157         1.0     10.0"
      ]
     },
     "execution_count": 65,
     "metadata": {},
     "output_type": "execute_result"
    }
   ],
   "source": [
    "X_raw,X,Y_true=DataLoader.load('AE_FMNIST_30')\n",
    "\n",
    "t1=time.time()\n",
    "s = Spectacl(affinity=\"radius_neighbors\", n_clusters=10, epsilon=7)\n",
    "Y_pred = s.fit_predict(X)\n",
    "t2=time.time()\n",
    "print(t2-t1)\n",
    "\n",
    "Y_pred,Y_true=matchY(Y_pred,Y_true)\n",
    "result=measures_calculator(Y_true,Y_pred)\n",
    "result"
   ]
  },
  {
   "cell_type": "code",
   "execution_count": 16,
   "metadata": {
    "hidden": true
   },
   "outputs": [
    {
     "name": "stdout",
     "output_type": "stream",
     "text": [
      "479.6809666156769\n"
     ]
    },
    {
     "data": {
      "text/html": [
       "<div>\n",
       "<style scoped>\n",
       "    .dataframe tbody tr th:only-of-type {\n",
       "        vertical-align: middle;\n",
       "    }\n",
       "\n",
       "    .dataframe tbody tr th {\n",
       "        vertical-align: top;\n",
       "    }\n",
       "\n",
       "    .dataframe thead th {\n",
       "        text-align: right;\n",
       "    }\n",
       "</style>\n",
       "<table border=\"1\" class=\"dataframe\">\n",
       "  <thead>\n",
       "    <tr style=\"text-align: right;\">\n",
       "      <th></th>\n",
       "      <th>f1</th>\n",
       "      <th>ARI</th>\n",
       "      <th>ACC</th>\n",
       "      <th>NMI</th>\n",
       "      <th>cover_rate</th>\n",
       "      <th>classes</th>\n",
       "    </tr>\n",
       "  </thead>\n",
       "  <tbody>\n",
       "    <tr>\n",
       "      <th>0</th>\n",
       "      <td>0.378715</td>\n",
       "      <td>0.223732</td>\n",
       "      <td>0.380717</td>\n",
       "      <td>0.383932</td>\n",
       "      <td>1.0</td>\n",
       "      <td>10.0</td>\n",
       "    </tr>\n",
       "  </tbody>\n",
       "</table>\n",
       "</div>"
      ],
      "text/plain": [
       "         f1       ARI       ACC       NMI  cover_rate  classes\n",
       "0  0.378715  0.223732  0.380717  0.383932         1.0     10.0"
      ]
     },
     "execution_count": 16,
     "metadata": {},
     "output_type": "execute_result"
    }
   ],
   "source": [
    "X_raw,X,Y_true=DataLoader.load('AE_FMNIST_30')\n",
    "\n",
    "t1=time.time()\n",
    "s = Spectacl(affinity=\"radius_neighbors\", n_clusters=10, epsilon=8)\n",
    "Y_pred = s.fit_predict(X)\n",
    "t2=time.time()\n",
    "print(t2-t1)\n",
    "\n",
    "Y_pred,Y_true=matchY(Y_pred,Y_true)\n",
    "result=measures_calculator(Y_true,Y_pred)\n",
    "result"
   ]
  },
  {
   "cell_type": "code",
   "execution_count": 68,
   "metadata": {
    "hidden": true
   },
   "outputs": [
    {
     "name": "stdout",
     "output_type": "stream",
     "text": [
      "812.2463312149048\n"
     ]
    },
    {
     "data": {
      "text/html": [
       "<div>\n",
       "<style scoped>\n",
       "    .dataframe tbody tr th:only-of-type {\n",
       "        vertical-align: middle;\n",
       "    }\n",
       "\n",
       "    .dataframe tbody tr th {\n",
       "        vertical-align: top;\n",
       "    }\n",
       "\n",
       "    .dataframe thead th {\n",
       "        text-align: right;\n",
       "    }\n",
       "</style>\n",
       "<table border=\"1\" class=\"dataframe\">\n",
       "  <thead>\n",
       "    <tr style=\"text-align: right;\">\n",
       "      <th></th>\n",
       "      <th>f1</th>\n",
       "      <th>ARI</th>\n",
       "      <th>ACC</th>\n",
       "      <th>NMI</th>\n",
       "      <th>cover_rate</th>\n",
       "      <th>classes</th>\n",
       "    </tr>\n",
       "  </thead>\n",
       "  <tbody>\n",
       "    <tr>\n",
       "      <th>0</th>\n",
       "      <td>0.256401</td>\n",
       "      <td>0.134301</td>\n",
       "      <td>0.273033</td>\n",
       "      <td>0.290453</td>\n",
       "      <td>1.0</td>\n",
       "      <td>10.0</td>\n",
       "    </tr>\n",
       "  </tbody>\n",
       "</table>\n",
       "</div>"
      ],
      "text/plain": [
       "         f1       ARI       ACC       NMI  cover_rate  classes\n",
       "0  0.256401  0.134301  0.273033  0.290453         1.0     10.0"
      ]
     },
     "execution_count": 68,
     "metadata": {},
     "output_type": "execute_result"
    }
   ],
   "source": [
    "X_raw,X,Y_true=DataLoader.load('AE_FMNIST_30')\n",
    "\n",
    "t1=time.time()\n",
    "s = Spectacl(affinity=\"radius_neighbors\", n_clusters=10, epsilon=9)\n",
    "Y_pred = s.fit_predict(X)\n",
    "t2=time.time()\n",
    "print(t2-t1)\n",
    "\n",
    "Y_pred,Y_true=matchY(Y_pred,Y_true)\n",
    "result=measures_calculator(Y_true,Y_pred)\n",
    "result"
   ]
  },
  {
   "cell_type": "code",
   "execution_count": 67,
   "metadata": {
    "hidden": true
   },
   "outputs": [
    {
     "name": "stdout",
     "output_type": "stream",
     "text": [
      "952.3554849624634\n"
     ]
    },
    {
     "data": {
      "text/html": [
       "<div>\n",
       "<style scoped>\n",
       "    .dataframe tbody tr th:only-of-type {\n",
       "        vertical-align: middle;\n",
       "    }\n",
       "\n",
       "    .dataframe tbody tr th {\n",
       "        vertical-align: top;\n",
       "    }\n",
       "\n",
       "    .dataframe thead th {\n",
       "        text-align: right;\n",
       "    }\n",
       "</style>\n",
       "<table border=\"1\" class=\"dataframe\">\n",
       "  <thead>\n",
       "    <tr style=\"text-align: right;\">\n",
       "      <th></th>\n",
       "      <th>f1</th>\n",
       "      <th>ARI</th>\n",
       "      <th>ACC</th>\n",
       "      <th>NMI</th>\n",
       "      <th>cover_rate</th>\n",
       "      <th>classes</th>\n",
       "    </tr>\n",
       "  </thead>\n",
       "  <tbody>\n",
       "    <tr>\n",
       "      <th>0</th>\n",
       "      <td>0.25069</td>\n",
       "      <td>0.091486</td>\n",
       "      <td>0.264383</td>\n",
       "      <td>0.18117</td>\n",
       "      <td>1.0</td>\n",
       "      <td>10.0</td>\n",
       "    </tr>\n",
       "  </tbody>\n",
       "</table>\n",
       "</div>"
      ],
      "text/plain": [
       "        f1       ARI       ACC      NMI  cover_rate  classes\n",
       "0  0.25069  0.091486  0.264383  0.18117         1.0     10.0"
      ]
     },
     "execution_count": 67,
     "metadata": {},
     "output_type": "execute_result"
    }
   ],
   "source": [
    "X_raw,X,Y_true=DataLoader.load('AE_FMNIST_30')\n",
    "\n",
    "t1=time.time()\n",
    "s = Spectacl(affinity=\"radius_neighbors\", n_clusters=10, epsilon=10)\n",
    "Y_pred = s.fit_predict(X)\n",
    "t2=time.time()\n",
    "print(t2-t1)\n",
    "\n",
    "Y_pred,Y_true=matchY(Y_pred,Y_true)\n",
    "result=measures_calculator(Y_true,Y_pred)\n",
    "result"
   ]
  },
  {
   "cell_type": "markdown",
   "metadata": {
    "heading_collapsed": true
   },
   "source": [
    "# QuickshiftPP"
   ]
  },
  {
   "cell_type": "code",
   "execution_count": 83,
   "metadata": {
    "hidden": true,
    "scrolled": true
   },
   "outputs": [
    {
     "name": "stderr",
     "output_type": "stream",
     "text": [
      "/usr/data/software/anaconda3/envs/ML/lib/python3.6/site-packages/sklearn/utils/deprecation.py:144: FutureWarning:\n",
      "\n",
      "The sklearn.neighbors.kde module is  deprecated in version 0.22 and will be removed in version 0.24. The corresponding classes / functions should instead be imported from sklearn.neighbors. Anything that cannot be imported from sklearn.neighbors is now part of the private API.\n",
      "\n"
     ]
    }
   ],
   "source": [
    "from QuickshiftPP import *"
   ]
  },
  {
   "cell_type": "markdown",
   "metadata": {
    "hidden": true
   },
   "source": [
    "## PCA_MNIST"
   ]
  },
  {
   "cell_type": "code",
   "execution_count": 95,
   "metadata": {
    "hidden": true
   },
   "outputs": [
    {
     "name": "stdout",
     "output_type": "stream",
     "text": [
      "2.0702097415924072\n"
     ]
    },
    {
     "data": {
      "text/html": [
       "<div>\n",
       "<style scoped>\n",
       "    .dataframe tbody tr th:only-of-type {\n",
       "        vertical-align: middle;\n",
       "    }\n",
       "\n",
       "    .dataframe tbody tr th {\n",
       "        vertical-align: top;\n",
       "    }\n",
       "\n",
       "    .dataframe thead th {\n",
       "        text-align: right;\n",
       "    }\n",
       "</style>\n",
       "<table border=\"1\" class=\"dataframe\">\n",
       "  <thead>\n",
       "    <tr style=\"text-align: right;\">\n",
       "      <th></th>\n",
       "      <th>f1</th>\n",
       "      <th>ARI</th>\n",
       "      <th>ACC</th>\n",
       "      <th>NMI</th>\n",
       "      <th>cover_rate</th>\n",
       "      <th>classes</th>\n",
       "    </tr>\n",
       "  </thead>\n",
       "  <tbody>\n",
       "    <tr>\n",
       "      <th>0</th>\n",
       "      <td>0.245804</td>\n",
       "      <td>0.172721</td>\n",
       "      <td>0.34125</td>\n",
       "      <td>0.36741</td>\n",
       "      <td>1.0</td>\n",
       "      <td>10.0</td>\n",
       "    </tr>\n",
       "  </tbody>\n",
       "</table>\n",
       "</div>"
      ],
      "text/plain": [
       "         f1       ARI      ACC      NMI  cover_rate  classes\n",
       "0  0.245804  0.172721  0.34125  0.36741         1.0     10.0"
      ]
     },
     "execution_count": 95,
     "metadata": {},
     "output_type": "execute_result"
    }
   ],
   "source": [
    "X_raw,X,Y_true=DataLoader.load('PCA_MNIST_5')\n",
    "\n",
    "t1=time.time()\n",
    "model = QuickshiftPP(k=20,beta=0.5)\n",
    "model.fit(X)\n",
    "Y_pred = model.memberships\n",
    "t2=time.time()\n",
    "print(t2-t1)\n",
    "\n",
    "Y_pred,Y_true=matchY(Y_pred,Y_true)\n",
    "result=measures_calculator(Y_true,Y_pred)\n",
    "result"
   ]
  },
  {
   "cell_type": "code",
   "execution_count": 96,
   "metadata": {
    "hidden": true
   },
   "outputs": [
    {
     "name": "stdout",
     "output_type": "stream",
     "text": [
      "11.59522294998169\n"
     ]
    },
    {
     "data": {
      "text/html": [
       "<div>\n",
       "<style scoped>\n",
       "    .dataframe tbody tr th:only-of-type {\n",
       "        vertical-align: middle;\n",
       "    }\n",
       "\n",
       "    .dataframe tbody tr th {\n",
       "        vertical-align: top;\n",
       "    }\n",
       "\n",
       "    .dataframe thead th {\n",
       "        text-align: right;\n",
       "    }\n",
       "</style>\n",
       "<table border=\"1\" class=\"dataframe\">\n",
       "  <thead>\n",
       "    <tr style=\"text-align: right;\">\n",
       "      <th></th>\n",
       "      <th>f1</th>\n",
       "      <th>ARI</th>\n",
       "      <th>ACC</th>\n",
       "      <th>NMI</th>\n",
       "      <th>cover_rate</th>\n",
       "      <th>classes</th>\n",
       "    </tr>\n",
       "  </thead>\n",
       "  <tbody>\n",
       "    <tr>\n",
       "      <th>0</th>\n",
       "      <td>0.646372</td>\n",
       "      <td>0.528246</td>\n",
       "      <td>0.6858</td>\n",
       "      <td>0.615736</td>\n",
       "      <td>1.0</td>\n",
       "      <td>11.0</td>\n",
       "    </tr>\n",
       "  </tbody>\n",
       "</table>\n",
       "</div>"
      ],
      "text/plain": [
       "         f1       ARI     ACC       NMI  cover_rate  classes\n",
       "0  0.646372  0.528246  0.6858  0.615736         1.0     11.0"
      ]
     },
     "execution_count": 96,
     "metadata": {},
     "output_type": "execute_result"
    }
   ],
   "source": [
    "X_raw,X,Y_true=DataLoader.load('PCA_MNIST_10')\n",
    "\n",
    "t1=time.time()\n",
    "model = QuickshiftPP(k=50,beta=0.5)\n",
    "model.fit(X)\n",
    "Y_pred = model.memberships\n",
    "t2=time.time()\n",
    "print(t2-t1)\n",
    "\n",
    "Y_pred,Y_true=matchY(Y_pred,Y_true)\n",
    "result=measures_calculator(Y_true,Y_pred)\n",
    "result"
   ]
  },
  {
   "cell_type": "code",
   "execution_count": 97,
   "metadata": {
    "hidden": true
   },
   "outputs": [
    {
     "name": "stdout",
     "output_type": "stream",
     "text": [
      "35.317593574523926\n"
     ]
    },
    {
     "data": {
      "text/html": [
       "<div>\n",
       "<style scoped>\n",
       "    .dataframe tbody tr th:only-of-type {\n",
       "        vertical-align: middle;\n",
       "    }\n",
       "\n",
       "    .dataframe tbody tr th {\n",
       "        vertical-align: top;\n",
       "    }\n",
       "\n",
       "    .dataframe thead th {\n",
       "        text-align: right;\n",
       "    }\n",
       "</style>\n",
       "<table border=\"1\" class=\"dataframe\">\n",
       "  <thead>\n",
       "    <tr style=\"text-align: right;\">\n",
       "      <th></th>\n",
       "      <th>f1</th>\n",
       "      <th>ARI</th>\n",
       "      <th>ACC</th>\n",
       "      <th>NMI</th>\n",
       "      <th>cover_rate</th>\n",
       "      <th>classes</th>\n",
       "    </tr>\n",
       "  </thead>\n",
       "  <tbody>\n",
       "    <tr>\n",
       "      <th>0</th>\n",
       "      <td>0.486525</td>\n",
       "      <td>0.460488</td>\n",
       "      <td>0.508083</td>\n",
       "      <td>0.639379</td>\n",
       "      <td>1.0</td>\n",
       "      <td>11.0</td>\n",
       "    </tr>\n",
       "  </tbody>\n",
       "</table>\n",
       "</div>"
      ],
      "text/plain": [
       "         f1       ARI       ACC       NMI  cover_rate  classes\n",
       "0  0.486525  0.460488  0.508083  0.639379         1.0     11.0"
      ]
     },
     "execution_count": 97,
     "metadata": {},
     "output_type": "execute_result"
    }
   ],
   "source": [
    "X_raw,X,Y_true=DataLoader.load('PCA_MNIST_20')\n",
    "\n",
    "t1=time.time()\n",
    "model = QuickshiftPP(k=50,beta=0.5)\n",
    "model.fit(X)\n",
    "Y_pred = model.memberships\n",
    "t2=time.time()\n",
    "print(t2-t1)\n",
    "\n",
    "Y_pred,Y_true=matchY(Y_pred,Y_true)\n",
    "result=measures_calculator(Y_true,Y_pred)\n",
    "result"
   ]
  },
  {
   "cell_type": "code",
   "execution_count": 98,
   "metadata": {
    "hidden": true
   },
   "outputs": [
    {
     "name": "stdout",
     "output_type": "stream",
     "text": [
      "73.658926486969\n"
     ]
    },
    {
     "data": {
      "text/html": [
       "<div>\n",
       "<style scoped>\n",
       "    .dataframe tbody tr th:only-of-type {\n",
       "        vertical-align: middle;\n",
       "    }\n",
       "\n",
       "    .dataframe tbody tr th {\n",
       "        vertical-align: top;\n",
       "    }\n",
       "\n",
       "    .dataframe thead th {\n",
       "        text-align: right;\n",
       "    }\n",
       "</style>\n",
       "<table border=\"1\" class=\"dataframe\">\n",
       "  <thead>\n",
       "    <tr style=\"text-align: right;\">\n",
       "      <th></th>\n",
       "      <th>f1</th>\n",
       "      <th>ARI</th>\n",
       "      <th>ACC</th>\n",
       "      <th>NMI</th>\n",
       "      <th>cover_rate</th>\n",
       "      <th>classes</th>\n",
       "    </tr>\n",
       "  </thead>\n",
       "  <tbody>\n",
       "    <tr>\n",
       "      <th>0</th>\n",
       "      <td>0.541622</td>\n",
       "      <td>0.267501</td>\n",
       "      <td>0.504767</td>\n",
       "      <td>0.556068</td>\n",
       "      <td>1.0</td>\n",
       "      <td>11.0</td>\n",
       "    </tr>\n",
       "  </tbody>\n",
       "</table>\n",
       "</div>"
      ],
      "text/plain": [
       "         f1       ARI       ACC       NMI  cover_rate  classes\n",
       "0  0.541622  0.267501  0.504767  0.556068         1.0     11.0"
      ]
     },
     "execution_count": 98,
     "metadata": {},
     "output_type": "execute_result"
    }
   ],
   "source": [
    "X_raw,X,Y_true=DataLoader.load('PCA_MNIST_30')\n",
    "\n",
    "t1=time.time()\n",
    "model = QuickshiftPP(k=50,beta=0.5)\n",
    "model.fit(X)\n",
    "Y_pred = model.memberships\n",
    "t2=time.time()\n",
    "print(t2-t1)\n",
    "\n",
    "Y_pred,Y_true=matchY(Y_pred,Y_true)\n",
    "result=measures_calculator(Y_true,Y_pred)\n",
    "result"
   ]
  },
  {
   "cell_type": "markdown",
   "metadata": {
    "hidden": true
   },
   "source": [
    "## PCA_FMNIST"
   ]
  },
  {
   "cell_type": "code",
   "execution_count": 99,
   "metadata": {
    "hidden": true
   },
   "outputs": [
    {
     "name": "stdout",
     "output_type": "stream",
     "text": [
      "3.7989919185638428\n"
     ]
    },
    {
     "data": {
      "text/html": [
       "<div>\n",
       "<style scoped>\n",
       "    .dataframe tbody tr th:only-of-type {\n",
       "        vertical-align: middle;\n",
       "    }\n",
       "\n",
       "    .dataframe tbody tr th {\n",
       "        vertical-align: top;\n",
       "    }\n",
       "\n",
       "    .dataframe thead th {\n",
       "        text-align: right;\n",
       "    }\n",
       "</style>\n",
       "<table border=\"1\" class=\"dataframe\">\n",
       "  <thead>\n",
       "    <tr style=\"text-align: right;\">\n",
       "      <th></th>\n",
       "      <th>f1</th>\n",
       "      <th>ARI</th>\n",
       "      <th>ACC</th>\n",
       "      <th>NMI</th>\n",
       "      <th>cover_rate</th>\n",
       "      <th>classes</th>\n",
       "    </tr>\n",
       "  </thead>\n",
       "  <tbody>\n",
       "    <tr>\n",
       "      <th>0</th>\n",
       "      <td>0.422668</td>\n",
       "      <td>0.345484</td>\n",
       "      <td>0.486983</td>\n",
       "      <td>0.546849</td>\n",
       "      <td>1.0</td>\n",
       "      <td>10.0</td>\n",
       "    </tr>\n",
       "  </tbody>\n",
       "</table>\n",
       "</div>"
      ],
      "text/plain": [
       "         f1       ARI       ACC       NMI  cover_rate  classes\n",
       "0  0.422668  0.345484  0.486983  0.546849         1.0     10.0"
      ]
     },
     "execution_count": 99,
     "metadata": {},
     "output_type": "execute_result"
    }
   ],
   "source": [
    "X_raw,X,Y_true=DataLoader.load('PCA_FMNIST_5')\n",
    "\n",
    "t1=time.time()\n",
    "model = QuickshiftPP(k=50,beta=0.5)\n",
    "model.fit(X)\n",
    "Y_pred = model.memberships\n",
    "t2=time.time()\n",
    "print(t2-t1)\n",
    "\n",
    "Y_pred,Y_true=matchY(Y_pred,Y_true)\n",
    "result=measures_calculator(Y_true,Y_pred)\n",
    "result"
   ]
  },
  {
   "cell_type": "code",
   "execution_count": 100,
   "metadata": {
    "hidden": true
   },
   "outputs": [
    {
     "name": "stdout",
     "output_type": "stream",
     "text": [
      "5.915688991546631\n"
     ]
    },
    {
     "data": {
      "text/html": [
       "<div>\n",
       "<style scoped>\n",
       "    .dataframe tbody tr th:only-of-type {\n",
       "        vertical-align: middle;\n",
       "    }\n",
       "\n",
       "    .dataframe tbody tr th {\n",
       "        vertical-align: top;\n",
       "    }\n",
       "\n",
       "    .dataframe thead th {\n",
       "        text-align: right;\n",
       "    }\n",
       "</style>\n",
       "<table border=\"1\" class=\"dataframe\">\n",
       "  <thead>\n",
       "    <tr style=\"text-align: right;\">\n",
       "      <th></th>\n",
       "      <th>f1</th>\n",
       "      <th>ARI</th>\n",
       "      <th>ACC</th>\n",
       "      <th>NMI</th>\n",
       "      <th>cover_rate</th>\n",
       "      <th>classes</th>\n",
       "    </tr>\n",
       "  </thead>\n",
       "  <tbody>\n",
       "    <tr>\n",
       "      <th>0</th>\n",
       "      <td>0.424779</td>\n",
       "      <td>0.343422</td>\n",
       "      <td>0.4408</td>\n",
       "      <td>0.515399</td>\n",
       "      <td>1.0</td>\n",
       "      <td>11.0</td>\n",
       "    </tr>\n",
       "  </tbody>\n",
       "</table>\n",
       "</div>"
      ],
      "text/plain": [
       "         f1       ARI     ACC       NMI  cover_rate  classes\n",
       "0  0.424779  0.343422  0.4408  0.515399         1.0     11.0"
      ]
     },
     "execution_count": 100,
     "metadata": {},
     "output_type": "execute_result"
    }
   ],
   "source": [
    "X_raw,X,Y_true=DataLoader.load('PCA_FMNIST_10')\n",
    "\n",
    "t1=time.time()\n",
    "model = QuickshiftPP(k=50,beta=0.5)\n",
    "model.fit(X)\n",
    "Y_pred = model.memberships\n",
    "t2=time.time()\n",
    "print(t2-t1)\n",
    "\n",
    "Y_pred,Y_true=matchY(Y_pred,Y_true)\n",
    "result=measures_calculator(Y_true,Y_pred)\n",
    "result"
   ]
  },
  {
   "cell_type": "code",
   "execution_count": 101,
   "metadata": {
    "hidden": true
   },
   "outputs": [
    {
     "name": "stdout",
     "output_type": "stream",
     "text": [
      "11.47262692451477\n"
     ]
    },
    {
     "data": {
      "text/html": [
       "<div>\n",
       "<style scoped>\n",
       "    .dataframe tbody tr th:only-of-type {\n",
       "        vertical-align: middle;\n",
       "    }\n",
       "\n",
       "    .dataframe tbody tr th {\n",
       "        vertical-align: top;\n",
       "    }\n",
       "\n",
       "    .dataframe thead th {\n",
       "        text-align: right;\n",
       "    }\n",
       "</style>\n",
       "<table border=\"1\" class=\"dataframe\">\n",
       "  <thead>\n",
       "    <tr style=\"text-align: right;\">\n",
       "      <th></th>\n",
       "      <th>f1</th>\n",
       "      <th>ARI</th>\n",
       "      <th>ACC</th>\n",
       "      <th>NMI</th>\n",
       "      <th>cover_rate</th>\n",
       "      <th>classes</th>\n",
       "    </tr>\n",
       "  </thead>\n",
       "  <tbody>\n",
       "    <tr>\n",
       "      <th>0</th>\n",
       "      <td>0.402471</td>\n",
       "      <td>0.144446</td>\n",
       "      <td>0.390467</td>\n",
       "      <td>0.403736</td>\n",
       "      <td>1.0</td>\n",
       "      <td>11.0</td>\n",
       "    </tr>\n",
       "  </tbody>\n",
       "</table>\n",
       "</div>"
      ],
      "text/plain": [
       "         f1       ARI       ACC       NMI  cover_rate  classes\n",
       "0  0.402471  0.144446  0.390467  0.403736         1.0     11.0"
      ]
     },
     "execution_count": 101,
     "metadata": {},
     "output_type": "execute_result"
    }
   ],
   "source": [
    "X_raw,X,Y_true=DataLoader.load('PCA_FMNIST_20')\n",
    "\n",
    "t1=time.time()\n",
    "model = QuickshiftPP(k=50,beta=0.5)\n",
    "model.fit(X)\n",
    "Y_pred = model.memberships\n",
    "t2=time.time()\n",
    "print(t2-t1)\n",
    "\n",
    "Y_pred,Y_true=matchY(Y_pred,Y_true)\n",
    "result=measures_calculator(Y_true,Y_pred)\n",
    "result"
   ]
  },
  {
   "cell_type": "code",
   "execution_count": 102,
   "metadata": {
    "hidden": true
   },
   "outputs": [
    {
     "name": "stdout",
     "output_type": "stream",
     "text": [
      "25.66669511795044\n"
     ]
    },
    {
     "data": {
      "text/html": [
       "<div>\n",
       "<style scoped>\n",
       "    .dataframe tbody tr th:only-of-type {\n",
       "        vertical-align: middle;\n",
       "    }\n",
       "\n",
       "    .dataframe tbody tr th {\n",
       "        vertical-align: top;\n",
       "    }\n",
       "\n",
       "    .dataframe thead th {\n",
       "        text-align: right;\n",
       "    }\n",
       "</style>\n",
       "<table border=\"1\" class=\"dataframe\">\n",
       "  <thead>\n",
       "    <tr style=\"text-align: right;\">\n",
       "      <th></th>\n",
       "      <th>f1</th>\n",
       "      <th>ARI</th>\n",
       "      <th>ACC</th>\n",
       "      <th>NMI</th>\n",
       "      <th>cover_rate</th>\n",
       "      <th>classes</th>\n",
       "    </tr>\n",
       "  </thead>\n",
       "  <tbody>\n",
       "    <tr>\n",
       "      <th>0</th>\n",
       "      <td>0.382822</td>\n",
       "      <td>0.107868</td>\n",
       "      <td>0.362417</td>\n",
       "      <td>0.378115</td>\n",
       "      <td>1.0</td>\n",
       "      <td>11.0</td>\n",
       "    </tr>\n",
       "  </tbody>\n",
       "</table>\n",
       "</div>"
      ],
      "text/plain": [
       "         f1       ARI       ACC       NMI  cover_rate  classes\n",
       "0  0.382822  0.107868  0.362417  0.378115         1.0     11.0"
      ]
     },
     "execution_count": 102,
     "metadata": {},
     "output_type": "execute_result"
    }
   ],
   "source": [
    "X_raw,X,Y_true=DataLoader.load('PCA_FMNIST_30')\n",
    "\n",
    "t1=time.time()\n",
    "model = QuickshiftPP(k=50,beta=0.5)\n",
    "model.fit(X)\n",
    "Y_pred = model.memberships\n",
    "t2=time.time()\n",
    "print(t2-t1)\n",
    "\n",
    "Y_pred,Y_true=matchY(Y_pred,Y_true)\n",
    "result=measures_calculator(Y_true,Y_pred)\n",
    "result"
   ]
  },
  {
   "cell_type": "markdown",
   "metadata": {
    "hidden": true
   },
   "source": [
    "## AE_MNIST"
   ]
  },
  {
   "cell_type": "code",
   "execution_count": 103,
   "metadata": {
    "hidden": true
   },
   "outputs": [
    {
     "name": "stdout",
     "output_type": "stream",
     "text": [
      "4.119349479675293\n"
     ]
    },
    {
     "data": {
      "text/html": [
       "<div>\n",
       "<style scoped>\n",
       "    .dataframe tbody tr th:only-of-type {\n",
       "        vertical-align: middle;\n",
       "    }\n",
       "\n",
       "    .dataframe tbody tr th {\n",
       "        vertical-align: top;\n",
       "    }\n",
       "\n",
       "    .dataframe thead th {\n",
       "        text-align: right;\n",
       "    }\n",
       "</style>\n",
       "<table border=\"1\" class=\"dataframe\">\n",
       "  <thead>\n",
       "    <tr style=\"text-align: right;\">\n",
       "      <th></th>\n",
       "      <th>f1</th>\n",
       "      <th>ARI</th>\n",
       "      <th>ACC</th>\n",
       "      <th>NMI</th>\n",
       "      <th>cover_rate</th>\n",
       "      <th>classes</th>\n",
       "    </tr>\n",
       "  </thead>\n",
       "  <tbody>\n",
       "    <tr>\n",
       "      <th>0</th>\n",
       "      <td>0.779808</td>\n",
       "      <td>0.733119</td>\n",
       "      <td>0.810667</td>\n",
       "      <td>0.817691</td>\n",
       "      <td>1.0</td>\n",
       "      <td>11.0</td>\n",
       "    </tr>\n",
       "  </tbody>\n",
       "</table>\n",
       "</div>"
      ],
      "text/plain": [
       "         f1       ARI       ACC       NMI  cover_rate  classes\n",
       "0  0.779808  0.733119  0.810667  0.817691         1.0     11.0"
      ]
     },
     "execution_count": 103,
     "metadata": {},
     "output_type": "execute_result"
    }
   ],
   "source": [
    "X_raw,X,Y_true=DataLoader.load('AE_MNIST_5')\n",
    "\n",
    "t1=time.time()\n",
    "model = QuickshiftPP(k=50,beta=0.5)\n",
    "model.fit(X)\n",
    "Y_pred = model.memberships\n",
    "t2=time.time()\n",
    "print(t2-t1)\n",
    "\n",
    "Y_pred,Y_true=matchY(Y_pred,Y_true)\n",
    "result=measures_calculator(Y_true,Y_pred)\n",
    "result"
   ]
  },
  {
   "cell_type": "code",
   "execution_count": 104,
   "metadata": {
    "hidden": true
   },
   "outputs": [
    {
     "name": "stdout",
     "output_type": "stream",
     "text": [
      "11.561985969543457\n"
     ]
    },
    {
     "data": {
      "text/html": [
       "<div>\n",
       "<style scoped>\n",
       "    .dataframe tbody tr th:only-of-type {\n",
       "        vertical-align: middle;\n",
       "    }\n",
       "\n",
       "    .dataframe tbody tr th {\n",
       "        vertical-align: top;\n",
       "    }\n",
       "\n",
       "    .dataframe thead th {\n",
       "        text-align: right;\n",
       "    }\n",
       "</style>\n",
       "<table border=\"1\" class=\"dataframe\">\n",
       "  <thead>\n",
       "    <tr style=\"text-align: right;\">\n",
       "      <th></th>\n",
       "      <th>f1</th>\n",
       "      <th>ARI</th>\n",
       "      <th>ACC</th>\n",
       "      <th>NMI</th>\n",
       "      <th>cover_rate</th>\n",
       "      <th>classes</th>\n",
       "    </tr>\n",
       "  </thead>\n",
       "  <tbody>\n",
       "    <tr>\n",
       "      <th>0</th>\n",
       "      <td>0.739898</td>\n",
       "      <td>0.705391</td>\n",
       "      <td>0.751867</td>\n",
       "      <td>0.80835</td>\n",
       "      <td>1.0</td>\n",
       "      <td>11.0</td>\n",
       "    </tr>\n",
       "  </tbody>\n",
       "</table>\n",
       "</div>"
      ],
      "text/plain": [
       "         f1       ARI       ACC      NMI  cover_rate  classes\n",
       "0  0.739898  0.705391  0.751867  0.80835         1.0     11.0"
      ]
     },
     "execution_count": 104,
     "metadata": {},
     "output_type": "execute_result"
    }
   ],
   "source": [
    "X_raw,X,Y_true=DataLoader.load('AE_MNIST_10')\n",
    "\n",
    "t1=time.time()\n",
    "model = QuickshiftPP(k=50,beta=0.5)\n",
    "model.fit(X)\n",
    "Y_pred = model.memberships\n",
    "t2=time.time()\n",
    "print(t2-t1)\n",
    "\n",
    "Y_pred,Y_true=matchY(Y_pred,Y_true)\n",
    "result=measures_calculator(Y_true,Y_pred)\n",
    "result"
   ]
  },
  {
   "cell_type": "code",
   "execution_count": 105,
   "metadata": {
    "hidden": true
   },
   "outputs": [
    {
     "name": "stdout",
     "output_type": "stream",
     "text": [
      "51.440797328948975\n"
     ]
    },
    {
     "data": {
      "text/html": [
       "<div>\n",
       "<style scoped>\n",
       "    .dataframe tbody tr th:only-of-type {\n",
       "        vertical-align: middle;\n",
       "    }\n",
       "\n",
       "    .dataframe tbody tr th {\n",
       "        vertical-align: top;\n",
       "    }\n",
       "\n",
       "    .dataframe thead th {\n",
       "        text-align: right;\n",
       "    }\n",
       "</style>\n",
       "<table border=\"1\" class=\"dataframe\">\n",
       "  <thead>\n",
       "    <tr style=\"text-align: right;\">\n",
       "      <th></th>\n",
       "      <th>f1</th>\n",
       "      <th>ARI</th>\n",
       "      <th>ACC</th>\n",
       "      <th>NMI</th>\n",
       "      <th>cover_rate</th>\n",
       "      <th>classes</th>\n",
       "    </tr>\n",
       "  </thead>\n",
       "  <tbody>\n",
       "    <tr>\n",
       "      <th>0</th>\n",
       "      <td>0.785197</td>\n",
       "      <td>0.643615</td>\n",
       "      <td>0.761867</td>\n",
       "      <td>0.768557</td>\n",
       "      <td>1.0</td>\n",
       "      <td>11.0</td>\n",
       "    </tr>\n",
       "  </tbody>\n",
       "</table>\n",
       "</div>"
      ],
      "text/plain": [
       "         f1       ARI       ACC       NMI  cover_rate  classes\n",
       "0  0.785197  0.643615  0.761867  0.768557         1.0     11.0"
      ]
     },
     "execution_count": 105,
     "metadata": {},
     "output_type": "execute_result"
    }
   ],
   "source": [
    "X_raw,X,Y_true=DataLoader.load('AE_MNIST_20')\n",
    "\n",
    "t1=time.time()\n",
    "model = QuickshiftPP(k=50,beta=0.5)\n",
    "model.fit(X)\n",
    "Y_pred = model.memberships\n",
    "t2=time.time()\n",
    "print(t2-t1)\n",
    "\n",
    "Y_pred,Y_true=matchY(Y_pred,Y_true)\n",
    "result=measures_calculator(Y_true,Y_pred)\n",
    "result"
   ]
  },
  {
   "cell_type": "code",
   "execution_count": 106,
   "metadata": {
    "hidden": true
   },
   "outputs": [
    {
     "name": "stdout",
     "output_type": "stream",
     "text": [
      "86.56697821617126\n"
     ]
    },
    {
     "data": {
      "text/html": [
       "<div>\n",
       "<style scoped>\n",
       "    .dataframe tbody tr th:only-of-type {\n",
       "        vertical-align: middle;\n",
       "    }\n",
       "\n",
       "    .dataframe tbody tr th {\n",
       "        vertical-align: top;\n",
       "    }\n",
       "\n",
       "    .dataframe thead th {\n",
       "        text-align: right;\n",
       "    }\n",
       "</style>\n",
       "<table border=\"1\" class=\"dataframe\">\n",
       "  <thead>\n",
       "    <tr style=\"text-align: right;\">\n",
       "      <th></th>\n",
       "      <th>f1</th>\n",
       "      <th>ARI</th>\n",
       "      <th>ACC</th>\n",
       "      <th>NMI</th>\n",
       "      <th>cover_rate</th>\n",
       "      <th>classes</th>\n",
       "    </tr>\n",
       "  </thead>\n",
       "  <tbody>\n",
       "    <tr>\n",
       "      <th>0</th>\n",
       "      <td>0.680408</td>\n",
       "      <td>0.415365</td>\n",
       "      <td>0.643417</td>\n",
       "      <td>0.65931</td>\n",
       "      <td>1.0</td>\n",
       "      <td>11.0</td>\n",
       "    </tr>\n",
       "  </tbody>\n",
       "</table>\n",
       "</div>"
      ],
      "text/plain": [
       "         f1       ARI       ACC      NMI  cover_rate  classes\n",
       "0  0.680408  0.415365  0.643417  0.65931         1.0     11.0"
      ]
     },
     "execution_count": 106,
     "metadata": {},
     "output_type": "execute_result"
    }
   ],
   "source": [
    "X_raw,X,Y_true=DataLoader.load('AE_MNIST_30')\n",
    "\n",
    "t1=time.time()\n",
    "model = QuickshiftPP(k=50,beta=0.5)\n",
    "model.fit(X)\n",
    "Y_pred = model.memberships\n",
    "t2=time.time()\n",
    "print(t2-t1)\n",
    "\n",
    "Y_pred,Y_true=matchY(Y_pred,Y_true)\n",
    "result=measures_calculator(Y_true,Y_pred)\n",
    "result"
   ]
  },
  {
   "cell_type": "markdown",
   "metadata": {
    "hidden": true
   },
   "source": [
    "## AE_FMNIST"
   ]
  },
  {
   "cell_type": "code",
   "execution_count": 107,
   "metadata": {
    "hidden": true
   },
   "outputs": [
    {
     "name": "stdout",
     "output_type": "stream",
     "text": [
      "4.131582975387573\n"
     ]
    },
    {
     "data": {
      "text/html": [
       "<div>\n",
       "<style scoped>\n",
       "    .dataframe tbody tr th:only-of-type {\n",
       "        vertical-align: middle;\n",
       "    }\n",
       "\n",
       "    .dataframe tbody tr th {\n",
       "        vertical-align: top;\n",
       "    }\n",
       "\n",
       "    .dataframe thead th {\n",
       "        text-align: right;\n",
       "    }\n",
       "</style>\n",
       "<table border=\"1\" class=\"dataframe\">\n",
       "  <thead>\n",
       "    <tr style=\"text-align: right;\">\n",
       "      <th></th>\n",
       "      <th>f1</th>\n",
       "      <th>ARI</th>\n",
       "      <th>ACC</th>\n",
       "      <th>NMI</th>\n",
       "      <th>cover_rate</th>\n",
       "      <th>classes</th>\n",
       "    </tr>\n",
       "  </thead>\n",
       "  <tbody>\n",
       "    <tr>\n",
       "      <th>0</th>\n",
       "      <td>0.345888</td>\n",
       "      <td>0.328888</td>\n",
       "      <td>0.4332</td>\n",
       "      <td>0.539697</td>\n",
       "      <td>1.0</td>\n",
       "      <td>10.0</td>\n",
       "    </tr>\n",
       "  </tbody>\n",
       "</table>\n",
       "</div>"
      ],
      "text/plain": [
       "         f1       ARI     ACC       NMI  cover_rate  classes\n",
       "0  0.345888  0.328888  0.4332  0.539697         1.0     10.0"
      ]
     },
     "execution_count": 107,
     "metadata": {},
     "output_type": "execute_result"
    }
   ],
   "source": [
    "X_raw,X,Y_true=DataLoader.load('AE_FMNIST_5')\n",
    "\n",
    "t1=time.time()\n",
    "model = QuickshiftPP(k=50,beta=0.5)\n",
    "model.fit(X)\n",
    "Y_pred = model.memberships\n",
    "t2=time.time()\n",
    "print(t2-t1)\n",
    "\n",
    "Y_pred,Y_true=matchY(Y_pred,Y_true)\n",
    "result=measures_calculator(Y_true,Y_pred)\n",
    "result"
   ]
  },
  {
   "cell_type": "code",
   "execution_count": 108,
   "metadata": {
    "hidden": true
   },
   "outputs": [
    {
     "name": "stdout",
     "output_type": "stream",
     "text": [
      "9.636483430862427\n"
     ]
    },
    {
     "data": {
      "text/html": [
       "<div>\n",
       "<style scoped>\n",
       "    .dataframe tbody tr th:only-of-type {\n",
       "        vertical-align: middle;\n",
       "    }\n",
       "\n",
       "    .dataframe tbody tr th {\n",
       "        vertical-align: top;\n",
       "    }\n",
       "\n",
       "    .dataframe thead th {\n",
       "        text-align: right;\n",
       "    }\n",
       "</style>\n",
       "<table border=\"1\" class=\"dataframe\">\n",
       "  <thead>\n",
       "    <tr style=\"text-align: right;\">\n",
       "      <th></th>\n",
       "      <th>f1</th>\n",
       "      <th>ARI</th>\n",
       "      <th>ACC</th>\n",
       "      <th>NMI</th>\n",
       "      <th>cover_rate</th>\n",
       "      <th>classes</th>\n",
       "    </tr>\n",
       "  </thead>\n",
       "  <tbody>\n",
       "    <tr>\n",
       "      <th>0</th>\n",
       "      <td>0.4461</td>\n",
       "      <td>0.373777</td>\n",
       "      <td>0.48945</td>\n",
       "      <td>0.591802</td>\n",
       "      <td>1.0</td>\n",
       "      <td>11.0</td>\n",
       "    </tr>\n",
       "  </tbody>\n",
       "</table>\n",
       "</div>"
      ],
      "text/plain": [
       "       f1       ARI      ACC       NMI  cover_rate  classes\n",
       "0  0.4461  0.373777  0.48945  0.591802         1.0     11.0"
      ]
     },
     "execution_count": 108,
     "metadata": {},
     "output_type": "execute_result"
    }
   ],
   "source": [
    "X_raw,X,Y_true=DataLoader.load('AE_FMNIST_10')\n",
    "\n",
    "t1=time.time()\n",
    "model = QuickshiftPP(k=50,beta=0.5)\n",
    "model.fit(X)\n",
    "Y_pred = model.memberships\n",
    "t2=time.time()\n",
    "print(t2-t1)\n",
    "\n",
    "Y_pred,Y_true=matchY(Y_pred,Y_true)\n",
    "result=measures_calculator(Y_true,Y_pred)\n",
    "result"
   ]
  },
  {
   "cell_type": "code",
   "execution_count": 109,
   "metadata": {
    "hidden": true
   },
   "outputs": [
    {
     "name": "stdout",
     "output_type": "stream",
     "text": [
      "26.8263738155365\n"
     ]
    },
    {
     "data": {
      "text/html": [
       "<div>\n",
       "<style scoped>\n",
       "    .dataframe tbody tr th:only-of-type {\n",
       "        vertical-align: middle;\n",
       "    }\n",
       "\n",
       "    .dataframe tbody tr th {\n",
       "        vertical-align: top;\n",
       "    }\n",
       "\n",
       "    .dataframe thead th {\n",
       "        text-align: right;\n",
       "    }\n",
       "</style>\n",
       "<table border=\"1\" class=\"dataframe\">\n",
       "  <thead>\n",
       "    <tr style=\"text-align: right;\">\n",
       "      <th></th>\n",
       "      <th>f1</th>\n",
       "      <th>ARI</th>\n",
       "      <th>ACC</th>\n",
       "      <th>NMI</th>\n",
       "      <th>cover_rate</th>\n",
       "      <th>classes</th>\n",
       "    </tr>\n",
       "  </thead>\n",
       "  <tbody>\n",
       "    <tr>\n",
       "      <th>0</th>\n",
       "      <td>0.384507</td>\n",
       "      <td>0.234928</td>\n",
       "      <td>0.397133</td>\n",
       "      <td>0.490564</td>\n",
       "      <td>1.0</td>\n",
       "      <td>11.0</td>\n",
       "    </tr>\n",
       "  </tbody>\n",
       "</table>\n",
       "</div>"
      ],
      "text/plain": [
       "         f1       ARI       ACC       NMI  cover_rate  classes\n",
       "0  0.384507  0.234928  0.397133  0.490564         1.0     11.0"
      ]
     },
     "execution_count": 109,
     "metadata": {},
     "output_type": "execute_result"
    }
   ],
   "source": [
    "X_raw,X,Y_true=DataLoader.load('AE_FMNIST_20')\n",
    "\n",
    "t1=time.time()\n",
    "model = QuickshiftPP(k=50,beta=0.5)\n",
    "model.fit(X)\n",
    "Y_pred = model.memberships\n",
    "t2=time.time()\n",
    "print(t2-t1)\n",
    "\n",
    "Y_pred,Y_true=matchY(Y_pred,Y_true)\n",
    "result=measures_calculator(Y_true,Y_pred)\n",
    "result"
   ]
  },
  {
   "cell_type": "code",
   "execution_count": 110,
   "metadata": {
    "hidden": true
   },
   "outputs": [
    {
     "name": "stdout",
     "output_type": "stream",
     "text": [
      "52.33619451522827\n"
     ]
    },
    {
     "data": {
      "text/html": [
       "<div>\n",
       "<style scoped>\n",
       "    .dataframe tbody tr th:only-of-type {\n",
       "        vertical-align: middle;\n",
       "    }\n",
       "\n",
       "    .dataframe tbody tr th {\n",
       "        vertical-align: top;\n",
       "    }\n",
       "\n",
       "    .dataframe thead th {\n",
       "        text-align: right;\n",
       "    }\n",
       "</style>\n",
       "<table border=\"1\" class=\"dataframe\">\n",
       "  <thead>\n",
       "    <tr style=\"text-align: right;\">\n",
       "      <th></th>\n",
       "      <th>f1</th>\n",
       "      <th>ARI</th>\n",
       "      <th>ACC</th>\n",
       "      <th>NMI</th>\n",
       "      <th>cover_rate</th>\n",
       "      <th>classes</th>\n",
       "    </tr>\n",
       "  </thead>\n",
       "  <tbody>\n",
       "    <tr>\n",
       "      <th>0</th>\n",
       "      <td>0.370655</td>\n",
       "      <td>0.141523</td>\n",
       "      <td>0.356967</td>\n",
       "      <td>0.402852</td>\n",
       "      <td>1.0</td>\n",
       "      <td>11.0</td>\n",
       "    </tr>\n",
       "  </tbody>\n",
       "</table>\n",
       "</div>"
      ],
      "text/plain": [
       "         f1       ARI       ACC       NMI  cover_rate  classes\n",
       "0  0.370655  0.141523  0.356967  0.402852         1.0     11.0"
      ]
     },
     "execution_count": 110,
     "metadata": {},
     "output_type": "execute_result"
    }
   ],
   "source": [
    "X_raw,X,Y_true=DataLoader.load('AE_FMNIST_30')\n",
    "\n",
    "t1=time.time()\n",
    "model = QuickshiftPP(k=50,beta=0.5)\n",
    "model.fit(X)\n",
    "Y_pred = model.memberships\n",
    "t2=time.time()\n",
    "print(t2-t1)\n",
    "\n",
    "Y_pred,Y_true=matchY(Y_pred,Y_true)\n",
    "result=measures_calculator(Y_true,Y_pred)\n",
    "result"
   ]
  },
  {
   "cell_type": "code",
   "execution_count": null,
   "metadata": {
    "hidden": true
   },
   "outputs": [],
   "source": []
  }
 ],
 "metadata": {
  "kernelspec": {
   "display_name": "ML",
   "language": "python",
   "name": "ml"
  },
  "language_info": {
   "codemirror_mode": {
    "name": "ipython",
    "version": 3
   },
   "file_extension": ".py",
   "mimetype": "text/x-python",
   "name": "python",
   "nbconvert_exporter": "python",
   "pygments_lexer": "ipython3",
   "version": "3.6.10"
  },
  "toc": {
   "base_numbering": 1,
   "nav_menu": {},
   "number_sections": true,
   "sideBar": true,
   "skip_h1_title": false,
   "title_cell": "Table of Contents",
   "title_sidebar": "Contents",
   "toc_cell": false,
   "toc_position": {},
   "toc_section_display": true,
   "toc_window_display": false
  }
 },
 "nbformat": 4,
 "nbformat_minor": 4
}
