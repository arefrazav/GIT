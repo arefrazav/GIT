{
 "cells": [
  {
   "cell_type": "code",
   "execution_count": 26,
   "metadata": {},
   "outputs": [],
   "source": [
    "import numpy as np\n",
    "from torchvision import datasets\n",
    "from sklearn.decomposition import PCA\n",
    "import pickle\n",
    "\n",
    "def Proj_MNIST(dim):\n",
    "    dataset2 = datasets.MNIST('../data', train=True, download=True)\n",
    "    N=dataset2.test_data.shape[0]\n",
    "    X_raw = dataset2.test_data.numpy()\n",
    "    X=X_raw.reshape(N,784)/255\n",
    "    Y_true=dataset2.test_labels.numpy()\n",
    "    pca = PCA(n_components=784)\n",
    "    Hidden=pca.fit_transform(X)\n",
    "    Hidden=Hidden[:,:dim]\n",
    "    Hidden=(Hidden-np.min(Hidden))/(np.max(Hidden)-np.min(Hidden))\n",
    "    return X_raw,Hidden,Y_true"
   ]
  },
  {
   "cell_type": "code",
   "execution_count": 27,
   "metadata": {},
   "outputs": [
    {
     "name": "stderr",
     "output_type": "stream",
     "text": [
      "/usr/data/software/anaconda3/envs/ML/lib/python3.6/site-packages/torchvision/datasets/mnist.py:63: UserWarning: test_data has been renamed data\n",
      "  warnings.warn(\"test_data has been renamed data\")\n",
      "/usr/data/software/anaconda3/envs/ML/lib/python3.6/site-packages/torchvision/datasets/mnist.py:53: UserWarning: test_labels has been renamed targets\n",
      "  warnings.warn(\"test_labels has been renamed targets\")\n"
     ]
    }
   ],
   "source": [
    "dim=2\n",
    "X,Hidden,Y = Proj_MNIST(dim)\n",
    "pickle.dump(X,open('./embedding/PCA_MNIST_X_{}.pkl'.format(dim),'wb'))\n",
    "pickle.dump(Hidden,open('./embedding/PCA_MNIST_Hidden_{}.pkl'.format(dim),'wb'))\n",
    "pickle.dump(Y,open('./embedding/PCA_MNIST_Y_{}.pkl'.format(dim),'wb'))"
   ]
  },
  {
   "cell_type": "code",
   "execution_count": 28,
   "metadata": {},
   "outputs": [
    {
     "name": "stderr",
     "output_type": "stream",
     "text": [
      "/usr/data/software/anaconda3/envs/ML/lib/python3.6/site-packages/torchvision/datasets/mnist.py:63: UserWarning: test_data has been renamed data\n",
      "  warnings.warn(\"test_data has been renamed data\")\n",
      "/usr/data/software/anaconda3/envs/ML/lib/python3.6/site-packages/torchvision/datasets/mnist.py:53: UserWarning: test_labels has been renamed targets\n",
      "  warnings.warn(\"test_labels has been renamed targets\")\n"
     ]
    }
   ],
   "source": [
    "dim=5\n",
    "X,Hidden,Y = Proj_MNIST(dim)\n",
    "pickle.dump(X,open('./embedding/PCA_MNIST_X_{}.pkl'.format(dim),'wb'))\n",
    "pickle.dump(Hidden,open('./embedding/PCA_MNIST_Hidden_{}.pkl'.format(dim),'wb'))\n",
    "pickle.dump(Y,open('./embedding/PCA_MNIST_Y_{}.pkl'.format(dim),'wb'))"
   ]
  },
  {
   "cell_type": "code",
   "execution_count": 29,
   "metadata": {},
   "outputs": [
    {
     "name": "stderr",
     "output_type": "stream",
     "text": [
      "/usr/data/software/anaconda3/envs/ML/lib/python3.6/site-packages/torchvision/datasets/mnist.py:63: UserWarning: test_data has been renamed data\n",
      "  warnings.warn(\"test_data has been renamed data\")\n",
      "/usr/data/software/anaconda3/envs/ML/lib/python3.6/site-packages/torchvision/datasets/mnist.py:53: UserWarning: test_labels has been renamed targets\n",
      "  warnings.warn(\"test_labels has been renamed targets\")\n"
     ]
    }
   ],
   "source": [
    "dim=10\n",
    "X,Hidden,Y = Proj_MNIST(dim)\n",
    "pickle.dump(X,open('./embedding/PCA_MNIST_X_{}.pkl'.format(dim),'wb'))\n",
    "pickle.dump(Hidden,open('./embedding/PCA_MNIST_Hidden_{}.pkl'.format(dim),'wb'))\n",
    "pickle.dump(Y,open('./embedding/PCA_MNIST_Y_{}.pkl'.format(dim),'wb'))"
   ]
  },
  {
   "cell_type": "code",
   "execution_count": 30,
   "metadata": {},
   "outputs": [
    {
     "name": "stderr",
     "output_type": "stream",
     "text": [
      "/usr/data/software/anaconda3/envs/ML/lib/python3.6/site-packages/torchvision/datasets/mnist.py:63: UserWarning: test_data has been renamed data\n",
      "  warnings.warn(\"test_data has been renamed data\")\n",
      "/usr/data/software/anaconda3/envs/ML/lib/python3.6/site-packages/torchvision/datasets/mnist.py:53: UserWarning: test_labels has been renamed targets\n",
      "  warnings.warn(\"test_labels has been renamed targets\")\n"
     ]
    }
   ],
   "source": [
    "dim=20\n",
    "X,Hidden,Y = Proj_MNIST(dim)\n",
    "pickle.dump(X,open('./embedding/PCA_MNIST_X_{}.pkl'.format(dim),'wb'))\n",
    "pickle.dump(Hidden,open('./embedding/PCA_MNIST_Hidden_{}.pkl'.format(dim),'wb'))\n",
    "pickle.dump(Y,open('./embedding/PCA_MNIST_Y_{}.pkl'.format(dim),'wb'))"
   ]
  },
  {
   "cell_type": "code",
   "execution_count": 31,
   "metadata": {},
   "outputs": [
    {
     "name": "stderr",
     "output_type": "stream",
     "text": [
      "/usr/data/software/anaconda3/envs/ML/lib/python3.6/site-packages/torchvision/datasets/mnist.py:63: UserWarning: test_data has been renamed data\n",
      "  warnings.warn(\"test_data has been renamed data\")\n",
      "/usr/data/software/anaconda3/envs/ML/lib/python3.6/site-packages/torchvision/datasets/mnist.py:53: UserWarning: test_labels has been renamed targets\n",
      "  warnings.warn(\"test_labels has been renamed targets\")\n"
     ]
    }
   ],
   "source": [
    "dim=30\n",
    "X,Hidden,Y = Proj_MNIST(dim)\n",
    "pickle.dump(X,open('./embedding/PCA_MNIST_X_{}.pkl'.format(dim),'wb'))\n",
    "pickle.dump(Hidden,open('./embedding/PCA_MNIST_Hidden_{}.pkl'.format(dim),'wb'))\n",
    "pickle.dump(Y,open('./embedding/PCA_MNIST_Y_{}.pkl'.format(dim),'wb'))"
   ]
  },
  {
   "cell_type": "code",
   "execution_count": 34,
   "metadata": {},
   "outputs": [],
   "source": [
    "def Proj_FMNIST(dim):\n",
    "    dataset2 = datasets.FashionMNIST('../data', train=True, download=True)\n",
    "    N=dataset2.test_data.shape[0]\n",
    "    X_raw = dataset2.test_data.numpy()\n",
    "    X=X_raw.reshape(N,784)/255\n",
    "    Y_true=dataset2.test_labels.numpy()\n",
    "    pca = PCA(n_components=784)\n",
    "    Hidden=pca.fit_transform(X)\n",
    "    Hidden=Hidden[:,:dim]\n",
    "    Hidden=(Hidden-np.min(Hidden))/(np.max(Hidden)-np.min(Hidden))\n",
    "    return X_raw,Hidden,Y_true"
   ]
  },
  {
   "cell_type": "code",
   "execution_count": 35,
   "metadata": {},
   "outputs": [
    {
     "name": "stderr",
     "output_type": "stream",
     "text": [
      "/usr/data/software/anaconda3/envs/ML/lib/python3.6/site-packages/torchvision/datasets/mnist.py:63: UserWarning: test_data has been renamed data\n",
      "  warnings.warn(\"test_data has been renamed data\")\n",
      "/usr/data/software/anaconda3/envs/ML/lib/python3.6/site-packages/torchvision/datasets/mnist.py:53: UserWarning: test_labels has been renamed targets\n",
      "  warnings.warn(\"test_labels has been renamed targets\")\n"
     ]
    }
   ],
   "source": [
    "dim=2\n",
    "X,Hidden,Y = Proj_FMNIST(dim)\n",
    "pickle.dump(X,open('./embedding/PCA_FMNIST_X_{}.pkl'.format(dim),'wb'))\n",
    "pickle.dump(Hidden,open('./embedding/PCA_FMNIST_Hidden_{}.pkl'.format(dim),'wb'))\n",
    "pickle.dump(Y,open('./embedding/PCA_FMNIST_Y_{}.pkl'.format(dim),'wb'))"
   ]
  },
  {
   "cell_type": "code",
   "execution_count": 36,
   "metadata": {},
   "outputs": [
    {
     "name": "stderr",
     "output_type": "stream",
     "text": [
      "/usr/data/software/anaconda3/envs/ML/lib/python3.6/site-packages/torchvision/datasets/mnist.py:63: UserWarning: test_data has been renamed data\n",
      "  warnings.warn(\"test_data has been renamed data\")\n",
      "/usr/data/software/anaconda3/envs/ML/lib/python3.6/site-packages/torchvision/datasets/mnist.py:53: UserWarning: test_labels has been renamed targets\n",
      "  warnings.warn(\"test_labels has been renamed targets\")\n"
     ]
    }
   ],
   "source": [
    "dim=5\n",
    "X,Hidden,Y = Proj_FMNIST(dim)\n",
    "pickle.dump(X,open('./embedding/PCA_FMNIST_X_{}.pkl'.format(dim),'wb'))\n",
    "pickle.dump(Hidden,open('./embedding/PCA_FMNIST_Hidden_{}.pkl'.format(dim),'wb'))\n",
    "pickle.dump(Y,open('./embedding/PCA_FMNIST_Y_{}.pkl'.format(dim),'wb'))"
   ]
  },
  {
   "cell_type": "code",
   "execution_count": 37,
   "metadata": {},
   "outputs": [
    {
     "name": "stderr",
     "output_type": "stream",
     "text": [
      "/usr/data/software/anaconda3/envs/ML/lib/python3.6/site-packages/torchvision/datasets/mnist.py:63: UserWarning: test_data has been renamed data\n",
      "  warnings.warn(\"test_data has been renamed data\")\n",
      "/usr/data/software/anaconda3/envs/ML/lib/python3.6/site-packages/torchvision/datasets/mnist.py:53: UserWarning: test_labels has been renamed targets\n",
      "  warnings.warn(\"test_labels has been renamed targets\")\n"
     ]
    }
   ],
   "source": [
    "dim=10\n",
    "X,Hidden,Y = Proj_FMNIST(dim)\n",
    "pickle.dump(X,open('./embedding/PCA_FMNIST_X_{}.pkl'.format(dim),'wb'))\n",
    "pickle.dump(Hidden,open('./embedding/PCA_FMNIST_Hidden_{}.pkl'.format(dim),'wb'))\n",
    "pickle.dump(Y,open('./embedding/PCA_FMNIST_Y_{}.pkl'.format(dim),'wb'))"
   ]
  },
  {
   "cell_type": "code",
   "execution_count": 38,
   "metadata": {},
   "outputs": [
    {
     "name": "stderr",
     "output_type": "stream",
     "text": [
      "/usr/data/software/anaconda3/envs/ML/lib/python3.6/site-packages/torchvision/datasets/mnist.py:63: UserWarning: test_data has been renamed data\n",
      "  warnings.warn(\"test_data has been renamed data\")\n",
      "/usr/data/software/anaconda3/envs/ML/lib/python3.6/site-packages/torchvision/datasets/mnist.py:53: UserWarning: test_labels has been renamed targets\n",
      "  warnings.warn(\"test_labels has been renamed targets\")\n"
     ]
    }
   ],
   "source": [
    "dim=20\n",
    "X,Hidden,Y = Proj_FMNIST(dim)\n",
    "pickle.dump(X,open('./embedding/PCA_FMNIST_X_{}.pkl'.format(dim),'wb'))\n",
    "pickle.dump(Hidden,open('./embedding/PCA_FMNIST_Hidden_{}.pkl'.format(dim),'wb'))\n",
    "pickle.dump(Y,open('./embedding/PCA_FMNIST_Y_{}.pkl'.format(dim),'wb'))"
   ]
  },
  {
   "cell_type": "code",
   "execution_count": 39,
   "metadata": {},
   "outputs": [
    {
     "name": "stderr",
     "output_type": "stream",
     "text": [
      "/usr/data/software/anaconda3/envs/ML/lib/python3.6/site-packages/torchvision/datasets/mnist.py:63: UserWarning: test_data has been renamed data\n",
      "  warnings.warn(\"test_data has been renamed data\")\n",
      "/usr/data/software/anaconda3/envs/ML/lib/python3.6/site-packages/torchvision/datasets/mnist.py:53: UserWarning: test_labels has been renamed targets\n",
      "  warnings.warn(\"test_labels has been renamed targets\")\n"
     ]
    }
   ],
   "source": [
    "dim=30\n",
    "X,Hidden,Y = Proj_FMNIST(dim)\n",
    "pickle.dump(X,open('./embedding/PCA_FMNIST_X_{}.pkl'.format(dim),'wb'))\n",
    "pickle.dump(Hidden,open('./embedding/PCA_FMNIST_Hidden_{}.pkl'.format(dim),'wb'))\n",
    "pickle.dump(Y,open('./embedding/PCA_FMNIST_Y_{}.pkl'.format(dim),'wb'))"
   ]
  }
 ],
 "metadata": {
  "kernelspec": {
   "display_name": "ML",
   "language": "python",
   "name": "ml"
  },
  "language_info": {
   "codemirror_mode": {
    "name": "ipython",
    "version": 3
   },
   "file_extension": ".py",
   "mimetype": "text/x-python",
   "name": "python",
   "nbconvert_exporter": "python",
   "pygments_lexer": "ipython3",
   "version": "3.6.10"
  },
  "toc": {
   "base_numbering": 1,
   "nav_menu": {},
   "number_sections": true,
   "sideBar": true,
   "skip_h1_title": false,
   "title_cell": "Table of Contents",
   "title_sidebar": "Contents",
   "toc_cell": false,
   "toc_position": {},
   "toc_section_display": true,
   "toc_window_display": false
  }
 },
 "nbformat": 4,
 "nbformat_minor": 4
}
