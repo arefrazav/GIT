{
 "cells": [
  {
   "cell_type": "code",
   "execution_count": 1,
   "metadata": {},
   "outputs": [],
   "source": [
    "from torchvision import datasets\n",
    "import numpy as np\n",
    "\n",
    "class DataLoader:\n",
    "    def __init__(self):\n",
    "        pass\n",
    "    \n",
    "    @classmethod\n",
    "    def load(self,name):\n",
    "        if name=='mnist_5':\n",
    "            data=np.load('./mnist_5.npy')\n",
    "            X=data[:,:-1]\n",
    "            Y_true=data[:,-1]\n",
    "            return X,Y_true\n",
    "        \n",
    "        if name=='mnist_10':\n",
    "            data=np.load('./mnist_10.npy')\n",
    "            X=data[:,:-1]\n",
    "            Y_true=data[:,-1]\n",
    "            return X,Y_true\n",
    "        \n",
    "        if name=='mnist_20':\n",
    "            data=np.load('./mnist_20.npy')\n",
    "            X=data[:,:-1]\n",
    "            Y_true=data[:,-1]\n",
    "            return X,Y_true\n",
    "        \n",
    "        if name=='mnist_30':\n",
    "            data=np.load('./mnist_30.npy')\n",
    "            X=data[:,:-1]\n",
    "            Y_true=data[:,-1]\n",
    "            return X,Y_true\n",
    "        \n",
    "        if name=='mnist_784':\n",
    "            dataset2 = datasets.MNIST('../data', train=False, download=True)\n",
    "            N=dataset2.test_data.shape[0]\n",
    "            X=dataset2.test_data.numpy().reshape(N,784)/255\n",
    "            Y_true=dataset2.test_labels.numpy()\n",
    "            return X,Y_true\n",
    "        \n",
    "        if name=='fmnist_5':\n",
    "            data=np.load('./fmnist_5.npy')\n",
    "            X=data[:,:-1]\n",
    "            Y_true=data[:,-1]\n",
    "            return X,Y_true\n",
    "        \n",
    "        if name=='fmnist_10':\n",
    "            data=np.load('./fmnist_10.npy')\n",
    "            X=data[:,:-1]\n",
    "            Y_true=data[:,-1]\n",
    "            return X,Y_true\n",
    "        \n",
    "        if name=='fmnist_20':\n",
    "            data=np.load('./fmnist_20.npy')\n",
    "            X=data[:,:-1]\n",
    "            Y_true=data[:,-1]\n",
    "            return X,Y_true\n",
    "        \n",
    "        if name=='fmnist_30':\n",
    "            data=np.load('./fmnist_30.npy')\n",
    "            X=data[:,:-1]\n",
    "            Y_true=data[:,-1]\n",
    "            return X,Y_true\n",
    "        \n",
    "        if name=='fmnist_784':\n",
    "            dataset2 = datasets.FashionMNIST('../data', train=False, download=True)\n",
    "            N=dataset2.test_data.shape[0]\n",
    "            X=dataset2.test_data.numpy().reshape(N,784)/255\n",
    "            Y_true=dataset2.test_labels.numpy()\n",
    "            return X,Y_true"
   ]
  },
  {
   "cell_type": "code",
   "execution_count": 2,
   "metadata": {},
   "outputs": [],
   "source": [
    "# import umap\n",
    "# import matplotlib.pyplot as plt\n",
    "# reducer = umap.UMAP(random_state=42)\n",
    "# X,Y_true=DataLoader.load('mnist_5')\n",
    "# embedding = reducer.fit_transform(X)\n",
    "# plt.scatter(embedding[:, 0], embedding[:, 1], c=Y_true, cmap='Spectral', s=5)\n",
    "# plt.gca().set_aspect('equal', 'datalim')\n",
    "# plt.colorbar(boundaries=np.arange(11)-0.5).set_ticks(np.arange(10))\n",
    "# plt.title('UMAP projection of the Digits dataset')\n",
    "# plt.show()"
   ]
  },
  {
   "cell_type": "markdown",
   "metadata": {
    "heading_collapsed": true
   },
   "source": [
    "# GDT"
   ]
  },
  {
   "cell_type": "code",
   "execution_count": 3,
   "metadata": {
    "hidden": true
   },
   "outputs": [],
   "source": [
    "import numpy as np\n",
    "import matplotlib.pyplot as plt\n",
    "import sys;sys.path.append('../utils/')\n",
    "import imp\n",
    "import plot_tools,api\n",
    "import pandas as pd\n",
    "import networkx as nx\n",
    "from measures import matchY,measures_calculator,matchY\n",
    "import time"
   ]
  },
  {
   "cell_type": "code",
   "execution_count": 4,
   "metadata": {
    "hidden": true
   },
   "outputs": [
    {
     "name": "stdout",
     "output_type": "stream",
     "text": [
      "2.38104510307312\n"
     ]
    },
    {
     "data": {
      "text/html": [
       "<div>\n",
       "<style scoped>\n",
       "    .dataframe tbody tr th:only-of-type {\n",
       "        vertical-align: middle;\n",
       "    }\n",
       "\n",
       "    .dataframe tbody tr th {\n",
       "        vertical-align: top;\n",
       "    }\n",
       "\n",
       "    .dataframe thead th {\n",
       "        text-align: right;\n",
       "    }\n",
       "</style>\n",
       "<table border=\"1\" class=\"dataframe\">\n",
       "  <thead>\n",
       "    <tr style=\"text-align: right;\">\n",
       "      <th></th>\n",
       "      <th>f1</th>\n",
       "      <th>ARI</th>\n",
       "      <th>ACC</th>\n",
       "      <th>cover_rate</th>\n",
       "      <th>classes</th>\n",
       "    </tr>\n",
       "  </thead>\n",
       "  <tbody>\n",
       "    <tr>\n",
       "      <th>0</th>\n",
       "      <td>0.898749</td>\n",
       "      <td>0.797621</td>\n",
       "      <td>0.896</td>\n",
       "      <td>1.0</td>\n",
       "      <td>11.0</td>\n",
       "    </tr>\n",
       "  </tbody>\n",
       "</table>\n",
       "</div>"
      ],
      "text/plain": [
       "         f1       ARI    ACC  cover_rate  classes\n",
       "0  0.898749  0.797621  0.896         1.0     11.0"
      ]
     },
     "execution_count": 4,
     "metadata": {},
     "output_type": "execute_result"
    },
    {
     "data": {
      "image/png": "[encoded data removed]",
      "text/plain": [
       "<Figure size 288x288 with 1 Axes>"
      ]
     },
     "metadata": {},
     "output_type": "display_data"
    }
   ],
   "source": [
    "X,Y_true=DataLoader.load('mnist_5')\n",
    "\n",
    "t1=time.time()\n",
    "Y_pred=api.DGSFC.fit(  X,\n",
    "                  K_d=50,\n",
    "                  K_s=25,\n",
    "                  alpha=0.2,\n",
    "                  epsilon=0,\n",
    "                  plot=True,\n",
    "                  scale=True\n",
    "                 )\n",
    "\n",
    "t2=time.time()\n",
    "print(t2-t1)\n",
    "measures_calculator(Y_true,Y_pred)"
   ]
  },
  {
   "cell_type": "code",
   "execution_count": 5,
   "metadata": {
    "hidden": true
   },
   "outputs": [
    {
     "name": "stdout",
     "output_type": "stream",
     "text": [
      "15.93909215927124\n"
     ]
    },
    {
     "data": {
      "text/html": [
       "<div>\n",
       "<style scoped>\n",
       "    .dataframe tbody tr th:only-of-type {\n",
       "        vertical-align: middle;\n",
       "    }\n",
       "\n",
       "    .dataframe tbody tr th {\n",
       "        vertical-align: top;\n",
       "    }\n",
       "\n",
       "    .dataframe thead th {\n",
       "        text-align: right;\n",
       "    }\n",
       "</style>\n",
       "<table border=\"1\" class=\"dataframe\">\n",
       "  <thead>\n",
       "    <tr style=\"text-align: right;\">\n",
       "      <th></th>\n",
       "      <th>f1</th>\n",
       "      <th>ARI</th>\n",
       "      <th>ACC</th>\n",
       "      <th>cover_rate</th>\n",
       "      <th>classes</th>\n",
       "    </tr>\n",
       "  </thead>\n",
       "  <tbody>\n",
       "    <tr>\n",
       "      <th>0</th>\n",
       "      <td>0.875953</td>\n",
       "      <td>0.747161</td>\n",
       "      <td>0.8698</td>\n",
       "      <td>1.0</td>\n",
       "      <td>11.0</td>\n",
       "    </tr>\n",
       "  </tbody>\n",
       "</table>\n",
       "</div>"
      ],
      "text/plain": [
       "         f1       ARI     ACC  cover_rate  classes\n",
       "0  0.875953  0.747161  0.8698         1.0     11.0"
      ]
     },
     "execution_count": 5,
     "metadata": {},
     "output_type": "execute_result"
    }
   ],
   "source": [
    "X,Y_true=DataLoader.load('mnist_10')\n",
    "\n",
    "t1=time.time()\n",
    "Y_pred=api.DGSFC.fit(  X,\n",
    "                  K_d=45,\n",
    "                  K_s=37,\n",
    "                  alpha=0.20,\n",
    "                  epsilon=0,\n",
    "                  plot=False,\n",
    "                  scale=True\n",
    "                 )\n",
    "t2=time.time()\n",
    "print(t2-t1)\n",
    "measures_calculator(Y_true,Y_pred)"
   ]
  },
  {
   "cell_type": "code",
   "execution_count": 6,
   "metadata": {
    "hidden": true
   },
   "outputs": [
    {
     "name": "stdout",
     "output_type": "stream",
     "text": [
      "71.41992020606995\n"
     ]
    },
    {
     "data": {
      "text/html": [
       "<div>\n",
       "<style scoped>\n",
       "    .dataframe tbody tr th:only-of-type {\n",
       "        vertical-align: middle;\n",
       "    }\n",
       "\n",
       "    .dataframe tbody tr th {\n",
       "        vertical-align: top;\n",
       "    }\n",
       "\n",
       "    .dataframe thead th {\n",
       "        text-align: right;\n",
       "    }\n",
       "</style>\n",
       "<table border=\"1\" class=\"dataframe\">\n",
       "  <thead>\n",
       "    <tr style=\"text-align: right;\">\n",
       "      <th></th>\n",
       "      <th>f1</th>\n",
       "      <th>ARI</th>\n",
       "      <th>ACC</th>\n",
       "      <th>cover_rate</th>\n",
       "      <th>classes</th>\n",
       "    </tr>\n",
       "  </thead>\n",
       "  <tbody>\n",
       "    <tr>\n",
       "      <th>0</th>\n",
       "      <td>0.820205</td>\n",
       "      <td>0.683836</td>\n",
       "      <td>0.8136</td>\n",
       "      <td>1.0</td>\n",
       "      <td>11.0</td>\n",
       "    </tr>\n",
       "  </tbody>\n",
       "</table>\n",
       "</div>"
      ],
      "text/plain": [
       "         f1       ARI     ACC  cover_rate  classes\n",
       "0  0.820205  0.683836  0.8136         1.0     11.0"
      ]
     },
     "execution_count": 6,
     "metadata": {},
     "output_type": "execute_result"
    }
   ],
   "source": [
    "X,Y_true=DataLoader.load('mnist_20')\n",
    "\n",
    "t1=time.time()\n",
    "Y_pred=api.DGSFC.fit(  X,\n",
    "                  K_d=60,\n",
    "                  K_s=30,\n",
    "                  alpha=0.2,\n",
    "                  epsilon=0,\n",
    "                  plot=False,\n",
    "                  scale=True\n",
    "                 )\n",
    "t2=time.time()\n",
    "print(t2-t1)\n",
    "measures_calculator(Y_true,Y_pred)"
   ]
  },
  {
   "cell_type": "code",
   "execution_count": 7,
   "metadata": {
    "hidden": true
   },
   "outputs": [
    {
     "name": "stdout",
     "output_type": "stream",
     "text": [
      "98.4077696800232\n"
     ]
    },
    {
     "data": {
      "text/html": [
       "<div>\n",
       "<style scoped>\n",
       "    .dataframe tbody tr th:only-of-type {\n",
       "        vertical-align: middle;\n",
       "    }\n",
       "\n",
       "    .dataframe tbody tr th {\n",
       "        vertical-align: top;\n",
       "    }\n",
       "\n",
       "    .dataframe thead th {\n",
       "        text-align: right;\n",
       "    }\n",
       "</style>\n",
       "<table border=\"1\" class=\"dataframe\">\n",
       "  <thead>\n",
       "    <tr style=\"text-align: right;\">\n",
       "      <th></th>\n",
       "      <th>f1</th>\n",
       "      <th>ARI</th>\n",
       "      <th>ACC</th>\n",
       "      <th>cover_rate</th>\n",
       "      <th>classes</th>\n",
       "    </tr>\n",
       "  </thead>\n",
       "  <tbody>\n",
       "    <tr>\n",
       "      <th>0</th>\n",
       "      <td>0.799997</td>\n",
       "      <td>0.642132</td>\n",
       "      <td>0.7835</td>\n",
       "      <td>1.0</td>\n",
       "      <td>12.0</td>\n",
       "    </tr>\n",
       "  </tbody>\n",
       "</table>\n",
       "</div>"
      ],
      "text/plain": [
       "         f1       ARI     ACC  cover_rate  classes\n",
       "0  0.799997  0.642132  0.7835         1.0     12.0"
      ]
     },
     "execution_count": 7,
     "metadata": {},
     "output_type": "execute_result"
    }
   ],
   "source": [
    "X,Y_true=DataLoader.load('mnist_30')\n",
    "\n",
    "t1=time.time()\n",
    "Y_pred=api.DGSFC.fit(  X,\n",
    "                  K_d=45,\n",
    "                  K_s=22,\n",
    "                  alpha=0.2,\n",
    "                  epsilon=0,\n",
    "                  plot=False,\n",
    "                  scale=True\n",
    "                 )\n",
    "t2=time.time()\n",
    "print(t2-t1)\n",
    "measures_calculator(Y_true,Y_pred)"
   ]
  },
  {
   "cell_type": "code",
   "execution_count": 8,
   "metadata": {
    "hidden": true
   },
   "outputs": [
    {
     "name": "stdout",
     "output_type": "stream",
     "text": [
      "6.1014838218688965\n"
     ]
    },
    {
     "data": {
      "text/html": [
       "<div>\n",
       "<style scoped>\n",
       "    .dataframe tbody tr th:only-of-type {\n",
       "        vertical-align: middle;\n",
       "    }\n",
       "\n",
       "    .dataframe tbody tr th {\n",
       "        vertical-align: top;\n",
       "    }\n",
       "\n",
       "    .dataframe thead th {\n",
       "        text-align: right;\n",
       "    }\n",
       "</style>\n",
       "<table border=\"1\" class=\"dataframe\">\n",
       "  <thead>\n",
       "    <tr style=\"text-align: right;\">\n",
       "      <th></th>\n",
       "      <th>f1</th>\n",
       "      <th>ARI</th>\n",
       "      <th>ACC</th>\n",
       "      <th>cover_rate</th>\n",
       "      <th>classes</th>\n",
       "    </tr>\n",
       "  </thead>\n",
       "  <tbody>\n",
       "    <tr>\n",
       "      <th>0</th>\n",
       "      <td>0.608804</td>\n",
       "      <td>0.476989</td>\n",
       "      <td>0.6255</td>\n",
       "      <td>1.0</td>\n",
       "      <td>11.0</td>\n",
       "    </tr>\n",
       "  </tbody>\n",
       "</table>\n",
       "</div>"
      ],
      "text/plain": [
       "         f1       ARI     ACC  cover_rate  classes\n",
       "0  0.608804  0.476989  0.6255         1.0     11.0"
      ]
     },
     "execution_count": 8,
     "metadata": {},
     "output_type": "execute_result"
    }
   ],
   "source": [
    "X,Y_true=DataLoader.load('fmnist_5')\n",
    "\n",
    "t1=time.time()\n",
    "Y_pred=api.DGSFC.fit(  X,\n",
    "                  K_d=50,\n",
    "                  K_s=30,\n",
    "                  alpha=0.2,\n",
    "                  epsilon=0,\n",
    "                  plot=False,\n",
    "                  scale=True\n",
    "                 )\n",
    "\n",
    "t2=time.time()\n",
    "print(t2-t1)\n",
    "measures_calculator(Y_true,Y_pred)"
   ]
  },
  {
   "cell_type": "code",
   "execution_count": 9,
   "metadata": {
    "hidden": true
   },
   "outputs": [
    {
     "name": "stdout",
     "output_type": "stream",
     "text": [
      "7.646347522735596\n"
     ]
    },
    {
     "data": {
      "text/html": [
       "<div>\n",
       "<style scoped>\n",
       "    .dataframe tbody tr th:only-of-type {\n",
       "        vertical-align: middle;\n",
       "    }\n",
       "\n",
       "    .dataframe tbody tr th {\n",
       "        vertical-align: top;\n",
       "    }\n",
       "\n",
       "    .dataframe thead th {\n",
       "        text-align: right;\n",
       "    }\n",
       "</style>\n",
       "<table border=\"1\" class=\"dataframe\">\n",
       "  <thead>\n",
       "    <tr style=\"text-align: right;\">\n",
       "      <th></th>\n",
       "      <th>f1</th>\n",
       "      <th>ARI</th>\n",
       "      <th>ACC</th>\n",
       "      <th>cover_rate</th>\n",
       "      <th>classes</th>\n",
       "    </tr>\n",
       "  </thead>\n",
       "  <tbody>\n",
       "    <tr>\n",
       "      <th>0</th>\n",
       "      <td>0.550418</td>\n",
       "      <td>0.445902</td>\n",
       "      <td>0.5835</td>\n",
       "      <td>1.0</td>\n",
       "      <td>12.0</td>\n",
       "    </tr>\n",
       "  </tbody>\n",
       "</table>\n",
       "</div>"
      ],
      "text/plain": [
       "         f1       ARI     ACC  cover_rate  classes\n",
       "0  0.550418  0.445902  0.5835         1.0     12.0"
      ]
     },
     "execution_count": 9,
     "metadata": {},
     "output_type": "execute_result"
    }
   ],
   "source": [
    "X,Y_true=DataLoader.load('fmnist_10')\n",
    "\n",
    "t1=time.time()\n",
    "Y_pred=api.DGSFC.fit(  X,\n",
    "                  K_d=25,\n",
    "                  K_s=12,\n",
    "                  alpha=0.2,\n",
    "                  epsilon=0,\n",
    "                  plot=False,\n",
    "                  scale=True\n",
    "                 )\n",
    "\n",
    "t2=time.time()\n",
    "print(t2-t1)\n",
    "measures_calculator(Y_true,Y_pred)"
   ]
  },
  {
   "cell_type": "code",
   "execution_count": 10,
   "metadata": {
    "hidden": true
   },
   "outputs": [
    {
     "name": "stdout",
     "output_type": "stream",
     "text": [
      "83.61020469665527\n"
     ]
    },
    {
     "data": {
      "text/html": [
       "<div>\n",
       "<style scoped>\n",
       "    .dataframe tbody tr th:only-of-type {\n",
       "        vertical-align: middle;\n",
       "    }\n",
       "\n",
       "    .dataframe tbody tr th {\n",
       "        vertical-align: top;\n",
       "    }\n",
       "\n",
       "    .dataframe thead th {\n",
       "        text-align: right;\n",
       "    }\n",
       "</style>\n",
       "<table border=\"1\" class=\"dataframe\">\n",
       "  <thead>\n",
       "    <tr style=\"text-align: right;\">\n",
       "      <th></th>\n",
       "      <th>f1</th>\n",
       "      <th>ARI</th>\n",
       "      <th>ACC</th>\n",
       "      <th>cover_rate</th>\n",
       "      <th>classes</th>\n",
       "    </tr>\n",
       "  </thead>\n",
       "  <tbody>\n",
       "    <tr>\n",
       "      <th>0</th>\n",
       "      <td>0.574355</td>\n",
       "      <td>0.428779</td>\n",
       "      <td>0.5615</td>\n",
       "      <td>1.0</td>\n",
       "      <td>12.0</td>\n",
       "    </tr>\n",
       "  </tbody>\n",
       "</table>\n",
       "</div>"
      ],
      "text/plain": [
       "         f1       ARI     ACC  cover_rate  classes\n",
       "0  0.574355  0.428779  0.5615         1.0     12.0"
      ]
     },
     "execution_count": 10,
     "metadata": {},
     "output_type": "execute_result"
    }
   ],
   "source": [
    "X,Y_true=DataLoader.load('fmnist_20')\n",
    "\n",
    "t1=time.time()\n",
    "Y_pred=api.DGSFC.fit(  X,\n",
    "                  K_d=60,\n",
    "                  K_s=40,\n",
    "                  alpha=0.3,\n",
    "                  epsilon=0,\n",
    "                  plot=False,\n",
    "                  scale=True\n",
    "                 )\n",
    "\n",
    "t2=time.time()\n",
    "print(t2-t1)\n",
    "measures_calculator(Y_true,Y_pred)"
   ]
  },
  {
   "cell_type": "code",
   "execution_count": 11,
   "metadata": {
    "hidden": true
   },
   "outputs": [
    {
     "name": "stdout",
     "output_type": "stream",
     "text": [
      "159.27209663391113\n"
     ]
    },
    {
     "data": {
      "text/html": [
       "<div>\n",
       "<style scoped>\n",
       "    .dataframe tbody tr th:only-of-type {\n",
       "        vertical-align: middle;\n",
       "    }\n",
       "\n",
       "    .dataframe tbody tr th {\n",
       "        vertical-align: top;\n",
       "    }\n",
       "\n",
       "    .dataframe thead th {\n",
       "        text-align: right;\n",
       "    }\n",
       "</style>\n",
       "<table border=\"1\" class=\"dataframe\">\n",
       "  <thead>\n",
       "    <tr style=\"text-align: right;\">\n",
       "      <th></th>\n",
       "      <th>f1</th>\n",
       "      <th>ARI</th>\n",
       "      <th>ACC</th>\n",
       "      <th>cover_rate</th>\n",
       "      <th>classes</th>\n",
       "    </tr>\n",
       "  </thead>\n",
       "  <tbody>\n",
       "    <tr>\n",
       "      <th>0</th>\n",
       "      <td>0.545528</td>\n",
       "      <td>0.397686</td>\n",
       "      <td>0.5722</td>\n",
       "      <td>1.0</td>\n",
       "      <td>11.0</td>\n",
       "    </tr>\n",
       "  </tbody>\n",
       "</table>\n",
       "</div>"
      ],
      "text/plain": [
       "         f1       ARI     ACC  cover_rate  classes\n",
       "0  0.545528  0.397686  0.5722         1.0     11.0"
      ]
     },
     "execution_count": 11,
     "metadata": {},
     "output_type": "execute_result"
    }
   ],
   "source": [
    "X,Y_true=DataLoader.load('fmnist_30')\n",
    "\n",
    "t1=time.time()\n",
    "Y_pred=api.DGSFC.fit(  X,\n",
    "                  K_d=75,\n",
    "                  K_s=50,\n",
    "                  alpha=0.4,\n",
    "                  epsilon=0,\n",
    "                  plot=False,\n",
    "                  scale=True\n",
    "                 )\n",
    "\n",
    "t2=time.time()\n",
    "print(t2-t1)\n",
    "measures_calculator(Y_true,Y_pred)"
   ]
  },
  {
   "cell_type": "markdown",
   "metadata": {
    "heading_collapsed": true
   },
   "source": [
    "# HDBSCAN"
   ]
  },
  {
   "cell_type": "code",
   "execution_count": 12,
   "metadata": {
    "hidden": true
   },
   "outputs": [],
   "source": [
    "import hdbscan"
   ]
  },
  {
   "cell_type": "code",
   "execution_count": 13,
   "metadata": {
    "hidden": true
   },
   "outputs": [
    {
     "name": "stdout",
     "output_type": "stream",
     "text": [
      "2.4324753284454346\n"
     ]
    },
    {
     "data": {
      "text/html": [
       "<div>\n",
       "<style scoped>\n",
       "    .dataframe tbody tr th:only-of-type {\n",
       "        vertical-align: middle;\n",
       "    }\n",
       "\n",
       "    .dataframe tbody tr th {\n",
       "        vertical-align: top;\n",
       "    }\n",
       "\n",
       "    .dataframe thead th {\n",
       "        text-align: right;\n",
       "    }\n",
       "</style>\n",
       "<table border=\"1\" class=\"dataframe\">\n",
       "  <thead>\n",
       "    <tr style=\"text-align: right;\">\n",
       "      <th></th>\n",
       "      <th>f1</th>\n",
       "      <th>ARI</th>\n",
       "      <th>ACC</th>\n",
       "      <th>cover_rate</th>\n",
       "      <th>classes</th>\n",
       "    </tr>\n",
       "  </thead>\n",
       "  <tbody>\n",
       "    <tr>\n",
       "      <th>0</th>\n",
       "      <td>0.889706</td>\n",
       "      <td>0.900981</td>\n",
       "      <td>0.917821</td>\n",
       "      <td>0.4186</td>\n",
       "      <td>9.0</td>\n",
       "    </tr>\n",
       "  </tbody>\n",
       "</table>\n",
       "</div>"
      ],
      "text/plain": [
       "         f1       ARI       ACC  cover_rate  classes\n",
       "0  0.889706  0.900981  0.917821      0.4186      9.0"
      ]
     },
     "execution_count": 13,
     "metadata": {},
     "output_type": "execute_result"
    }
   ],
   "source": [
    "X,Y_true=DataLoader.load('mnist_5')\n",
    "t1=time.time()\n",
    "clusterer = hdbscan.HDBSCAN(min_cluster_size=20, min_samples=10,cluster_selection_epsilon=0.5)\n",
    "clusterer.fit(X)\n",
    "t2=time.time()\n",
    "print(t2-t1)\n",
    "Y_pred=clusterer.labels_\n",
    "\n",
    "measures_calculator(Y_true, Y_pred)"
   ]
  },
  {
   "cell_type": "code",
   "execution_count": 14,
   "metadata": {
    "hidden": true
   },
   "outputs": [
    {
     "name": "stdout",
     "output_type": "stream",
     "text": [
      "12.681936502456665\n"
     ]
    },
    {
     "data": {
      "text/html": [
       "<div>\n",
       "<style scoped>\n",
       "    .dataframe tbody tr th:only-of-type {\n",
       "        vertical-align: middle;\n",
       "    }\n",
       "\n",
       "    .dataframe tbody tr th {\n",
       "        vertical-align: top;\n",
       "    }\n",
       "\n",
       "    .dataframe thead th {\n",
       "        text-align: right;\n",
       "    }\n",
       "</style>\n",
       "<table border=\"1\" class=\"dataframe\">\n",
       "  <thead>\n",
       "    <tr style=\"text-align: right;\">\n",
       "      <th></th>\n",
       "      <th>f1</th>\n",
       "      <th>ARI</th>\n",
       "      <th>ACC</th>\n",
       "      <th>cover_rate</th>\n",
       "      <th>classes</th>\n",
       "    </tr>\n",
       "  </thead>\n",
       "  <tbody>\n",
       "    <tr>\n",
       "      <th>0</th>\n",
       "      <td>0.849681</td>\n",
       "      <td>0.874101</td>\n",
       "      <td>0.860465</td>\n",
       "      <td>0.5418</td>\n",
       "      <td>15.0</td>\n",
       "    </tr>\n",
       "  </tbody>\n",
       "</table>\n",
       "</div>"
      ],
      "text/plain": [
       "         f1       ARI       ACC  cover_rate  classes\n",
       "0  0.849681  0.874101  0.860465      0.5418     15.0"
      ]
     },
     "execution_count": 14,
     "metadata": {},
     "output_type": "execute_result"
    }
   ],
   "source": [
    "X,Y_true=DataLoader.load('mnist_10')\n",
    "t1=time.time()\n",
    "clusterer = hdbscan.HDBSCAN(min_cluster_size=20, min_samples=1,cluster_selection_epsilon=0.1)\n",
    "clusterer.fit(X)\n",
    "t2=time.time()\n",
    "print(t2-t1)\n",
    "Y_pred=clusterer.labels_\n",
    "\n",
    "measures_calculator(Y_true, Y_pred)"
   ]
  },
  {
   "cell_type": "code",
   "execution_count": 15,
   "metadata": {
    "hidden": true
   },
   "outputs": [
    {
     "name": "stdout",
     "output_type": "stream",
     "text": [
      "21.503068685531616\n"
     ]
    },
    {
     "data": {
      "text/html": [
       "<div>\n",
       "<style scoped>\n",
       "    .dataframe tbody tr th:only-of-type {\n",
       "        vertical-align: middle;\n",
       "    }\n",
       "\n",
       "    .dataframe tbody tr th {\n",
       "        vertical-align: top;\n",
       "    }\n",
       "\n",
       "    .dataframe thead th {\n",
       "        text-align: right;\n",
       "    }\n",
       "</style>\n",
       "<table border=\"1\" class=\"dataframe\">\n",
       "  <thead>\n",
       "    <tr style=\"text-align: right;\">\n",
       "      <th></th>\n",
       "      <th>f1</th>\n",
       "      <th>ARI</th>\n",
       "      <th>ACC</th>\n",
       "      <th>cover_rate</th>\n",
       "      <th>classes</th>\n",
       "    </tr>\n",
       "  </thead>\n",
       "  <tbody>\n",
       "    <tr>\n",
       "      <th>0</th>\n",
       "      <td>0.495667</td>\n",
       "      <td>0.356484</td>\n",
       "      <td>0.563065</td>\n",
       "      <td>0.4646</td>\n",
       "      <td>31.0</td>\n",
       "    </tr>\n",
       "  </tbody>\n",
       "</table>\n",
       "</div>"
      ],
      "text/plain": [
       "         f1       ARI       ACC  cover_rate  classes\n",
       "0  0.495667  0.356484  0.563065      0.4646     31.0"
      ]
     },
     "execution_count": 15,
     "metadata": {},
     "output_type": "execute_result"
    }
   ],
   "source": [
    "X,Y_true=DataLoader.load('mnist_20')\n",
    "t1=time.time()\n",
    "clusterer = hdbscan.HDBSCAN(min_cluster_size=10, min_samples=2,cluster_selection_epsilon=2)\n",
    "clusterer.fit(X)\n",
    "t2=time.time()\n",
    "print(t2-t1)\n",
    "Y_pred=clusterer.labels_\n",
    "\n",
    "measures_calculator(Y_true, Y_pred)"
   ]
  },
  {
   "cell_type": "code",
   "execution_count": 16,
   "metadata": {
    "hidden": true
   },
   "outputs": [
    {
     "name": "stdout",
     "output_type": "stream",
     "text": [
      "49.05767869949341\n"
     ]
    },
    {
     "data": {
      "text/html": [
       "<div>\n",
       "<style scoped>\n",
       "    .dataframe tbody tr th:only-of-type {\n",
       "        vertical-align: middle;\n",
       "    }\n",
       "\n",
       "    .dataframe tbody tr th {\n",
       "        vertical-align: top;\n",
       "    }\n",
       "\n",
       "    .dataframe thead th {\n",
       "        text-align: right;\n",
       "    }\n",
       "</style>\n",
       "<table border=\"1\" class=\"dataframe\">\n",
       "  <thead>\n",
       "    <tr style=\"text-align: right;\">\n",
       "      <th></th>\n",
       "      <th>f1</th>\n",
       "      <th>ARI</th>\n",
       "      <th>ACC</th>\n",
       "      <th>cover_rate</th>\n",
       "      <th>classes</th>\n",
       "    </tr>\n",
       "  </thead>\n",
       "  <tbody>\n",
       "    <tr>\n",
       "      <th>0</th>\n",
       "      <td>0.938794</td>\n",
       "      <td>0.936519</td>\n",
       "      <td>0.904397</td>\n",
       "      <td>0.4822</td>\n",
       "      <td>29.0</td>\n",
       "    </tr>\n",
       "  </tbody>\n",
       "</table>\n",
       "</div>"
      ],
      "text/plain": [
       "         f1       ARI       ACC  cover_rate  classes\n",
       "0  0.938794  0.936519  0.904397      0.4822     29.0"
      ]
     },
     "execution_count": 16,
     "metadata": {},
     "output_type": "execute_result"
    }
   ],
   "source": [
    "X,Y_true=DataLoader.load('mnist_30')\n",
    "t1=time.time()\n",
    "clusterer = hdbscan.HDBSCAN(min_cluster_size=15, min_samples=1,cluster_selection_epsilon=2)\n",
    "clusterer.fit(X)\n",
    "t2=time.time()\n",
    "print(t2-t1)\n",
    "Y_pred=clusterer.labels_\n",
    "\n",
    "measures_calculator(Y_true, Y_pred)"
   ]
  },
  {
   "cell_type": "code",
   "execution_count": 17,
   "metadata": {
    "hidden": true
   },
   "outputs": [
    {
     "name": "stdout",
     "output_type": "stream",
     "text": [
      "2.3291993141174316\n"
     ]
    },
    {
     "data": {
      "text/html": [
       "<div>\n",
       "<style scoped>\n",
       "    .dataframe tbody tr th:only-of-type {\n",
       "        vertical-align: middle;\n",
       "    }\n",
       "\n",
       "    .dataframe tbody tr th {\n",
       "        vertical-align: top;\n",
       "    }\n",
       "\n",
       "    .dataframe thead th {\n",
       "        text-align: right;\n",
       "    }\n",
       "</style>\n",
       "<table border=\"1\" class=\"dataframe\">\n",
       "  <thead>\n",
       "    <tr style=\"text-align: right;\">\n",
       "      <th></th>\n",
       "      <th>f1</th>\n",
       "      <th>ARI</th>\n",
       "      <th>ACC</th>\n",
       "      <th>cover_rate</th>\n",
       "      <th>classes</th>\n",
       "    </tr>\n",
       "  </thead>\n",
       "  <tbody>\n",
       "    <tr>\n",
       "      <th>0</th>\n",
       "      <td>0.396973</td>\n",
       "      <td>0.313112</td>\n",
       "      <td>0.473973</td>\n",
       "      <td>0.365</td>\n",
       "      <td>13.0</td>\n",
       "    </tr>\n",
       "  </tbody>\n",
       "</table>\n",
       "</div>"
      ],
      "text/plain": [
       "         f1       ARI       ACC  cover_rate  classes\n",
       "0  0.396973  0.313112  0.473973       0.365     13.0"
      ]
     },
     "execution_count": 17,
     "metadata": {},
     "output_type": "execute_result"
    }
   ],
   "source": [
    "X,Y_true=DataLoader.load('fmnist_5')\n",
    "t1=time.time()\n",
    "clusterer = hdbscan.HDBSCAN(min_cluster_size=20, min_samples=5,cluster_selection_epsilon=0.1)\n",
    "clusterer.fit(X)\n",
    "t2=time.time()\n",
    "print(t2-t1)\n",
    "Y_pred=clusterer.labels_\n",
    "\n",
    "measures_calculator(Y_true, Y_pred)"
   ]
  },
  {
   "cell_type": "code",
   "execution_count": 18,
   "metadata": {
    "hidden": true
   },
   "outputs": [
    {
     "name": "stdout",
     "output_type": "stream",
     "text": [
      "6.678487300872803\n"
     ]
    },
    {
     "data": {
      "text/html": [
       "<div>\n",
       "<style scoped>\n",
       "    .dataframe tbody tr th:only-of-type {\n",
       "        vertical-align: middle;\n",
       "    }\n",
       "\n",
       "    .dataframe tbody tr th {\n",
       "        vertical-align: top;\n",
       "    }\n",
       "\n",
       "    .dataframe thead th {\n",
       "        text-align: right;\n",
       "    }\n",
       "</style>\n",
       "<table border=\"1\" class=\"dataframe\">\n",
       "  <thead>\n",
       "    <tr style=\"text-align: right;\">\n",
       "      <th></th>\n",
       "      <th>f1</th>\n",
       "      <th>ARI</th>\n",
       "      <th>ACC</th>\n",
       "      <th>cover_rate</th>\n",
       "      <th>classes</th>\n",
       "    </tr>\n",
       "  </thead>\n",
       "  <tbody>\n",
       "    <tr>\n",
       "      <th>0</th>\n",
       "      <td>0.147462</td>\n",
       "      <td>0.183848</td>\n",
       "      <td>0.27736</td>\n",
       "      <td>0.6789</td>\n",
       "      <td>7.0</td>\n",
       "    </tr>\n",
       "  </tbody>\n",
       "</table>\n",
       "</div>"
      ],
      "text/plain": [
       "         f1       ARI      ACC  cover_rate  classes\n",
       "0  0.147462  0.183848  0.27736      0.6789      7.0"
      ]
     },
     "execution_count": 18,
     "metadata": {},
     "output_type": "execute_result"
    }
   ],
   "source": [
    "X,Y_true=DataLoader.load('fmnist_10')\n",
    "t1=time.time()\n",
    "clusterer = hdbscan.HDBSCAN(min_cluster_size=20, min_samples=1,cluster_selection_epsilon=0.1)\n",
    "clusterer.fit(X)\n",
    "t2=time.time()\n",
    "print(t2-t1)\n",
    "Y_pred=clusterer.labels_\n",
    "\n",
    "measures_calculator(Y_true, Y_pred)"
   ]
  },
  {
   "cell_type": "code",
   "execution_count": 19,
   "metadata": {
    "hidden": true
   },
   "outputs": [
    {
     "name": "stdout",
     "output_type": "stream",
     "text": [
      "14.890814542770386\n"
     ]
    },
    {
     "data": {
      "text/html": [
       "<div>\n",
       "<style scoped>\n",
       "    .dataframe tbody tr th:only-of-type {\n",
       "        vertical-align: middle;\n",
       "    }\n",
       "\n",
       "    .dataframe tbody tr th {\n",
       "        vertical-align: top;\n",
       "    }\n",
       "\n",
       "    .dataframe thead th {\n",
       "        text-align: right;\n",
       "    }\n",
       "</style>\n",
       "<table border=\"1\" class=\"dataframe\">\n",
       "  <thead>\n",
       "    <tr style=\"text-align: right;\">\n",
       "      <th></th>\n",
       "      <th>f1</th>\n",
       "      <th>ARI</th>\n",
       "      <th>ACC</th>\n",
       "      <th>cover_rate</th>\n",
       "      <th>classes</th>\n",
       "    </tr>\n",
       "  </thead>\n",
       "  <tbody>\n",
       "    <tr>\n",
       "      <th>0</th>\n",
       "      <td>0.289571</td>\n",
       "      <td>0.255783</td>\n",
       "      <td>0.423558</td>\n",
       "      <td>0.4559</td>\n",
       "      <td>5.0</td>\n",
       "    </tr>\n",
       "  </tbody>\n",
       "</table>\n",
       "</div>"
      ],
      "text/plain": [
       "         f1       ARI       ACC  cover_rate  classes\n",
       "0  0.289571  0.255783  0.423558      0.4559      5.0"
      ]
     },
     "execution_count": 19,
     "metadata": {},
     "output_type": "execute_result"
    }
   ],
   "source": [
    "X,Y_true=DataLoader.load('fmnist_20')\n",
    "t1=time.time()\n",
    "clusterer = hdbscan.HDBSCAN(min_cluster_size=45, min_samples=1,cluster_selection_epsilon=0.1)\n",
    "clusterer.fit(X)\n",
    "t2=time.time()\n",
    "print(t2-t1)\n",
    "Y_pred=clusterer.labels_\n",
    "\n",
    "measures_calculator(Y_true, Y_pred)"
   ]
  },
  {
   "cell_type": "code",
   "execution_count": 20,
   "metadata": {
    "hidden": true
   },
   "outputs": [
    {
     "name": "stdout",
     "output_type": "stream",
     "text": [
      "28.47691798210144\n"
     ]
    },
    {
     "data": {
      "text/html": [
       "<div>\n",
       "<style scoped>\n",
       "    .dataframe tbody tr th:only-of-type {\n",
       "        vertical-align: middle;\n",
       "    }\n",
       "\n",
       "    .dataframe tbody tr th {\n",
       "        vertical-align: top;\n",
       "    }\n",
       "\n",
       "    .dataframe thead th {\n",
       "        text-align: right;\n",
       "    }\n",
       "</style>\n",
       "<table border=\"1\" class=\"dataframe\">\n",
       "  <thead>\n",
       "    <tr style=\"text-align: right;\">\n",
       "      <th></th>\n",
       "      <th>f1</th>\n",
       "      <th>ARI</th>\n",
       "      <th>ACC</th>\n",
       "      <th>cover_rate</th>\n",
       "      <th>classes</th>\n",
       "    </tr>\n",
       "  </thead>\n",
       "  <tbody>\n",
       "    <tr>\n",
       "      <th>0</th>\n",
       "      <td>0.181833</td>\n",
       "      <td>0.153549</td>\n",
       "      <td>0.298925</td>\n",
       "      <td>0.6791</td>\n",
       "      <td>4.0</td>\n",
       "    </tr>\n",
       "  </tbody>\n",
       "</table>\n",
       "</div>"
      ],
      "text/plain": [
       "         f1       ARI       ACC  cover_rate  classes\n",
       "0  0.181833  0.153549  0.298925      0.6791      4.0"
      ]
     },
     "execution_count": 20,
     "metadata": {},
     "output_type": "execute_result"
    }
   ],
   "source": [
    "X,Y_true=DataLoader.load('fmnist_30')\n",
    "t1=time.time()\n",
    "clusterer = hdbscan.HDBSCAN(min_cluster_size=50, min_samples=1,cluster_selection_epsilon=0.1)\n",
    "clusterer.fit(X)\n",
    "t2=time.time()\n",
    "print(t2-t1)\n",
    "Y_pred=clusterer.labels_\n",
    "\n",
    "measures_calculator(Y_true, Y_pred)"
   ]
  },
  {
   "cell_type": "markdown",
   "metadata": {
    "heading_collapsed": true
   },
   "source": [
    "# mean-shift"
   ]
  },
  {
   "cell_type": "code",
   "execution_count": 21,
   "metadata": {
    "hidden": true
   },
   "outputs": [],
   "source": [
    "from sklearn.cluster import MeanShift, estimate_bandwidth"
   ]
  },
  {
   "cell_type": "code",
   "execution_count": 22,
   "metadata": {
    "hidden": true
   },
   "outputs": [
    {
     "name": "stdout",
     "output_type": "stream",
     "text": [
      "60.94235301017761\n"
     ]
    },
    {
     "data": {
      "text/html": [
       "<div>\n",
       "<style scoped>\n",
       "    .dataframe tbody tr th:only-of-type {\n",
       "        vertical-align: middle;\n",
       "    }\n",
       "\n",
       "    .dataframe tbody tr th {\n",
       "        vertical-align: top;\n",
       "    }\n",
       "\n",
       "    .dataframe thead th {\n",
       "        text-align: right;\n",
       "    }\n",
       "</style>\n",
       "<table border=\"1\" class=\"dataframe\">\n",
       "  <thead>\n",
       "    <tr style=\"text-align: right;\">\n",
       "      <th></th>\n",
       "      <th>f1</th>\n",
       "      <th>ARI</th>\n",
       "      <th>ACC</th>\n",
       "      <th>cover_rate</th>\n",
       "      <th>classes</th>\n",
       "    </tr>\n",
       "  </thead>\n",
       "  <tbody>\n",
       "    <tr>\n",
       "      <th>0</th>\n",
       "      <td>0.790632</td>\n",
       "      <td>0.544347</td>\n",
       "      <td>0.7223</td>\n",
       "      <td>1.0</td>\n",
       "      <td>90.0</td>\n",
       "    </tr>\n",
       "  </tbody>\n",
       "</table>\n",
       "</div>"
      ],
      "text/plain": [
       "         f1       ARI     ACC  cover_rate  classes\n",
       "0  0.790632  0.544347  0.7223         1.0     90.0"
      ]
     },
     "execution_count": 22,
     "metadata": {},
     "output_type": "execute_result"
    }
   ],
   "source": [
    "X,Y_true=DataLoader.load('mnist_5')\n",
    "bandwidth = estimate_bandwidth(X, quantile=0.01, n_samples=1000)\n",
    "t1=time.time()\n",
    "ms = MeanShift(bandwidth=bandwidth, bin_seeding=True, cluster_all=True)\n",
    "ms.fit(X)\n",
    "t2=time.time()\n",
    "print(t2-t1)\n",
    "Y_pred=ms.labels_\n",
    "measures_calculator(Y_true, Y_pred)"
   ]
  },
  {
   "cell_type": "code",
   "execution_count": 23,
   "metadata": {
    "hidden": true
   },
   "outputs": [
    {
     "name": "stdout",
     "output_type": "stream",
     "text": [
      "146.45948219299316\n"
     ]
    },
    {
     "data": {
      "text/html": [
       "<div>\n",
       "<style scoped>\n",
       "    .dataframe tbody tr th:only-of-type {\n",
       "        vertical-align: middle;\n",
       "    }\n",
       "\n",
       "    .dataframe tbody tr th {\n",
       "        vertical-align: top;\n",
       "    }\n",
       "\n",
       "    .dataframe thead th {\n",
       "        text-align: right;\n",
       "    }\n",
       "</style>\n",
       "<table border=\"1\" class=\"dataframe\">\n",
       "  <thead>\n",
       "    <tr style=\"text-align: right;\">\n",
       "      <th></th>\n",
       "      <th>f1</th>\n",
       "      <th>ARI</th>\n",
       "      <th>ACC</th>\n",
       "      <th>cover_rate</th>\n",
       "      <th>classes</th>\n",
       "    </tr>\n",
       "  </thead>\n",
       "  <tbody>\n",
       "    <tr>\n",
       "      <th>0</th>\n",
       "      <td>0.707042</td>\n",
       "      <td>0.561116</td>\n",
       "      <td>0.6707</td>\n",
       "      <td>1.0</td>\n",
       "      <td>40.0</td>\n",
       "    </tr>\n",
       "  </tbody>\n",
       "</table>\n",
       "</div>"
      ],
      "text/plain": [
       "         f1       ARI     ACC  cover_rate  classes\n",
       "0  0.707042  0.561116  0.6707         1.0     40.0"
      ]
     },
     "execution_count": 23,
     "metadata": {},
     "output_type": "execute_result"
    }
   ],
   "source": [
    "X,Y_true=DataLoader.load('mnist_10')\n",
    "bandwidth = estimate_bandwidth(X, quantile=0.01, n_samples=1000)\n",
    "t1=time.time()\n",
    "ms = MeanShift(bandwidth=bandwidth, bin_seeding=True, cluster_all=True)\n",
    "ms.fit(X)\n",
    "t2=time.time()\n",
    "print(t2-t1)\n",
    "Y_pred=ms.labels_\n",
    "measures_calculator(Y_true, Y_pred)"
   ]
  },
  {
   "cell_type": "code",
   "execution_count": 24,
   "metadata": {
    "hidden": true
   },
   "outputs": [
    {
     "name": "stdout",
     "output_type": "stream",
     "text": [
      "754.7691791057587\n"
     ]
    },
    {
     "data": {
      "text/html": [
       "<div>\n",
       "<style scoped>\n",
       "    .dataframe tbody tr th:only-of-type {\n",
       "        vertical-align: middle;\n",
       "    }\n",
       "\n",
       "    .dataframe tbody tr th {\n",
       "        vertical-align: top;\n",
       "    }\n",
       "\n",
       "    .dataframe thead th {\n",
       "        text-align: right;\n",
       "    }\n",
       "</style>\n",
       "<table border=\"1\" class=\"dataframe\">\n",
       "  <thead>\n",
       "    <tr style=\"text-align: right;\">\n",
       "      <th></th>\n",
       "      <th>f1</th>\n",
       "      <th>ARI</th>\n",
       "      <th>ACC</th>\n",
       "      <th>cover_rate</th>\n",
       "      <th>classes</th>\n",
       "    </tr>\n",
       "  </thead>\n",
       "  <tbody>\n",
       "    <tr>\n",
       "      <th>0</th>\n",
       "      <td>0.46293</td>\n",
       "      <td>0.331297</td>\n",
       "      <td>0.463</td>\n",
       "      <td>1.0</td>\n",
       "      <td>77.0</td>\n",
       "    </tr>\n",
       "  </tbody>\n",
       "</table>\n",
       "</div>"
      ],
      "text/plain": [
       "        f1       ARI    ACC  cover_rate  classes\n",
       "0  0.46293  0.331297  0.463         1.0     77.0"
      ]
     },
     "execution_count": 24,
     "metadata": {},
     "output_type": "execute_result"
    }
   ],
   "source": [
    "X,Y_true=DataLoader.load('mnist_20')\n",
    "bandwidth = estimate_bandwidth(X, quantile=0.01, n_samples=1000)\n",
    "t1=time.time()\n",
    "ms = MeanShift(bandwidth=bandwidth, bin_seeding=False, cluster_all=True)\n",
    "ms.fit(X)\n",
    "t2=time.time()\n",
    "print(t2-t1)\n",
    "Y_pred=ms.labels_\n",
    "measures_calculator(Y_true, Y_pred)"
   ]
  },
  {
   "cell_type": "code",
   "execution_count": 25,
   "metadata": {
    "hidden": true
   },
   "outputs": [
    {
     "name": "stdout",
     "output_type": "stream",
     "text": [
      "75.07419276237488\n"
     ]
    },
    {
     "data": {
      "text/html": [
       "<div>\n",
       "<style scoped>\n",
       "    .dataframe tbody tr th:only-of-type {\n",
       "        vertical-align: middle;\n",
       "    }\n",
       "\n",
       "    .dataframe tbody tr th {\n",
       "        vertical-align: top;\n",
       "    }\n",
       "\n",
       "    .dataframe thead th {\n",
       "        text-align: right;\n",
       "    }\n",
       "</style>\n",
       "<table border=\"1\" class=\"dataframe\">\n",
       "  <thead>\n",
       "    <tr style=\"text-align: right;\">\n",
       "      <th></th>\n",
       "      <th>f1</th>\n",
       "      <th>ARI</th>\n",
       "      <th>ACC</th>\n",
       "      <th>cover_rate</th>\n",
       "      <th>classes</th>\n",
       "    </tr>\n",
       "  </thead>\n",
       "  <tbody>\n",
       "    <tr>\n",
       "      <th>0</th>\n",
       "      <td>0.465823</td>\n",
       "      <td>0.296305</td>\n",
       "      <td>0.4371</td>\n",
       "      <td>1.0</td>\n",
       "      <td>62.0</td>\n",
       "    </tr>\n",
       "  </tbody>\n",
       "</table>\n",
       "</div>"
      ],
      "text/plain": [
       "         f1       ARI     ACC  cover_rate  classes\n",
       "0  0.465823  0.296305  0.4371         1.0     62.0"
      ]
     },
     "execution_count": 25,
     "metadata": {},
     "output_type": "execute_result"
    }
   ],
   "source": [
    "X,Y_true=DataLoader.load('fmnist_5')\n",
    "bandwidth = estimate_bandwidth(X, quantile=0.01, n_samples=1000)\n",
    "t1=time.time()\n",
    "ms = MeanShift(bandwidth=bandwidth, bin_seeding=True, cluster_all=True)\n",
    "ms.fit(X)\n",
    "t2=time.time()\n",
    "print(t2-t1)\n",
    "Y_pred=ms.labels_\n",
    "measures_calculator(Y_true, Y_pred)"
   ]
  },
  {
   "cell_type": "code",
   "execution_count": 26,
   "metadata": {
    "hidden": true
   },
   "outputs": [
    {
     "name": "stdout",
     "output_type": "stream",
     "text": [
      "167.43534064292908\n"
     ]
    },
    {
     "data": {
      "text/html": [
       "<div>\n",
       "<style scoped>\n",
       "    .dataframe tbody tr th:only-of-type {\n",
       "        vertical-align: middle;\n",
       "    }\n",
       "\n",
       "    .dataframe tbody tr th {\n",
       "        vertical-align: top;\n",
       "    }\n",
       "\n",
       "    .dataframe thead th {\n",
       "        text-align: right;\n",
       "    }\n",
       "</style>\n",
       "<table border=\"1\" class=\"dataframe\">\n",
       "  <thead>\n",
       "    <tr style=\"text-align: right;\">\n",
       "      <th></th>\n",
       "      <th>f1</th>\n",
       "      <th>ARI</th>\n",
       "      <th>ACC</th>\n",
       "      <th>cover_rate</th>\n",
       "      <th>classes</th>\n",
       "    </tr>\n",
       "  </thead>\n",
       "  <tbody>\n",
       "    <tr>\n",
       "      <th>0</th>\n",
       "      <td>0.313768</td>\n",
       "      <td>0.242606</td>\n",
       "      <td>0.3291</td>\n",
       "      <td>1.0</td>\n",
       "      <td>80.0</td>\n",
       "    </tr>\n",
       "  </tbody>\n",
       "</table>\n",
       "</div>"
      ],
      "text/plain": [
       "         f1       ARI     ACC  cover_rate  classes\n",
       "0  0.313768  0.242606  0.3291         1.0     80.0"
      ]
     },
     "execution_count": 26,
     "metadata": {},
     "output_type": "execute_result"
    }
   ],
   "source": [
    "X,Y_true=DataLoader.load('fmnist_10')\n",
    "bandwidth = estimate_bandwidth(X, quantile=0.01, n_samples=1000)\n",
    "t1=time.time()\n",
    "ms = MeanShift(bandwidth=bandwidth, bin_seeding=True, cluster_all=True)\n",
    "ms.fit(X)\n",
    "t2=time.time()\n",
    "print(t2-t1)\n",
    "Y_pred=ms.labels_\n",
    "measures_calculator(Y_true, Y_pred)"
   ]
  },
  {
   "cell_type": "code",
   "execution_count": 27,
   "metadata": {
    "hidden": true
   },
   "outputs": [
    {
     "name": "stdout",
     "output_type": "stream",
     "text": [
      "18.392173767089844\n"
     ]
    },
    {
     "data": {
      "text/html": [
       "<div>\n",
       "<style scoped>\n",
       "    .dataframe tbody tr th:only-of-type {\n",
       "        vertical-align: middle;\n",
       "    }\n",
       "\n",
       "    .dataframe tbody tr th {\n",
       "        vertical-align: top;\n",
       "    }\n",
       "\n",
       "    .dataframe thead th {\n",
       "        text-align: right;\n",
       "    }\n",
       "</style>\n",
       "<table border=\"1\" class=\"dataframe\">\n",
       "  <thead>\n",
       "    <tr style=\"text-align: right;\">\n",
       "      <th></th>\n",
       "      <th>f1</th>\n",
       "      <th>ARI</th>\n",
       "      <th>ACC</th>\n",
       "      <th>cover_rate</th>\n",
       "      <th>classes</th>\n",
       "    </tr>\n",
       "  </thead>\n",
       "  <tbody>\n",
       "    <tr>\n",
       "      <th>0</th>\n",
       "      <td>0.316771</td>\n",
       "      <td>0.272929</td>\n",
       "      <td>0.3889</td>\n",
       "      <td>1.0</td>\n",
       "      <td>12.0</td>\n",
       "    </tr>\n",
       "  </tbody>\n",
       "</table>\n",
       "</div>"
      ],
      "text/plain": [
       "         f1       ARI     ACC  cover_rate  classes\n",
       "0  0.316771  0.272929  0.3889         1.0     12.0"
      ]
     },
     "execution_count": 27,
     "metadata": {},
     "output_type": "execute_result"
    }
   ],
   "source": [
    "X,Y_true=DataLoader.load('fmnist_20')\n",
    "bandwidth = estimate_bandwidth(X, quantile=0.01, n_samples=1000)\n",
    "t1=time.time()\n",
    "ms = MeanShift(bandwidth=bandwidth, bin_seeding=True, cluster_all=True)\n",
    "ms.fit(X)\n",
    "t2=time.time()\n",
    "print(t2-t1)\n",
    "Y_pred=ms.labels_\n",
    "measures_calculator(Y_true, Y_pred)"
   ]
  },
  {
   "cell_type": "code",
   "execution_count": null,
   "metadata": {
    "hidden": true
   },
   "outputs": [],
   "source": [
    "X,Y_true=DataLoader.load('fmnist_30')\n",
    "bandwidth = estimate_bandwidth(X, quantile=0.01, n_samples=1000)\n",
    "t1=time.time()\n",
    "ms = MeanShift(bandwidth=bandwidth, bin_seeding=False, cluster_all=True)\n",
    "ms.fit(X)\n",
    "t2=time.time()\n",
    "print(t2-t1)\n",
    "Y_pred=ms.labels_\n",
    "measures_calculator(Y_true, Y_pred)"
   ]
  },
  {
   "cell_type": "markdown",
   "metadata": {
    "heading_collapsed": true
   },
   "source": [
    "# K-means"
   ]
  },
  {
   "cell_type": "code",
   "execution_count": null,
   "metadata": {
    "hidden": true
   },
   "outputs": [],
   "source": [
    "from sklearn.cluster import KMeans"
   ]
  },
  {
   "cell_type": "code",
   "execution_count": null,
   "metadata": {
    "hidden": true
   },
   "outputs": [],
   "source": [
    "X,Y_true=DataLoader.load('mnist_5')\n",
    "t1=time.time()\n",
    "kmeans = KMeans(n_clusters=10, random_state=5).fit(X)\n",
    "Y_pred=kmeans.predict(X)\n",
    "t2=time.time()\n",
    "print(t2-t1)\n",
    "measures_calculator(Y_true,Y_pred)"
   ]
  },
  {
   "cell_type": "code",
   "execution_count": null,
   "metadata": {
    "hidden": true
   },
   "outputs": [],
   "source": [
    "X,Y_true=DataLoader.load('mnist_10')\n",
    "t1=time.time()\n",
    "kmeans = KMeans(n_clusters=10, random_state=5).fit(X)\n",
    "Y_pred=kmeans.predict(X)\n",
    "t2=time.time()\n",
    "print(t2-t1)\n",
    "measures_calculator(Y_true,Y_pred)"
   ]
  },
  {
   "cell_type": "code",
   "execution_count": null,
   "metadata": {
    "hidden": true
   },
   "outputs": [],
   "source": [
    "X,Y_true=DataLoader.load('mnist_20')\n",
    "t1=time.time()\n",
    "kmeans = KMeans(n_clusters=10, random_state=5).fit(X)\n",
    "Y_pred=kmeans.predict(X)\n",
    "t2=time.time()\n",
    "print(t2-t1)\n",
    "measures_calculator(Y_true,Y_pred)"
   ]
  },
  {
   "cell_type": "code",
   "execution_count": null,
   "metadata": {
    "hidden": true
   },
   "outputs": [],
   "source": [
    "X,Y_true=DataLoader.load('mnist_30')\n",
    "t1=time.time()\n",
    "kmeans = KMeans(n_clusters=10, random_state=5).fit(X)\n",
    "Y_pred=kmeans.predict(X)\n",
    "t2=time.time()\n",
    "print(t2-t1)\n",
    "measures_calculator(Y_true,Y_pred)"
   ]
  },
  {
   "cell_type": "code",
   "execution_count": null,
   "metadata": {
    "hidden": true
   },
   "outputs": [],
   "source": [
    "X,Y_true=DataLoader.load('fmnist_5')\n",
    "t1=time.time()\n",
    "kmeans = KMeans(n_clusters=10, random_state=5).fit(X)\n",
    "Y_pred=kmeans.predict(X)\n",
    "t2=time.time()\n",
    "print(t2-t1)\n",
    "measures_calculator(Y_true,Y_pred)"
   ]
  },
  {
   "cell_type": "code",
   "execution_count": null,
   "metadata": {
    "hidden": true
   },
   "outputs": [],
   "source": [
    "X,Y_true=DataLoader.load('fmnist_10')\n",
    "t1=time.time()\n",
    "kmeans = KMeans(n_clusters=10, random_state=5).fit(X)\n",
    "Y_pred=kmeans.predict(X)\n",
    "t2=time.time()\n",
    "print(t2-t1)\n",
    "measures_calculator(Y_true,Y_pred)"
   ]
  },
  {
   "cell_type": "code",
   "execution_count": null,
   "metadata": {
    "hidden": true
   },
   "outputs": [],
   "source": [
    "X,Y_true=DataLoader.load('fmnist_20')\n",
    "t1=time.time()\n",
    "kmeans = KMeans(n_clusters=10, random_state=5).fit(X)\n",
    "Y_pred=kmeans.predict(X)\n",
    "t2=time.time()\n",
    "print(t2-t1)\n",
    "measures_calculator(Y_true,Y_pred)"
   ]
  },
  {
   "cell_type": "code",
   "execution_count": null,
   "metadata": {
    "hidden": true
   },
   "outputs": [],
   "source": [
    "X,Y_true=DataLoader.load('fmnist_30')\n",
    "t1=time.time()\n",
    "kmeans = KMeans(n_clusters=10, random_state=5).fit(X)\n",
    "Y_pred=kmeans.predict(X)\n",
    "t2=time.time()\n",
    "print(t2-t1)\n",
    "measures_calculator(Y_true,Y_pred)"
   ]
  },
  {
   "cell_type": "markdown",
   "metadata": {
    "heading_collapsed": true
   },
   "source": [
    "# QuicshiftPP"
   ]
  },
  {
   "cell_type": "code",
   "execution_count": null,
   "metadata": {
    "hidden": true
   },
   "outputs": [],
   "source": [
    "from QuickshiftPP import *"
   ]
  },
  {
   "cell_type": "code",
   "execution_count": null,
   "metadata": {
    "hidden": true
   },
   "outputs": [],
   "source": [
    "X,Y_true=DataLoader.load('mnist_5')\n",
    "t1=time.time()\n",
    "model = QuickshiftPP(k=60,beta=0.4)\n",
    "model.fit([X[i] for i in range(X.shape[0])])\n",
    "Y_pred = model.memberships\n",
    "t2=time.time()\n",
    "print(t2-t1)\n",
    "measures_calculator(Y_true,Y_pred)"
   ]
  },
  {
   "cell_type": "code",
   "execution_count": null,
   "metadata": {
    "hidden": true
   },
   "outputs": [],
   "source": [
    "X,Y_true=DataLoader.load('mnist_10')\n",
    "t1=time.time()\n",
    "model = QuickshiftPP(k=50,beta=0.5)\n",
    "model.fit([X[i] for i in range(X.shape[0])])\n",
    "Y_pred = model.memberships\n",
    "t2=time.time()\n",
    "print(t2-t1)\n",
    "measures_calculator(Y_true,Y_pred)"
   ]
  },
  {
   "cell_type": "code",
   "execution_count": null,
   "metadata": {
    "hidden": true
   },
   "outputs": [],
   "source": [
    "X,Y_true=DataLoader.load('mnist_20')\n",
    "t1=time.time()\n",
    "model = QuickshiftPP(k=50,beta=0.5)\n",
    "model.fit([X[i] for i in range(X.shape[0])])\n",
    "Y_pred = model.memberships\n",
    "t2=time.time()\n",
    "print(t2-t1)\n",
    "measures_calculator(Y_true,Y_pred)"
   ]
  },
  {
   "cell_type": "code",
   "execution_count": null,
   "metadata": {
    "hidden": true
   },
   "outputs": [],
   "source": [
    "X,Y_true=DataLoader.load('mnist_30')\n",
    "t1=time.time()\n",
    "model = QuickshiftPP(k=50,beta=0.5)\n",
    "model.fit([X[i] for i in range(X.shape[0])])\n",
    "Y_pred = model.memberships\n",
    "t2=time.time()\n",
    "print(t2-t1)\n",
    "measures_calculator(Y_true,Y_pred)"
   ]
  },
  {
   "cell_type": "code",
   "execution_count": null,
   "metadata": {
    "hidden": true
   },
   "outputs": [],
   "source": [
    "X,Y_true=DataLoader.load('fmnist_5')\n",
    "t1=time.time()\n",
    "model = QuickshiftPP(k=60,beta=0.05)\n",
    "model.fit([X[i] for i in range(X.shape[0])])\n",
    "Y_pred = model.memberships\n",
    "t2=time.time()\n",
    "print(t2-t1)\n",
    "measures_calculator(Y_true,Y_pred)"
   ]
  },
  {
   "cell_type": "code",
   "execution_count": null,
   "metadata": {
    "hidden": true
   },
   "outputs": [],
   "source": [
    "X,Y_true=DataLoader.load('fmnist_10')\n",
    "t1=time.time()\n",
    "model = QuickshiftPP(k=50,beta=0.1)\n",
    "model.fit([X[i] for i in range(X.shape[0])])\n",
    "Y_pred = model.memberships\n",
    "t2=time.time()\n",
    "print(t2-t1)\n",
    "measures_calculator(Y_true,Y_pred)"
   ]
  },
  {
   "cell_type": "code",
   "execution_count": null,
   "metadata": {
    "hidden": true
   },
   "outputs": [],
   "source": [
    "X,Y_true=DataLoader.load('fmnist_20')\n",
    "t1=time.time()\n",
    "model = QuickshiftPP(k=15,beta=0.7)\n",
    "model.fit([X[i] for i in range(X.shape[0])])\n",
    "Y_pred = model.memberships\n",
    "t2=time.time()\n",
    "print(t2-t1)\n",
    "measures_calculator(Y_true,Y_pred)"
   ]
  },
  {
   "cell_type": "code",
   "execution_count": null,
   "metadata": {
    "hidden": true
   },
   "outputs": [],
   "source": [
    "X,Y_true=DataLoader.load('fmnist_30')\n",
    "t1=time.time()\n",
    "model = QuickshiftPP(k=50,beta=0.6)\n",
    "model.fit([X[i] for i in range(X.shape[0])])\n",
    "Y_pred = model.memberships\n",
    "t2=time.time()\n",
    "print(t2-t1)\n",
    "measures_calculator(Y_true,Y_pred)"
   ]
  },
  {
   "cell_type": "markdown",
   "metadata": {},
   "source": [
    "# DBSCAN"
   ]
  },
  {
   "cell_type": "code",
   "execution_count": null,
   "metadata": {},
   "outputs": [],
   "source": [
    "from sklearn.cluster import DBSCAN"
   ]
  },
  {
   "cell_type": "code",
   "execution_count": null,
   "metadata": {},
   "outputs": [],
   "source": [
    "X,Y_true=DataLoader.load('mnist_5')\n",
    "t1=time.time()\n",
    "dbscan = DBSCAN(eps=0.5).fit(X)\n",
    "Y_pred = dbscan.labels_\n",
    "t2=time.time()\n",
    "print(t2-t1)\n",
    "measures_calculator(Y_true,Y_pred)"
   ]
  },
  {
   "cell_type": "code",
   "execution_count": null,
   "metadata": {},
   "outputs": [],
   "source": [
    "X,Y_true=DataLoader.load('mnist_10')\n",
    "t1=time.time()\n",
    "dbscan = DBSCAN(eps=1.2).fit(X)\n",
    "Y_pred = dbscan.labels_\n",
    "t2=time.time()\n",
    "print(t2-t1)\n",
    "measures_calculator(Y_true,Y_pred)"
   ]
  },
  {
   "cell_type": "code",
   "execution_count": null,
   "metadata": {},
   "outputs": [],
   "source": [
    "X,Y_true=DataLoader.load('mnist_20')\n",
    "t1=time.time()\n",
    "dbscan = DBSCAN(eps=2.).fit(X)\n",
    "Y_pred = dbscan.labels_\n",
    "t2=time.time()\n",
    "print(t2-t1)\n",
    "measures_calculator(Y_true,Y_pred)"
   ]
  },
  {
   "cell_type": "code",
   "execution_count": null,
   "metadata": {},
   "outputs": [],
   "source": [
    "X,Y_true=DataLoader.load('mnist_30')\n",
    "t1=time.time()\n",
    "dbscan = DBSCAN(eps=3.).fit(X)\n",
    "Y_pred = dbscan.labels_\n",
    "t2=time.time()\n",
    "print(t2-t1)\n",
    "measures_calculator(Y_true,Y_pred)"
   ]
  },
  {
   "cell_type": "code",
   "execution_count": null,
   "metadata": {},
   "outputs": [],
   "source": [
    "X,Y_true=DataLoader.load('fmnist_5')\n",
    "t1=time.time()\n",
    "dbscan = DBSCAN(eps=0.5).fit(X)\n",
    "Y_pred = dbscan.labels_\n",
    "t2=time.time()\n",
    "print(t2-t1)\n",
    "measures_calculator(Y_true,Y_pred)"
   ]
  },
  {
   "cell_type": "code",
   "execution_count": null,
   "metadata": {},
   "outputs": [],
   "source": [
    "X,Y_true=DataLoader.load('fmnist_10')\n",
    "t1=time.time()\n",
    "dbscan = DBSCAN(eps=1.).fit(X)\n",
    "Y_pred = dbscan.labels_\n",
    "t2=time.time()\n",
    "print(t2-t1)\n",
    "measures_calculator(Y_true,Y_pred)"
   ]
  },
  {
   "cell_type": "code",
   "execution_count": null,
   "metadata": {},
   "outputs": [],
   "source": [
    "X,Y_true=DataLoader.load('fmnist_20')\n",
    "t1=time.time()\n",
    "dbscan = DBSCAN(eps=2.).fit(X)\n",
    "Y_pred = dbscan.labels_\n",
    "t2=time.time()\n",
    "print(t2-t1)\n",
    "measures_calculator(Y_true,Y_pred)"
   ]
  },
  {
   "cell_type": "code",
   "execution_count": null,
   "metadata": {},
   "outputs": [],
   "source": [
    "X,Y_true=DataLoader.load('fmnist_30')\n",
    "t1=time.time()\n",
    "dbscan = DBSCAN(eps=2.5).fit(X)\n",
    "Y_pred = dbscan.labels_\n",
    "t2=time.time()\n",
    "print(t2-t1)\n",
    "measures_calculator(Y_true,Y_pred)"
   ]
  },
  {
   "cell_type": "code",
   "execution_count": null,
   "metadata": {},
   "outputs": [],
   "source": []
  }
 ],
 "metadata": {
  "kernelspec": {
   "display_name": "Python 3",
   "language": "python",
   "name": "python3"
  },
  "language_info": {
   "codemirror_mode": {
    "name": "ipython",
    "version": 3
   },
   "file_extension": ".py",
   "mimetype": "text/x-python",
   "name": "python",
   "nbconvert_exporter": "python",
   "pygments_lexer": "ipython3",
   "version": "3.6.10"
  },
  "toc": {
   "base_numbering": 1,
   "nav_menu": {},
   "number_sections": true,
   "sideBar": true,
   "skip_h1_title": false,
   "title_cell": "Table of Contents",
   "title_sidebar": "Contents",
   "toc_cell": false,
   "toc_position": {},
   "toc_section_display": true,
   "toc_window_display": false
  }
 },
 "nbformat": 4,
 "nbformat_minor": 4
}
