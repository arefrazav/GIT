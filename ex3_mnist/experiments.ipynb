{
 "cells": [
  {
   "cell_type": "code",
   "execution_count": 1,
   "metadata": {},
   "outputs": [],
   "source": [
    "from torchvision import datasets\n",
    "\n",
    "class DataLoader:\n",
    "    def __init__(self):\n",
    "        pass\n",
    "    \n",
    "    @classmethod\n",
    "    def load(self,name):\n",
    "        if name=='mnist_5':\n",
    "            data=np.load('./mnist_5.npy')\n",
    "            X=data[:,:-1]\n",
    "            Y_true=data[:,-1]\n",
    "            return X,Y_true\n",
    "        \n",
    "        if name=='mnist_10':\n",
    "            data=np.load('./mnist_10.npy')\n",
    "            X=data[:,:-1]\n",
    "            Y_true=data[:,-1]\n",
    "            return X,Y_true\n",
    "        \n",
    "        if name=='mnist_20':\n",
    "            data=np.load('./mnist_20.npy')\n",
    "            X=data[:,:-1]\n",
    "            Y_true=data[:,-1]\n",
    "            return X,Y_true\n",
    "        \n",
    "        if name=='mnist_30':\n",
    "            data=np.load('./mnist_30.npy')\n",
    "            X=data[:,:-1]\n",
    "            Y_true=data[:,-1]\n",
    "            return X,Y_true\n",
    "        \n",
    "        if name=='mnist_784':\n",
    "            dataset2 = datasets.MNIST('../data', train=False, download=True)\n",
    "            N=dataset2.test_data.shape[0]\n",
    "            X=dataset2.test_data.numpy().reshape(N,784)/255\n",
    "            Y_true=dataset2.test_labels.numpy()\n",
    "            return X,Y_true\n",
    "        \n",
    "        if name=='fmnist_5':\n",
    "            data=np.load('./fmnist_5.npy')\n",
    "            X=data[:,:-1]\n",
    "            Y_true=data[:,-1]\n",
    "            return X,Y_true\n",
    "        \n",
    "        if name=='fmnist_10':\n",
    "            data=np.load('./fmnist_10.npy')\n",
    "            X=data[:,:-1]\n",
    "            Y_true=data[:,-1]\n",
    "            return X,Y_true\n",
    "        \n",
    "        if name=='fmnist_20':\n",
    "            data=np.load('./fmnist_20.npy')\n",
    "            X=data[:,:-1]\n",
    "            Y_true=data[:,-1]\n",
    "            return X,Y_true\n",
    "        \n",
    "        if name=='fmnist_30':\n",
    "            data=np.load('./fmnist_30.npy')\n",
    "            X=data[:,:-1]\n",
    "            Y_true=data[:,-1]\n",
    "            return X,Y_true\n",
    "        \n",
    "        if name=='fmnist_784':\n",
    "            dataset2 = datasets.FashionMNIST('../data', train=False, download=True)\n",
    "            N=dataset2.test_data.shape[0]\n",
    "            X=dataset2.test_data.numpy().reshape(N,784)/255\n",
    "            Y_true=dataset2.test_labels.numpy()\n",
    "            return X,Y_true"
   ]
  },
  {
   "cell_type": "markdown",
   "metadata": {},
   "source": [
    "# GDT"
   ]
  },
  {
   "cell_type": "code",
   "execution_count": 2,
   "metadata": {},
   "outputs": [],
   "source": [
    "import numpy as np\n",
    "import matplotlib.pyplot as plt\n",
    "import sys;sys.path.append('../utils/')\n",
    "import imp\n",
    "import plot_tools,api\n",
    "import pandas as pd\n",
    "import networkx as nx\n",
    "from measures import matchY,measures_calculator,matchY\n",
    "import time"
   ]
  },
  {
   "cell_type": "code",
   "execution_count": 3,
   "metadata": {},
   "outputs": [
    {
     "name": "stdout",
     "output_type": "stream",
     "text": [
      "0.8337061405181885\n"
     ]
    },
    {
     "data": {
      "text/html": [
       "<div>\n",
       "<style scoped>\n",
       "    .dataframe tbody tr th:only-of-type {\n",
       "        vertical-align: middle;\n",
       "    }\n",
       "\n",
       "    .dataframe tbody tr th {\n",
       "        vertical-align: top;\n",
       "    }\n",
       "\n",
       "    .dataframe thead th {\n",
       "        text-align: right;\n",
       "    }\n",
       "</style>\n",
       "<table border=\"1\" class=\"dataframe\">\n",
       "  <thead>\n",
       "    <tr style=\"text-align: right;\">\n",
       "      <th></th>\n",
       "      <th>f1</th>\n",
       "      <th>ARI</th>\n",
       "      <th>ACC</th>\n",
       "      <th>cover_rate</th>\n",
       "    </tr>\n",
       "  </thead>\n",
       "  <tbody>\n",
       "    <tr>\n",
       "      <th>0</th>\n",
       "      <td>0.884374</td>\n",
       "      <td>0.767597</td>\n",
       "      <td>0.861655</td>\n",
       "      <td>0.991</td>\n",
       "    </tr>\n",
       "  </tbody>\n",
       "</table>\n",
       "</div>"
      ],
      "text/plain": [
       "         f1       ARI       ACC  cover_rate\n",
       "0  0.884374  0.767597  0.861655       0.991"
      ]
     },
     "execution_count": 3,
     "metadata": {},
     "output_type": "execute_result"
    }
   ],
   "source": [
    "X,Y_true=DataLoader.load('mnist_5')\n",
    "\n",
    "t1=time.time()\n",
    "Y_pred=api.DGSFC.fit(  X,\n",
    "                  K_d=20,\n",
    "                  K_s=30,\n",
    "                  alpha=0.2,\n",
    "                  epsilon=0.001,\n",
    "                  plot=False,\n",
    "                  scale=True\n",
    "                 )\n",
    "\n",
    "t2=time.time()\n",
    "print(t2-t1)\n",
    "measures_calculator(Y_true,Y_pred)"
   ]
  },
  {
   "cell_type": "code",
   "execution_count": 4,
   "metadata": {},
   "outputs": [
    {
     "name": "stdout",
     "output_type": "stream",
     "text": [
      "4.774214267730713\n"
     ]
    },
    {
     "data": {
      "text/html": [
       "<div>\n",
       "<style scoped>\n",
       "    .dataframe tbody tr th:only-of-type {\n",
       "        vertical-align: middle;\n",
       "    }\n",
       "\n",
       "    .dataframe tbody tr th {\n",
       "        vertical-align: top;\n",
       "    }\n",
       "\n",
       "    .dataframe thead th {\n",
       "        text-align: right;\n",
       "    }\n",
       "</style>\n",
       "<table border=\"1\" class=\"dataframe\">\n",
       "  <thead>\n",
       "    <tr style=\"text-align: right;\">\n",
       "      <th></th>\n",
       "      <th>f1</th>\n",
       "      <th>ARI</th>\n",
       "      <th>ACC</th>\n",
       "      <th>cover_rate</th>\n",
       "    </tr>\n",
       "  </thead>\n",
       "  <tbody>\n",
       "    <tr>\n",
       "      <th>0</th>\n",
       "      <td>0.810207</td>\n",
       "      <td>0.643486</td>\n",
       "      <td>0.7708</td>\n",
       "      <td>1.0</td>\n",
       "    </tr>\n",
       "  </tbody>\n",
       "</table>\n",
       "</div>"
      ],
      "text/plain": [
       "         f1       ARI     ACC  cover_rate\n",
       "0  0.810207  0.643486  0.7708         1.0"
      ]
     },
     "execution_count": 4,
     "metadata": {},
     "output_type": "execute_result"
    }
   ],
   "source": [
    "X,Y_true=DataLoader.load('mnist_10')\n",
    "\n",
    "t1=time.time()\n",
    "Y_pred=api.DGSFC.fit(  X,\n",
    "                  K_d=40,\n",
    "                  K_s=35,\n",
    "                  alpha=0.3,\n",
    "                  epsilon=0,\n",
    "                  plot=False,\n",
    "                  scale=True\n",
    "                 )\n",
    "t2=time.time()\n",
    "print(t2-t1)\n",
    "measures_calculator(Y_true,Y_pred)"
   ]
  },
  {
   "cell_type": "code",
   "execution_count": 5,
   "metadata": {},
   "outputs": [
    {
     "name": "stdout",
     "output_type": "stream",
     "text": [
      "18.243839025497437\n"
     ]
    },
    {
     "data": {
      "text/html": [
       "<div>\n",
       "<style scoped>\n",
       "    .dataframe tbody tr th:only-of-type {\n",
       "        vertical-align: middle;\n",
       "    }\n",
       "\n",
       "    .dataframe tbody tr th {\n",
       "        vertical-align: top;\n",
       "    }\n",
       "\n",
       "    .dataframe thead th {\n",
       "        text-align: right;\n",
       "    }\n",
       "</style>\n",
       "<table border=\"1\" class=\"dataframe\">\n",
       "  <thead>\n",
       "    <tr style=\"text-align: right;\">\n",
       "      <th></th>\n",
       "      <th>f1</th>\n",
       "      <th>ARI</th>\n",
       "      <th>ACC</th>\n",
       "      <th>cover_rate</th>\n",
       "    </tr>\n",
       "  </thead>\n",
       "  <tbody>\n",
       "    <tr>\n",
       "      <th>0</th>\n",
       "      <td>0.754133</td>\n",
       "      <td>0.535164</td>\n",
       "      <td>0.7003</td>\n",
       "      <td>1.0</td>\n",
       "    </tr>\n",
       "  </tbody>\n",
       "</table>\n",
       "</div>"
      ],
      "text/plain": [
       "         f1       ARI     ACC  cover_rate\n",
       "0  0.754133  0.535164  0.7003         1.0"
      ]
     },
     "execution_count": 5,
     "metadata": {},
     "output_type": "execute_result"
    }
   ],
   "source": [
    "X,Y_true=DataLoader.load('mnist_20')\n",
    "\n",
    "t1=time.time()\n",
    "Y_pred=api.DGSFC.fit(  X,\n",
    "                  K_d=50,\n",
    "                  K_s=30,\n",
    "                  alpha=0.3,\n",
    "                  epsilon=0,\n",
    "                  plot=False,\n",
    "                  scale=True\n",
    "                 )\n",
    "t2=time.time()\n",
    "print(t2-t1)\n",
    "measures_calculator(Y_true,Y_pred)"
   ]
  },
  {
   "cell_type": "code",
   "execution_count": 6,
   "metadata": {},
   "outputs": [
    {
     "name": "stdout",
     "output_type": "stream",
     "text": [
      "30.63368511199951\n"
     ]
    },
    {
     "data": {
      "text/html": [
       "<div>\n",
       "<style scoped>\n",
       "    .dataframe tbody tr th:only-of-type {\n",
       "        vertical-align: middle;\n",
       "    }\n",
       "\n",
       "    .dataframe tbody tr th {\n",
       "        vertical-align: top;\n",
       "    }\n",
       "\n",
       "    .dataframe thead th {\n",
       "        text-align: right;\n",
       "    }\n",
       "</style>\n",
       "<table border=\"1\" class=\"dataframe\">\n",
       "  <thead>\n",
       "    <tr style=\"text-align: right;\">\n",
       "      <th></th>\n",
       "      <th>f1</th>\n",
       "      <th>ARI</th>\n",
       "      <th>ACC</th>\n",
       "      <th>cover_rate</th>\n",
       "    </tr>\n",
       "  </thead>\n",
       "  <tbody>\n",
       "    <tr>\n",
       "      <th>0</th>\n",
       "      <td>0.673596</td>\n",
       "      <td>0.531709</td>\n",
       "      <td>0.6646</td>\n",
       "      <td>1.0</td>\n",
       "    </tr>\n",
       "  </tbody>\n",
       "</table>\n",
       "</div>"
      ],
      "text/plain": [
       "         f1       ARI     ACC  cover_rate\n",
       "0  0.673596  0.531709  0.6646         1.0"
      ]
     },
     "execution_count": 6,
     "metadata": {},
     "output_type": "execute_result"
    }
   ],
   "source": [
    "X,Y_true=DataLoader.load('mnist_30')\n",
    "\n",
    "t1=time.time()\n",
    "Y_pred=api.DGSFC.fit(  X,\n",
    "                  K_d=100,\n",
    "                  K_s=30,\n",
    "                  alpha=0.1,\n",
    "                  epsilon=0,\n",
    "                  plot=False,\n",
    "                  scale=True\n",
    "                 )\n",
    "t2=time.time()\n",
    "print(t2-t1)\n",
    "measures_calculator(Y_true,Y_pred)"
   ]
  },
  {
   "cell_type": "code",
   "execution_count": 26,
   "metadata": {},
   "outputs": [
    {
     "name": "stdout",
     "output_type": "stream",
     "text": [
      "0.7363905906677246\n"
     ]
    },
    {
     "data": {
      "text/html": [
       "<div>\n",
       "<style scoped>\n",
       "    .dataframe tbody tr th:only-of-type {\n",
       "        vertical-align: middle;\n",
       "    }\n",
       "\n",
       "    .dataframe tbody tr th {\n",
       "        vertical-align: top;\n",
       "    }\n",
       "\n",
       "    .dataframe thead th {\n",
       "        text-align: right;\n",
       "    }\n",
       "</style>\n",
       "<table border=\"1\" class=\"dataframe\">\n",
       "  <thead>\n",
       "    <tr style=\"text-align: right;\">\n",
       "      <th></th>\n",
       "      <th>f1</th>\n",
       "      <th>ARI</th>\n",
       "      <th>ACC</th>\n",
       "      <th>cover_rate</th>\n",
       "      <th>classes</th>\n",
       "    </tr>\n",
       "  </thead>\n",
       "  <tbody>\n",
       "    <tr>\n",
       "      <th>0</th>\n",
       "      <td>0.560494</td>\n",
       "      <td>0.429896</td>\n",
       "      <td>0.566425</td>\n",
       "      <td>0.965</td>\n",
       "      <td>22.0</td>\n",
       "    </tr>\n",
       "  </tbody>\n",
       "</table>\n",
       "</div>"
      ],
      "text/plain": [
       "         f1       ARI       ACC  cover_rate  classes\n",
       "0  0.560494  0.429896  0.566425       0.965     22.0"
      ]
     },
     "execution_count": 26,
     "metadata": {},
     "output_type": "execute_result"
    }
   ],
   "source": [
    "X,Y_true=DataLoader.load('fmnist_5')\n",
    "\n",
    "t1=time.time()\n",
    "Y_pred=api.DGSFC.fit(  X,\n",
    "                  K_d=50,\n",
    "                  K_s=12,\n",
    "                  alpha=0.1,\n",
    "                  epsilon=0.02,\n",
    "                  plot=False,\n",
    "                  scale=True\n",
    "                 )\n",
    "\n",
    "t2=time.time()\n",
    "print(t2-t1)\n",
    "measures_calculator(Y_true,Y_pred)"
   ]
  },
  {
   "cell_type": "code",
   "execution_count": 9,
   "metadata": {},
   "outputs": [
    {
     "name": "stdout",
     "output_type": "stream",
     "text": [
      "2.9279448986053467\n"
     ]
    },
    {
     "data": {
      "text/html": [
       "<div>\n",
       "<style scoped>\n",
       "    .dataframe tbody tr th:only-of-type {\n",
       "        vertical-align: middle;\n",
       "    }\n",
       "\n",
       "    .dataframe tbody tr th {\n",
       "        vertical-align: top;\n",
       "    }\n",
       "\n",
       "    .dataframe thead th {\n",
       "        text-align: right;\n",
       "    }\n",
       "</style>\n",
       "<table border=\"1\" class=\"dataframe\">\n",
       "  <thead>\n",
       "    <tr style=\"text-align: right;\">\n",
       "      <th></th>\n",
       "      <th>f1</th>\n",
       "      <th>ARI</th>\n",
       "      <th>ACC</th>\n",
       "      <th>cover_rate</th>\n",
       "    </tr>\n",
       "  </thead>\n",
       "  <tbody>\n",
       "    <tr>\n",
       "      <th>0</th>\n",
       "      <td>0.529003</td>\n",
       "      <td>0.346608</td>\n",
       "      <td>0.4945</td>\n",
       "      <td>1.0</td>\n",
       "    </tr>\n",
       "  </tbody>\n",
       "</table>\n",
       "</div>"
      ],
      "text/plain": [
       "         f1       ARI     ACC  cover_rate\n",
       "0  0.529003  0.346608  0.4945         1.0"
      ]
     },
     "execution_count": 9,
     "metadata": {},
     "output_type": "execute_result"
    }
   ],
   "source": [
    "X,Y_true=DataLoader.load('fmnist_10')\n",
    "\n",
    "t1=time.time()\n",
    "Y_pred=api.DGSFC.fit(  X,\n",
    "                  K_d=30,\n",
    "                  K_s=30,\n",
    "                  alpha=0.2,\n",
    "                  epsilon=0,\n",
    "                  plot=False,\n",
    "                  scale=True\n",
    "                 )\n",
    "t2=time.time()\n",
    "print(t2-t1)\n",
    "measures_calculator(Y_true,Y_pred)"
   ]
  },
  {
   "cell_type": "code",
   "execution_count": 10,
   "metadata": {},
   "outputs": [
    {
     "name": "stdout",
     "output_type": "stream",
     "text": [
      "13.603097438812256\n"
     ]
    },
    {
     "data": {
      "text/html": [
       "<div>\n",
       "<style scoped>\n",
       "    .dataframe tbody tr th:only-of-type {\n",
       "        vertical-align: middle;\n",
       "    }\n",
       "\n",
       "    .dataframe tbody tr th {\n",
       "        vertical-align: top;\n",
       "    }\n",
       "\n",
       "    .dataframe thead th {\n",
       "        text-align: right;\n",
       "    }\n",
       "</style>\n",
       "<table border=\"1\" class=\"dataframe\">\n",
       "  <thead>\n",
       "    <tr style=\"text-align: right;\">\n",
       "      <th></th>\n",
       "      <th>f1</th>\n",
       "      <th>ARI</th>\n",
       "      <th>ACC</th>\n",
       "      <th>cover_rate</th>\n",
       "    </tr>\n",
       "  </thead>\n",
       "  <tbody>\n",
       "    <tr>\n",
       "      <th>0</th>\n",
       "      <td>0.523557</td>\n",
       "      <td>0.253892</td>\n",
       "      <td>0.4716</td>\n",
       "      <td>1.0</td>\n",
       "    </tr>\n",
       "  </tbody>\n",
       "</table>\n",
       "</div>"
      ],
      "text/plain": [
       "         f1       ARI     ACC  cover_rate\n",
       "0  0.523557  0.253892  0.4716         1.0"
      ]
     },
     "execution_count": 10,
     "metadata": {},
     "output_type": "execute_result"
    }
   ],
   "source": [
    "X,Y_true=DataLoader.load('fmnist_20')\n",
    "\n",
    "t1=time.time()\n",
    "Y_pred=api.DGSFC.fit(  X,\n",
    "                  K_d=100,\n",
    "                  K_s=30,\n",
    "                  alpha=0.3,\n",
    "                  epsilon=0,\n",
    "                  plot=False,\n",
    "                  scale=True\n",
    "                 )\n",
    "t2=time.time()\n",
    "print(t2-t1)\n",
    "measures_calculator(Y_true,Y_pred)"
   ]
  },
  {
   "cell_type": "code",
   "execution_count": 11,
   "metadata": {},
   "outputs": [
    {
     "name": "stdout",
     "output_type": "stream",
     "text": [
      "18.701659679412842\n"
     ]
    },
    {
     "data": {
      "text/html": [
       "<div>\n",
       "<style scoped>\n",
       "    .dataframe tbody tr th:only-of-type {\n",
       "        vertical-align: middle;\n",
       "    }\n",
       "\n",
       "    .dataframe tbody tr th {\n",
       "        vertical-align: top;\n",
       "    }\n",
       "\n",
       "    .dataframe thead th {\n",
       "        text-align: right;\n",
       "    }\n",
       "</style>\n",
       "<table border=\"1\" class=\"dataframe\">\n",
       "  <thead>\n",
       "    <tr style=\"text-align: right;\">\n",
       "      <th></th>\n",
       "      <th>f1</th>\n",
       "      <th>ARI</th>\n",
       "      <th>ACC</th>\n",
       "      <th>cover_rate</th>\n",
       "    </tr>\n",
       "  </thead>\n",
       "  <tbody>\n",
       "    <tr>\n",
       "      <th>0</th>\n",
       "      <td>0.496824</td>\n",
       "      <td>0.215011</td>\n",
       "      <td>0.4286</td>\n",
       "      <td>1.0</td>\n",
       "    </tr>\n",
       "  </tbody>\n",
       "</table>\n",
       "</div>"
      ],
      "text/plain": [
       "         f1       ARI     ACC  cover_rate\n",
       "0  0.496824  0.215011  0.4286         1.0"
      ]
     },
     "execution_count": 11,
     "metadata": {},
     "output_type": "execute_result"
    }
   ],
   "source": [
    "X,Y_true=DataLoader.load('fmnist_30')\n",
    "\n",
    "t1=time.time()\n",
    "Y_pred=api.DGSFC.fit(  X,\n",
    "                  K_d=50,\n",
    "                  K_s=25,\n",
    "                  alpha=0.2,\n",
    "                  epsilon=0,\n",
    "                  plot=False,\n",
    "                  scale=True\n",
    "                 )\n",
    "t2=time.time()\n",
    "print(t2-t1)\n",
    "measures_calculator(Y_true,Y_pred)"
   ]
  },
  {
   "cell_type": "markdown",
   "metadata": {},
   "source": [
    "# HDBSCAN"
   ]
  },
  {
   "cell_type": "code",
   "execution_count": 12,
   "metadata": {},
   "outputs": [],
   "source": [
    "import hdbscan"
   ]
  },
  {
   "cell_type": "code",
   "execution_count": 13,
   "metadata": {},
   "outputs": [
    {
     "name": "stdout",
     "output_type": "stream",
     "text": [
      "0.4601738452911377\n"
     ]
    },
    {
     "data": {
      "text/html": [
       "<div>\n",
       "<style scoped>\n",
       "    .dataframe tbody tr th:only-of-type {\n",
       "        vertical-align: middle;\n",
       "    }\n",
       "\n",
       "    .dataframe tbody tr th {\n",
       "        vertical-align: top;\n",
       "    }\n",
       "\n",
       "    .dataframe thead th {\n",
       "        text-align: right;\n",
       "    }\n",
       "</style>\n",
       "<table border=\"1\" class=\"dataframe\">\n",
       "  <thead>\n",
       "    <tr style=\"text-align: right;\">\n",
       "      <th></th>\n",
       "      <th>f1</th>\n",
       "      <th>ARI</th>\n",
       "      <th>ACC</th>\n",
       "      <th>cover_rate</th>\n",
       "    </tr>\n",
       "  </thead>\n",
       "  <tbody>\n",
       "    <tr>\n",
       "      <th>0</th>\n",
       "      <td>0.889706</td>\n",
       "      <td>0.900981</td>\n",
       "      <td>0.917821</td>\n",
       "      <td>0.4186</td>\n",
       "    </tr>\n",
       "  </tbody>\n",
       "</table>\n",
       "</div>"
      ],
      "text/plain": [
       "         f1       ARI       ACC  cover_rate\n",
       "0  0.889706  0.900981  0.917821      0.4186"
      ]
     },
     "execution_count": 13,
     "metadata": {},
     "output_type": "execute_result"
    }
   ],
   "source": [
    "X,Y_true=DataLoader.load('mnist_5')\n",
    "t1=time.time()\n",
    "clusterer = hdbscan.HDBSCAN(min_cluster_size=20, min_samples=10,cluster_selection_epsilon=0.5)\n",
    "clusterer.fit(X)\n",
    "t2=time.time()\n",
    "print(t2-t1)\n",
    "Y_pred=clusterer.labels_\n",
    "\n",
    "measures_calculator(Y_true, Y_pred)"
   ]
  },
  {
   "cell_type": "code",
   "execution_count": 14,
   "metadata": {
    "scrolled": true
   },
   "outputs": [
    {
     "name": "stdout",
     "output_type": "stream",
     "text": [
      "2.1076111793518066\n"
     ]
    },
    {
     "data": {
      "text/html": [
       "<div>\n",
       "<style scoped>\n",
       "    .dataframe tbody tr th:only-of-type {\n",
       "        vertical-align: middle;\n",
       "    }\n",
       "\n",
       "    .dataframe tbody tr th {\n",
       "        vertical-align: top;\n",
       "    }\n",
       "\n",
       "    .dataframe thead th {\n",
       "        text-align: right;\n",
       "    }\n",
       "</style>\n",
       "<table border=\"1\" class=\"dataframe\">\n",
       "  <thead>\n",
       "    <tr style=\"text-align: right;\">\n",
       "      <th></th>\n",
       "      <th>f1</th>\n",
       "      <th>ARI</th>\n",
       "      <th>ACC</th>\n",
       "      <th>cover_rate</th>\n",
       "    </tr>\n",
       "  </thead>\n",
       "  <tbody>\n",
       "    <tr>\n",
       "      <th>0</th>\n",
       "      <td>0.849681</td>\n",
       "      <td>0.874101</td>\n",
       "      <td>0.860465</td>\n",
       "      <td>0.5418</td>\n",
       "    </tr>\n",
       "  </tbody>\n",
       "</table>\n",
       "</div>"
      ],
      "text/plain": [
       "         f1       ARI       ACC  cover_rate\n",
       "0  0.849681  0.874101  0.860465      0.5418"
      ]
     },
     "execution_count": 14,
     "metadata": {},
     "output_type": "execute_result"
    }
   ],
   "source": [
    "X,Y_true=DataLoader.load('mnist_10')\n",
    "t1=time.time()\n",
    "clusterer = hdbscan.HDBSCAN(min_cluster_size=20, min_samples=1,cluster_selection_epsilon=0.1)\n",
    "clusterer.fit(X)\n",
    "t2=time.time()\n",
    "print(t2-t1)\n",
    "Y_pred=clusterer.labels_\n",
    "\n",
    "measures_calculator(Y_true, Y_pred)"
   ]
  },
  {
   "cell_type": "code",
   "execution_count": 15,
   "metadata": {},
   "outputs": [
    {
     "name": "stdout",
     "output_type": "stream",
     "text": [
      "3.4101648330688477\n"
     ]
    },
    {
     "data": {
      "text/html": [
       "<div>\n",
       "<style scoped>\n",
       "    .dataframe tbody tr th:only-of-type {\n",
       "        vertical-align: middle;\n",
       "    }\n",
       "\n",
       "    .dataframe tbody tr th {\n",
       "        vertical-align: top;\n",
       "    }\n",
       "\n",
       "    .dataframe thead th {\n",
       "        text-align: right;\n",
       "    }\n",
       "</style>\n",
       "<table border=\"1\" class=\"dataframe\">\n",
       "  <thead>\n",
       "    <tr style=\"text-align: right;\">\n",
       "      <th></th>\n",
       "      <th>f1</th>\n",
       "      <th>ARI</th>\n",
       "      <th>ACC</th>\n",
       "      <th>cover_rate</th>\n",
       "    </tr>\n",
       "  </thead>\n",
       "  <tbody>\n",
       "    <tr>\n",
       "      <th>0</th>\n",
       "      <td>0.495667</td>\n",
       "      <td>0.356484</td>\n",
       "      <td>0.563065</td>\n",
       "      <td>0.4646</td>\n",
       "    </tr>\n",
       "  </tbody>\n",
       "</table>\n",
       "</div>"
      ],
      "text/plain": [
       "         f1       ARI       ACC  cover_rate\n",
       "0  0.495667  0.356484  0.563065      0.4646"
      ]
     },
     "execution_count": 15,
     "metadata": {},
     "output_type": "execute_result"
    }
   ],
   "source": [
    "X,Y_true=DataLoader.load('mnist_20')\n",
    "t1=time.time()\n",
    "clusterer = hdbscan.HDBSCAN(min_cluster_size=10, min_samples=2,cluster_selection_epsilon=2)\n",
    "clusterer.fit(X)\n",
    "t2=time.time()\n",
    "print(t2-t1)\n",
    "Y_pred=clusterer.labels_\n",
    "\n",
    "measures_calculator(Y_true, Y_pred)"
   ]
  },
  {
   "cell_type": "code",
   "execution_count": 16,
   "metadata": {},
   "outputs": [
    {
     "name": "stdout",
     "output_type": "stream",
     "text": [
      "7.497862100601196\n"
     ]
    },
    {
     "data": {
      "text/html": [
       "<div>\n",
       "<style scoped>\n",
       "    .dataframe tbody tr th:only-of-type {\n",
       "        vertical-align: middle;\n",
       "    }\n",
       "\n",
       "    .dataframe tbody tr th {\n",
       "        vertical-align: top;\n",
       "    }\n",
       "\n",
       "    .dataframe thead th {\n",
       "        text-align: right;\n",
       "    }\n",
       "</style>\n",
       "<table border=\"1\" class=\"dataframe\">\n",
       "  <thead>\n",
       "    <tr style=\"text-align: right;\">\n",
       "      <th></th>\n",
       "      <th>f1</th>\n",
       "      <th>ARI</th>\n",
       "      <th>ACC</th>\n",
       "      <th>cover_rate</th>\n",
       "    </tr>\n",
       "  </thead>\n",
       "  <tbody>\n",
       "    <tr>\n",
       "      <th>0</th>\n",
       "      <td>0.938794</td>\n",
       "      <td>0.936519</td>\n",
       "      <td>0.904397</td>\n",
       "      <td>0.4822</td>\n",
       "    </tr>\n",
       "  </tbody>\n",
       "</table>\n",
       "</div>"
      ],
      "text/plain": [
       "         f1       ARI       ACC  cover_rate\n",
       "0  0.938794  0.936519  0.904397      0.4822"
      ]
     },
     "execution_count": 16,
     "metadata": {},
     "output_type": "execute_result"
    }
   ],
   "source": [
    "X,Y_true=DataLoader.load('mnist_30')\n",
    "t1=time.time()\n",
    "clusterer = hdbscan.HDBSCAN(min_cluster_size=15, min_samples=1,cluster_selection_epsilon=2)\n",
    "clusterer.fit(X)\n",
    "t2=time.time()\n",
    "print(t2-t1)\n",
    "Y_pred=clusterer.labels_\n",
    "\n",
    "measures_calculator(Y_true, Y_pred)"
   ]
  },
  {
   "cell_type": "code",
   "execution_count": 17,
   "metadata": {},
   "outputs": [
    {
     "name": "stdout",
     "output_type": "stream",
     "text": [
      "0.44167065620422363\n"
     ]
    },
    {
     "data": {
      "text/html": [
       "<div>\n",
       "<style scoped>\n",
       "    .dataframe tbody tr th:only-of-type {\n",
       "        vertical-align: middle;\n",
       "    }\n",
       "\n",
       "    .dataframe tbody tr th {\n",
       "        vertical-align: top;\n",
       "    }\n",
       "\n",
       "    .dataframe thead th {\n",
       "        text-align: right;\n",
       "    }\n",
       "</style>\n",
       "<table border=\"1\" class=\"dataframe\">\n",
       "  <thead>\n",
       "    <tr style=\"text-align: right;\">\n",
       "      <th></th>\n",
       "      <th>f1</th>\n",
       "      <th>ARI</th>\n",
       "      <th>ACC</th>\n",
       "      <th>cover_rate</th>\n",
       "    </tr>\n",
       "  </thead>\n",
       "  <tbody>\n",
       "    <tr>\n",
       "      <th>0</th>\n",
       "      <td>0.396973</td>\n",
       "      <td>0.313112</td>\n",
       "      <td>0.473973</td>\n",
       "      <td>0.365</td>\n",
       "    </tr>\n",
       "  </tbody>\n",
       "</table>\n",
       "</div>"
      ],
      "text/plain": [
       "         f1       ARI       ACC  cover_rate\n",
       "0  0.396973  0.313112  0.473973       0.365"
      ]
     },
     "execution_count": 17,
     "metadata": {},
     "output_type": "execute_result"
    }
   ],
   "source": [
    "X,Y_true=DataLoader.load('fmnist_5')\n",
    "t1=time.time()\n",
    "clusterer = hdbscan.HDBSCAN(min_cluster_size=20, min_samples=5,cluster_selection_epsilon=0.1)\n",
    "clusterer.fit(X)\n",
    "t2=time.time()\n",
    "print(t2-t1)\n",
    "Y_pred=clusterer.labels_\n",
    "\n",
    "measures_calculator(Y_true, Y_pred)"
   ]
  },
  {
   "cell_type": "code",
   "execution_count": 18,
   "metadata": {},
   "outputs": [
    {
     "name": "stdout",
     "output_type": "stream",
     "text": [
      "1.1320135593414307\n"
     ]
    },
    {
     "data": {
      "text/html": [
       "<div>\n",
       "<style scoped>\n",
       "    .dataframe tbody tr th:only-of-type {\n",
       "        vertical-align: middle;\n",
       "    }\n",
       "\n",
       "    .dataframe tbody tr th {\n",
       "        vertical-align: top;\n",
       "    }\n",
       "\n",
       "    .dataframe thead th {\n",
       "        text-align: right;\n",
       "    }\n",
       "</style>\n",
       "<table border=\"1\" class=\"dataframe\">\n",
       "  <thead>\n",
       "    <tr style=\"text-align: right;\">\n",
       "      <th></th>\n",
       "      <th>f1</th>\n",
       "      <th>ARI</th>\n",
       "      <th>ACC</th>\n",
       "      <th>cover_rate</th>\n",
       "    </tr>\n",
       "  </thead>\n",
       "  <tbody>\n",
       "    <tr>\n",
       "      <th>0</th>\n",
       "      <td>0.147462</td>\n",
       "      <td>0.183848</td>\n",
       "      <td>0.27736</td>\n",
       "      <td>0.6789</td>\n",
       "    </tr>\n",
       "  </tbody>\n",
       "</table>\n",
       "</div>"
      ],
      "text/plain": [
       "         f1       ARI      ACC  cover_rate\n",
       "0  0.147462  0.183848  0.27736      0.6789"
      ]
     },
     "execution_count": 18,
     "metadata": {},
     "output_type": "execute_result"
    }
   ],
   "source": [
    "X,Y_true=DataLoader.load('fmnist_10')\n",
    "t1=time.time()\n",
    "clusterer = hdbscan.HDBSCAN(min_cluster_size=20, min_samples=1,cluster_selection_epsilon=0.1)\n",
    "clusterer.fit(X)\n",
    "t2=time.time()\n",
    "print(t2-t1)\n",
    "Y_pred=clusterer.labels_\n",
    "\n",
    "measures_calculator(Y_true, Y_pred)"
   ]
  },
  {
   "cell_type": "code",
   "execution_count": 19,
   "metadata": {},
   "outputs": [
    {
     "name": "stdout",
     "output_type": "stream",
     "text": [
      "2.399805784225464\n"
     ]
    },
    {
     "data": {
      "text/html": [
       "<div>\n",
       "<style scoped>\n",
       "    .dataframe tbody tr th:only-of-type {\n",
       "        vertical-align: middle;\n",
       "    }\n",
       "\n",
       "    .dataframe tbody tr th {\n",
       "        vertical-align: top;\n",
       "    }\n",
       "\n",
       "    .dataframe thead th {\n",
       "        text-align: right;\n",
       "    }\n",
       "</style>\n",
       "<table border=\"1\" class=\"dataframe\">\n",
       "  <thead>\n",
       "    <tr style=\"text-align: right;\">\n",
       "      <th></th>\n",
       "      <th>f1</th>\n",
       "      <th>ARI</th>\n",
       "      <th>ACC</th>\n",
       "      <th>cover_rate</th>\n",
       "    </tr>\n",
       "  </thead>\n",
       "  <tbody>\n",
       "    <tr>\n",
       "      <th>0</th>\n",
       "      <td>0.289571</td>\n",
       "      <td>0.255783</td>\n",
       "      <td>0.423558</td>\n",
       "      <td>0.4559</td>\n",
       "    </tr>\n",
       "  </tbody>\n",
       "</table>\n",
       "</div>"
      ],
      "text/plain": [
       "         f1       ARI       ACC  cover_rate\n",
       "0  0.289571  0.255783  0.423558      0.4559"
      ]
     },
     "execution_count": 19,
     "metadata": {},
     "output_type": "execute_result"
    }
   ],
   "source": [
    "X,Y_true=DataLoader.load('fmnist_20')\n",
    "t1=time.time()\n",
    "clusterer = hdbscan.HDBSCAN(min_cluster_size=45, min_samples=1,cluster_selection_epsilon=0.1)\n",
    "clusterer.fit(X)\n",
    "t2=time.time()\n",
    "print(t2-t1)\n",
    "Y_pred=clusterer.labels_\n",
    "\n",
    "measures_calculator(Y_true, Y_pred)"
   ]
  },
  {
   "cell_type": "code",
   "execution_count": 20,
   "metadata": {},
   "outputs": [
    {
     "name": "stdout",
     "output_type": "stream",
     "text": [
      "4.434223175048828\n"
     ]
    },
    {
     "data": {
      "text/html": [
       "<div>\n",
       "<style scoped>\n",
       "    .dataframe tbody tr th:only-of-type {\n",
       "        vertical-align: middle;\n",
       "    }\n",
       "\n",
       "    .dataframe tbody tr th {\n",
       "        vertical-align: top;\n",
       "    }\n",
       "\n",
       "    .dataframe thead th {\n",
       "        text-align: right;\n",
       "    }\n",
       "</style>\n",
       "<table border=\"1\" class=\"dataframe\">\n",
       "  <thead>\n",
       "    <tr style=\"text-align: right;\">\n",
       "      <th></th>\n",
       "      <th>f1</th>\n",
       "      <th>ARI</th>\n",
       "      <th>ACC</th>\n",
       "      <th>cover_rate</th>\n",
       "    </tr>\n",
       "  </thead>\n",
       "  <tbody>\n",
       "    <tr>\n",
       "      <th>0</th>\n",
       "      <td>0.181833</td>\n",
       "      <td>0.153549</td>\n",
       "      <td>0.298925</td>\n",
       "      <td>0.6791</td>\n",
       "    </tr>\n",
       "  </tbody>\n",
       "</table>\n",
       "</div>"
      ],
      "text/plain": [
       "         f1       ARI       ACC  cover_rate\n",
       "0  0.181833  0.153549  0.298925      0.6791"
      ]
     },
     "execution_count": 20,
     "metadata": {},
     "output_type": "execute_result"
    }
   ],
   "source": [
    "X,Y_true=DataLoader.load('fmnist_30')\n",
    "t1=time.time()\n",
    "clusterer = hdbscan.HDBSCAN(min_cluster_size=50, min_samples=1,cluster_selection_epsilon=0.1)\n",
    "clusterer.fit(X)\n",
    "t2=time.time()\n",
    "print(t2-t1)\n",
    "Y_pred=clusterer.labels_\n",
    "\n",
    "measures_calculator(Y_true, Y_pred)"
   ]
  },
  {
   "cell_type": "markdown",
   "metadata": {},
   "source": [
    "# mean-shift"
   ]
  },
  {
   "cell_type": "code",
   "execution_count": 21,
   "metadata": {},
   "outputs": [],
   "source": [
    "from sklearn.cluster import MeanShift, estimate_bandwidth"
   ]
  },
  {
   "cell_type": "code",
   "execution_count": 22,
   "metadata": {},
   "outputs": [
    {
     "name": "stdout",
     "output_type": "stream",
     "text": [
      "10.085852146148682\n"
     ]
    },
    {
     "data": {
      "text/html": [
       "<div>\n",
       "<style scoped>\n",
       "    .dataframe tbody tr th:only-of-type {\n",
       "        vertical-align: middle;\n",
       "    }\n",
       "\n",
       "    .dataframe tbody tr th {\n",
       "        vertical-align: top;\n",
       "    }\n",
       "\n",
       "    .dataframe thead th {\n",
       "        text-align: right;\n",
       "    }\n",
       "</style>\n",
       "<table border=\"1\" class=\"dataframe\">\n",
       "  <thead>\n",
       "    <tr style=\"text-align: right;\">\n",
       "      <th></th>\n",
       "      <th>f1</th>\n",
       "      <th>ARI</th>\n",
       "      <th>ACC</th>\n",
       "      <th>cover_rate</th>\n",
       "    </tr>\n",
       "  </thead>\n",
       "  <tbody>\n",
       "    <tr>\n",
       "      <th>0</th>\n",
       "      <td>0.790632</td>\n",
       "      <td>0.544347</td>\n",
       "      <td>0.7223</td>\n",
       "      <td>1.0</td>\n",
       "    </tr>\n",
       "  </tbody>\n",
       "</table>\n",
       "</div>"
      ],
      "text/plain": [
       "         f1       ARI     ACC  cover_rate\n",
       "0  0.790632  0.544347  0.7223         1.0"
      ]
     },
     "execution_count": 22,
     "metadata": {},
     "output_type": "execute_result"
    }
   ],
   "source": [
    "X,Y_true=DataLoader.load('mnist_5')\n",
    "bandwidth = estimate_bandwidth(X, quantile=0.01, n_samples=1000)\n",
    "t1=time.time()\n",
    "ms = MeanShift(bandwidth=bandwidth, bin_seeding=True, cluster_all=True)\n",
    "ms.fit(X)\n",
    "t2=time.time()\n",
    "print(t2-t1)\n",
    "Y_pred=ms.labels_\n",
    "measures_calculator(Y_true, Y_pred)"
   ]
  },
  {
   "cell_type": "code",
   "execution_count": 23,
   "metadata": {},
   "outputs": [
    {
     "name": "stdout",
     "output_type": "stream",
     "text": [
      "23.89030122756958\n"
     ]
    },
    {
     "data": {
      "text/html": [
       "<div>\n",
       "<style scoped>\n",
       "    .dataframe tbody tr th:only-of-type {\n",
       "        vertical-align: middle;\n",
       "    }\n",
       "\n",
       "    .dataframe tbody tr th {\n",
       "        vertical-align: top;\n",
       "    }\n",
       "\n",
       "    .dataframe thead th {\n",
       "        text-align: right;\n",
       "    }\n",
       "</style>\n",
       "<table border=\"1\" class=\"dataframe\">\n",
       "  <thead>\n",
       "    <tr style=\"text-align: right;\">\n",
       "      <th></th>\n",
       "      <th>f1</th>\n",
       "      <th>ARI</th>\n",
       "      <th>ACC</th>\n",
       "      <th>cover_rate</th>\n",
       "    </tr>\n",
       "  </thead>\n",
       "  <tbody>\n",
       "    <tr>\n",
       "      <th>0</th>\n",
       "      <td>0.707042</td>\n",
       "      <td>0.561116</td>\n",
       "      <td>0.6707</td>\n",
       "      <td>1.0</td>\n",
       "    </tr>\n",
       "  </tbody>\n",
       "</table>\n",
       "</div>"
      ],
      "text/plain": [
       "         f1       ARI     ACC  cover_rate\n",
       "0  0.707042  0.561116  0.6707         1.0"
      ]
     },
     "execution_count": 23,
     "metadata": {},
     "output_type": "execute_result"
    }
   ],
   "source": [
    "X,Y_true=DataLoader.load('mnist_10')\n",
    "bandwidth = estimate_bandwidth(X, quantile=0.01, n_samples=1000)\n",
    "t1=time.time()\n",
    "ms = MeanShift(bandwidth=bandwidth, bin_seeding=True, cluster_all=True)\n",
    "ms.fit(X)\n",
    "t2=time.time()\n",
    "print(t2-t1)\n",
    "Y_pred=ms.labels_\n",
    "measures_calculator(Y_true, Y_pred)"
   ]
  },
  {
   "cell_type": "code",
   "execution_count": 24,
   "metadata": {},
   "outputs": [
    {
     "name": "stdout",
     "output_type": "stream",
     "text": [
      "4.537473917007446\n"
     ]
    },
    {
     "data": {
      "text/html": [
       "<div>\n",
       "<style scoped>\n",
       "    .dataframe tbody tr th:only-of-type {\n",
       "        vertical-align: middle;\n",
       "    }\n",
       "\n",
       "    .dataframe tbody tr th {\n",
       "        vertical-align: top;\n",
       "    }\n",
       "\n",
       "    .dataframe thead th {\n",
       "        text-align: right;\n",
       "    }\n",
       "</style>\n",
       "<table border=\"1\" class=\"dataframe\">\n",
       "  <thead>\n",
       "    <tr style=\"text-align: right;\">\n",
       "      <th></th>\n",
       "      <th>f1</th>\n",
       "      <th>ARI</th>\n",
       "      <th>ACC</th>\n",
       "      <th>cover_rate</th>\n",
       "    </tr>\n",
       "  </thead>\n",
       "  <tbody>\n",
       "    <tr>\n",
       "      <th>0</th>\n",
       "      <td>0.512358</td>\n",
       "      <td>0.465628</td>\n",
       "      <td>0.5801</td>\n",
       "      <td>1.0</td>\n",
       "    </tr>\n",
       "  </tbody>\n",
       "</table>\n",
       "</div>"
      ],
      "text/plain": [
       "         f1       ARI     ACC  cover_rate\n",
       "0  0.512358  0.465628  0.5801         1.0"
      ]
     },
     "execution_count": 24,
     "metadata": {},
     "output_type": "execute_result"
    }
   ],
   "source": [
    "X,Y_true=DataLoader.load('mnist_20')\n",
    "bandwidth = estimate_bandwidth(X, quantile=0.01, n_samples=1000)\n",
    "t1=time.time()\n",
    "ms = MeanShift(bandwidth=bandwidth, bin_seeding=True, cluster_all=True)\n",
    "ms.fit(X)\n",
    "t2=time.time()\n",
    "print(t2-t1)\n",
    "Y_pred=ms.labels_\n",
    "measures_calculator(Y_true, Y_pred)"
   ]
  },
  {
   "cell_type": "code",
   "execution_count": 25,
   "metadata": {},
   "outputs": [
    {
     "name": "stdout",
     "output_type": "stream",
     "text": [
      "187.70040678977966\n"
     ]
    },
    {
     "data": {
      "text/html": [
       "<div>\n",
       "<style scoped>\n",
       "    .dataframe tbody tr th:only-of-type {\n",
       "        vertical-align: middle;\n",
       "    }\n",
       "\n",
       "    .dataframe tbody tr th {\n",
       "        vertical-align: top;\n",
       "    }\n",
       "\n",
       "    .dataframe thead th {\n",
       "        text-align: right;\n",
       "    }\n",
       "</style>\n",
       "<table border=\"1\" class=\"dataframe\">\n",
       "  <thead>\n",
       "    <tr style=\"text-align: right;\">\n",
       "      <th></th>\n",
       "      <th>f1</th>\n",
       "      <th>ARI</th>\n",
       "      <th>ACC</th>\n",
       "      <th>cover_rate</th>\n",
       "    </tr>\n",
       "  </thead>\n",
       "  <tbody>\n",
       "    <tr>\n",
       "      <th>0</th>\n",
       "      <td>0.450197</td>\n",
       "      <td>0.31679</td>\n",
       "      <td>0.4463</td>\n",
       "      <td>1.0</td>\n",
       "    </tr>\n",
       "  </tbody>\n",
       "</table>\n",
       "</div>"
      ],
      "text/plain": [
       "         f1      ARI     ACC  cover_rate\n",
       "0  0.450197  0.31679  0.4463         1.0"
      ]
     },
     "execution_count": 25,
     "metadata": {},
     "output_type": "execute_result"
    }
   ],
   "source": [
    "X,Y_true=DataLoader.load('mnist_30')\n",
    "bandwidth = estimate_bandwidth(X, quantile=0.01, n_samples=1000)\n",
    "t1=time.time()\n",
    "ms = MeanShift(bandwidth=bandwidth, bin_seeding=False, cluster_all=True)\n",
    "ms.fit(X)\n",
    "t2=time.time()\n",
    "print(t2-t1)\n",
    "Y_pred=ms.labels_\n",
    "measures_calculator(Y_true, Y_pred)"
   ]
  },
  {
   "cell_type": "code",
   "execution_count": 26,
   "metadata": {},
   "outputs": [
    {
     "name": "stdout",
     "output_type": "stream",
     "text": [
      "12.375214099884033\n"
     ]
    },
    {
     "data": {
      "text/html": [
       "<div>\n",
       "<style scoped>\n",
       "    .dataframe tbody tr th:only-of-type {\n",
       "        vertical-align: middle;\n",
       "    }\n",
       "\n",
       "    .dataframe tbody tr th {\n",
       "        vertical-align: top;\n",
       "    }\n",
       "\n",
       "    .dataframe thead th {\n",
       "        text-align: right;\n",
       "    }\n",
       "</style>\n",
       "<table border=\"1\" class=\"dataframe\">\n",
       "  <thead>\n",
       "    <tr style=\"text-align: right;\">\n",
       "      <th></th>\n",
       "      <th>f1</th>\n",
       "      <th>ARI</th>\n",
       "      <th>ACC</th>\n",
       "      <th>cover_rate</th>\n",
       "    </tr>\n",
       "  </thead>\n",
       "  <tbody>\n",
       "    <tr>\n",
       "      <th>0</th>\n",
       "      <td>0.465823</td>\n",
       "      <td>0.296305</td>\n",
       "      <td>0.4371</td>\n",
       "      <td>1.0</td>\n",
       "    </tr>\n",
       "  </tbody>\n",
       "</table>\n",
       "</div>"
      ],
      "text/plain": [
       "         f1       ARI     ACC  cover_rate\n",
       "0  0.465823  0.296305  0.4371         1.0"
      ]
     },
     "execution_count": 26,
     "metadata": {},
     "output_type": "execute_result"
    }
   ],
   "source": [
    "X,Y_true=DataLoader.load('fmnist_5')\n",
    "bandwidth = estimate_bandwidth(X, quantile=0.01, n_samples=1000)\n",
    "t1=time.time()\n",
    "ms = MeanShift(bandwidth=bandwidth, bin_seeding=True, cluster_all=True)\n",
    "ms.fit(X)\n",
    "t2=time.time()\n",
    "print(t2-t1)\n",
    "Y_pred=ms.labels_\n",
    "measures_calculator(Y_true, Y_pred)"
   ]
  },
  {
   "cell_type": "code",
   "execution_count": 27,
   "metadata": {},
   "outputs": [
    {
     "name": "stdout",
     "output_type": "stream",
     "text": [
      "27.24378228187561\n"
     ]
    },
    {
     "data": {
      "text/html": [
       "<div>\n",
       "<style scoped>\n",
       "    .dataframe tbody tr th:only-of-type {\n",
       "        vertical-align: middle;\n",
       "    }\n",
       "\n",
       "    .dataframe tbody tr th {\n",
       "        vertical-align: top;\n",
       "    }\n",
       "\n",
       "    .dataframe thead th {\n",
       "        text-align: right;\n",
       "    }\n",
       "</style>\n",
       "<table border=\"1\" class=\"dataframe\">\n",
       "  <thead>\n",
       "    <tr style=\"text-align: right;\">\n",
       "      <th></th>\n",
       "      <th>f1</th>\n",
       "      <th>ARI</th>\n",
       "      <th>ACC</th>\n",
       "      <th>cover_rate</th>\n",
       "    </tr>\n",
       "  </thead>\n",
       "  <tbody>\n",
       "    <tr>\n",
       "      <th>0</th>\n",
       "      <td>0.313768</td>\n",
       "      <td>0.242606</td>\n",
       "      <td>0.3291</td>\n",
       "      <td>1.0</td>\n",
       "    </tr>\n",
       "  </tbody>\n",
       "</table>\n",
       "</div>"
      ],
      "text/plain": [
       "         f1       ARI     ACC  cover_rate\n",
       "0  0.313768  0.242606  0.3291         1.0"
      ]
     },
     "execution_count": 27,
     "metadata": {},
     "output_type": "execute_result"
    }
   ],
   "source": [
    "X,Y_true=DataLoader.load('fmnist_10')\n",
    "bandwidth = estimate_bandwidth(X, quantile=0.01, n_samples=1000)\n",
    "t1=time.time()\n",
    "ms = MeanShift(bandwidth=bandwidth, bin_seeding=True, cluster_all=True)\n",
    "ms.fit(X)\n",
    "t2=time.time()\n",
    "print(t2-t1)\n",
    "Y_pred=ms.labels_\n",
    "measures_calculator(Y_true, Y_pred)"
   ]
  },
  {
   "cell_type": "code",
   "execution_count": 28,
   "metadata": {},
   "outputs": [
    {
     "name": "stdout",
     "output_type": "stream",
     "text": [
      "3.61916184425354\n"
     ]
    },
    {
     "data": {
      "text/html": [
       "<div>\n",
       "<style scoped>\n",
       "    .dataframe tbody tr th:only-of-type {\n",
       "        vertical-align: middle;\n",
       "    }\n",
       "\n",
       "    .dataframe tbody tr th {\n",
       "        vertical-align: top;\n",
       "    }\n",
       "\n",
       "    .dataframe thead th {\n",
       "        text-align: right;\n",
       "    }\n",
       "</style>\n",
       "<table border=\"1\" class=\"dataframe\">\n",
       "  <thead>\n",
       "    <tr style=\"text-align: right;\">\n",
       "      <th></th>\n",
       "      <th>f1</th>\n",
       "      <th>ARI</th>\n",
       "      <th>ACC</th>\n",
       "      <th>cover_rate</th>\n",
       "    </tr>\n",
       "  </thead>\n",
       "  <tbody>\n",
       "    <tr>\n",
       "      <th>0</th>\n",
       "      <td>0.316771</td>\n",
       "      <td>0.272929</td>\n",
       "      <td>0.3889</td>\n",
       "      <td>1.0</td>\n",
       "    </tr>\n",
       "  </tbody>\n",
       "</table>\n",
       "</div>"
      ],
      "text/plain": [
       "         f1       ARI     ACC  cover_rate\n",
       "0  0.316771  0.272929  0.3889         1.0"
      ]
     },
     "execution_count": 28,
     "metadata": {},
     "output_type": "execute_result"
    }
   ],
   "source": [
    "X,Y_true=DataLoader.load('fmnist_20')\n",
    "bandwidth = estimate_bandwidth(X, quantile=0.01, n_samples=1000)\n",
    "t1=time.time()\n",
    "ms = MeanShift(bandwidth=bandwidth, bin_seeding=True, cluster_all=True)\n",
    "ms.fit(X)\n",
    "t2=time.time()\n",
    "print(t2-t1)\n",
    "Y_pred=ms.labels_\n",
    "measures_calculator(Y_true, Y_pred)"
   ]
  },
  {
   "cell_type": "code",
   "execution_count": 29,
   "metadata": {},
   "outputs": [
    {
     "name": "stdout",
     "output_type": "stream",
     "text": [
      "157.75168371200562\n"
     ]
    },
    {
     "data": {
      "text/html": [
       "<div>\n",
       "<style scoped>\n",
       "    .dataframe tbody tr th:only-of-type {\n",
       "        vertical-align: middle;\n",
       "    }\n",
       "\n",
       "    .dataframe tbody tr th {\n",
       "        vertical-align: top;\n",
       "    }\n",
       "\n",
       "    .dataframe thead th {\n",
       "        text-align: right;\n",
       "    }\n",
       "</style>\n",
       "<table border=\"1\" class=\"dataframe\">\n",
       "  <thead>\n",
       "    <tr style=\"text-align: right;\">\n",
       "      <th></th>\n",
       "      <th>f1</th>\n",
       "      <th>ARI</th>\n",
       "      <th>ACC</th>\n",
       "      <th>cover_rate</th>\n",
       "    </tr>\n",
       "  </thead>\n",
       "  <tbody>\n",
       "    <tr>\n",
       "      <th>0</th>\n",
       "      <td>0.320346</td>\n",
       "      <td>0.221635</td>\n",
       "      <td>0.3261</td>\n",
       "      <td>1.0</td>\n",
       "    </tr>\n",
       "  </tbody>\n",
       "</table>\n",
       "</div>"
      ],
      "text/plain": [
       "         f1       ARI     ACC  cover_rate\n",
       "0  0.320346  0.221635  0.3261         1.0"
      ]
     },
     "execution_count": 29,
     "metadata": {},
     "output_type": "execute_result"
    }
   ],
   "source": [
    "X,Y_true=DataLoader.load('fmnist_30')\n",
    "bandwidth = estimate_bandwidth(X, quantile=0.01, n_samples=1000)\n",
    "t1=time.time()\n",
    "ms = MeanShift(bandwidth=bandwidth, bin_seeding=False, cluster_all=True)\n",
    "ms.fit(X)\n",
    "t2=time.time()\n",
    "print(t2-t1)\n",
    "Y_pred=ms.labels_\n",
    "measures_calculator(Y_true, Y_pred)"
   ]
  },
  {
   "cell_type": "markdown",
   "metadata": {},
   "source": [
    "# k-means"
   ]
  },
  {
   "cell_type": "code",
   "execution_count": 30,
   "metadata": {},
   "outputs": [],
   "source": [
    "from sklearn.cluster import KMeans"
   ]
  },
  {
   "cell_type": "code",
   "execution_count": 31,
   "metadata": {},
   "outputs": [
    {
     "name": "stdout",
     "output_type": "stream",
     "text": [
      "0.501570463180542\n"
     ]
    },
    {
     "data": {
      "text/html": [
       "<div>\n",
       "<style scoped>\n",
       "    .dataframe tbody tr th:only-of-type {\n",
       "        vertical-align: middle;\n",
       "    }\n",
       "\n",
       "    .dataframe tbody tr th {\n",
       "        vertical-align: top;\n",
       "    }\n",
       "\n",
       "    .dataframe thead th {\n",
       "        text-align: right;\n",
       "    }\n",
       "</style>\n",
       "<table border=\"1\" class=\"dataframe\">\n",
       "  <thead>\n",
       "    <tr style=\"text-align: right;\">\n",
       "      <th></th>\n",
       "      <th>f1</th>\n",
       "      <th>ARI</th>\n",
       "      <th>ACC</th>\n",
       "      <th>cover_rate</th>\n",
       "    </tr>\n",
       "  </thead>\n",
       "  <tbody>\n",
       "    <tr>\n",
       "      <th>0</th>\n",
       "      <td>0.81237</td>\n",
       "      <td>0.673489</td>\n",
       "      <td>0.818</td>\n",
       "      <td>1.0</td>\n",
       "    </tr>\n",
       "  </tbody>\n",
       "</table>\n",
       "</div>"
      ],
      "text/plain": [
       "        f1       ARI    ACC  cover_rate\n",
       "0  0.81237  0.673489  0.818         1.0"
      ]
     },
     "execution_count": 31,
     "metadata": {},
     "output_type": "execute_result"
    }
   ],
   "source": [
    "X,Y_true=DataLoader.load('mnist_5')\n",
    "t1=time.time()\n",
    "kmeans = KMeans(n_clusters=10, random_state=5).fit(X)\n",
    "Y_pred=kmeans.predict(X)\n",
    "t2=time.time()\n",
    "print(t2-t1)\n",
    "measures_calculator(Y_true,Y_pred)"
   ]
  },
  {
   "cell_type": "code",
   "execution_count": 32,
   "metadata": {},
   "outputs": [
    {
     "name": "stdout",
     "output_type": "stream",
     "text": [
      "0.4851658344268799\n"
     ]
    },
    {
     "data": {
      "text/html": [
       "<div>\n",
       "<style scoped>\n",
       "    .dataframe tbody tr th:only-of-type {\n",
       "        vertical-align: middle;\n",
       "    }\n",
       "\n",
       "    .dataframe tbody tr th {\n",
       "        vertical-align: top;\n",
       "    }\n",
       "\n",
       "    .dataframe thead th {\n",
       "        text-align: right;\n",
       "    }\n",
       "</style>\n",
       "<table border=\"1\" class=\"dataframe\">\n",
       "  <thead>\n",
       "    <tr style=\"text-align: right;\">\n",
       "      <th></th>\n",
       "      <th>f1</th>\n",
       "      <th>ARI</th>\n",
       "      <th>ACC</th>\n",
       "      <th>cover_rate</th>\n",
       "    </tr>\n",
       "  </thead>\n",
       "  <tbody>\n",
       "    <tr>\n",
       "      <th>0</th>\n",
       "      <td>0.655667</td>\n",
       "      <td>0.569116</td>\n",
       "      <td>0.6622</td>\n",
       "      <td>1.0</td>\n",
       "    </tr>\n",
       "  </tbody>\n",
       "</table>\n",
       "</div>"
      ],
      "text/plain": [
       "         f1       ARI     ACC  cover_rate\n",
       "0  0.655667  0.569116  0.6622         1.0"
      ]
     },
     "execution_count": 32,
     "metadata": {},
     "output_type": "execute_result"
    }
   ],
   "source": [
    "X,Y_true=DataLoader.load('mnist_10')\n",
    "t1=time.time()\n",
    "kmeans = KMeans(n_clusters=10, random_state=5).fit(X)\n",
    "Y_pred=kmeans.predict(X)\n",
    "t2=time.time()\n",
    "print(t2-t1)\n",
    "measures_calculator(Y_true,Y_pred)"
   ]
  },
  {
   "cell_type": "code",
   "execution_count": 33,
   "metadata": {},
   "outputs": [
    {
     "name": "stdout",
     "output_type": "stream",
     "text": [
      "0.4769632816314697\n"
     ]
    },
    {
     "data": {
      "text/html": [
       "<div>\n",
       "<style scoped>\n",
       "    .dataframe tbody tr th:only-of-type {\n",
       "        vertical-align: middle;\n",
       "    }\n",
       "\n",
       "    .dataframe tbody tr th {\n",
       "        vertical-align: top;\n",
       "    }\n",
       "\n",
       "    .dataframe thead th {\n",
       "        text-align: right;\n",
       "    }\n",
       "</style>\n",
       "<table border=\"1\" class=\"dataframe\">\n",
       "  <thead>\n",
       "    <tr style=\"text-align: right;\">\n",
       "      <th></th>\n",
       "      <th>f1</th>\n",
       "      <th>ARI</th>\n",
       "      <th>ACC</th>\n",
       "      <th>cover_rate</th>\n",
       "    </tr>\n",
       "  </thead>\n",
       "  <tbody>\n",
       "    <tr>\n",
       "      <th>0</th>\n",
       "      <td>0.529803</td>\n",
       "      <td>0.383411</td>\n",
       "      <td>0.5312</td>\n",
       "      <td>1.0</td>\n",
       "    </tr>\n",
       "  </tbody>\n",
       "</table>\n",
       "</div>"
      ],
      "text/plain": [
       "         f1       ARI     ACC  cover_rate\n",
       "0  0.529803  0.383411  0.5312         1.0"
      ]
     },
     "execution_count": 33,
     "metadata": {},
     "output_type": "execute_result"
    }
   ],
   "source": [
    "X,Y_true=DataLoader.load('mnist_20')\n",
    "t1=time.time()\n",
    "kmeans = KMeans(n_clusters=10, random_state=5).fit(X)\n",
    "Y_pred=kmeans.predict(X)\n",
    "t2=time.time()\n",
    "print(t2-t1)\n",
    "measures_calculator(Y_true,Y_pred)"
   ]
  },
  {
   "cell_type": "code",
   "execution_count": 34,
   "metadata": {},
   "outputs": [
    {
     "name": "stdout",
     "output_type": "stream",
     "text": [
      "0.7589669227600098\n"
     ]
    },
    {
     "data": {
      "text/html": [
       "<div>\n",
       "<style scoped>\n",
       "    .dataframe tbody tr th:only-of-type {\n",
       "        vertical-align: middle;\n",
       "    }\n",
       "\n",
       "    .dataframe tbody tr th {\n",
       "        vertical-align: top;\n",
       "    }\n",
       "\n",
       "    .dataframe thead th {\n",
       "        text-align: right;\n",
       "    }\n",
       "</style>\n",
       "<table border=\"1\" class=\"dataframe\">\n",
       "  <thead>\n",
       "    <tr style=\"text-align: right;\">\n",
       "      <th></th>\n",
       "      <th>f1</th>\n",
       "      <th>ARI</th>\n",
       "      <th>ACC</th>\n",
       "      <th>cover_rate</th>\n",
       "    </tr>\n",
       "  </thead>\n",
       "  <tbody>\n",
       "    <tr>\n",
       "      <th>0</th>\n",
       "      <td>0.489717</td>\n",
       "      <td>0.346769</td>\n",
       "      <td>0.4874</td>\n",
       "      <td>1.0</td>\n",
       "    </tr>\n",
       "  </tbody>\n",
       "</table>\n",
       "</div>"
      ],
      "text/plain": [
       "         f1       ARI     ACC  cover_rate\n",
       "0  0.489717  0.346769  0.4874         1.0"
      ]
     },
     "execution_count": 34,
     "metadata": {},
     "output_type": "execute_result"
    }
   ],
   "source": [
    "X,Y_true=DataLoader.load('mnist_30')\n",
    "t1=time.time()\n",
    "kmeans = KMeans(n_clusters=10, random_state=5).fit(X)\n",
    "Y_pred=kmeans.predict(X)\n",
    "t2=time.time()\n",
    "print(t2-t1)\n",
    "measures_calculator(Y_true,Y_pred)"
   ]
  },
  {
   "cell_type": "code",
   "execution_count": 35,
   "metadata": {},
   "outputs": [
    {
     "name": "stdout",
     "output_type": "stream",
     "text": [
      "0.3141956329345703\n"
     ]
    },
    {
     "data": {
      "text/html": [
       "<div>\n",
       "<style scoped>\n",
       "    .dataframe tbody tr th:only-of-type {\n",
       "        vertical-align: middle;\n",
       "    }\n",
       "\n",
       "    .dataframe tbody tr th {\n",
       "        vertical-align: top;\n",
       "    }\n",
       "\n",
       "    .dataframe thead th {\n",
       "        text-align: right;\n",
       "    }\n",
       "</style>\n",
       "<table border=\"1\" class=\"dataframe\">\n",
       "  <thead>\n",
       "    <tr style=\"text-align: right;\">\n",
       "      <th></th>\n",
       "      <th>f1</th>\n",
       "      <th>ARI</th>\n",
       "      <th>ACC</th>\n",
       "      <th>cover_rate</th>\n",
       "    </tr>\n",
       "  </thead>\n",
       "  <tbody>\n",
       "    <tr>\n",
       "      <th>0</th>\n",
       "      <td>0.559114</td>\n",
       "      <td>0.4369</td>\n",
       "      <td>0.5691</td>\n",
       "      <td>1.0</td>\n",
       "    </tr>\n",
       "  </tbody>\n",
       "</table>\n",
       "</div>"
      ],
      "text/plain": [
       "         f1     ARI     ACC  cover_rate\n",
       "0  0.559114  0.4369  0.5691         1.0"
      ]
     },
     "execution_count": 35,
     "metadata": {},
     "output_type": "execute_result"
    }
   ],
   "source": [
    "X,Y_true=DataLoader.load('fmnist_5')\n",
    "t1=time.time()\n",
    "kmeans = KMeans(n_clusters=10, random_state=5).fit(X)\n",
    "Y_pred=kmeans.predict(X)\n",
    "t2=time.time()\n",
    "print(t2-t1)\n",
    "measures_calculator(Y_true,Y_pred)"
   ]
  },
  {
   "cell_type": "code",
   "execution_count": 36,
   "metadata": {},
   "outputs": [
    {
     "name": "stdout",
     "output_type": "stream",
     "text": [
      "0.3273005485534668\n"
     ]
    },
    {
     "data": {
      "text/html": [
       "<div>\n",
       "<style scoped>\n",
       "    .dataframe tbody tr th:only-of-type {\n",
       "        vertical-align: middle;\n",
       "    }\n",
       "\n",
       "    .dataframe tbody tr th {\n",
       "        vertical-align: top;\n",
       "    }\n",
       "\n",
       "    .dataframe thead th {\n",
       "        text-align: right;\n",
       "    }\n",
       "</style>\n",
       "<table border=\"1\" class=\"dataframe\">\n",
       "  <thead>\n",
       "    <tr style=\"text-align: right;\">\n",
       "      <th></th>\n",
       "      <th>f1</th>\n",
       "      <th>ARI</th>\n",
       "      <th>ACC</th>\n",
       "      <th>cover_rate</th>\n",
       "    </tr>\n",
       "  </thead>\n",
       "  <tbody>\n",
       "    <tr>\n",
       "      <th>0</th>\n",
       "      <td>0.47962</td>\n",
       "      <td>0.386205</td>\n",
       "      <td>0.498</td>\n",
       "      <td>1.0</td>\n",
       "    </tr>\n",
       "  </tbody>\n",
       "</table>\n",
       "</div>"
      ],
      "text/plain": [
       "        f1       ARI    ACC  cover_rate\n",
       "0  0.47962  0.386205  0.498         1.0"
      ]
     },
     "execution_count": 36,
     "metadata": {},
     "output_type": "execute_result"
    }
   ],
   "source": [
    "X,Y_true=DataLoader.load('fmnist_10')\n",
    "t1=time.time()\n",
    "kmeans = KMeans(n_clusters=10, random_state=5).fit(X)\n",
    "Y_pred=kmeans.predict(X)\n",
    "t2=time.time()\n",
    "print(t2-t1)\n",
    "measures_calculator(Y_true,Y_pred)"
   ]
  },
  {
   "cell_type": "code",
   "execution_count": 37,
   "metadata": {},
   "outputs": [
    {
     "name": "stdout",
     "output_type": "stream",
     "text": [
      "0.3403353691101074\n"
     ]
    },
    {
     "data": {
      "text/html": [
       "<div>\n",
       "<style scoped>\n",
       "    .dataframe tbody tr th:only-of-type {\n",
       "        vertical-align: middle;\n",
       "    }\n",
       "\n",
       "    .dataframe tbody tr th {\n",
       "        vertical-align: top;\n",
       "    }\n",
       "\n",
       "    .dataframe thead th {\n",
       "        text-align: right;\n",
       "    }\n",
       "</style>\n",
       "<table border=\"1\" class=\"dataframe\">\n",
       "  <thead>\n",
       "    <tr style=\"text-align: right;\">\n",
       "      <th></th>\n",
       "      <th>f1</th>\n",
       "      <th>ARI</th>\n",
       "      <th>ACC</th>\n",
       "      <th>cover_rate</th>\n",
       "    </tr>\n",
       "  </thead>\n",
       "  <tbody>\n",
       "    <tr>\n",
       "      <th>0</th>\n",
       "      <td>0.479078</td>\n",
       "      <td>0.370895</td>\n",
       "      <td>0.5012</td>\n",
       "      <td>1.0</td>\n",
       "    </tr>\n",
       "  </tbody>\n",
       "</table>\n",
       "</div>"
      ],
      "text/plain": [
       "         f1       ARI     ACC  cover_rate\n",
       "0  0.479078  0.370895  0.5012         1.0"
      ]
     },
     "execution_count": 37,
     "metadata": {},
     "output_type": "execute_result"
    }
   ],
   "source": [
    "X,Y_true=DataLoader.load('fmnist_20')\n",
    "t1=time.time()\n",
    "kmeans = KMeans(n_clusters=10, random_state=5).fit(X)\n",
    "Y_pred=kmeans.predict(X)\n",
    "t2=time.time()\n",
    "print(t2-t1)\n",
    "measures_calculator(Y_true,Y_pred)"
   ]
  },
  {
   "cell_type": "code",
   "execution_count": 38,
   "metadata": {},
   "outputs": [
    {
     "name": "stdout",
     "output_type": "stream",
     "text": [
      "0.3643786907196045\n"
     ]
    },
    {
     "data": {
      "text/html": [
       "<div>\n",
       "<style scoped>\n",
       "    .dataframe tbody tr th:only-of-type {\n",
       "        vertical-align: middle;\n",
       "    }\n",
       "\n",
       "    .dataframe tbody tr th {\n",
       "        vertical-align: top;\n",
       "    }\n",
       "\n",
       "    .dataframe thead th {\n",
       "        text-align: right;\n",
       "    }\n",
       "</style>\n",
       "<table border=\"1\" class=\"dataframe\">\n",
       "  <thead>\n",
       "    <tr style=\"text-align: right;\">\n",
       "      <th></th>\n",
       "      <th>f1</th>\n",
       "      <th>ARI</th>\n",
       "      <th>ACC</th>\n",
       "      <th>cover_rate</th>\n",
       "    </tr>\n",
       "  </thead>\n",
       "  <tbody>\n",
       "    <tr>\n",
       "      <th>0</th>\n",
       "      <td>0.481848</td>\n",
       "      <td>0.360864</td>\n",
       "      <td>0.4976</td>\n",
       "      <td>1.0</td>\n",
       "    </tr>\n",
       "  </tbody>\n",
       "</table>\n",
       "</div>"
      ],
      "text/plain": [
       "         f1       ARI     ACC  cover_rate\n",
       "0  0.481848  0.360864  0.4976         1.0"
      ]
     },
     "execution_count": 38,
     "metadata": {},
     "output_type": "execute_result"
    }
   ],
   "source": [
    "X,Y_true=DataLoader.load('fmnist_30')\n",
    "t1=time.time()\n",
    "kmeans = KMeans(n_clusters=10, random_state=5).fit(X)\n",
    "Y_pred=kmeans.predict(X)\n",
    "t2=time.time()\n",
    "print(t2-t1)\n",
    "measures_calculator(Y_true,Y_pred)"
   ]
  },
  {
   "cell_type": "markdown",
   "metadata": {},
   "source": [
    "# QuickshiftPP"
   ]
  },
  {
   "cell_type": "code",
   "execution_count": 39,
   "metadata": {},
   "outputs": [
    {
     "name": "stderr",
     "output_type": "stream",
     "text": [
      "/usr/data/software/anaconda3/envs/ML/lib/python3.6/site-packages/sklearn/utils/deprecation.py:143: FutureWarning:\n",
      "\n",
      "The sklearn.neighbors.kde module is  deprecated in version 0.22 and will be removed in version 0.24. The corresponding classes / functions should instead be imported from sklearn.neighbors. Anything that cannot be imported from sklearn.neighbors is now part of the private API.\n",
      "\n"
     ]
    }
   ],
   "source": [
    "from QuickshiftPP import *"
   ]
  },
  {
   "cell_type": "code",
   "execution_count": 40,
   "metadata": {},
   "outputs": [
    {
     "name": "stdout",
     "output_type": "stream",
     "text": [
      "0.47454094886779785\n"
     ]
    },
    {
     "data": {
      "text/html": [
       "<div>\n",
       "<style scoped>\n",
       "    .dataframe tbody tr th:only-of-type {\n",
       "        vertical-align: middle;\n",
       "    }\n",
       "\n",
       "    .dataframe tbody tr th {\n",
       "        vertical-align: top;\n",
       "    }\n",
       "\n",
       "    .dataframe thead th {\n",
       "        text-align: right;\n",
       "    }\n",
       "</style>\n",
       "<table border=\"1\" class=\"dataframe\">\n",
       "  <thead>\n",
       "    <tr style=\"text-align: right;\">\n",
       "      <th></th>\n",
       "      <th>f1</th>\n",
       "      <th>ARI</th>\n",
       "      <th>ACC</th>\n",
       "      <th>cover_rate</th>\n",
       "    </tr>\n",
       "  </thead>\n",
       "  <tbody>\n",
       "    <tr>\n",
       "      <th>0</th>\n",
       "      <td>0.788353</td>\n",
       "      <td>0.73518</td>\n",
       "      <td>0.8061</td>\n",
       "      <td>1.0</td>\n",
       "    </tr>\n",
       "  </tbody>\n",
       "</table>\n",
       "</div>"
      ],
      "text/plain": [
       "         f1      ARI     ACC  cover_rate\n",
       "0  0.788353  0.73518  0.8061         1.0"
      ]
     },
     "execution_count": 40,
     "metadata": {},
     "output_type": "execute_result"
    }
   ],
   "source": [
    "X,Y_true=DataLoader.load('mnist_5')\n",
    "t1=time.time()\n",
    "model = QuickshiftPP(k=60,beta=0.4)\n",
    "model.fit([X[i] for i in range(X.shape[0])])\n",
    "Y_pred = model.memberships\n",
    "t2=time.time()\n",
    "print(t2-t1)\n",
    "measures_calculator(Y_true,Y_pred)"
   ]
  },
  {
   "cell_type": "code",
   "execution_count": 41,
   "metadata": {},
   "outputs": [
    {
     "name": "stdout",
     "output_type": "stream",
     "text": [
      "0.7896969318389893\n"
     ]
    },
    {
     "data": {
      "text/html": [
       "<div>\n",
       "<style scoped>\n",
       "    .dataframe tbody tr th:only-of-type {\n",
       "        vertical-align: middle;\n",
       "    }\n",
       "\n",
       "    .dataframe tbody tr th {\n",
       "        vertical-align: top;\n",
       "    }\n",
       "\n",
       "    .dataframe thead th {\n",
       "        text-align: right;\n",
       "    }\n",
       "</style>\n",
       "<table border=\"1\" class=\"dataframe\">\n",
       "  <thead>\n",
       "    <tr style=\"text-align: right;\">\n",
       "      <th></th>\n",
       "      <th>f1</th>\n",
       "      <th>ARI</th>\n",
       "      <th>ACC</th>\n",
       "      <th>cover_rate</th>\n",
       "    </tr>\n",
       "  </thead>\n",
       "  <tbody>\n",
       "    <tr>\n",
       "      <th>0</th>\n",
       "      <td>0.661989</td>\n",
       "      <td>0.621624</td>\n",
       "      <td>0.7162</td>\n",
       "      <td>1.0</td>\n",
       "    </tr>\n",
       "  </tbody>\n",
       "</table>\n",
       "</div>"
      ],
      "text/plain": [
       "         f1       ARI     ACC  cover_rate\n",
       "0  0.661989  0.621624  0.7162         1.0"
      ]
     },
     "execution_count": 41,
     "metadata": {},
     "output_type": "execute_result"
    }
   ],
   "source": [
    "X,Y_true=DataLoader.load('mnist_10')\n",
    "t1=time.time()\n",
    "model = QuickshiftPP(k=50,beta=0.5)\n",
    "model.fit([X[i] for i in range(X.shape[0])])\n",
    "Y_pred = model.memberships\n",
    "t2=time.time()\n",
    "print(t2-t1)\n",
    "measures_calculator(Y_true,Y_pred)"
   ]
  },
  {
   "cell_type": "code",
   "execution_count": 42,
   "metadata": {},
   "outputs": [
    {
     "name": "stdout",
     "output_type": "stream",
     "text": [
      "1.9835903644561768\n"
     ]
    },
    {
     "data": {
      "text/html": [
       "<div>\n",
       "<style scoped>\n",
       "    .dataframe tbody tr th:only-of-type {\n",
       "        vertical-align: middle;\n",
       "    }\n",
       "\n",
       "    .dataframe tbody tr th {\n",
       "        vertical-align: top;\n",
       "    }\n",
       "\n",
       "    .dataframe thead th {\n",
       "        text-align: right;\n",
       "    }\n",
       "</style>\n",
       "<table border=\"1\" class=\"dataframe\">\n",
       "  <thead>\n",
       "    <tr style=\"text-align: right;\">\n",
       "      <th></th>\n",
       "      <th>f1</th>\n",
       "      <th>ARI</th>\n",
       "      <th>ACC</th>\n",
       "      <th>cover_rate</th>\n",
       "    </tr>\n",
       "  </thead>\n",
       "  <tbody>\n",
       "    <tr>\n",
       "      <th>0</th>\n",
       "      <td>0.655562</td>\n",
       "      <td>0.637322</td>\n",
       "      <td>0.6858</td>\n",
       "      <td>1.0</td>\n",
       "    </tr>\n",
       "  </tbody>\n",
       "</table>\n",
       "</div>"
      ],
      "text/plain": [
       "         f1       ARI     ACC  cover_rate\n",
       "0  0.655562  0.637322  0.6858         1.0"
      ]
     },
     "execution_count": 42,
     "metadata": {},
     "output_type": "execute_result"
    }
   ],
   "source": [
    "X,Y_true=DataLoader.load('mnist_20')\n",
    "t1=time.time()\n",
    "model = QuickshiftPP(k=50,beta=0.5)\n",
    "model.fit([X[i] for i in range(X.shape[0])])\n",
    "Y_pred = model.memberships\n",
    "t2=time.time()\n",
    "print(t2-t1)\n",
    "measures_calculator(Y_true,Y_pred)"
   ]
  },
  {
   "cell_type": "code",
   "execution_count": 43,
   "metadata": {},
   "outputs": [
    {
     "name": "stdout",
     "output_type": "stream",
     "text": [
      "3.097857713699341\n"
     ]
    },
    {
     "data": {
      "text/html": [
       "<div>\n",
       "<style scoped>\n",
       "    .dataframe tbody tr th:only-of-type {\n",
       "        vertical-align: middle;\n",
       "    }\n",
       "\n",
       "    .dataframe tbody tr th {\n",
       "        vertical-align: top;\n",
       "    }\n",
       "\n",
       "    .dataframe thead th {\n",
       "        text-align: right;\n",
       "    }\n",
       "</style>\n",
       "<table border=\"1\" class=\"dataframe\">\n",
       "  <thead>\n",
       "    <tr style=\"text-align: right;\">\n",
       "      <th></th>\n",
       "      <th>f1</th>\n",
       "      <th>ARI</th>\n",
       "      <th>ACC</th>\n",
       "      <th>cover_rate</th>\n",
       "    </tr>\n",
       "  </thead>\n",
       "  <tbody>\n",
       "    <tr>\n",
       "      <th>0</th>\n",
       "      <td>0.644419</td>\n",
       "      <td>0.588566</td>\n",
       "      <td>0.6582</td>\n",
       "      <td>1.0</td>\n",
       "    </tr>\n",
       "  </tbody>\n",
       "</table>\n",
       "</div>"
      ],
      "text/plain": [
       "         f1       ARI     ACC  cover_rate\n",
       "0  0.644419  0.588566  0.6582         1.0"
      ]
     },
     "execution_count": 43,
     "metadata": {},
     "output_type": "execute_result"
    }
   ],
   "source": [
    "X,Y_true=DataLoader.load('mnist_30')\n",
    "t1=time.time()\n",
    "model = QuickshiftPP(k=50,beta=0.5)\n",
    "model.fit([X[i] for i in range(X.shape[0])])\n",
    "Y_pred = model.memberships\n",
    "t2=time.time()\n",
    "print(t2-t1)\n",
    "measures_calculator(Y_true,Y_pred)"
   ]
  },
  {
   "cell_type": "code",
   "execution_count": 51,
   "metadata": {},
   "outputs": [
    {
     "name": "stdout",
     "output_type": "stream",
     "text": [
      "0.504859447479248\n"
     ]
    },
    {
     "data": {
      "text/html": [
       "<div>\n",
       "<style scoped>\n",
       "    .dataframe tbody tr th:only-of-type {\n",
       "        vertical-align: middle;\n",
       "    }\n",
       "\n",
       "    .dataframe tbody tr th {\n",
       "        vertical-align: top;\n",
       "    }\n",
       "\n",
       "    .dataframe thead th {\n",
       "        text-align: right;\n",
       "    }\n",
       "</style>\n",
       "<table border=\"1\" class=\"dataframe\">\n",
       "  <thead>\n",
       "    <tr style=\"text-align: right;\">\n",
       "      <th></th>\n",
       "      <th>f1</th>\n",
       "      <th>ARI</th>\n",
       "      <th>ACC</th>\n",
       "      <th>cover_rate</th>\n",
       "    </tr>\n",
       "  </thead>\n",
       "  <tbody>\n",
       "    <tr>\n",
       "      <th>0</th>\n",
       "      <td>0.558703</td>\n",
       "      <td>0.434594</td>\n",
       "      <td>0.5695</td>\n",
       "      <td>1.0</td>\n",
       "    </tr>\n",
       "  </tbody>\n",
       "</table>\n",
       "</div>"
      ],
      "text/plain": [
       "         f1       ARI     ACC  cover_rate\n",
       "0  0.558703  0.434594  0.5695         1.0"
      ]
     },
     "execution_count": 51,
     "metadata": {},
     "output_type": "execute_result"
    }
   ],
   "source": [
    "X,Y_true=DataLoader.load('fmnist_5')\n",
    "t1=time.time()\n",
    "model = QuickshiftPP(k=60,beta=0.05)\n",
    "model.fit([X[i] for i in range(X.shape[0])])\n",
    "Y_pred = model.memberships\n",
    "t2=time.time()\n",
    "print(t2-t1)\n",
    "measures_calculator(Y_true,Y_pred)"
   ]
  },
  {
   "cell_type": "code",
   "execution_count": 45,
   "metadata": {},
   "outputs": [
    {
     "name": "stdout",
     "output_type": "stream",
     "text": [
      "0.6662387847900391\n"
     ]
    },
    {
     "data": {
      "text/html": [
       "<div>\n",
       "<style scoped>\n",
       "    .dataframe tbody tr th:only-of-type {\n",
       "        vertical-align: middle;\n",
       "    }\n",
       "\n",
       "    .dataframe tbody tr th {\n",
       "        vertical-align: top;\n",
       "    }\n",
       "\n",
       "    .dataframe thead th {\n",
       "        text-align: right;\n",
       "    }\n",
       "</style>\n",
       "<table border=\"1\" class=\"dataframe\">\n",
       "  <thead>\n",
       "    <tr style=\"text-align: right;\">\n",
       "      <th></th>\n",
       "      <th>f1</th>\n",
       "      <th>ARI</th>\n",
       "      <th>ACC</th>\n",
       "      <th>cover_rate</th>\n",
       "    </tr>\n",
       "  </thead>\n",
       "  <tbody>\n",
       "    <tr>\n",
       "      <th>0</th>\n",
       "      <td>0.511025</td>\n",
       "      <td>0.393695</td>\n",
       "      <td>0.5382</td>\n",
       "      <td>1.0</td>\n",
       "    </tr>\n",
       "  </tbody>\n",
       "</table>\n",
       "</div>"
      ],
      "text/plain": [
       "         f1       ARI     ACC  cover_rate\n",
       "0  0.511025  0.393695  0.5382         1.0"
      ]
     },
     "execution_count": 45,
     "metadata": {},
     "output_type": "execute_result"
    }
   ],
   "source": [
    "X,Y_true=DataLoader.load('fmnist_10')\n",
    "t1=time.time()\n",
    "model = QuickshiftPP(k=50,beta=0.1)\n",
    "model.fit([X[i] for i in range(X.shape[0])])\n",
    "Y_pred = model.memberships\n",
    "t2=time.time()\n",
    "print(t2-t1)\n",
    "measures_calculator(Y_true,Y_pred)"
   ]
  },
  {
   "cell_type": "code",
   "execution_count": 46,
   "metadata": {},
   "outputs": [
    {
     "name": "stdout",
     "output_type": "stream",
     "text": [
      "0.9381675720214844\n"
     ]
    },
    {
     "data": {
      "text/html": [
       "<div>\n",
       "<style scoped>\n",
       "    .dataframe tbody tr th:only-of-type {\n",
       "        vertical-align: middle;\n",
       "    }\n",
       "\n",
       "    .dataframe tbody tr th {\n",
       "        vertical-align: top;\n",
       "    }\n",
       "\n",
       "    .dataframe thead th {\n",
       "        text-align: right;\n",
       "    }\n",
       "</style>\n",
       "<table border=\"1\" class=\"dataframe\">\n",
       "  <thead>\n",
       "    <tr style=\"text-align: right;\">\n",
       "      <th></th>\n",
       "      <th>f1</th>\n",
       "      <th>ARI</th>\n",
       "      <th>ACC</th>\n",
       "      <th>cover_rate</th>\n",
       "    </tr>\n",
       "  </thead>\n",
       "  <tbody>\n",
       "    <tr>\n",
       "      <th>0</th>\n",
       "      <td>0.485258</td>\n",
       "      <td>0.226145</td>\n",
       "      <td>0.4291</td>\n",
       "      <td>1.0</td>\n",
       "    </tr>\n",
       "  </tbody>\n",
       "</table>\n",
       "</div>"
      ],
      "text/plain": [
       "         f1       ARI     ACC  cover_rate\n",
       "0  0.485258  0.226145  0.4291         1.0"
      ]
     },
     "execution_count": 46,
     "metadata": {},
     "output_type": "execute_result"
    }
   ],
   "source": [
    "X,Y_true=DataLoader.load('fmnist_20')\n",
    "t1=time.time()\n",
    "model = QuickshiftPP(k=15,beta=0.7)\n",
    "model.fit([X[i] for i in range(X.shape[0])])\n",
    "Y_pred = model.memberships\n",
    "t2=time.time()\n",
    "print(t2-t1)\n",
    "measures_calculator(Y_true,Y_pred)"
   ]
  },
  {
   "cell_type": "code",
   "execution_count": 47,
   "metadata": {},
   "outputs": [
    {
     "name": "stdout",
     "output_type": "stream",
     "text": [
      "2.233672857284546\n"
     ]
    },
    {
     "data": {
      "text/html": [
       "<div>\n",
       "<style scoped>\n",
       "    .dataframe tbody tr th:only-of-type {\n",
       "        vertical-align: middle;\n",
       "    }\n",
       "\n",
       "    .dataframe tbody tr th {\n",
       "        vertical-align: top;\n",
       "    }\n",
       "\n",
       "    .dataframe thead th {\n",
       "        text-align: right;\n",
       "    }\n",
       "</style>\n",
       "<table border=\"1\" class=\"dataframe\">\n",
       "  <thead>\n",
       "    <tr style=\"text-align: right;\">\n",
       "      <th></th>\n",
       "      <th>f1</th>\n",
       "      <th>ARI</th>\n",
       "      <th>ACC</th>\n",
       "      <th>cover_rate</th>\n",
       "    </tr>\n",
       "  </thead>\n",
       "  <tbody>\n",
       "    <tr>\n",
       "      <th>0</th>\n",
       "      <td>0.391266</td>\n",
       "      <td>0.247372</td>\n",
       "      <td>0.4427</td>\n",
       "      <td>1.0</td>\n",
       "    </tr>\n",
       "  </tbody>\n",
       "</table>\n",
       "</div>"
      ],
      "text/plain": [
       "         f1       ARI     ACC  cover_rate\n",
       "0  0.391266  0.247372  0.4427         1.0"
      ]
     },
     "execution_count": 47,
     "metadata": {},
     "output_type": "execute_result"
    }
   ],
   "source": [
    "X,Y_true=DataLoader.load('fmnist_30')\n",
    "t1=time.time()\n",
    "model = QuickshiftPP(k=50,beta=0.6)\n",
    "model.fit([X[i] for i in range(X.shape[0])])\n",
    "Y_pred = model.memberships\n",
    "t2=time.time()\n",
    "print(t2-t1)\n",
    "measures_calculator(Y_true,Y_pred)"
   ]
  }
 ],
 "metadata": {
  "kernelspec": {
   "display_name": "Python 3",
   "language": "python",
   "name": "python3"
  },
  "language_info": {
   "codemirror_mode": {
    "name": "ipython",
    "version": 3
   },
   "file_extension": ".py",
   "mimetype": "text/x-python",
   "name": "python",
   "nbconvert_exporter": "python",
   "pygments_lexer": "ipython3",
   "version": "3.6.10"
  },
  "toc": {
   "base_numbering": 1,
   "nav_menu": {},
   "number_sections": true,
   "sideBar": true,
   "skip_h1_title": false,
   "title_cell": "Table of Contents",
   "title_sidebar": "Contents",
   "toc_cell": false,
   "toc_position": {},
   "toc_section_display": true,
   "toc_window_display": false
  }
 },
 "nbformat": 4,
 "nbformat_minor": 4
}
