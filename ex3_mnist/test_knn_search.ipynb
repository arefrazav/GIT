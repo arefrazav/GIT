{
 "cells": [
  {
   "cell_type": "code",
   "execution_count": 1,
   "metadata": {},
   "outputs": [],
   "source": [
    "import numpy as np\n",
    "import tqdm"
   ]
  },
  {
   "cell_type": "code",
   "execution_count": 2,
   "metadata": {},
   "outputs": [],
   "source": [
    "X=np.random.rand(10000,784)"
   ]
  },
  {
   "cell_type": "code",
   "execution_count": 3,
   "metadata": {},
   "outputs": [],
   "source": [
    "import pynndescent\n",
    "index = pynndescent.NNDescent(X)\n",
    "more_neighbors = index.query(X, k=15)"
   ]
  },
  {
   "cell_type": "code",
   "execution_count": 4,
   "metadata": {},
   "outputs": [
    {
     "data": {
      "text/plain": [
       "(array([[   0,  712, 4065, ..., 8832, 4012, 4022],\n",
       "        [   1,  164, 9233, ..., 9022, 4561, 9274],\n",
       "        [   2, 5396, 3955, ..., 5036, 4475, 8847],\n",
       "        ...,\n",
       "        [9997, 3299, 4527, ..., 2054, 2709,   91],\n",
       "        [9998, 6652, 1254, ..., 7914, 2454, 9117],\n",
       "        [9999, 1100, 8963, ..., 7781, 2893, 4694]], dtype=int32),\n",
       " array([[ 0.       , 10.535832 , 10.7144375, ..., 10.8605   , 10.86629  ,\n",
       "         10.867333 ],\n",
       "        [ 0.       , 10.454208 , 10.507448 , ..., 10.606266 , 10.610077 ,\n",
       "         10.615551 ],\n",
       "        [ 0.       , 10.746819 , 10.789876 , ..., 10.857167 , 10.859817 ,\n",
       "         10.869364 ],\n",
       "        ...,\n",
       "        [ 0.       , 10.385668 , 10.458635 , ..., 10.614656 , 10.615121 ,\n",
       "         10.617852 ],\n",
       "        [ 0.       , 10.588023 , 10.65161  , ..., 10.749182 , 10.760158 ,\n",
       "         10.760858 ],\n",
       "        [ 0.       , 10.618875 , 10.658555 , ..., 10.797424 , 10.7980995,\n",
       "         10.801393 ]], dtype=float32))"
      ]
     },
     "execution_count": 4,
     "metadata": {},
     "output_type": "execute_result"
    }
   ],
   "source": [
    "more_neighbors"
   ]
  },
  {
   "cell_type": "code",
   "execution_count": 4,
   "metadata": {},
   "outputs": [],
   "source": [
    "import ngtpy\n",
    "ngtpy.create('onng', 784)\n",
    "index = ngtpy.Index('onng')\n",
    "index.batch_insert(X)\n",
    "index.save()"
   ]
  },
  {
   "cell_type": "code",
   "execution_count": null,
   "metadata": {},
   "outputs": [],
   "source": [
    "index.linear_search(X)"
   ]
  },
  {
   "cell_type": "code",
   "execution_count": null,
   "metadata": {},
   "outputs": [
    {
     "name": "stderr",
     "output_type": "stream",
     "text": [
      " 10%|▉         | 968/10000 [00:12<01:52, 80.39it/s]"
     ]
    }
   ],
   "source": [
    "for i in tqdm.tqdm(range(X.shape[0])):\n",
    "    index.search(X[i],3)"
   ]
  },
  {
   "cell_type": "code",
   "execution_count": null,
   "metadata": {},
   "outputs": [],
   "source": [
    "index.search(X,3)"
   ]
  },
  {
   "cell_type": "code",
   "execution_count": 6,
   "metadata": {},
   "outputs": [],
   "source": [
    "import ngtpy\n",
    "\n",
    "with open('./sift-dataset-5k.tsv.txt', 'r', newline='\\n') as fin:\n",
    "    ngtpy.create('anng', 128)   # create an empty index\n",
    "    index = ngtpy.Index('anng') # open the index\n",
    "    for line in fin:\n",
    "        object = list(map(float, line.rstrip().split('\\t')))\n",
    "        index.insert(object[:128]) # append objects to the index\n",
    "index.build_index() # build index\n",
    "index.save()"
   ]
  },
  {
   "cell_type": "code",
   "execution_count": 9,
   "metadata": {},
   "outputs": [
    {
     "data": {
      "text/plain": [
       "129"
      ]
     },
     "execution_count": 9,
     "metadata": {},
     "output_type": "execute_result"
    }
   ],
   "source": [
    "len(object)"
   ]
  },
  {
   "cell_type": "code",
   "execution_count": 5,
   "metadata": {},
   "outputs": [
    {
     "data": {
      "text/plain": [
       "129"
      ]
     },
     "execution_count": 5,
     "metadata": {},
     "output_type": "execute_result"
    }
   ],
   "source": [
    "import ngtpy\n",
    "\n",
    "index = ngtpy.Index('anng', read_only = True, zero_based_numbering = False) # open the index\n",
    "with open('./data/sift-query-3.tsv', 'r', newline='\\n') as fin:\n",
    "    for i, line in enumerate(fin):\n",
    "        query_object = list(map(float, line.rstrip().split('\\t')))\n",
    "        result = index.search(query_object, 5) # nearest neighbor search\n",
    "        print('Query No.{}'.format(i + 1))\n",
    "        print('Rank\\tID\\tDistance')\n",
    "        for rank, object in enumerate(result):\n",
    "            print('{}\\t{}\\t{:.6f}'.format(rank + 1, object[0], object[1]))\n",
    "        print()"
   ]
  }
 ],
 "metadata": {
  "kernelspec": {
   "display_name": "ML",
   "language": "python",
   "name": "ml"
  },
  "language_info": {
   "codemirror_mode": {
    "name": "ipython",
    "version": 3
   },
   "file_extension": ".py",
   "mimetype": "text/x-python",
   "name": "python",
   "nbconvert_exporter": "python",
   "pygments_lexer": "ipython3",
   "version": "3.6.10"
  },
  "toc": {
   "base_numbering": 1,
   "nav_menu": {},
   "number_sections": true,
   "sideBar": true,
   "skip_h1_title": false,
   "title_cell": "Table of Contents",
   "title_sidebar": "Contents",
   "toc_cell": false,
   "toc_position": {},
   "toc_section_display": true,
   "toc_window_display": false
  }
 },
 "nbformat": 4,
 "nbformat_minor": 4
}
