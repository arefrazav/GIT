{
 "cells": [
  {
   "cell_type": "code",
   "execution_count": 1,
   "metadata": {},
   "outputs": [],
   "source": [
    "from torchvision import datasets\n",
    "import numpy as np\n",
    "\n",
    "class DataLoader:\n",
    "    def __init__(self):\n",
    "        pass\n",
    "    \n",
    "    @classmethod\n",
    "    def load(self,name):\n",
    "        if name=='mnist_5':\n",
    "            data=np.load('./mnist_5.npy')\n",
    "            X=data[:,:-1]\n",
    "            Y_true=data[:,-1]\n",
    "            return X,Y_true\n",
    "        \n",
    "        if name=='mnist_10':\n",
    "            data=np.load('./mnist_10.npy')\n",
    "            X=data[:,:-1]\n",
    "            Y_true=data[:,-1]\n",
    "            return X,Y_true\n",
    "        \n",
    "        if name=='mnist_20':\n",
    "            data=np.load('./mnist_20.npy')\n",
    "            X=data[:,:-1]\n",
    "            Y_true=data[:,-1]\n",
    "            return X,Y_true\n",
    "        \n",
    "        if name=='mnist_30':\n",
    "            data=np.load('./mnist_30.npy')\n",
    "            X=data[:,:-1]\n",
    "            Y_true=data[:,-1]\n",
    "            return X,Y_true\n",
    "        \n",
    "        if name=='mnist_784':\n",
    "            dataset2 = datasets.MNIST('../data', train=False, download=True)\n",
    "            N=dataset2.test_data.shape[0]\n",
    "            X=dataset2.test_data.numpy().reshape(N,784)/255\n",
    "            Y_true=dataset2.test_labels.numpy()\n",
    "            return X,Y_true\n",
    "        \n",
    "        if name=='fmnist_5':\n",
    "            data=np.load('./fmnist_5.npy')\n",
    "            X=data[:,:-1]\n",
    "            Y_true=data[:,-1]\n",
    "            return X,Y_true\n",
    "        \n",
    "        if name=='fmnist_10':\n",
    "            data=np.load('./fmnist_10.npy')\n",
    "            X=data[:,:-1]\n",
    "            Y_true=data[:,-1]\n",
    "            return X,Y_true\n",
    "        \n",
    "        if name=='fmnist_20':\n",
    "            data=np.load('./fmnist_20.npy')\n",
    "            X=data[:,:-1]\n",
    "            Y_true=data[:,-1]\n",
    "            return X,Y_true\n",
    "        \n",
    "        if name=='fmnist_30':\n",
    "            data=np.load('./fmnist_30.npy')\n",
    "            X=data[:,:-1]\n",
    "            Y_true=data[:,-1]\n",
    "            return X,Y_true\n",
    "        \n",
    "        if name=='fmnist_784':\n",
    "            dataset2 = datasets.FashionMNIST('../data', train=False, download=True)\n",
    "            N=dataset2.test_data.shape[0]\n",
    "            X=dataset2.test_data.numpy().reshape(N,784)/255\n",
    "            Y_true=dataset2.test_labels.numpy()\n",
    "            return X,Y_true"
   ]
  },
  {
   "cell_type": "code",
   "execution_count": null,
   "metadata": {},
   "outputs": [],
   "source": [
    "import umap\n",
    "import matplotlib.pyplot as plt\n",
    "reducer = umap.UMAP(random_state=42)\n",
    "X,Y_true=DataLoader.load('mnist_5')\n",
    "embedding = reducer.fit_transform(X)\n",
    "plt.scatter(embedding[:, 0], embedding[:, 1], c=Y_true, cmap='Spectral', s=5)\n",
    "plt.gca().set_aspect('equal', 'datalim')\n",
    "plt.colorbar(boundaries=np.arange(11)-0.5).set_ticks(np.arange(10))\n",
    "plt.title('UMAP projection of the Digits dataset')\n",
    "plt.show()"
   ]
  },
  {
   "cell_type": "markdown",
   "metadata": {},
   "source": [
    "# GDT"
   ]
  },
  {
   "cell_type": "code",
   "execution_count": 2,
   "metadata": {},
   "outputs": [],
   "source": [
    "import numpy as np\n",
    "import matplotlib.pyplot as plt\n",
    "import sys;sys.path.append('../utils/')\n",
    "import imp\n",
    "import plot_tools,api\n",
    "import pandas as pd\n",
    "import networkx as nx\n",
    "from measures import matchY,measures_calculator,matchY\n",
    "import time"
   ]
  },
  {
   "cell_type": "code",
   "execution_count": 15,
   "metadata": {},
   "outputs": [
    {
     "name": "stdout",
     "output_type": "stream",
     "text": [
      "1.9066526889801025\n"
     ]
    },
    {
     "data": {
      "text/html": [
       "<div>\n",
       "<style scoped>\n",
       "    .dataframe tbody tr th:only-of-type {\n",
       "        vertical-align: middle;\n",
       "    }\n",
       "\n",
       "    .dataframe tbody tr th {\n",
       "        vertical-align: top;\n",
       "    }\n",
       "\n",
       "    .dataframe thead th {\n",
       "        text-align: right;\n",
       "    }\n",
       "</style>\n",
       "<table border=\"1\" class=\"dataframe\">\n",
       "  <thead>\n",
       "    <tr style=\"text-align: right;\">\n",
       "      <th></th>\n",
       "      <th>f1</th>\n",
       "      <th>ARI</th>\n",
       "      <th>ACC</th>\n",
       "      <th>cover_rate</th>\n",
       "      <th>classes</th>\n",
       "    </tr>\n",
       "  </thead>\n",
       "  <tbody>\n",
       "    <tr>\n",
       "      <th>0</th>\n",
       "      <td>0.898749</td>\n",
       "      <td>0.797621</td>\n",
       "      <td>0.896</td>\n",
       "      <td>1.0</td>\n",
       "      <td>11.0</td>\n",
       "    </tr>\n",
       "  </tbody>\n",
       "</table>\n",
       "</div>"
      ],
      "text/plain": [
       "         f1       ARI    ACC  cover_rate  classes\n",
       "0  0.898749  0.797621  0.896         1.0     11.0"
      ]
     },
     "execution_count": 15,
     "metadata": {},
     "output_type": "execute_result"
    },
    {
     "data": {
      "image/png": "[encoded data removed]",
      "text/plain": [
       "<Figure size 288x288 with 1 Axes>"
      ]
     },
     "metadata": {},
     "output_type": "display_data"
    }
   ],
   "source": [
    "X,Y_true=DataLoader.load('mnist_5')\n",
    "\n",
    "t1=time.time()\n",
    "Y_pred=api.DGSFC.fit(  X,\n",
    "                  K_d=50,\n",
    "                  K_s=25,\n",
    "                  alpha=0.9,\n",
    "                  epsilon=0,\n",
    "                  plot=True,\n",
    "                  scale=True\n",
    "                 )\n",
    "\n",
    "t2=time.time()\n",
    "print(t2-t1)\n",
    "measures_calculator(Y_true,Y_pred)"
   ]
  },
  {
   "cell_type": "code",
   "execution_count": 34,
   "metadata": {},
   "outputs": [
    {
     "name": "stdout",
     "output_type": "stream",
     "text": [
      "8.625924348831177\n"
     ]
    },
    {
     "data": {
      "text/html": [
       "<div>\n",
       "<style scoped>\n",
       "    .dataframe tbody tr th:only-of-type {\n",
       "        vertical-align: middle;\n",
       "    }\n",
       "\n",
       "    .dataframe tbody tr th {\n",
       "        vertical-align: top;\n",
       "    }\n",
       "\n",
       "    .dataframe thead th {\n",
       "        text-align: right;\n",
       "    }\n",
       "</style>\n",
       "<table border=\"1\" class=\"dataframe\">\n",
       "  <thead>\n",
       "    <tr style=\"text-align: right;\">\n",
       "      <th></th>\n",
       "      <th>f1</th>\n",
       "      <th>ARI</th>\n",
       "      <th>ACC</th>\n",
       "      <th>cover_rate</th>\n",
       "      <th>classes</th>\n",
       "    </tr>\n",
       "  </thead>\n",
       "  <tbody>\n",
       "    <tr>\n",
       "      <th>0</th>\n",
       "      <td>0.878644</td>\n",
       "      <td>0.752968</td>\n",
       "      <td>0.8781</td>\n",
       "      <td>1.0</td>\n",
       "      <td>10.0</td>\n",
       "    </tr>\n",
       "  </tbody>\n",
       "</table>\n",
       "</div>"
      ],
      "text/plain": [
       "         f1       ARI     ACC  cover_rate  classes\n",
       "0  0.878644  0.752968  0.8781         1.0     10.0"
      ]
     },
     "execution_count": 34,
     "metadata": {},
     "output_type": "execute_result"
    }
   ],
   "source": [
    "X,Y_true=DataLoader.load('mnist_10')\n",
    "\n",
    "t1=time.time()\n",
    "Y_pred=api.DGSFC.fit(  X,\n",
    "                  K_d=45,\n",
    "                  K_s=40,\n",
    "                  alpha=0.925,\n",
    "                  epsilon=0,\n",
    "                  plot=False,\n",
    "                  scale=True\n",
    "                 )\n",
    "t2=time.time()\n",
    "print(t2-t1)\n",
    "measures_calculator(Y_true,Y_pred) ###### High"
   ]
  },
  {
   "cell_type": "code",
   "execution_count": 44,
   "metadata": {},
   "outputs": [
    {
     "name": "stdout",
     "output_type": "stream",
     "text": [
      "15.847910404205322\n"
     ]
    },
    {
     "data": {
      "text/html": [
       "<div>\n",
       "<style scoped>\n",
       "    .dataframe tbody tr th:only-of-type {\n",
       "        vertical-align: middle;\n",
       "    }\n",
       "\n",
       "    .dataframe tbody tr th {\n",
       "        vertical-align: top;\n",
       "    }\n",
       "\n",
       "    .dataframe thead th {\n",
       "        text-align: right;\n",
       "    }\n",
       "</style>\n",
       "<table border=\"1\" class=\"dataframe\">\n",
       "  <thead>\n",
       "    <tr style=\"text-align: right;\">\n",
       "      <th></th>\n",
       "      <th>f1</th>\n",
       "      <th>ARI</th>\n",
       "      <th>ACC</th>\n",
       "      <th>cover_rate</th>\n",
       "      <th>classes</th>\n",
       "    </tr>\n",
       "  </thead>\n",
       "  <tbody>\n",
       "    <tr>\n",
       "      <th>0</th>\n",
       "      <td>0.783848</td>\n",
       "      <td>0.545274</td>\n",
       "      <td>0.7151</td>\n",
       "      <td>1.0</td>\n",
       "      <td>18.0</td>\n",
       "    </tr>\n",
       "  </tbody>\n",
       "</table>\n",
       "</div>"
      ],
      "text/plain": [
       "         f1       ARI     ACC  cover_rate  classes\n",
       "0  0.783848  0.545274  0.7151         1.0     18.0"
      ]
     },
     "execution_count": 44,
     "metadata": {},
     "output_type": "execute_result"
    }
   ],
   "source": [
    "X,Y_true=DataLoader.load('mnist_20')\n",
    "\n",
    "t1=time.time()\n",
    "Y_pred=api.DGSFC.fit(  X,\n",
    "                  K_d=20,\n",
    "                  K_s=15,\n",
    "                  alpha=0.925,\n",
    "                  epsilon=0,\n",
    "                  plot=False,\n",
    "                  scale=True\n",
    "                 )\n",
    "t2=time.time()\n",
    "print(t2-t1)\n",
    "measures_calculator(Y_true,Y_pred)#### low"
   ]
  },
  {
   "cell_type": "code",
   "execution_count": 53,
   "metadata": {},
   "outputs": [
    {
     "name": "stdout",
     "output_type": "stream",
     "text": [
      "36.782424211502075\n"
     ]
    },
    {
     "data": {
      "text/html": [
       "<div>\n",
       "<style scoped>\n",
       "    .dataframe tbody tr th:only-of-type {\n",
       "        vertical-align: middle;\n",
       "    }\n",
       "\n",
       "    .dataframe tbody tr th {\n",
       "        vertical-align: top;\n",
       "    }\n",
       "\n",
       "    .dataframe thead th {\n",
       "        text-align: right;\n",
       "    }\n",
       "</style>\n",
       "<table border=\"1\" class=\"dataframe\">\n",
       "  <thead>\n",
       "    <tr style=\"text-align: right;\">\n",
       "      <th></th>\n",
       "      <th>f1</th>\n",
       "      <th>ARI</th>\n",
       "      <th>ACC</th>\n",
       "      <th>cover_rate</th>\n",
       "      <th>classes</th>\n",
       "    </tr>\n",
       "  </thead>\n",
       "  <tbody>\n",
       "    <tr>\n",
       "      <th>0</th>\n",
       "      <td>0.750067</td>\n",
       "      <td>0.653824</td>\n",
       "      <td>0.782</td>\n",
       "      <td>1.0</td>\n",
       "      <td>9.0</td>\n",
       "    </tr>\n",
       "  </tbody>\n",
       "</table>\n",
       "</div>"
      ],
      "text/plain": [
       "         f1       ARI    ACC  cover_rate  classes\n",
       "0  0.750067  0.653824  0.782         1.0      9.0"
      ]
     },
     "execution_count": 53,
     "metadata": {},
     "output_type": "execute_result"
    }
   ],
   "source": [
    "X,Y_true=DataLoader.load('mnist_30')\n",
    "\n",
    "t1=time.time()\n",
    "Y_pred=api.DGSFC.fit(  X,\n",
    "                  K_d=45,\n",
    "                  K_s=22,\n",
    "                  alpha=0.88,\n",
    "                  epsilon=0,\n",
    "                  plot=False,\n",
    "                  scale=True\n",
    "                 )\n",
    "t2=time.time()\n",
    "print(t2-t1)\n",
    "measures_calculator(Y_true,Y_pred)"
   ]
  },
  {
   "cell_type": "code",
   "execution_count": 20,
   "metadata": {},
   "outputs": [
    {
     "name": "stdout",
     "output_type": "stream",
     "text": [
      "1.9250550270080566\n"
     ]
    },
    {
     "data": {
      "text/html": [
       "<div>\n",
       "<style scoped>\n",
       "    .dataframe tbody tr th:only-of-type {\n",
       "        vertical-align: middle;\n",
       "    }\n",
       "\n",
       "    .dataframe tbody tr th {\n",
       "        vertical-align: top;\n",
       "    }\n",
       "\n",
       "    .dataframe thead th {\n",
       "        text-align: right;\n",
       "    }\n",
       "</style>\n",
       "<table border=\"1\" class=\"dataframe\">\n",
       "  <thead>\n",
       "    <tr style=\"text-align: right;\">\n",
       "      <th></th>\n",
       "      <th>f1</th>\n",
       "      <th>ARI</th>\n",
       "      <th>ACC</th>\n",
       "      <th>cover_rate</th>\n",
       "      <th>classes</th>\n",
       "    </tr>\n",
       "  </thead>\n",
       "  <tbody>\n",
       "    <tr>\n",
       "      <th>0</th>\n",
       "      <td>0.558433</td>\n",
       "      <td>0.375369</td>\n",
       "      <td>0.5332</td>\n",
       "      <td>1.0</td>\n",
       "      <td>16.0</td>\n",
       "    </tr>\n",
       "  </tbody>\n",
       "</table>\n",
       "</div>"
      ],
      "text/plain": [
       "         f1       ARI     ACC  cover_rate  classes\n",
       "0  0.558433  0.375369  0.5332         1.0     16.0"
      ]
     },
     "execution_count": 20,
     "metadata": {},
     "output_type": "execute_result"
    }
   ],
   "source": [
    "X,Y_true=DataLoader.load('fmnist_5')\n",
    "\n",
    "t1=time.time()\n",
    "Y_pred=api.DGSFC.fit(  X,\n",
    "                  K_d=50,\n",
    "                  K_s=30,\n",
    "                  alpha=0.9,\n",
    "                  epsilon=0,\n",
    "                  plot=False,\n",
    "                  scale=True\n",
    "                 )\n",
    "\n",
    "t2=time.time()\n",
    "print(t2-t1)\n",
    "measures_calculator(Y_true,Y_pred)"
   ]
  },
  {
   "cell_type": "code",
   "execution_count": 21,
   "metadata": {},
   "outputs": [
    {
     "name": "stdout",
     "output_type": "stream",
     "text": [
      "2.526010751724243\n"
     ]
    },
    {
     "data": {
      "text/html": [
       "<div>\n",
       "<style scoped>\n",
       "    .dataframe tbody tr th:only-of-type {\n",
       "        vertical-align: middle;\n",
       "    }\n",
       "\n",
       "    .dataframe tbody tr th {\n",
       "        vertical-align: top;\n",
       "    }\n",
       "\n",
       "    .dataframe thead th {\n",
       "        text-align: right;\n",
       "    }\n",
       "</style>\n",
       "<table border=\"1\" class=\"dataframe\">\n",
       "  <thead>\n",
       "    <tr style=\"text-align: right;\">\n",
       "      <th></th>\n",
       "      <th>f1</th>\n",
       "      <th>ARI</th>\n",
       "      <th>ACC</th>\n",
       "      <th>cover_rate</th>\n",
       "      <th>classes</th>\n",
       "    </tr>\n",
       "  </thead>\n",
       "  <tbody>\n",
       "    <tr>\n",
       "      <th>0</th>\n",
       "      <td>0.439372</td>\n",
       "      <td>0.101062</td>\n",
       "      <td>0.3391</td>\n",
       "      <td>1.0</td>\n",
       "      <td>37.0</td>\n",
       "    </tr>\n",
       "  </tbody>\n",
       "</table>\n",
       "</div>"
      ],
      "text/plain": [
       "         f1       ARI     ACC  cover_rate  classes\n",
       "0  0.439372  0.101062  0.3391         1.0     37.0"
      ]
     },
     "execution_count": 21,
     "metadata": {},
     "output_type": "execute_result"
    }
   ],
   "source": [
    "X,Y_true=DataLoader.load('fmnist_10')\n",
    "\n",
    "t1=time.time()\n",
    "Y_pred=api.DGSFC.fit(  X,\n",
    "                  K_d=25,\n",
    "                  K_s=12,\n",
    "                  alpha=0.9,\n",
    "                  epsilon=0,\n",
    "                  plot=False,\n",
    "                  scale=True\n",
    "                 )\n",
    "\n",
    "t2=time.time()\n",
    "print(t2-t1)\n",
    "measures_calculator(Y_true,Y_pred)"
   ]
  },
  {
   "cell_type": "code",
   "execution_count": 22,
   "metadata": {},
   "outputs": [
    {
     "name": "stdout",
     "output_type": "stream",
     "text": [
      "29.432225465774536\n"
     ]
    },
    {
     "data": {
      "text/html": [
       "<div>\n",
       "<style scoped>\n",
       "    .dataframe tbody tr th:only-of-type {\n",
       "        vertical-align: middle;\n",
       "    }\n",
       "\n",
       "    .dataframe tbody tr th {\n",
       "        vertical-align: top;\n",
       "    }\n",
       "\n",
       "    .dataframe thead th {\n",
       "        text-align: right;\n",
       "    }\n",
       "</style>\n",
       "<table border=\"1\" class=\"dataframe\">\n",
       "  <thead>\n",
       "    <tr style=\"text-align: right;\">\n",
       "      <th></th>\n",
       "      <th>f1</th>\n",
       "      <th>ARI</th>\n",
       "      <th>ACC</th>\n",
       "      <th>cover_rate</th>\n",
       "      <th>classes</th>\n",
       "    </tr>\n",
       "  </thead>\n",
       "  <tbody>\n",
       "    <tr>\n",
       "      <th>0</th>\n",
       "      <td>0.561744</td>\n",
       "      <td>0.407018</td>\n",
       "      <td>0.5423</td>\n",
       "      <td>1.0</td>\n",
       "      <td>13.0</td>\n",
       "    </tr>\n",
       "  </tbody>\n",
       "</table>\n",
       "</div>"
      ],
      "text/plain": [
       "         f1       ARI     ACC  cover_rate  classes\n",
       "0  0.561744  0.407018  0.5423         1.0     13.0"
      ]
     },
     "execution_count": 22,
     "metadata": {},
     "output_type": "execute_result"
    }
   ],
   "source": [
    "X,Y_true=DataLoader.load('fmnist_20')\n",
    "\n",
    "t1=time.time()\n",
    "Y_pred=api.DGSFC.fit(  X,\n",
    "                  K_d=60,\n",
    "                  K_s=40,\n",
    "                  alpha=0.9,\n",
    "                  epsilon=0,\n",
    "                  plot=False,\n",
    "                  scale=True\n",
    "                 )\n",
    "\n",
    "t2=time.time()\n",
    "print(t2-t1)\n",
    "measures_calculator(Y_true,Y_pred)"
   ]
  },
  {
   "cell_type": "code",
   "execution_count": 23,
   "metadata": {},
   "outputs": [
    {
     "name": "stdout",
     "output_type": "stream",
     "text": [
      "55.62020206451416\n"
     ]
    },
    {
     "data": {
      "text/html": [
       "<div>\n",
       "<style scoped>\n",
       "    .dataframe tbody tr th:only-of-type {\n",
       "        vertical-align: middle;\n",
       "    }\n",
       "\n",
       "    .dataframe tbody tr th {\n",
       "        vertical-align: top;\n",
       "    }\n",
       "\n",
       "    .dataframe thead th {\n",
       "        text-align: right;\n",
       "    }\n",
       "</style>\n",
       "<table border=\"1\" class=\"dataframe\">\n",
       "  <thead>\n",
       "    <tr style=\"text-align: right;\">\n",
       "      <th></th>\n",
       "      <th>f1</th>\n",
       "      <th>ARI</th>\n",
       "      <th>ACC</th>\n",
       "      <th>cover_rate</th>\n",
       "      <th>classes</th>\n",
       "    </tr>\n",
       "  </thead>\n",
       "  <tbody>\n",
       "    <tr>\n",
       "      <th>0</th>\n",
       "      <td>0.533767</td>\n",
       "      <td>0.38635</td>\n",
       "      <td>0.5395</td>\n",
       "      <td>1.0</td>\n",
       "      <td>12.0</td>\n",
       "    </tr>\n",
       "  </tbody>\n",
       "</table>\n",
       "</div>"
      ],
      "text/plain": [
       "         f1      ARI     ACC  cover_rate  classes\n",
       "0  0.533767  0.38635  0.5395         1.0     12.0"
      ]
     },
     "execution_count": 23,
     "metadata": {},
     "output_type": "execute_result"
    }
   ],
   "source": [
    "X,Y_true=DataLoader.load('fmnist_30')\n",
    "\n",
    "t1=time.time()\n",
    "Y_pred=api.DGSFC.fit(  X,\n",
    "                  K_d=75,\n",
    "                  K_s=50,\n",
    "                  alpha=0.9,\n",
    "                  epsilon=0,\n",
    "                  plot=False,\n",
    "                  scale=True\n",
    "                 )\n",
    "\n",
    "t2=time.time()\n",
    "print(t2-t1)\n",
    "measures_calculator(Y_true,Y_pred)"
   ]
  },
  {
   "cell_type": "code",
   "execution_count": null,
   "metadata": {},
   "outputs": [],
   "source": []
  }
 ],
 "metadata": {
  "kernelspec": {
   "display_name": "Python 3",
   "language": "python",
   "name": "python3"
  },
  "language_info": {
   "codemirror_mode": {
    "name": "ipython",
    "version": 3
   },
   "file_extension": ".py",
   "mimetype": "text/x-python",
   "name": "python",
   "nbconvert_exporter": "python",
   "pygments_lexer": "ipython3",
   "version": "3.7.9"
  },
  "toc": {
   "base_numbering": 1,
   "nav_menu": {},
   "number_sections": true,
   "sideBar": true,
   "skip_h1_title": false,
   "title_cell": "Table of Contents",
   "title_sidebar": "Contents",
   "toc_cell": false,
   "toc_position": {},
   "toc_section_display": true,
   "toc_window_display": false
  }
 },
 "nbformat": 4,
 "nbformat_minor": 4
}
